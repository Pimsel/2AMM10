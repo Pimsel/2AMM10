{
  "cells": [
    {
      "cell_type": "markdown",
      "metadata": {
        "id": "view-in-github",
        "colab_type": "text"
      },
      "source": [
        "<a href=\"https://colab.research.google.com/github/vlamen/tue-deeplearning/blob/main/tutorials/P3.2_rnn_sequence_generation.ipynb\" target=\"_parent\"><img src=\"https://colab.research.google.com/assets/colab-badge.svg\" alt=\"Open In Colab\"/></a>"
      ]
    },
    {
      "cell_type": "markdown",
      "source": [
        "We need to install older versions of libraries to ensure compatibility. This might take a few minutes."
      ],
      "metadata": {
        "id": "1E8oiNI0I3qD"
      }
    },
    {
      "cell_type": "code",
      "source": [
        "# !pip install torch==2.3.0 torchtext torchvision==0.18.0"
      ],
      "metadata": {
        "id": "qJweUN-DrBsO"
      },
      "execution_count": null,
      "outputs": []
    },
    {
      "cell_type": "code",
      "execution_count": null,
      "metadata": {
        "id": "8LAvWFQg1O67"
      },
      "outputs": [],
      "source": [
        "import requests\n",
        "import io\n",
        "import pickle\n",
        "\n",
        "import torch\n",
        "import gdown\n",
        "\n",
        "%pylab inline"
      ]
    },
    {
      "cell_type": "markdown",
      "metadata": {
        "id": "aPJhlPFE1O68"
      },
      "source": [
        "# P3.2 - Sequence Generation: A Neural Image Caption Generator\n",
        "\n",
        "In this practical we will implement and test the image caption generator as proposed in [1]. This model is capable of generating natural sentences describing an input image. As such, it provides a good example of advances in computer vision and natural language processing. However, the central point of this practical session is to provide an example of sequence generation; for an input image we let the model generate sentences (i.e. sequences) describing the image.\n",
        "\n",
        "### Practical overview\n",
        "- Basic concepts of a sequence generation model.\n",
        "- How to use pre-trained convolutional neural networks for dense representations of images.\n",
        "- How to preprocess textual data.\n",
        "- How to train an LSTM for the parameterization of the joint probability distribution $P(S_0,...S_N|I)$ over the words $S_t$ in a sentence.\n",
        "- How to generate a caption from $P(S_0,...S_N|I)$.\n",
        "\n",
        "\n",
        "### References\n",
        "* [1] *Oriol Vinyals, Alexander Toshev, Samy Bengio, Dumitru Erhan, \"Show and Tell: A Neural Image Caption Generator\"*, CVPR, 2015. https://arxiv.org/abs/1411.4555"
      ]
    },
    {
      "cell_type": "markdown",
      "metadata": {
        "id": "fni-fxxu1O69"
      },
      "source": [
        "# Downloading Flickr8k dataset\n",
        "\n",
        "<b><font color='red'>Please don't distribute the dataset</font></b>\n",
        "\n",
        "We will use a preprocessed version of the Flickr8k dataset, with punctuation and special tokens removed. Furthermore, any word which occurs less than 5 times in the whole corpus has been removed. The images have been rescaled to 128x128 RGB.\n",
        "\n",
        "**images:** numpy array (8091,128,128,3), uint8, holding 8091 RGB images.\n",
        "\n",
        "**captions:** collection of 5 human-annotated captions for each image. Stored as a python list of length 8091.\n",
        "*   *captions[i]* is a list of length 5, for i=0..8090, holding the 5 annotations for the i'th image.\n",
        "*   *captions[i][j]* is a caption, represented as a list of strings, for i=0..8090, j=0..4.\n",
        "*   For example: *captions[42][3] = ['a', 'young', 'boy', 'wearing', 'a', 'red', 'coat', 'is', 'playing', 'in', 'a', 'long', 'tunnel']*.\n",
        "*   Thus, there are in total 8091 * 5 = 40455 captions."
      ]
    },
    {
      "cell_type": "code",
      "execution_count": null,
      "metadata": {
        "id": "XtyBKNal1O69"
      },
      "outputs": [],
      "source": [
        "def load_flickr8k_from_url():\n",
        "    \"\"\"\n",
        "    Loads Flickr8k dataset from Google Drive.\n",
        "\n",
        "    Outputs:\n",
        "    - images: numpy array with 8091 input images\n",
        "    - captions: list of 5 human-annotated captions for each image.\n",
        "    \"\"\"\n",
        "    image_url = \"https://drive.google.com/uc?id=1V0-GK1eavXsJGMWlmShBaYSEbIRCYL8i\"\n",
        "    caption_url = \"https://drive.google.com/uc?id=1XLoCMtRZsdIwm1jZd3BoPQnRmT32AQM-\"\n",
        "\n",
        "    # Download images\n",
        "    image_path = \"images.npy\"\n",
        "    gdown.download(image_url, image_path, quiet=False)\n",
        "\n",
        "    # Download captions\n",
        "    caption_path = \"captions.pkl\"\n",
        "    gdown.download(caption_url, caption_path, quiet=False)\n",
        "\n",
        "    # Load data\n",
        "    images = np.load(image_path)\n",
        "    with open(caption_path, \"rb\") as f:\n",
        "        captions = pickle.load(f)\n",
        "\n",
        "    # for some reason an extra caption snuck into the dataset\n",
        "    captions = captions[:1346] + captions[1347:]\n",
        "\n",
        "    return images, captions\n",
        "\n",
        "# Run the function\n",
        "images, captions = load_flickr8k_from_url()\n",
        "print(f\"Images shape: {images.shape}\")\n",
        "print(f\"Number of captions: {len(captions)}\")"
      ]
    },
    {
      "cell_type": "markdown",
      "metadata": {
        "id": "_qZntOx71O6-"
      },
      "source": [
        "### Plot random datapoints\n",
        "\n",
        "It is always good practice to first get a global idea of the (structure of) data, e.g. by plotting some random datapoints. Below we provide a simple function that shows a random datapoint and the corresponding 5 descriptions that have been recorded for each of the images"
      ]
    },
    {
      "cell_type": "code",
      "execution_count": null,
      "metadata": {
        "id": "3Dpdjqzv1O6-"
      },
      "outputs": [],
      "source": [
        "def plot_random_image(images, captions):\n",
        "\n",
        "    idx = np.random.randint(low=0, high=images.shape[0])\n",
        "\n",
        "    im_plot = images[idx]\n",
        "    plt.imshow(im_plot)\n",
        "    plt.axis('Off')\n",
        "    plt.show()\n",
        "\n",
        "    for k, cap in enumerate(captions[idx]):\n",
        "        print(k, '-', ' '.join(cap))\n",
        "\n",
        "[plot_random_image(images, captions) for _ in range(3)];"
      ]
    },
    {
      "cell_type": "markdown",
      "metadata": {
        "id": "xvfMjKg21O6-"
      },
      "source": [
        "# Preprocessing input data\n",
        "\n",
        "### Extract Image Representation\n",
        "\n",
        "Several pretrained convolutional neural networks exist that are capable of feature extraction from input images. We will load the pretrained *MobileNetV2* and use its pretrained convolutional layers to generate 'image codes' for each image in the array `images`. Such an image code is a compact representation of the input image. By using pretrained networks we get high-quality image codes while circumventing the need for training any convolutional layers.\n",
        "\n",
        "First, we use the torchvision library to create an input pipeline that preprocesses the images to make them compatible with pretrained models. All pre-trained PyTorch models expect input images normalized in the same way, i.e. mini-batches of 3-channel RGB images of shape (3 x H x W). The images are first transformed to PIL images in to range of [0, 1] and are then normalized using mean = [0.485, 0.456, 0.406] and std = [0.229, 0.224, 0.225].\n",
        "\n",
        "\n",
        "We will provide some additional details regarding the implementation. In order to save some RAM (and reduce troubles with Colab running out of resources), we process the images in batches, as the GPU won't be able to process all 8091 images in parallel. We use PyTorch `DataLoaders` to take care of the batching. We also preprocess the data in batches. Doing so, we convert only the batches into single precision, and keep the *images* in their original format (uint8). Finally, we use the pretrained model to produce the image codes."
      ]
    },
    {
      "cell_type": "code",
      "execution_count": null,
      "metadata": {
        "id": "R-1PxCeG1O6_"
      },
      "outputs": [],
      "source": [
        "import torchvision #!pip install torchvision\n",
        "from torchvision import transforms\n",
        "\n",
        "def preprocess_batch(input_batch):\n",
        "    # define preprocessing pipeline and apply preprocessing\n",
        "    preprocess = transforms.Compose([\n",
        "        transforms.ToPILImage(),\n",
        "        transforms.ToTensor(),\n",
        "        transforms.Normalize(mean=[0.485, 0.456, 0.406], std=[0.229, 0.224, 0.225]),\n",
        "    ])\n",
        "\n",
        "    return torch.stack([preprocess(im) for im in input_batch], dim=0)"
      ]
    },
    {
      "cell_type": "code",
      "execution_count": null,
      "metadata": {
        "id": "G6xvNf0o1O6_"
      },
      "outputs": [],
      "source": [
        "from tqdm.notebook import tqdm\n",
        "from torch.utils.data import DataLoader\n",
        "\n",
        "# check if gpu is available\n",
        "device = torch.device(\"cuda\" if torch.cuda.is_available() else \"cpu\")\n",
        "print(f\"Model loaded on device: {device}\")\n",
        "\n",
        "# load pre-trained Mobilenet V2\n",
        "\n",
        "# uncomment this line to first download mobilenet_v2 pretrained weights\n",
        "# mobilenet = torch.hub.load('pytorch/vision', 'mobilenet_v2', force_reload=True, pretrained=True)\n",
        "mobilenet = torchvision.models.mobilenet_v2(pretrained=True)\n",
        "\n",
        "#uncomment for a table-style description of the pretrained model\n",
        "# from torchsummary import summary\n",
        "# print(summary(convnet, input_size=(3,128,128), device=str(device)))\n",
        "\n",
        "# remove last layer, use only the convolutional feature extractor\n",
        "convnet = mobilenet.features.to(device)\n",
        "convnet.eval()\n",
        "\n",
        "image_codes = []\n",
        "images = np.moveaxis(images, 3, 1)\n",
        "for input_batch in tqdm(DataLoader(images, batch_size=64)):\n",
        "\n",
        "    input_batch = preprocess_batch(input_batch)\n",
        "\n",
        "    with torch.no_grad():\n",
        "        output = convnet(input_batch.to(device)).cpu()\n",
        "\n",
        "    image_codes.append(output)\n",
        "\n",
        "image_codes = torch.cat(image_codes).flatten(start_dim=1)\n",
        "\n",
        "print(f\"Image codes shape: {image_codes.shape}\")"
      ]
    },
    {
      "cell_type": "markdown",
      "metadata": {
        "id": "yDZL1sUk1O7A"
      },
      "source": [
        "### Preprocess textual caption data\n",
        "\n",
        "First, we create a list that lets us easily iterate over all 5 descriptions per image, i.e. we flatten the first and second axis of the `captions` list. As before, we leverage a Counter object to count the number of occurances of each token to finally create a vocabulary. Note that a tokenizer is not needed since the caption data already came as lists of tokens. The vocabulary is then created from the Counter object. Futhermore, we add a special token: <<l>_> to signal the model that the end of the sentence has been reached."
      ]
    },
    {
      "cell_type": "code",
      "execution_count": null,
      "metadata": {
        "id": "3MgGh9dG1O7A"
      },
      "outputs": [],
      "source": [
        "from collections import Counter\n",
        "from torchtext.vocab import vocab, GloVe\n",
        "import torchtext\n",
        "torchtext.disable_torchtext_deprecation_warning()\n",
        "\n",
        "# flatten the 5 descriptions for each of the 8091 samples\n",
        "flat_captions = [cap for five_descriptions in captions for cap in five_descriptions]\n",
        "\n",
        "counter = Counter()\n",
        "for description_list in flat_captions:\n",
        "\n",
        "    # count all words in sentence\n",
        "    counter.update(description_list)\n",
        "\n",
        "# create vocabulary\n",
        "vocab = vocab(counter, min_freq=1,\n",
        "              specials=['_'], special_first=True)\n",
        "\n",
        "vectors_url = \"https://drive.google.com/uc?id=1GfZXm6mmcyIseNECgggGFPW66ngaIM3N\"\n",
        "# Download vectors\n",
        "gdown.download(vectors_url, \"pretrained_vectors.pt\", quiet=False)\n",
        "pretrained_vectors = torch.load('pretrained_vectors.pt')\n",
        "\n",
        "# downloading GloVe pretrained word embedding vectors takes long, so we directly download them\n",
        "# pretrained_vectors = GloVe(name='6B', dim=300)\n",
        "# pretrained_vectors = pretrained_vectors.get_vecs_by_tokens(vocab.get_itos())\n",
        "#pretrained_vectors = pretrained_vectors.to(device)"
      ]
    },
    {
      "cell_type": "markdown",
      "metadata": {
        "id": "6icPRN6v1O7A"
      },
      "source": [
        "### Train/Validation/Test Split"
      ]
    },
    {
      "cell_type": "code",
      "execution_count": null,
      "metadata": {
        "id": "ecaWA8Cu1O7B"
      },
      "outputs": [],
      "source": [
        "val_images = images[0:1000, ...]\n",
        "val_codes = image_codes[0:1000, ...]\n",
        "val_captions = [captions[k] for k in range(1000)]\n",
        "\n",
        "test_images = images[1000:2000, ...]\n",
        "test_codes = image_codes[1000:2000, ...]\n",
        "test_captions = [captions[k] for k in range(1000, 2000)]\n",
        "\n",
        "train_images = images[2000:, ...]\n",
        "train_codes = image_codes[2000:, ...]\n",
        "train_captions = [captions[k] for k in range(2000, images.shape[0])]"
      ]
    },
    {
      "cell_type": "markdown",
      "metadata": {
        "id": "r2Ix_paY1O7B"
      },
      "source": [
        "The vocabulary allows us to convert a list of tokens into integers:\n",
        "\n",
        "    [vocab[token] for token in ['here', 'is', 'an', 'example']]\n",
        "    >>> [476, 22, 31, 5298]"
      ]
    },
    {
      "cell_type": "markdown",
      "metadata": {
        "id": "f4C5XrFh1O7B"
      },
      "source": [
        "### Generate batch iterators\n",
        "\n",
        "We create an input pipeline that generates batches of image codes (dense representations of the original image) and annoted descriptions of these images. This time, we construct a PyTorch `DataLoader` from a `TensorDataset`. The latter combines a tensor containing all inputs (image codes) and another tensor containing the targets (captions). To convert the captions into tensor format we again flatten the first two axes, resulting in a list of 5x8091=40455 captions. The first set of 5 descriptions in this list correspond to the first image, the second set of 5 descriptions correspond to the second image, etc. To create input/output pairs we duplicate each image code 4 times. In this way, the dataset contains 5 datapoints for each image code. To transform the lists of tokens into the desired tensor, we ensure that each sentence contains the same amount of tokens by padding sentences with the <<l>stop> token."
      ]
    },
    {
      "cell_type": "code",
      "execution_count": null,
      "metadata": {
        "id": "VHqfFE641O7B"
      },
      "outputs": [],
      "source": [
        "from torch.utils.data import DataLoader, TensorDataset\n",
        "from torch.nn.utils.rnn import pad_sequence\n",
        "\n",
        "def convert_data(images, image_codes, captions):\n",
        "\n",
        "    # repeat image codes, such that the same image code passes 5 times for each of the 5 caption descriptions\n",
        "    duplicate_codes = torch.repeat_interleave(image_codes, repeats=5, dim=0)\n",
        "    duplicate_imgs = torch.repeat_interleave(torch.tensor(images), repeats=5, dim=0)\n",
        "\n",
        "    # flatten the 5 descriptions for each of the image codes\n",
        "    flat_captions = [cap for five_descriptions in captions for cap in five_descriptions]\n",
        "\n",
        "    # retrieve indices of words\n",
        "    word_idcs = [torch.tensor(vocab.lookup_indices(cap), dtype=torch.long) for cap in flat_captions]\n",
        "\n",
        "    # pad sequences to length of longest sequence in batch\n",
        "    labels = pad_sequence(word_idcs, batch_first=True, padding_value=vocab['_'])\n",
        "\n",
        "\n",
        "    return duplicate_imgs, duplicate_codes, labels\n",
        "\n",
        "train_imgs, train_x, train_y = convert_data(train_images, train_codes, train_captions)\n",
        "val_imgs, val_x, val_y = convert_data(val_images, val_codes, val_captions)\n",
        "test_imgs, test_x, test_y = convert_data(test_images, test_codes, test_captions)\n",
        "\n",
        "print(f\"train_x shape: {train_x.shape}\")\n",
        "print(f\"train_y shape: {train_y.shape}\")\n",
        "print(f\"val_x shape: {val_x.shape}\")\n",
        "print(f\"val_y shape: {val_y.shape}\")\n",
        "print(f\"test_x shape: {val_x.shape}\")\n",
        "print(f\"test_y shape: {val_y.shape}\")\n",
        "\n",
        "\n",
        "train_dataset = TensorDataset(train_x, train_y)\n",
        "val_dataset = TensorDataset(val_x, val_y)\n",
        "test_dataset = TensorDataset(test_x, test_y)\n",
        "\n",
        "train_dataloader = DataLoader(train_dataset, batch_size=100, shuffle=True)\n",
        "val_dataloader = DataLoader(val_dataset, batch_size=100, shuffle=True)\n",
        "test_dataloader = DataLoader(test_dataset, batch_size=100, shuffle=False)"
      ]
    },
    {
      "cell_type": "markdown",
      "metadata": {
        "id": "TYkOCKDD1O7C"
      },
      "source": [
        "### Show images from train set"
      ]
    },
    {
      "cell_type": "markdown",
      "metadata": {
        "id": "hggph78EJ91M"
      },
      "source": [
        "Below we provide a simple function that shows a random datapoint and its corresponding description (converted back from tokens to words), to give an idea of the inputs:outputs that are passed to the model while training."
      ]
    },
    {
      "cell_type": "code",
      "execution_count": null,
      "metadata": {
        "id": "sToFOobx1O7C"
      },
      "outputs": [],
      "source": [
        "def show_random_image_and_captions(images, labels):\n",
        "\n",
        "    idx = np.random.randint(0, train_imgs.shape[0])\n",
        "\n",
        "    plt.imshow(np.einsum('cyx->yxc', train_imgs[idx])) # reshape our image to allow plotting\n",
        "    plt.show()\n",
        "\n",
        "    lbl_cap = [vocab.get_itos()[word_idx] for word_idx in train_y[idx]]\n",
        "\n",
        "    print(lbl_cap)\n",
        "\n",
        "\n",
        "[show_random_image_and_captions(train_imgs, train_y) for _ in range(5)];"
      ]
    },
    {
      "cell_type": "markdown",
      "metadata": {
        "id": "pYsM3Z2e1O7C"
      },
      "source": [
        "# Formal problem formulation\n",
        "\n",
        "Before creating the model, we first formally introduce the learning problem. The approach of [1] for the task of generating sentences $S$ describing the image $I$ amounts to maximization of the likelihood w.r.t. to the model parameters, i.e.\n",
        "\n",
        "$$\n",
        "\\theta^* = \\underset{\\theta}{\\operatorname{argmax}} \\sum_{(I,S)} \\log P(S|I;\\theta) \\quad{(1)}\n",
        "$$\n",
        "\n",
        "Since $S$ represents any sentence, its length $N$ is unbounded and not strictly equal for all sentences. The joint probability over all tokens $S_0 , . . . , S_N$ that makes up the full sentence factorizes as follows\n",
        "\n",
        "\n",
        "$$\n",
        "\\log p(S|I) = \\sum_{t=0}^N\\log{p(S_t|I, S_{0},..., S_{t-1})} \\quad{(2)}\n",
        "$$\n",
        "\n",
        "At training time, we use data pairs $(I, S)$ to optimize the sum of probabilities, as described in (2). We model $p(S_t|I, S_{0},..., S_{t-1})$ with a Recurrent Neural Network (RNN), where the variable number of words we condition upon up to $t − 1$ is expressed by a fixed length hidden state $h_t$. This memory is updated after seeing a new input $x_t$ by using a non-linear function $f$:\n",
        "\n",
        "$$\n",
        "h_{t+1} =f(h_t,x_t) \\quad{(3)}\n",
        "$$\n",
        "\n",
        "Note that we first insert the image. Thereafter, for $t=0$, we insert a start of sequence input $S_0$. For $t>0$, we have $x_t=S_t$. An overview of this process is as below (taken from [1], note that the RNN is implemented as LSTM):"
      ]
    },
    {
      "cell_type": "markdown",
      "metadata": {
        "id": "isxp9JBWLmBj"
      },
      "source": [
        "<div>\n",
        "<img src=\"data:image/png;base64,iVBORw0KGgoAAAANSUhEUgAAAz0AAALXCAIAAAAoorlyAAAAAXNSR0IArs4c6QAAAARnQU1BAACxjwv8YQUAAAAJcEhZcwAADsMAAA7DAcdvqGQAAP+lSURBVHhe7J0HQBRX3sCtSa7kktyXXC6XXHK5lLvUu/RcejUaYxKjsffeu6ixI9gQpPdeBLt0UbCCiiC992V32YVd2i5bp33vzQyISFkWdnXh/3PcnffmzZvh7Szz47157w1hAAAAAAAAAEsAvA0AAAAAAMAyAG8DAAAAAACwDMDbAAAAAAAALAPwNgAAAAAAAMsAvA0AAAAAAMAyAG8DAAAAAACwDMDbAAAAAAAALAPwNgAAAAAAAMsAvA0AAAAAAMAyAG8DAAAAAACwDMDbAAAAAAAALAPwNgAAAAAAAMsAvA0AAAAAAMAyAG8DAAAAAACwDMDbAAAAAAAALAPwNgAAAAAAAMsAvA0AAAAAAMAyAG8DAAAAAACwDMDbAAAAAAAALAPwNgAAAAAAAMsAvA0AAAAAAMAyAG8DAAAAAACwDMDbAAAAAAAALAPwNgAAAAAAAMsAvA0AAAAAAMAyAG8DAAAAAACwDMDbAAAAAAAALAPwNgAAAAAAAMsAvA0AAAAAAMAyAG8DAAAAAACwDMDbAAAAAAAALAPwNgAAAAAAAMsAvA0AAAAAAMAyAG8DAAAAAACwDMDbAAAAAAAALAPwNgAAAAAAAMsAvA0AAAAAAMAyAG8DgAFFbW3tpUFJUVERXwRdIxQK+dSDjIqKCr4IAIMpLS3li2/Qk5+fzxcKcB8A3gYAA4ojR44MGZQsWLCAL4KuOXz4MJ96kLF161a+CACDWbVqFV98g57JkyfzhQLcB4C3AcCAArytG8DbAMMBb2sDvO2+ArwNAAYUbd6WkZFRPDh45JFH0M/bK2/j9xwEcD8veJsRcN42cuRIvigHJX//+99RIYC33VeAtwHAgKLN21paWviogc57772Hfl7Dve33v/89Hx4EPPfcc+hHBm8zAs7bXnvtNT48KPn6669RIYC33VeAtwHAgAK8rRvA2wDDAW9DgLfdh4C3AcCAArytG8DbAMMBb0OAt92HgLcBwIACvK0bwNsAwwFvQ4C33YeAtwHAgAK8rRvA2wDDAW9DgLfdh4C3AcCAArytG8DbAMMBb0OAt92HgLcBwIACvK0bwNsAwwFvQ4C33YeAtwHAgKJHbyOLjltb7T5WSPBhs6IrPH7A93oTXtVWpxxx3L1tu61zSFJpp6eqzTlyIOCmgg91TT9628ArHPA2o+nJ2+7pxXKbXl02bRh6/YC33YeAtwHAgKJHb9PGL3x65NML4rR82Iy0pGx9/40l8Y0MJU/c/P6jw4ZyZzpk6IPPLYxS8onaoc3Y/b9/zzgqovhwF/Sjtw28wgFvM5qevO0eXiy36e1l04aB1w94230IeBsADCjuX29TpWz+799+9EM3CiJ71zsPjHxpsktiXpWg+MZp+/mfzg5o5JPdQVPUvGefGh8o6PbmMhC8zWSFA95mNBbgbcZcNm0YdP2At92HgLcBwIDifvU2ssj+80eemR+LT0p1fOqjI9ApaLhNCEKn49c6oLu69uUHXlx5QcWHO8Pyvc2EhQPeZjT3vbcZedm0Ycj1A952HwLeBgADil57G1FzPezglpWLF6/can8sQ07y0QhNRZLPng1L58+bOwezwO4Cv4Gn6YLdAhQ/d+78hSusbLzjC5u6/stde3n1iyP/MusMe05Ens37Dw57+K1lJ8t7vOdpL67858gnphxt4MOdYEJv67Jw7i4b9gGj29wvhQPeZjS99bbefJPuvFp6c7HcxujLpg0Drh/wtvsQ8DYAGFD0ytsoedK2jx8fPvLRF9755H9v/O33w0b+bZRdKvtUjOam7SePDf/902++9/pTvxs28vmx62xC0/GGNiip+zcPDHv4nx98+eVnH7z61O+HP/iP8e7Zt//eb4/u0sp/jnjgKxcxfz9SXLP54onhQ4c/9tZs52Rpuzvc3SjCJjwy/P+mnej6WR0TeVvXhdNp2dxZ2vdN4YC3GU1vvK2336Q7rpbeXCy36cNl00bP1w94230IeBsADCh6422N0fOfHfHwe5su1LK/+jWlYTNfeuCBVzemaBhNzPynRr64OB79JU7Jo+b/44FXNl7v0OzC3m1Gvrktg+1Ppy0LnvzsiD98dqiIvWNQ0tObJ1kn8fcesnT//0YOb1c1gdCUnrT66pkHhw4d+fS3tlcb+JvPnfthiJtbXhs54u7D38Y03tZ14RhQNl0XDtWYdWT3kumT52zyu1nP5mxY4dy9H6bnwgFvM5peeJuJvkmkIGLdzJ1x0rbPm6FExzfOc0pDGRh22XSXA6Ln6we87T4EvA0ABhS98DZN5OwnRjw1N+p2OkrqO/bhES+tuaLTnJ75+IOf2Vfi3/dkvs17DzwxO7JDBcCddxt0D8jc8d+RD37jVsPuU3Ho04fHBfDjDGiTlv1j+MjXttzsMGQCVX/Tfcarfxw6/G9TwiVszJ37Ychyu09GDn106vEun8Ixibd1UzjNPZdNl4VTnbX7q3enbz+4Z9HHT/7lJ/9qlIdBhUPk3LUfpufCAW8zGsO9zVTfJF2e9Tsjh/35y/1t9XNk4d7//X1eDMrAsO8U0U0OONDj9QPedh8C3gYAA4peeFuj39gHR/5ne2a7X/zac4v/PuLP009qmKbE1a/8/i8fzt22Z8u0tx574KWl8R07p3W821Aipy8fGPnhPrbCrYO3oWMOH/nWjqwO9xgMVR3w8xPDf/edJxu629soweHPHxj6xwlHzOtt3RVOz2XTZeEUyEUi9uElImvHW49PwfdLgwqHarxrP3Z7j4UD3mY0hnubqb5J2jzr9575cvwnT74wI7yKrcdu520GfaeQt3WZA07Y4/UD3nYfAt4GAAOKXnib7vKqF0b86TuP1sobJAU5u98Zyd8LqIYkq3ce/ePfXv/0p0X7osvatcbwdLjbUPLwyX8Z/ucpx1jnutO/uOaYl9encM0x2qteDklcixKCyNn59siRH9uxgbu9jchF5zT8mUVn7z4DHpN4W7eF02PZdF84GE3i0hde3XANFYjhhYO5vR+m58IBbzMaw73NVN8kZF3vv7D0nCB6yatPvL/1CvK929Zl2GXTXQ44XY/XD3jbfQh4GwAMKHrzfBuRd+iLR4f/38frQm9U1EpLL3vN/8/Dw//yk18l+sOczN/z3gOPjPGo4u4lncDebYY/N9U3vUoqzoux+f6ZkSNfXpnEPeLcwb8aw355ZNijk49yp6SJnP2Xh57+eM52R19/910z335s2MjXt6Sym+72Nm3s/L8Nf/Arl64HCDXN823dFE7PZdN94aAfs9x99NMf7ctjMzC4cDrsh+i5cMDbjKYXz7eZ6JvEWVciEsMC97FPP/OTd5HmtnUZdNl0m4Mh1w94230IeBsADCh6423ojlFzbsfo53/PDbI+dPgjr/xqn8I99a4VnFz86u+GDn3w8Zf/98McK+ez5dxv+tuwd5uhw4ZxQ7SjnV+b7pnVeswO/kWJPUf/ceQbW9PYexclvbBv4uuPjeAP+/sXfnZI5VPe5W1k0b4PRz7w4b5CtpGnU0zjbd0UTs9l033hEEWuo5/7cGdqa2OnoYXTYT+DCge8zWh64W3dXCx9+Sa1WRdK03DR6p0n3ljmtvED3roMumy6zcGQ6we87T4EvA0ABhQ9etvdEA1lqRfOnb+cVd3C/9lNVgWM/+vI/3t7yoY9B/bvXDvt42ceGv74aPdSbisPe7cZ+ebmpPzrSecupFU0tf/l39G/qLqwiY8/+L/9xbcTaSS5yefPJl4rkvONfpi79hO5j/rjI995VHVZIdCv3nY3dxVOV2Vz562vm8Jpubn74xfHOGXIGxubFOzt07DCuXM/nNSQwgFvM5qevO1uDP8m3XG1dHmxtLMuBFkRMvkff3zod0/x1mXIZdNtDoZcP+Bt9yHgbQAwoDDC2+5GFfHrwyPf2Z3b2rKju7nl9ZEP/RjEBzn4u03b09R3cHd7p+b6ljf/2Plj1O3osB9ZbPfpo69tuNrlY9MYk3rbXXRVNncOgdVV4VDi0/NffoCrFBkyZMQLq7joHgvnrv0uG1g44G1G03tvuxuDrpYuv0l3WhdCeWPPp3/+W2srpwHfqe5yMOj6AW+7DwFvA4ABRb94G1nq/PWjI5/6aM6WfQ5ODns3zfzgyZF//Hh/Lr+Zo1tv64ymy1ZvvzD9WNvD0z1THznv5TfXdpyKoCPm9bauyubOUrhvCge8zWj6w9sMulp6fbHcpveXTRuGXT/gbfch4G0AMKDoF29Dt5K6ax4rf/zwX39/8oknn3n5vbFLnC5L7mjbQUlq/cb/9S+f2mYbfrfR5jqP/3bzpXa1cN2hSd397Xe2N7utDsCY19sMKpv7p3DA24ymP7zNVN+k2/TusmnD0OsHvO0+BLwNAAYU/eRtloS5vc2iAG8zmv7xNgsHvO0+BLwNAAYU4G3dAN4GGA54GwK87T4EvA0ABhTgbd0A3gYYDngbArztPgS8DQAGFOBt3QDeBhgOeBsCvO0+BLwNAAYUbd6WlZVVOjh47LHH0M9ruLch+D3NSHFxMb9mXrifF7zNCDhve/DBB/miHJRw3g/edl8B3gYAA4o2bxts9MrbBhvgbUbAeRuAAG+7rwBvA4ABBXhbN4C3AYYD3tYGeNt9BXgbAAwopFLpxUFJUVERXwRdIxQK+dTm5ccff0Q3vwcffPDkyZN8lHmpqKjgiwAwmJKSEr74Bj35+fl8oQD3AeBtAAD0DzRNo1sdHwBaqampQcbG1VusXLmSjwUAw6iqqtJqb09UBQDgbQAA9A8nT5785ptv+ADQyrp16zhpQzzwwAMCgYDfAAAGMHfuXEdHRz4AAOBtAAD0F2+//TZSk0uXLvFhgGHkcvkf/vAHTto45s+fz28DgJ5Alj9y5Mgnn3xSpepxSipgsADeBgBAPxAXF8d5yccff8xHAQyzbds2rljaGDFiBLQmAwaybNky7rLZt28fHwUMesDbAADoBz766CPuBoNADsfHDm6ampoeeeQRvlDaMW3aND4FAHSNRCJ56KGHuGvmscceQ5cTvwEY3IC3Ab2ApmmpVJqcnBwYGOjo6Hjo0KH9+/fb29uHh4dfvXpVIBCgBHxSYDBx8eJF7u7C8c477/AbBje2trZcgQwdOpRb4Rg2bFhubi6fCAC6YP369fwVw7Jjxw5+AzC4AW8DekYoFLq4uIwbN+7RRx/lf4V0wZNPPjlhwgSkdJWVlfzOwCCAmwynPSdPnuS3DVZUKtXjjz+OjG3ixIl79+7liiUqKuqTTz5BKz///DOfDgA64+4nIx9++GEUyW8GBjHgbUB3pKenf/vtt/yvjTt56KGH0O+Rxx577He/+x0fdSfoXh4WFqbRaPi8gAHKjRs3+I+8Ha+99hpFUXyKQYmDg8PYsWMzMjLQemhoKFcsarUaBS9dujRq1Ki0tDQ2IQB0wvbt27lrpj0bN27kNwODGPA2oHMqKiqmTp3K/7Zgef/997ds2XL8+PHMzEylUsmnYxtPGxoacnJyTp48uXbt2nfffXf48OH8PkOGPPvss+imNchv4QObH374gf+w7wR97nyKQUn7oW7Dw8O5MlEoFHwUw7RfB4D2NDc3d9q4gf5Irqmp4RMBgxXwNqAjyMNcXFxGjhzJ/aZ47LHHDhw4IBaL+c0GUFtba29v/+qrr3I5IN5+++1bt27xm4EBRFZWFvcRo+uEewb/jTfeGDFiBFp58cUXCYLg0w1u0F87bCENQX/h8FEA0DVtDesvvPACt/L6669zK8uXL+cTAYMV8DbgDnQ63cKFC7lfEA8++KCVlZXRdxrkf2fPnn3zzTfbcvP29oaOCwOMX3/99eGHH96+fXtTU9Pzzz+PPugtW7ZUVFQsWrTogQce8PHx4dMNbk6fPs19C2QyGR8FAF2gUqmeeOIJZGyhoaF5eXnclZOcnHzhwoWvvvoKfa2qqqr4pMCgBLwNuA26qXz22WfcrwnkW+Xl5fyGPkCSpK+vL7q1c9nOnTtXr9fz2wALRyAQILNvc5EXX3wRfcRtj+CIRCIHBwcwdURUVBR3/UskEj4KALrg5MmT6E9crq66uLiYu3LahrO+fv36sWPHuHVgcALeBvA0Nzdz490jfvnll/ZPsPUd9NvnjTfe4DKfNGkSNJ8NSP7973+jz3ft2rV8GGilbVBioVDIRwGAAaA/nrkrJykpiY8CBj3gbQBGo9F88cUX3C+IzZs3m6IbgUql+umnn7hDrFixAqphBh7cIzirVq3iw0Ar586d4658GB8H6BUCgYC7chISEvgoYNAD3gYwBEH8/PPP3G+HNWvWmM6odDrd6NGjuQMdPnyYjwUGCv/5z3/QJ7ts2TI+DLSSlJTEXfZlZWV8FAAYgEgk4q6c2NhYPgoY9IC3AczmzZu5Xw0zZ8409YAdCoWCu7sPHTr0+vXrfCwwIHjnnXfQJ7to0SI+DLRy+fJl9hs2pKioiI8CAAOQSqXclRMVFcVHAYMe8LbBTkxMDPd7YdSoUebpMSAUCh9//HF0xA8++ABaSwcS6ANFH+v8+fP5MNBKSkoK+yUbkpeXx0cBgAHI5XLuyjl16hQfBQx6wNsGNVVVVY899hj6pfDMM8+Yc4QCT09P7pdRWFgYHwVYPtzU8rNnz+bDQCttU0pkZ2fzUQBgAI2NjdyVA31IgTbA2wYvOp3u/fffR78RRowYce3aNT7WLBAEwT3DjnxRpVLxsYCFww0iM336dD4MtJKeno7vvUOGwOjTQK9QKpXclRMeHs5HAYMe8LbBy6pVq7jfCA4ODnyUGWnrYbd7924+CrBwvvrqK/SBTp48mQ8DrbTNKpGamspHAYABaDQa7soJCQnho4BBD3jbIKVtAPdffvnlXj1kNm7cOHQCv//97xsbG/kowJL59ttv0Qc6ceJEPgy0kpuby37bhqSkpPBRAGAAer2eu3ICAgL4KGDQA942GKmuruYea3v++eebmpr4WLOTk5PD/UqCPyUHBmPGjEGf5s8//8yHgVYKCwu5S/3KlSt8FAAYAEVR3JXj6+vLRwGDHvC2QQdJkp9++in6RTBixIgbN27wsfeIV155BZ3J+PHj+TBgyXAVqD/88AMfBlopLS3F994hQy5cuMBHAYBhDBs2DF05np6efBgY9IC3DTp27drF3UL279/PR907tm7dis7kd7/7XUtLCx8FWCzc6M1jxozhw0ArFRUV7HduyLlz5/goADCMkSNHoivH1dWVDwODHvC2wcWVK1e4v96++eYbUw+xawgZGRns7WzIiRMn+CjAYpk4cSL6KL/99ls+DLRSXV3NXefx8fF8FAAYBvqzFl05Tk5OfBgY9IC3DSLq6+v//ve/o18BTzzxRE1NDR97T6Fp+vnnn0enNHXqVD4KsFimTJmCPsovv/ySDwOtoK8bKhlEdHQ0HwUAhvHwww+jK8fe3p4PA4Me8LbBAkVRbdO6x8XF8bH3AWvWrEGn9Mwzz/BhwGKZPn06+ig//fRTPgy00tLSYmdn5+DgAPOTAr3l0UcfRV+rAwcO8GFg0APeNiigaXrFihVY2YYMWbduHR97fxAQEMCdmEKh4KMAy2T27Nnoc/zoo4/4MAAAfYabFXDv3r18GBj0gLcNCnbv3s2q0ZCvv/5ap9PxsfcH169f587t5s2bfBRgmcyfPx99ju+//z4fBgCgz/z1r39FXytra2s+DAx6wNvMikql+rfZee6551gvGvLQQw+99NJLfKwpcXR05H9gA2hqauJOLygoiI8CLJNFixahz/Htt9/mwwAA9Jmnn34afa127NjBh4FBD3ibWWlpaWEVZYCzdetW/gc2jKeeegrttXnzZj4MWCYajQb9ZXK/VegCgEWD7hrom0WSJB8GBj3gbWalzdv++te/ruuUtXewZs3apUuXzJgx46effx479vsfxo79Af0b+/3YsWPHjftxypQpCxcsWIMSsbRlwK10YNWqVfxauzRdJW5PV4k73Zf76Xrrbdy8lj/99BMfBu4pFy9ePGR23Nzc+MPf34SHh/NnbEZglBzLRSgU8p/iPSUhIYE/IcDyAW8zK23eFhYWxke1g8YdCPCC1miapmj65s20gKCgK8lXiovyKssLCvNzhNXV1cIyoag6Oyf/Vnr6qZMnjx89odPq2uYYNWSy0X5J3Om+XJtsb71tzpw5aK8PP/yQDwP3FGTk7EVqVh5//HH+8Pc33FwjZua7777jDw9YGpcvX+Y/xXvKggUL+BMCLB/wNrPSo7dRrLExNIXekLedOnFaJpfTJHnt4rkFsybu3rl13/79W7Zt3G1rHRN3niRpvV5/JCy8Ranqyq46pV8Sd7qvcd7G9XV94403+DBwT2nztofNAncsi/M2/uxNDHcs8DbLpb238R+qeeEODd42kABvMyvdexuCtTWCokn0RtFUUVFxoH9A9OnIm9euiqpLpBJhRWWlUFwtqBFn5OTGxp8NDQtLTExC9oYsqg0+r65pS9OXxJ3ua5y3bdq0Ce31/PPP82HgnsJ52yuvvMKHTczevXvR4SzL22bOnMmHTcwvv/yCDgfeZrm0eVtxcTEfZV7ef/99dHTwtoEEeJtZ6cnbkAshadPrGYJgSIJGC37WWyKquZ5yLfIMbhOdPn2qq4fb8dOnzyUllVdUKJqbaZpkl9vwmXVNW5q+JO50X+O8bc+ePWivJ554gg8D9xTwtm4AbwN6BXgb0O+At5mVHuvbsA2xdW7ohaJIkkFGRqIViiJQhE6j3bZtW2FREa6NY7ejpb23cRlwOXVDW5q+JO50X+O87fDhw2iv3//+93wYuKeAt3UDeBvQK8DbgH4HvM2sGNBOim0Iv2I109OMjKbrKaqBoZsZppmmFGeOB8nl5TTTRFNNNN3IUI04nlZzssflwGXVDW1p+pK4032N8zZvb2+2VIbcD1PdA+Bt3QDeBvQK8Dag3wFvMysGeRuuPCOQtOkb8xpK9imKdzUV72kusWkuQa8HksMnSTI3Npfubi62xTGle5qLrVWSMzSlad3deBXrlK4Sd7qvcd525MgRrliUSiUfBdw7wNu6AbwN6BXgbUC/A95mVgxoJyUZCnkbRdMqjThemPiDOPH7mkujxec+F5//ojrhW1ESivmqJvG9mnNfSBK/FSV+Lop/XX5rNU014d6orfC5dUFbgh5TIrpK3Om+xnlbZGQkVywSiYSPAu4d4G3dAN4G9ArwNqDfAW8zKz17G0VhZ0NSxCi0NSebbnxPls4jCyZS2WOo/F/I4hlU2RwqfxKV8y1ZMIEs+IUsH6+9/npj2kKabGjzNj6rrmlL05fEne5rnLclJSVxxVJaWspHAfcO8LZuAG8DegV4G9DvgLeZlZ7bSVn1YkdxU2lqTlVG/bcq+h1B5KuiyH8LI1+vOvN20dE3q0+/JYx8UxD5hiDq1arol4TR/5SlraPJ2/VtfF5d05amL4k73dc4b0tOTuaKJS8vj48C7h3gbd0A3gb0CvA2oN8BbzMrBj3fxo7eRtIE2VKoFXrpRa6EyIUUosVDJ3DfvfRfhRetCKEvIXQnRS6EyJkQuerlSTSlHgDelp+fz0cB9w7wtm4AbwN6BXgb0O+At5kVA7wNt5NSFE0gc6MImtbQpIqiVBStJimtRte8b//O8rI8gtZRjIqhVAypRsZG0VrclaHdaCDd05amL4k73Re8bQAA3tYN4G1ArwBvA/od8DazYkh9G0Phaa5IPNkVhYfhJdE/5GWMhmKQu4WdiBbXNSgpRkfhMd2w3bG9T5Hw3c6hJ7pSsU7pKnGn+4K3DQDA27oBvA3oFeBtQL8D3mZWeu6XwM5MiiBxqyfJ0Hr0grxN1Ez4nhW5nZOsPHz18Kkqt7OirCoFiVQNV7GxkteFXXVKvyTudF/wtgEAeFs3gLcBvQK8Deh3wNvMigHehmSIQCaGvI3EcyLoaba5NLdW96tt4a9OouVBVbMOV/+wqyQqox4Ptosr2vD/flGxTukqcaf7grcNAMDbugG8DegV4G1AvwPeZlZ68jbkQmyLJ3rHa9jIEARN5Uh0v9iWT/Vu2XhaO9eredTumsiMJjXNcPNcUXjIN16jWt+7oy1NXxJ3ui942wAAvK0bwNuAXgHeBvQ74G1mpWdvwxOSImNDa0jbCN7bKDpfoplmc+tHm6JRm2+M2104bndBTFqdDm8maFrPVrfxGtX63h1tafqSuNN9wdsGAOBt3QDeBvQK8Dag3wFvMysGeBvFziXPDuRGcjVuJPK2Zh2dIybTqshRM3aGJBami5g6BX7ujcRSd0c30k51qgP9krjTfcHbBgDgbd0A3gb0CvA2oN8BbzMrPXgbMiGuug3Xt7H9SSkK9yfFCkeikF5HOjm6VggEOrafKa6SQ6kpisG1bv2gYp3SVeJO9wVvGwCAt3UDeBvQK8DbgH4HvM2s9ORtrd1J2Vo3CskZsjOdnlI00I31TGMj3dh0NjCgqbKYbq6jG+V4USk5e2uzqLaVbuiXxJ3uC942AOjO2yiS0LVCECQf2ycGjreZoHDA2yydbr3NBFfMXYC3DTzA28xKT+2kyNzQQrW2lhI0qZfdupV9yKbQdnvu9i25u7ZGL5h+Y+f6EqcDObu2FtturToTjtLg2rb+ULFO6Spxp/uCtw0AuvG2Bp8xD3IfFcvQYSN//+e/v/bJ+KX7jmc38CMI9pYB422mKBzwNkunO28zxRVzF+BtAw/wNrPSs7fhFlJsbrj9E3mbXis4m5C9fbsqLKgl7EiNu6s6KlwVFSkPOUEcj5Xv25rvvIfWqVBqvBefg/Eq1ildJe503z56G8xPej9guLe1Y+jIp7/acV5y181GKy3OzsoukxN8+G4Gqre1o/PC0TVWFxdV1Kq6u0GDt1k6vfC2dtx1xahqirKzy+q6+hqpagqzs/OqFXywPeBtAw/wNrNigLfhJ9aQESErYp9q04jjI1MnjCtcOid9xcL8tUuL1ywsXLk4Y8WyghWLsn76ssxhD6PTcOOFtOZgvIp1SleJO93XOG/LzMzkiuX69et8FHDv6Nnbhv3f2P1x58+fPxcXedTfYcvMj55+cCiO/tP/rG9q+KQcRJ71OyOHPPClY3WXdjLQvM2AwlHmhq0f869HR6L4ocN+//fPlofmq7gtHQFvs3QM8DYDrhhd6ubXRgx98F8Lz9R09kXSJa97ecSwJ+dG3fntYwFvG3iAt5mVHp9vY/uRUiRDsVMgUBSprjl7+tYPX9WtmKe029Hw2yr5qgVN2za02G5t/G1l/vefVdrZMFotrpvrDxXrlK4Sd7qvcd4mFAq5YomJieGjgHuHAd721PzY9ncIShK95FV8rxn68FdO5e0f0xmM3tZT4VCCw58/MHT4w/94/7txYz7655+GDx068vm5p2o7KyHwNkvHEG/r+evEehtO+thntjdb2FTtAW8bXIC3mZWe+yWwsHVuaJ2iKK342pWrK5emLF1wecX8KysXuH31Sey8mcmrFl5bvej60nmFgb6MXm/p3qZWq7liCQwM5KOAe0fvvQ3ReHrW34ajO80DHx0obSdu4G2YOwuHqnKcOGrHeTHX5qXJc/ru/4YNffCjA8WdPJcO3mbpGOFtiI5fJ66+bdiwYcjx/zE1rLLDpQLeNrgAbzMrt70tNIzrg8AvHNjVuMlG0d9c6BUP/UFrdaSihWpuopobCbls/cwZuSlXKWUjpVTgBVe2oR2M8jZWE9mI7ugq5073Nc7bEH/4wx/Qjvb29nwYuHcY5W2MMmLSo7iK4NEpx9u1+YG3sdxZOKpaaVO74lCdmvH4sGGPTTvZyU0XvM3SMc7bOn6dWG8b9tdfrBa//ruhQx9+d8vlRi4dB3jb4AK8zaz06G1oQTqE/pjip0xg57BCC0kRuHMpSYSFhkilYoKm9BSpx9twpRxXQ8ftz+pU+6UTeOW6n7zt2WefRTtu2bKFDwP3DuO8TZu07B/D0bYHR3vX81EI8DaWzguHRxs3/2/Dhz01Lwa8bQBipLd1uGI4b0PpFEXePz09fOjwv/3oVajjkiLA2wYX4G1mpc3bQsPCkPVwS3uQC6EFeRvBihFB0VWq+qwGQXpT5S1FVUazYP9Rz8tVGemKylvKiszmypImkZbWs1MmYNnDvte20rrcfZiuVKxTukrc6b5Ge9vbb7+Ndly4cCEfBu4dxnlby7Epjw0bMmToH8aHKPkoBHgbS+eFw0Gkb3tz5NA/fOfZ2RPn4G2WjpHe1uGKafM2lK7xytb3/jRs6O9eXxHX+kwkeNvgArzNrHTvbXwMq27sQrfQuk1J/u/6r/6X54KX3ea87j3/Dff5b3oufNF12j/cZ77iMWec1/oaRk0w7b0Nv1qct6E7E9rxp59+4sPAvcMob1MlLf8nrh8Y8drm1Nv1AOBtLF0UDoaSHp36t+HDnpgYBv0SBiTGeVvHK6a9tzEMWRU+/fmRQ4c9/rV9FvtQAnjb4AK8zax07W3ovdW0kA/hEH5oTcEQKxN9lqf678g/vrc0yionZEfhsT35p2zy/LcVhm/I9PzJYzXyNooh7m4nbdM/NoQOwfscPhhOg+nUvTrQVeJO9zXa2+bOnYt2RL9i+DBw7zDC23T5Dl8+OgxtGfHyuuT2ZgLe1k3hoG9jfczCF0YM/eP/9mZ38Dke8DZLxxhvu/uKudPbEC3p+7/887ChD7w45zj6aoG3DS7A28zKbW8LDW3nPWiFlyqkXwTNTUhKoXcVo1uV6PmGx/xXfOa9E7biXz7z/uUz/3Xvhf/xm/Oa37x/+c762muVmGHHb+OsD/1j5y3lXY1bWMfCKW7XybGxbDy30g1dJe50X6O9De2CdnzmmWf4MHDvMMDbHvvOLr11DFCNIPHA+H9yI049/oP3nV3dBqO3GVw4VG3k/BdGDvvTx7YZndxvWcDbLB1DvK3nK+Yub0NXjyR6ySsPDR326P92XpNfBW8bTIC3mZV23haCvIeD3YJe8cL2QuBgRwGh9Q7njjwz4d1PbGd/7772pZVjpx3b+7/989/aPmm874anp743cd+qelLLJca+x3ZiwHVvrQt3CCxy7Dt3FAR70M7dqwNdJe50X6O9zc3NDe04fPhw9IPwUcA9omdvwwwd+aen/vnvV17625/w8LE44g+vLjwp6vDpDUJvwxhSOKQg5Nenhw//648+pfwtuxPA2ywdA7wN08MV04m3IbT57mP/OnzoiGd+XjnpRfC2wQN4m1lp87awsFCkPfyCHKh1wQLGVpihl4ZmRXzCOd/QoOPRpyXN9Tbu9u4RAY2M/lZV0axVCyTqpss3UwLCQo4cOyYSiTldY+vp2BWcMa6Cw/9bl7sNrFP36kBXiTvd12hvO336NFcyUqmUjwLuET1729BhI0YM424vLENH/N9/px263MkTWoPQ2wwrHG3OoS8fG/67N1afk3dZMgjwNkvHAG8z4Irp3NvQDaPhotU7fxzKAt42aABvMyt3PN/WZlTo24f++mYX9Ic3Mrb6+qaExAtBR47mFhRptDqCoopKy4+eOKHW6Qia1lHkzczM2HMXdASp15PiGumJU2dOnDxTVlGFlI1A1sdmyGfLDgjXqm6saXUmcN1gHm9LTU3lSiYjI4OPAu4RBj3fdqoiPS7My/HgAQf3oKjU6ruHcOcYnM+39VQ4VP35NW/8Dt1pH3n29f+08dZXO650fMoNvM3SMez5tp6umK68DUFWhEx+DlfSgbcNGsDbzEqbtwWGhBaKNallmrQKVXp5y80y1Y1y9Y0KzY2ylrOXs939TgZF37pcWJ9a2ZJW1nKtSGnrcT4poz63UtWkpUql2uvlqt3u8WdTRTdL8Y4pZS0nLxc7BcQci7qYWtSUWq65WaG6WY4WNVpPrdDcqlA3qZHUYbBw4Qo5imtG5c+sa/Aud65wdAhyGO1tMNXV/YMR/RK6BPol3A1Z7D3uqeHt6ld4hv317iHcwNssHWP6JdxNN96GUN7Y8+mjw8DbBg3gbWalzds8AkKtAqtH7xHP9qhZFShZ4Fo75bB8jI1wrHWFT2zR1RL9xP1l3+8TrAytW+IhmeUs+Wmv8Hsb6cLDRbkyjUO0YLRN1a9OFasDJAvcJNOc6r63qRlrU+4UJ72aVztjX+n3tpLF/nULvaVz3Won2dV+v0cycX9Vbo2atTXkbbgxlqYJgn3jz6xrzONter1+6FB8K/P29uajgHtEf3qbAQw6b+sN4G2WTv94Wx8Abxt4gLeZlXbeFrYxoO5L64ZZvvU2cbVOZyVWEfLvbGq+21N3Kq35agX1037R97bSzeENznGy3XHSue7yb3c0zXOozpXpD0WLv9pTM9VVsu+03OVc3fYTsh/3icfsFjjG1RXIyGkOom9s65eFNB9MqLVLqFnuJ/9uZ93PB0SZNWqSItlGUvzUG5YuqnP36oB5vA3x5JNPon137drFh4F7BHhbN4C3Ab0CvA3od8DbzEqbt3n6h20JliwLUG2OqFvjJ9rgV7ftWP3B8xqkWSfT5RfLiXnuwh2nGvafatjqJ13tL9ofpbCLJ1e6FufKdE4xFVsjm3eckuw92bTaQ/xbaL1zonZLSJ1jvDi/Tr/QQ7AiRPnb0aaVXsJ13iKb403OSdqFLsI8UQtJEdzDbXo82ggyL07fesBs3vbWW2+hfRctWsSHgXsEeFs3gLcBvQK8Deh3wNvMSntv2xYiXOjXuCGiYamXdN7hyg3BNb+dkK/wlUWlya5V6Bc6V1pFyDdFyOcdLp7vLvztWNPOk4rV7oXZcq1zbMXqQPGWow1WwbUzDhSvC5TvPtG0MUDikiDOlxGL3MuXB9RvjKif41gy/3DJ5vDGXaeblrqKC0UqZGu4bwKeFYvEowIh87qfvO37779H+/7www98GLhHgLd1A3gb0CvA24B+B7zNrLTrlxCWXqaKy26Jz1EmZCv3eF+eutYjNrvxXI5SKNfVKagLuc1ncxQxeYpJq1xt/ZLP5yoTcpqTC5rkGjJX2HI2pzkhpyXiUtX7P1olZCvOZTcn5jTmitVyLX2pEO2ojMtpXnvw1Ko9R9B6Qq7iQo6yUUVgYeO6laIVBq107l4dMJu3od8saN+3336bDwP3iG68TRFt9fVnn332xfgD1zsf398IBoy3maJwwNssne68zRRXzF2Atw08wNvMSpu3hYWGMhSJFIqicMdOgUC478ABjUaDnQqPoYuHcEPrBE37+vll3brFdiHgQGsku9C1dXV79tlq9TqUjt2D244r00iKiYtPiI8/y/YaRYdC6dm5sHAKvDv2NrbNlD+zrmlL0yFxp/v2xdu2b9+O9n3qqaf4MHCP6MbbTMGA8TZTAN5m6XTnbWYBvG3gAd5mVtq8jZ0vQYtcCpsbeiPI06dP1IiqaYpAVqWjGRXNqGlaQ9MxiTdKKqUqmlbSNIpBm1CkiqFbaLqmqSXgRDzapKEYFYk20QxJ0lotrdbSWlVOanJR6g1Go2Y0KlrbQlNabkRfikEHJThnu6+8zdHREe370EMP8WHgHgHe1g3gbUCvAG8D+h3wNrNy29vCggmGIBl2bgMKv4hFwpMnj+t1eqRxJXUqz/hytxiBz9mqra6X7I5kOcVUOcZJgs5XiJS689kSpxiBW5zAPbJkrX28R2yZc0y1a2z5hRyZRibLDfTL8na95eV0zvq3C3t3opVMb8dcb5cWSRU7lQICHY9E2sVVvvFn1jVtaTok7nTfvnhbUFAQVzhqtZqPAu4F4G3dAN4G9ArwNqDfAW8zK7fbSdn5EpD44EfNkE6x7ZYnTp0sKy1DVpVSoftlX8W4feK9cS3OceLd0dWz3GpH76pbYF+SJ9PaR1V/a10917vGKb7JOU6w+agEpRy9u/xwnFRTVpU6f47Iw77S+WDpwb2SYJ9i74OlhzdemzBKkZdF8nNh4QZVhuQeb7uPvC06OporHLFYzEcB9wLwtm4AbwN6BXgb0O+At5mV9t6GrQ2DG0pZg6IlEkl4eIRGq0ouJyfb10xylq8N16wPUq4OUa4Pbl7h17jEqSxTpj0YK5x8uHaGR9PGMO3aoOZ1oS3rg2RzncWOcbW6sqqMBfPEVmuE262qN6woXbVYtn9X7YGNWZPGtORlYV9r8zZ0TIZ94q0ncOI7Vzg6BDn64m3Jyclc4eTl5fFRwL0AvK0bwNuAXgHeBvQ74G1m5Q5vY0H20wZJkteupSYmJF6rIGY5C7ZHKmxjmlf5ylcF1R+MUzkmqld7lGbJNIejqlcE1O2Pb9p0pHmJT+PWY0qXCy3bjspcYsXa8srM5QtkB23rDtpK1y+rWrmwztam0dshf/ak5rwc3HsBz1mKj4U7JXArPdGWpkPiTvfti7cVFBRwhXPlyhU+CrgXcN6GGGYWuGNZlrch+LM3MdyxwNsslzZvQ/AfqnnhDg3eNpAAbzMrd3sbAtsTC0VRGrXmzJnIkNjMte65K13zVrhmr3TNXWCfOm7l8bUu+bv8M8vqNWHnKlY65U3YEDV954UVrsUrXYtWe+Sv9shwO1F4wOq38DnTLi9fcGX5vOSls64unXN15dIrq5dcX72suaSEwt1KcYssrmbD3ta5e3WgLU2HxJ3u2xdvk0gkXOFERkbyUcC9oM3bzInFeZs5AW+zXNp72z0EvG0gAd5mVjr1NtyhlJU29IrQ6bXBR6LPnM8SKWmxlhFrmGK5etKcTTGXs+s0jIpiGrRMmZz44seFSWmlYhVOUN6kO5aU6uB+zNPVpUVYxdRKGKmIqa1m6kSMFL1WMzIR7meKBw/hBnAjsHfdZ96m1Wq5wgkICOCjgHtBSkqKp9kJDAzkD39/c+bMGf6MzUhMTAx/eMDSqKmp4T/Fe8qlS5f4EwIsH/A2s9JVO2mbtOFhQWiSIMjLl1NCjoQLRdU0HoyNkkolfn4+Gq2GpEk9SUbHxmblZBMkqVQ2X7qUFBQYmJGRodOh/fS40yirZzgvttcDHm2EQgsbiYJ4elI9g7awYe40uqEtTYfEne7bF29D/P73v0e7Ozg48GHA0pDJZPwaAAAAYALA28xKp/Vtt0EmhAfIJQmG0JH6yurqI0ePnEqKz5VX5yvEYVejgy+dKVTWXBbk7o3wymwoP5Z6bp+/842MdKWihe3cwM1ihbSMlSpsZdxgHzhjbFk4xA7ESxP4hYU/dNe0pemQuNN9++htTz/9NNp9+/btfBiwKC5evDhlyhQ+ANyJXq/n1wDAYOCyAe4GvM2s9ORtDIOECteXkRSFFkpJ6haHHvjCc/VXwRu+Dlz/zqE5owLWf+S+7FOPRV/5L3/d+tepvlvqGC1vaHhcXYbAw4rwQVzdhqdJ4KdK4FyN75iARwLBascfumtw0jtXODoEOfrobW+88Qbaffny5XwYsCi++eaboUOH5uTk8GGgHfPnz5dKpXwAAAxjwYIFEomEDwAAC3ibWenZ21hhQy9s1RitZOiVif4LL7gtSnGem+y68Jrnqps+i1M8F1w5OPOS45xLB7/3XipmFNzAbHjiLFyvhiUNj/PBcF0Q0At6Q+t4rF10BM7bUCRx/3nbZ599hnafNm0aHwYshxs3brCX9pCffvqJjwJaKSkpGTZs2KpVq/gwABhAWVnZ8OHDV6xYwYcBgAW8zay087ZQVtPuAImQnqb1yLqwt6F/pILRrUr0+jxi05dntnx/3vaD4+s+ObXh66itn5/e+PWZHZ8d3/CN9zIRoyRoip2hlFM0fh5SLFb4hdM33PyKa9vYo7AbsNtxu/ALdw53hDBtfta2wtEhyNFHb0O3fLT76NGj+TBgOYwbN469tDE3b97kYwGWuXPnomJ58MEHq6ur+SgA6In58+ejy+aBBx4QCAR8FACAt5mZdt4WguyKnXiKb9VEroTekbeRuOcArjIjKErNkAfOhvx90icf75z9g+eGl1aPmRq64yPbue/umvqT64a/Tv5g8sGVckaFTI3NBT/ThivssKKx9ob8DU9ej3Nms8TVcjgdrs5jK/RQCKVlt7Fgt2MT3Y7iQCfPvbbRIcjRR2/jbm8ffPABHwYshOzs7KFDh7KXNmbUqFH8BoBh0E135MiRXMnAcAyAgSDFb7tskMDxsQAA3mZm2rwtNDQUyxFekKqxnQowBFYuFIt7gVIqlSo9PdUtyNfO3SVfIrD1cd7tdkhCtZzLvvbToqkljVLP40cOeTtFx8c0NjSTJBI1XOmGbEtPUyQ7+SkWQy5vfCT2FVsZdjwUif/hQ6F0OAKD39HCdkJl4eIQ6OS51zY6BDn66G3r1q1Du7/00kt8GLAQJk2ahC/rdly+fJnfNuhZvnw5XyhDhowYMaK0tJTfAABds2LFCv6iYS+bkpISfgMw6AFvMyvtvC0MGRKBtAk/dobciCGxdWmxMxGUVq1JvnYtJDT0QuI5QqdDhiQUCkJCQggCiR0e0iM5OflqcjLyM4KkCvMLjoRGxMXH1zfIcF0bp4Ns9wYkaNgKceUa523ICtHhsLex1sZ7G9tiiiBZocMr3DtO1go6ee61jQ5Bjj56m42NDdrdUoZgBTiKiorahmVv49NPP+U3D24kEslDDz3EFwrL9OnT+W0A0AVSqbTDZTN16lR+GzDoAW8zK23eFhwaVlKrvyUiMkW6bJEmE62I9VkiMlOovZqa7+wZHhCTnVLSnFmtyhbp06s0e30TLuY1FUo0zXqqqkGXVa2x8Yg7n12TKdZmiYnUSvXpq1WHvE5HJ1zJrFKifLKE2myhFmcr1GeLyLwanUJLEtjlsCHiKjf24TZsZyQlk8mrBQJBVVUVfhMIhUK1RnOntpnJ29zc3NDuw4cP7zRz4P5k9uzZ7EXdkbNnz/IpBjEbNmzgi6MV5LgwAy/QPRs3buQvl1bQZZObm8tvBgY34G1mpc3bvPzDdh+p+dVOsjq4fucJ+eZg8XJfyVQ72aRD1R5R+Uk59XMdK6YdFu08rdwWKl0TKJx6sHyqXe1qz6L8eq3H2eppdlVzXQXbj8k3hVav8pNOtxdNP1TmelYcn1Y6/3DxJHvJlmPKbeGSTSGSxe41E+0ls5wE+RIVW7fHdiJlG2Tr6mWZmeknjiOORkediYmOjI6JiY6KijxzJjw84vz585WVlVqtFqXmLIp7baNDkKOP3nbkyBGufJqbm/ko4P4GXSQjRoxAHxmybW7Y5L/97W/sZzjk3Xff5RMNVuRy+R//+EeuNNozfvx4PgUA3EV9fX2nl83PP//MpwAGN+BtZqXN2zz9wzb513y3u26ur3xvjMw1WmwVLh9rLf3eWn4mXZFcTv60XzRmv9jqeJ1rbK1NpGS+e913u2rnOJZmynWHooTf7hFMcxHvPSV3jJVsj5CNt63+fnfFofjaAhk143D1KNu65SFNh2LrDseIl/vVfmst+ml/TY5Yw/kXbgDFbamUm5t78pVL0prqOqkoO/tWYVFeTU21pFZcXlkpa6jPLygICQlJS0tDKRHo5M3gbWfPnuXKp6qqio8C7m+WLFkydOjQX3/9tbCw8B//+Af67LZs2YKk//PPP0frp0+f5tMNSrZv385ezvj5JG6ljfT0dD4RANzJjh07uIvk7ssG/ULmEwGDGPA2s9LmbR4BYZtCxMuDNJuOylYFiNb6Cbccl9slqVb6yaNu1CeX0/PcJVsj63dH1W4OEK/xk+0702R/VrfKrTRTpnWIq94So9h+ps7mpHyVl9gqVO6cqN4UUucQV1NYRy7wqFp6RGl1snGxt2SZd+2uE03OSdrFzpJCoRrpGj8qL37WjfJwcZOKxZqWJrfDB3fv3unm4eLh5rht19aIyDM1slqNRoPuvleuXDGnt6WmpnLlk5GRwUcB9zE1NTUTJkzIzMzkgi+++CL67KysrLhgcnLyxo0bO71OBgPNzc2PPvoouvUuXLjQ3t6eu7DRF+qHH35AKzDYDdApCoXiscceQ5fNggULDh8+zF02ly9f5i6b7777jk8HDGLA28zKbW/zD90YUD3TtX6JX/0MF8lkO+ESf/nyEDnStTM3ay+XE1MdKhYHyFYG1M/cXzrNsWZ1YMO6kIZlzkW5dRrHyMp5HuJlwfWLvWUT9lYu9mxYH1y/1FPiEFuTV0fNdayY5dO4ILB+4iHhlEOC1f4N64/I59kLCkQqisKzl+K6NlpPMmROTvapk8ePhIWkpFzOzk7PyLiZci05Ozfr1q306JiYkJCQxMTEhoYGJG3crdcM3lZaWsqVT1JSEh8F3Md0mITnX//6F/rs1q1bx4cHNwcOHJg+fTrXezQ0NJS7sFUqFQpmZWVNmjQpJSWFTQgAtzl48GDbZdP23Ai6caAgd9mgP4fYhMDgBbzNrLR5W0Bw6IXc5qPX0NJ4/FrTuoOxC38LO5pSf/x6Y4lELWgkTl6XH09pOJHSOGOV+zavlOPXm45fa4xNq5Op9GnFTSj+aEqDT1z5Z5N2nkxuPJmCFtnNCoVcRcWmNh5jt64+ELV0z9FTKY3HrtVHXm+UKVhpw42krLexM80TBCGTybJzsm6mpgQF+k2cNDHt5s30tLTy8gp0g0FmhmC9jR02xPTeJpfLufI5fvw4HwVYDq+99hr67GBWAI720xNFRERwF7ZCoeCjGEar1fJrANBK+8vm2LFj3GXT1NTER8FlA4C3mZk2bwsNC9MzjA4t7PwGabey9+87rNYTXJCgGR2FN6EEhw+7XUq5paUZ9GVFQZLCix4loBmhRLp+w29qLYXSIwvT0xTaBakZQdI6ij56KuroidMEcjSa1rOVbGz7KErBoADSLjaAN7DDtVH5+Xkenl7Y0bhNbW8oe1rPDdKLuzW02hraxq+1o4/eRpIkVz7e3t58FGA5/Oc//0GfHUwvezfo7xDuwm5oaOCjAKAnTp48yV026A9aPgoAwNvMTJu3tc1Pit0JaZFej2LQlxPbEQL9UUUxappWM0zChWvl1XUqktGwroYUDUkbWldTTF2z8sjxaBSJrY6i0SuuQ9PqGI2a0auzb14rvHWT0WrwotPQeHQ2tpEU/8f2hkWMPRp+pclqYVVkVCT//BufCL+gdYLS49lPURhrG+9ubKgjffQ2xCOPPIJyOHDgAB8GLIe3334bfXaLFy/mw0Arp0+fxl/7IUPq6ur4KADoicjISO6yqa2t5aMAALzNzHTlbciN8vPzz58/zzZlkgKZLuh8rc+5+qCkup1uFw4fzfFOqPE+Jz92uUaiJK7kyn0T6nxRgriqdYeifc9WeyfIfRJkVwsUOrm8LCSoNMg7P8AzyXbXBTvbHD/34kDXkkB3tUSMh93FVVroECq9IkvXmKBriNOjpT6WaIgVFQZcPrlJ34iC8fqGeH1jrL4xRtt4ldRJSYokGVwRSGJloxi6k24KHH33Nm4UiZ07d/JhwHJ4//330WcHc/LcTXR0NP7aDxnSvhUMALonNjaWu2zEYjEfBQDgbWamU29DIoVeCYIIDQ2tqalBDnetXD9+r+CHvTW7oloOxsq3n5HNdKv/brd0vkNJTp3WIVI4ylo007vWJlaxL7Zu47H6H/ZJx+wWOMdINWXlN+fPqjlsW2NnK96zS+p5WOi2T7Bvbeov3yjysnCLKK5yoylCKLu1XpL0bd35T+sSP5Kee1967sOa+I+rTn8mPf+p5PwHtec/rMOv/606/62qNoYhtOyob9xMp9jduDNnf4I76Lu3/fOf/0Q5bNq0iQ8DlsNHH32EPrvZs2fzYaCVuLg4/LUfMkQoFPJRANATbeMiwbzyQHvA28xKp97GtlRi8vPzo6OjUOBqBfmjnXjUPukcH+kK3+rF3pIZjvJxtk1zHMsz5bqDMcLRe2t/spMu9a9Z4i9c4C3/5UDtWNsqp9haTUVF2txpRQumFC6bX7x4buGCqUWbVhasmJY9/quW7CzsXehg6AC6Ctn1lVSFra70N6J4lTZvlrZyoa50LVFuqy9Yrc6dpS9bSRStIMp/FV76uEUawpAtbHUbgb3NxPVtr776Ksph9erVfBiwHD799FP02c2YMYMPA62cO3cOf+2HDKmsrOSjAKAnEhMTucumoqKCjwIA8DYzc7e3IThp40g6d/7a9RtXKsh5bmLbaJ1jvH5jYPPmCKX3ZTLoBr3GszhTprWPrdgYJjsUT+w6oVwf1HzgDBmRRu073eAdVaMpq8hct0bj4aH0dJPs2lS1eW2Tqwtxyj9vwS+KvCw8MSmuciNooqI2da4k5t+y6Gdk0U/JYv5ah5YotP6Puuina2P+Kot5qj7qmfroJ4Sxb6qkYQytYGefZ+vbGJJhCO6s+R+gHX33NnhGynL58ssv0Wc3ZcoUPgy0cuHCBfy1HzIEJpUHDOfSpUvcZQOTygPtAW8zK516221oukXZfPRoeEhC6ULX8sUe1SvchAudRPNchAscbk3clrjJI6uoXuOVUDHPpWSZV/XEXVd+3X1rmbt0ja94hUd58LkaSW6h+y8/X5o7K2vJwoz5M27Nm5KzYkH2+kW3Fs9SFBewyob0S08TEnmJlzRtRV3aYlnaAlna/Lr0+TlnfvL/7QV5+tK6tLl1afNQvDxtoSRti6b+Ok2rSIbArbmcrrEdS03kbdDWZrl8++236LObOHEiHwZauXz5Mv7aDxlSVFTERwFAT1y9epW7bAoKCvgoAABvMzM9eBsyN4pubm72CjwTEptzq0qVKyFzxVSuhLqUJfxg1LyElBKljhQ16nIlRGY19fO8XX5nUnNrqBwxkS3WFYmbPBwddy9fWp+ZpsnL0eblaPIyNXkZ6rwsdVEOoVKwLZ3sEG6khiElDFlGkxU0hZZitGSlHtu6djpNV9JUCU2Vs/EVNCmkSQXaAVka18EU17hR6ERN5W1fffUVymHy5Ml8GLAcRo8ejT47mHzzblJSUvDXfsgQmFEeMJzr169zlw3MKA+0B7zNrPTsbbghk9TqdYmJiUdCw2qlYrZ6C8WStVKJr59/ZWUVRSH7YjRqjY+Pb0NjI/IwkiSzM7P8/fxKSosJEo/ZwQ3ggdSKW2G7qaI1PJ08Vi/c5ElRDLYxtuWURJuqq6ujo2Nwn1NuR2xmFB54BOfBzkaPU3JNpdypmsTbvv/+e5QDzKBsiXBT8YwbN44PA620TeCWlZXFRwFAT6SlpXGXTdtUcgCAAG8zKz15G3IhApkTyZAkpa8RiY+EhcbExgqqhQSBZxZtFgqiXZ1qb6XSEmldVvrVYB+6TqiqKIoPCTobG61WqVhBw6bFShtyMyxZbBAtaIVkH1PDDoZljd2CNumRBVJ0WbX4dOwFNY3H7OXEDQ/cRqPjohA6NbwHJ20m9bbx48ejHGD2RksE2Tb67MaMGcOHgVbS09Px137IkFu3bvFRANATGRkZ3GUD08kD7QFvMys91rexfTWxM+EXZFR6fWlZ2ZkzkccijhZmZWT4eJxfNDd+3bKLG9ZctFpzbvmilE0rEhZMubBvD6FG0saqFV7YpkxO2viMOdvipYs9AFpDhyAJkk4tbvY+V+dwvHiT0wWfc7LjV+rqVWwmbHp2pW2n23QIcvTd26ZOnYpy+OKLL/gwYDlMmDABfXbffvstHwZaycrKwl/7IUNSU1P5KADoiZycHO6yuXHjBh8FAOBtZsaAdlK8cH6FxAgPwktTBElKJZLUi+eiVyzIWzpfFXW0JiJYHuAtCwmWR/jkzPu58IA1rdGwlWq4QRTncLe3taNNxSia0BG019nab3eLZnvKVgfX/WAtmeckKm/AVWtsmrbEt1c4TORtc+fORTl8+OGHfBiwHCZPnow+u6+++ooPA63k5eXhr/2QITCXPGA4BQUF3GUDc8kD7QFvMys9ehtnbNyCxAhXv2EZY2c60GnLnBxKZ07MmfZj2YIZuZN/LFo4o2LVguIpP5Tt205rNSg93gUl5vNqzeouULK2FT3BeJ+v/9pWtjhYsfWU6vu99XPcJOUNrPy1pumwwtEhyNF3b1u6dCnK4b///S8fBiyH6dOno8/us88+48NAK4WFhfhrP2TI5cuX+SgA6Ini4mLusrl06RIfBQDgbWbGcG9DUoSNDdsRrnZDAUanK3C0r/htjchjf431bxWbVggPbpd4HhZtW1O4byet1uAGUrZ+DrdxtuaDl7tgN7MrJIW8zfd83VjbmrG7y77bmvWjTfVC1/LKBvyQHJ/mrhWODkGOvnvb2rVrUQ7//ve/+TBgOcyaNQt9dh999BEfBlopLS3FX/shQy5cuMBHAUBPlJeXc5dNUlISHwUA4G1mxhBvQzqEhAgt2NuQHHFvSN30ZGVcbIbd3nSHvbcO2ez97tNLtrtuOh7MsretiDxJ6XQoGUPifgRsxwScD65545Y74ZQL/UeSpyfpEqkusUDjdjJz3BzrywXq6yUqpRYfuX3i9iscHYIcffe2LVu2oByef/55PgxYDvPmzUOf3QcffMCHgVYqKyvx137IkHPnzvFRANATAoGAu2wSEhL4KAAAbzMzPT/f1m7hpY0bwQOvkLgxtEVJtyhImWT5pIniomIUZFTNtFZNUAQeHQQl5KY7ZaWNbMvrTjjlQmqHq9twvjRBUTl5hY5O7iTJEGhftotD+8TtVzg6BDn67m27du1COTz11FN8GLAcFi1ahD67d955hw8DrVRXV+Ov/ZAhcXFxfBQA9IRIJOIum9jYWD4KAMDbzEwvvA1ZVau0oXd2NA60RmAxwytUiH9Qi7IFr+GEeAA2XNfGrmIja11wXnfRqlzY29BerKUR1YLq6Og4tAkFUG64YyuXiE98e4XDRN62f/9+lMNjjz3GhwHLoaqqKiMjA+bkuZuamhr2ez8kOjqajwKAnpBKpdxlExUVxUcBAHibmeldvwTsaFja9DTdQhFp0pIYQUZ0dWZUdWaMMGul794Txdejq7OiqzOiBZkp4iIdpb1z1Fy8dOttvPFVyLXJ5aoz14X2QddvlKvTBS1KHZY/Pk1b4tYVjg5Bjr57m6OjI8rhd7/7HR8GAMtHrVb7+Pj4+/sLBAI+CgB6Ai4boFPA28zKHd6GvYdrzMTdD9p0jV3HUkRTFIPEjaZ1NC3TqRadOPh24Mq3vRf/13v+W/5L3/Za9JbXkrc8Fr7lMfdN74UTwncraA3F4NZSZGNod5JTKz5nXCvXlj/ajivT8CFoHcn4JdaN2yee5CCadah84j7xYg9BVQOJU7K0+VnbCkeHIEffvc3T0xPlMHTo0E7zBwAAAIDBDHibWbntbaFhDG7hJHFtGjuXFPYrdsEyhVtFESRD6ZFhIW+T6hQzj+5dnRdxsOCUS+mZjRlH9xYet8k9bZN94kB+xLIbLhOObWtitCStw7Ngsd6GX3BOXM74eTWcJc4fx+GH19gEWoL2PC//Zo900wm96wXyh32y2ew4IOypYNh97ljh6BDk6Lu3BQYGckWk0+n4KAAAAAAAWMDbzMqd3obch1+QAiFRIrAL4QDawk5ChSJIgkJaR9Xqmqee2PV3z2kvuc14xWPu0y6zn3WZ+qzr9L+7zHrBbfYzjpPGhmxS0lr2KThc34YntMJvuNUUKRque8N1e0jY8LHYo6DT0aMVHfK2BOk31jWjdou+3yMYbS2c51hdVY+7OHDnjBPfucLRIcjRd2+LiIjgikihUPBRAAAAAACwgLeZlTZvCw0LZSvA9NjWcK0YrmVjdYtA8diwsBehFWReDJIvJaENy0gabb34jbmjdiT4frd7yQyPrTsvhr66eNyvhzcucNv2/i/fpFxPVipUXE9QlCHussBOQc8O/sYtKE9c14aVC1sjrosjCSa1uNE/UbonIGvMYregi9KTV6UNLbiLA3fObX7WtsLRIcjRd287c+YMV0R1dXV8FAAAAAAALOBtZuW2t4Uib0MehQxLz/YWZaelQuqGq8nwGxsicWdPkqEISiavPxp9JvjU0bT8zAZCsdV2R0rG9WZak3Qz2c7dsaC86FbWravJV8LCjl28eElaW6cnCJwNmxf6h9WQVTXW4VhvwxKHo5Eq6mlGTdFX03I3bt+rYvDjdPxQIix3r3B0CHL03dvi4+O5IqquruajjIUgiG33JX3/0foXGxsb/szuJwoKCvjzu3dcu3aNP5v7CTc3N/78gPuVqqoq/tO6z0B/zPOnCFgs4G1mpWM7Ka5VQ2KGR/fAA69hg8NVZUjnCKQdrFQh80pPSwsICMgvLOSG+lBoVAFBIWqVimRnR5DLZYH+/hUV5WhHtVZ3KzPryLHwkIgjAkE1ReJqMzZv3P1Bj1tGGTxOCFYuXBuHtmKzw7ZIVwmFsfFxuAIQHRen4c8ZJeYUjXtto0OQo+/edvHiRa6I+j6chFar5bK637jfZol+9NFH+TO7nzhz5gx/fvcOrnfz/QbMAnf/k5yczH9a9xkkyQ/MCVgu4G1m5ba34XZSbD7InAgG6RXRpKZjM5sjM1VxGc3x6fLYtProtKborJZdXpeOxl7IqlJEpTfHZCjOZjUevSre4pJ0Jl0ReUuVUqxoIOnoG6KVtlGnr9XF32pAO8ZnNoVeki3bc+Kgx8mYi+nRmU1Rt5QJWU3R6bJonG1zVEbL+ZwmFU236MnkQkVkhjI2UxGRWLHH63LUrebTGS3RmS2Vcn7CUw508txrGx2CHH33tuvXr3NFlJOTw0cZS3tv+/t9AH8q97G38Sd6T3nwwQe5k7mvvI0/uXsNdzLgbfc/7b2N//DuKfypgLcNCMDbzMod3oY7lOL6MJKmdAxVXEdP3l85en/tb5HKQwmaXSc1awKV42zF421LM8Ra3wtN42xE0w/X2SfpbGPVO44ppzk0jrWRbQupLFczS1xKvreuXnekwf6CdudJ9cYwzY9769COx27U+cfnj9lbOd6uzi5Rsy9Ws/2Eer5Hwxhb6VxnYQPBSJXUhgDRKNuadRGqwwnag1Gq9WGasfuk4/bWxGc3tula2wr7Q/B0CHL03dsyMzO5Irp58yYfZSxt3hYUFMRH3VOQiXLnc39628GDB/nwPaW2tpYrpfvH2+6f0QSXLVuGzge87f6nzdvy8/P5qHuKv78/dz7gbQMA8Daz0r6dFLdRcr0QSNxToFhGj7cTjN4vm+kmXhVUudSrYrGncOKBmon7RRlinecF5di9ogkHRcsDhMt9y9d4iWY41I1Dkoe8TcMscS796aB0mqtgdYhgkVflYi/JxIPiCfuKovNVsTnKb/YJf9xfu8S7eoVv9WJv0Sxn0S8HpbOcJU06plZBrwuo/W6ffKpTzSofwQavqsUewokOkp/2SeOy7o23FRYWckV09epVPspYwNsMBLytK8DbAOMAbwNMB3ibWbnD2yiG7SJA4l4IJFMmo2e5V9tE6w7FabYcVW0/0eJ/nQi6QS9zr80UaT2TmtaEyT1S1S5XdTuPqg/F6YJv0XYJKuuwklI1s9azwPuGyi9TfThetzlC5ZREhFyndx4RR+W2xGYpprvW2iVo9sdpt0RoNh9T+FwjA1OIVZ6SZuRtSnpTgHDzKcLxknbrUeXG4HqHc/qwbHpzSOO5DBkrbCzI0szlbW0zcJ8/f56PMhbwNgMBb+sK8DbAOMDbANMB3mZW7uyXgIRNT+AOpLgjQomcmuZQPMlBOMm+eqKd8JuNN+Y5VMx2Fs5xqMoRaQMv1k85UDHVvnrqoYrvNiRPc6ie6SSe7VhtE1ZaoWVWuudNc6iaZl85YW/JmG23ZrnWzDwsWGBfcLag5WxO84T9lVPthFMOib7blDZpX8Esl+rZzqKl7uVNBPI2cmtg9WQ7yTR70S82Jd9tuT7LUTLTRTzTsfJcDvI2tiaQfWFHK8GqxjkcwkTe1o8zOYK3GQh4W1eAtwHGAd4GmA7wNrPS/vk2PNAHw03rjvuRqvVUvliTJ9ahJb9G9/20jT6nrmVKtHkSbYuWkjTr82q0eTW6G8X1Y2dsTsquy61BKTUVcq2Sokukmpwaba5Y53Pq6oINDrlCTYFYV1itlqtJuYpAm9COGQLN5GW2obE381FQrC2TaJAzakiqvE6XI9Hl1OiOxGf8PHdzPruO0shaCPzwHdfllB2wxDze1tDQwBXR8ePH+ShjAW8zEPC2rgBvA4wDvA0wHeBtZqWdt4Ug8cGDfFDcICB8kyk3ZgdNMLHxcQlJ5/XcEGskHoCXZMfsUKs1++wONStVJMWww/LiwUDwkB7sa3ZuTnBgoJ4k8GC77FaC1pHonSb1esLJ2amsrIytQsMjf+Cs2TQoAUGTeYX5Xp4euJcEuyd7UmgdnR6eVgHJGj5JHGdab1Or1VwRhYSE8FHGAt5mIOBtXQHeBhgHeBtgOsDbzEr7+jZce4WHcEOv3DBtePw2NoTdqEnRHHokRK/TI8FC2qahGSXDKCmmhWS8g08pUZDCi5addV6Fg3QLwxRUSU+fTVFQTDPNtNB4K03oGK2CUTUxqpYz/v5KsZBRt9AtakajYkgdrdUxaiW7qGpKii+dCGdUSpSSUTUzKhWj15M4ez3u+drqbXiF/VlM5G3IGrki8vHx4aOMBbzNQMDbugK8DTAO8DbAdIC3mZU2b8PzXLHmgxfkaXjAXfysG/Y2pHA0SVHE1asXb91KQxpHUFTcrUarwMptIeVOJ0tX7I+xDc7bGVj6W0BFwFmBWMccOlG4JajC5liVdUj2evuLNsGlWwIrtgcVZpWpZDezbmz7LdfV/sreXSc3rrlod+CS7a5bttsy9lszSnm+n1f6gd0XbHdcsbFO+m3L8dXLbzjYX7c7mLJ3e4rtdnVJIcXOnoAfxWOr59jTxf/Rz2Iib0M88MADKBNXV1c+bCzgbQYC3tYV4G2AcYC3AaYDvM2sdOiXgFwIOxHyH+xCeFZR/A97G0FTpFwmCwzw0+u1BEV7JzV/vVsy6bDMLlHteKnpQHzj1MOyb62Fm4Mqy9TMIsfS73aJVhxpdElR2sc17jjR9L1NzTjr4ouZqrq4xJvjf6n3cRT7OtVFBEi93MX+3hXrFt2aMYGplxRutxIfthV5OoidD0rcHOXHwmo8faS+npIg51ur5+jTr1Gkjj0pPH8DOi3W2Sh2nnoTetuf/vQnlMmhQ4f4sLGAtxkIeFtXgLcBxgHeBpgO8Daz0t7bkKBxj5jhlkduYaWNfcAMT1BKkVRq6vWLSRd0BOl1oXmiQ8OvdrVzPZsnO8rneSuXB7VMd2vYFiJA3rbEuWKSY9NUx/pZHg1TneoWeytX+LbMcihPylJJE85nTBpfNu/XquWzC6b9UjhzavWaFVWLZuXOmczI64s2rc2Z8FPl0jmlC6cULpxWtnZRxbolpYtnlM74PvWnL+i0FPyAHD4rmvU23FCK3k3tbX/5y19QJjY2NnzYWMDbDAS8rSvA2wDjAG8DTAd4m1lp104aRjME2xkBixBXkYXnDkXaxtbCIUdCoJWIiBOZeXl+Fxrnuwnt4hXWpxrXBst2nVZ5XWy2i2nA44ComWUuhRuONtudVWw5Wr8mVH4oXuV+rnlHaPWFHKUo8dytJXPrAhwlTnsFmzdUbFwj83GSudpmLZ/JyGtvWa26MWl8vZeTxNuhcveW0t9W10a419jtqV4yI/nHr3Tp19meE/hM8Fnd9ja0mNDbnnnmGZTJ9u3b+bCxgLcZCHhbV4C3AcYB3gaYDvA2s3Lb2/B8CSTrbUiIkANhJUImh+vfsCfhdlK0RtJEc4sq4tgpW78rVoGFm4KKtwSWbAoo+S2obIt/3lfznKzsjku0zKFj+ZtQfHDJIvurP66L3BZUtjWoZHtQ7q1SVcXFi+tf/1fCsoWpm9elW625tWn1rd/WXlg6N2Tazwt/Huc0/dfUjWsyrNbd3LQ2fdO6W1arU7etTdu0LmvTmpu/rVcXFeJOEhQeD4Q9SdxxAv0UnK+Zztu42fS2bdvGh40FvM1AwNu6ArwNMA7wNsB0gLeZlTueb8Ouhh0NexDvQDjAgv0NeRtB6dFas0J5PPJCeHRKsaRRqqElWrpWQ9dp6NNnr23deTC7qESuJmUaqlbDHI+/snLToVolgxLINLRIKj8REuKybatGJKJktU0VpRU3ki+FBsV5uuddTqosLlLL65h6OSOXtS4oWMevNMgZnZa1SORqvFyyD7eZ3Nv6JRMEeJuBgLd1BXgbYBzgbYDpAG8zK7e9LSyMj+oazuDQ14xCAkcQ+fkFQUHBV69eaVEp2afgkFNRzc2K48ePXr50QafToHTllWXR8TG4MypFVFaWhwaH5Bfk6fV6gUBw6tSp8PDwCxcuCIVCFIP25fLnD9Y1bWk6JO50335Rrn/84x8oky1btvBhYwFvMxDwtq4AbwOMA7wNMB3gbWalt97G2RWnbkjUdFpdampqSHBQ1JnI0rIyrV7bTOuuSopsYvw3htnHC7OCcxN3xfjG1+a5Xz+zzNs6qiQl4kJkUEhQdHQ0Ujckfyi39tmiV/5gXdOWpkPiTvftF297/vnnUSabN2/mw8YC3mYg4G1dAd4GGAd4G2A6wNvMihH1bZxjoVcOZHAatVokEMbGxoaGh7rFHfnUYfnngRvfspv7ucuyrzxWf+a56kP35W/Zzf/QeclHhxfuivdpaFFwioZ2Z7O8vYLgD9Y1bWk6JO50337xtn/+858ok02bNvFhYwFvMxDwtq4AbwOMA7wNMB3gbWbFCG/rAK52Y9/QolA2J1Znf+W7YXnekS35J3blHbW6GboFveaEb8yK2Jx//Iej221uHtXctr47FJA7BHesbmhL0yFxp/v2i7e98MILKBMrKys+bCzgbQYC3tYV4G2AcYC3AaYDvM2s9Nbbbq+gf9ycoQgU5nuckgW6uncdFr3ks/hf/ote9Zn/osfcl3wXvOwz70WveS/5LHjVdca+tHANnn2BN7bbGd650g1dJe50337xtpdeegllsnHjRj5sLOBtBgLe1hXgbYBxgLcBpgO8zawY7234rXVQN/zCuRgp1jV+s27GczO/mB1h88rS78a6b5gfeeilRV9PDtj+ya5Zz//yXtiteB0ev4OHza9LFeuUrhJ3um+/eNvLL7+MMlm/fj0fNhbwNgMBb+sK8DbAOMDbANMB3mZW+uJtSNPY0dTwG4pRabW5+XlHjoWHnA5PKbiVJSies3yBsLlWqlMe8HHyOhpUIas5lRAVEB586fLl+vr61no6nBX32n6lG7pK3Om+/eJt//rXv1Am69at48PGAt5mIOBtXQHeBhgHeBtgOsDbzIoh3oZsiFu4UW7RglbQV41gGD3bTqrRqEtLyyOOHo87myCWSEma0mg1p06dLi4qpmjc9VShUoWEhUmldQRFoyOm37oVHBp2NeV6U7MCi9+dOXMraOnEwljM723//ve/USZr167lw8YC3mYg4G1dAd4GGAd4G2A6wNvMSo/ehjSKHY2XkTQRF4q0CUVUYiGRWEidL6TPoaWIik8X+YWdOehzMfJmy/kCfUK+PrGI8o+v3B+QnlSgL6nT1amJlGL1ieSmba5J53N1SYVMYhFzNodyP1ng6HfqeGLGuQI9yvACfqXRklSEMidyxFo9iVSMV8bWN4z5ve2VV15BmaxZs4YPGwt4m4GAt3UFeBtgHOBtgOkAbzMrhngbQeO53BNzG7/fUzxql2BjmGyNn2Cpa9W0/YJRO6rnOuRmihSbgiXf7SifZl+1MaJ2qUfFQifBT3sqx+wo8T5XfaNaMeVA9re7y1YG1G4IECx1q55mLxi9q2rK/rKbAv2hk2WjdlaO3yfYGiZd7l250KV6vK3g612C3RHVTVrsi6ywISW7bWVta7ejWDoEOfrF21577TWUyerVq/mwsYC3GQh4W1eAtwHGAd4GmA7wNrPSs7fhbgckSZHn8lvG7JOO2VO7+2TL3timXUeblrrXjrapW+gmyqkj14fIxlqLZziJbRJa9pxq2hah+MVO/MPucp/zkmtC1WT7kq9thWsiFHbxjbuOKlb5y360EUy1E6RW0+7nG76xrRt/SGIb3bI7unHHUcV0h9pv9tTtOl7bqMMT3aMTwBPes29tp9RhhaNDkKNfvO31119HmaxcuZIPGwt4m4GAt3UFeBtgHOBtgOkAbzMrhngbhqITc1umuygW+avWBSrmejWtCGneE6/YeEK9xluYV0taBdesC1esP65cf1yxxKdxbXjzzjjlxhCZ/zlhqrBliVvplmj1tljFsgD5ygDF+ohmu/iW5R7iG0La5VzdVE/F8iDl0gDFTM/m5cGKPdEtG09orI/VIG+jkIkhG6Pvsbe98cYbKJMVK1bwYWMBbzMQ8LauAG8DjAO8DTAd4G1mpWdvwz6Eu34m5jVNcSxfFlyxxrdylmP5HKf8344IrYJq1rsX5NfpNwdXLvMs2xRRttynctr+orX+1RsDBRv9yv0TKtKqmxfZp1uFV2wKL1/gUjLXpXhNkGBruGCZe0m6kPBOEE93LFkXUrHESzRlb/5S7/JNIVUbg8T7IyoVOtxHgT0F9M3m1jHm97Y333wTZbJ8+XI+bCzgbQYC3tYV4G2AcYC3AaYDvM2sGFDfhpSJRN4mURLXypTXyhTXS1su5si/n7bx6Lnc6yWqnEpVk44qFGpuFqtulLQk3qr9YsKapCzp9WLFjRJllUwjVxNpFS3JZc2ppc0b94ZuPhB6o7TlWknLzXJ1vYaukGmvlyhT0VKm+vynxdHXyq6VoB1VJTVqgutcis2Rou6pt/3nP/9BmaBbFB82FvA2AwFv6wrwNsA4wNsA0wHeZla69zasTBiSpkiCovUUraMZHcVotOTxk9EXrqToaFpLUwTN6ClGTzNamqlXaKz32je3qPR4E35ADdkXWkELShBz9kJkzFmSYnA+7GNraEEpkaKhL+/2PbbCOhk6CkqAa9hoVtbYR9z4Tq3cWZnd29566y2UydKlS/mwsYC3GQh4W1eAtwHGAd4GmA7wNrPSo7dRDE3iYdp07CxWNDfELk3RMll9UGiYjtCRSOeQyRGMimBaCLpZow+LiFKodGhdRSLJo3UUpSJptZ5RE0xaTknKtVtcYg2J5IymdQStVlMqLdOiOREc3FRXi4I4RqclkMthaUPmhwTuXnrb22+/jTJZvHgxHzYW8DYDAW/rCvA2wDjA2wDTAd5mVnpsJ6XYaRFadQ296vEcCSRNkMTpqMiysjIkV2odeTS5/lBknf2ZmsOnBcsPXD50QnzwdK39GcmF3Pqyeo17jMjudJ1jZM1W76zfPDPsTkvsImVuMRJRrb42KbHQ4UD+4f1F9nuPL1uYfcC22G5Puf0ewZkISqNGqsaaG35vkzLze9s777yDMlm0aBEfNhbwNgMBb+sK8DbAOMDbANMB3mZWDPE2rEMUt0bh1ksUgWeoohTNzcGBIWpVS7OO2hAq+9a6dpZH06GrxPYzmg3hmp8O1H+3W+SZKLkubJlysPLrPbLfooiDSdrfTmgW+bd8vaf210Pi3Eq9wMOlaP50taed5NAORaBz/eGDTQesBbN+LN1jRSua0GGQtDE0wT7fhs6DPRdW0NgAerlNu2DrdoZ5tj+87d1330WZLFy4kA8bC3ibgYC3dQV4G2Ac4G2A6QBvMys9elt7WIviV7AXUUzi+aSb6dcVOmpjsHyyU/0iT8nWE3WbQqu3hzesC2qe71zjmSi6JmyZaV85xaVp7RHZ1qPV20JrrULlqwKb5jsLc6t0Ag/XokVzC/dsKTlsk7V5Vb6NbbWjQ/nyGcU2m7G3YUdDrkjg+bTwQfHLHd7Gr7WeFQ+rmbiWrn+87b333kOZLFiwgA8bC3ibgYC3dQV4G2Ac4G2A6QBvMyu99bb2KzRNKVXNoeFBRQLx5uCalWFNdkn6zUeaNwQ37Y/UuZxTHTot9T1XkSJSzHMq3BVN2p0l1gfW/xahsI1VBVzRbfatzqvSlnq5lVmtUQS61B7aW7ZiudjWpsHbpfngtqw9W+lmJdsvAUHgvhGspeGX2/9xTOuCQKk7QD/33LPop+ujt33wwQcok/nz5/NhYwFvMxDwtq7ojbe15MX4eRuH37lSw26m4G2WgsHeZo7LBgHeNpAAbzMrffE2dh4FQlQj9vI7vj+iaqmXcKln9VIv8UqfmjFWiRN3Ja/1qjx9rTZHqtzqX7LEpfLThSeXOFcs8Zas9Bat9KrZ6i/wj0g+OG3K9aXzM5fMyl42J3fJrJyl87JWzM9eMbvM24lpUXBmhoSMZCgsZayisUdn+ylgUBCfEFsVZypv+/DDD1Emc+fO5cPGAt5mIOBtXdELb6OqHb98gDvzXvPgT8EqPpvuAW+zFAz1NrNcNgjwtoEEeJtZ6Zu34Q6fFEULBTWu3uHZpdUyDS3TknVa6tS5lNnLrKQKokVHq0mqUUMEn0hYZbVX2KRBWxs0ZGZJdfDJs7YHD6dcuqhvlJMNcqpeRuEVGV4aJaSyniZZM2MPx4LWuHX0PWd7KmCwy6FV9nR4b2MTsvH95G3/+9//UCZz5szhw8YC3mYg4G1dAd4GGAd4G2A6wNvMSt/aSVsXipbVySKOHL2WnKxsUepoqkWrikuISU2/idSLoqjGpnr/oIBaWa2O0NRIJXEx8cdPnigrL9Vr9Wz7J1dzhhWMC1B4QDc87C5exXH8G9e1FXdnxUO84Xgcif7xr9zC0q/e9tFHH6FMZs+ezYeNpVfeZobmioHgbX0rJj6TbrHYdlJV+uHv//7AUO7kh/7xlfFrdxiK9ZFsgs+le8DbLAWD20nNcdkgwNsGEuBtZqWPz7fhBb2zdV1qtfrqlUu+Qf55woo6UlWhkNiFeYj0TTJCczQpKjH7ZpWiPuJcpE94aHFxqQ59WVEuBDfALudb6E89dhX3IGVzRKu4Fyk+RFsMSZFanUYul0tr66RSmVRaK5GImpXNWoLEs3GxQ8zh/frV2z7++GOUyaxZs/iwsfTG28zxZ+8A8LY+FhOfS7dYcr8Eojpuy2dPjmBvwkP/8O/pXpkKfks/Ad5mKfSmX4LJLxsEeNtAArzNrPTZ29AayS4EWgiKKGgQfLh+yhjv9aP91n98cOGXzivHem18d8/MMf6b3t4798Nds4Ozz+lpPUnjCRhwiyeN/kDDvoXdDAsa64Gsw+FXvCBwrE6nu5mWdvrMqSNHwiIjo2Kj42Oi4+Ji4+Ljo8OPRYQcPRGfcF4gqKLw9A28t6GVfvG2Tz75BGUyc+ZMPmws4G0GAt7WFb30Noy29Njydx8bxt6Ehz3y3wXB+Qa3ZfUMeJul0Btvw5j0skGAtw0kwNvMSl+8DVeP4TUkbVxFGTImKldf81XAuplZQZOuui5M9Zp+3WNptv+0ZJdfLztOveb4+ZG1e9LDtHjGLIJr72TVD8FVqOFGVexwuEEUyxfnX2wqKvXG9RPHj0klNRWlZZ4ePvt27IsIPRoeHBrs7+3s7lohlhSWlLq4OLcom/H4wP3qbZ999hnKZPr06XzYWHrVTmqG5oqB0E7at2LiM+kWS/c2jDLHb/ZrDw/DP8XQ4X9+f9WJMi2/pY+At1kKvfU2jMkuGwR420ACvM2s9OBt2H1Y+Df0jmPwQ2b4Dc89SrDKhjWLZAiKztHX/M9t8Vcndk+Mtpt4cse3R34bc3LH2FO7xh3bOf7kjv95Ld6THq7Fz67hajGCy5KdwxTli2SOwJ0RWG9jq+DQgjZyR0hJTo6Pi5XL62prpGfjzqVfTctMz752OTnlYtKtzMzapuZKodjd3U2JvA0rIN4TLf3ibZ9//jnKZNq0aXzYWHrbL8HUzRUDpF+CiYtpIHgbgmq44Tj+hYe4Uhrx5GebY6oNfhapa8DbLAVjvA1hmssGAd42kABvMyvdexurPrjuCz/1j0SL9SckVXgWeORVFBYvPVtzhr0NxVN0kV72wf7Zjyz/+JVD01/c++vzuye84TL/Lzu+f99j8ZNrvvrn5h+dM6J1NKtnbL4I9IJyww+7tR6KPQ439gfyOR26M6MTUalUKckpIWGhISHBly5cTL6SnJSUeOnS5atXr8bHx/sFBp04E1VYVEhy/RnYLLC3PdsP3vbFF1+gTKZOncqHjaW33oYxZXPFAPE2jAmLaYB4G4aSXtj97dMjuZvwyKdH7U6S9PGeCd5mKRjpbZj+v2wQ4G0DCfA2s9KDtyFjYpBksQJFIhUiSBTBYLvinmpjNQu3d6KkBEOqVepLl5Ot7Q4d9vfKlVSMnTo+pTi7skU+f+2S4Pjj5zJSVltvDT51TCgW404E7I5Y+NhKPeR9+AE5iuuqQOgZUo+j2LPAEoYlkt2DUiibiwoKC/IKp0z51dffB8lHlaBST2gpSs+gBZ8MOkkdyofC3tYP8yV8+eWXKJMpU6bwYWMxxtswpmquGEDehjFRMQ0gb8MQVacWvMI3LA998MWlsX2qnARvsxT64G2Y/r1sEOBtAwnwNrPSo7dxQsW2XpIE+o8r4Nj55Tljw1VseDIDZYs6JS017EhYyrVUhUJFaInky9cuJCYRepIgKWFNTUBwsFKlVms0VZUVEeERkefiqkXI3vC+KBv8xi541no+Wzw2HBY3fBJsUylbg4Y34AQEWo5GHMvPz8NVfrgGEJ0O3hG94R0Z1v/6qb7tq6++QplMnjyZDxuLsd6GMElzxQDzNoQpimlAeRspPrv9y6daq06eGW1zqZb948hYwNsshT55W39fNgjwtoEEeJtZ6bFfAnYl3HBJqQmqQUM1aqgGNVmvJuo1pFxD1atpeYsuKz/fPfB49IX0CmmDXEPINWRRVY3fkdPSZo1KT2lIPNDu+ZSsqHPJ9SqiSUXJFfqU7DLfI7ExCUmyRkWjGuVD1mmIOg0l05Ao2KyilBrkZ1xLKT48nuqK0pGUlqS1FK1laA1DaZLOJZSXF6N1imyhKA1NabkFKx67E3rpF2/75ptvUCaTJk3iw8bSB2/D9HtzxcDzNkx/F9OA8TZKnnxw3D8evC21sX2XWvA2S8FobzPFZYMAbxtIgLeZlZ68jWY7D5BIgDIqW7YHizcHiRxOVVoH520PyP0tqGJToHSHT1ZozGW3yOptQaJdYRX7j5fs8s9ZcTB56eH0LUGCmLTagroWmyPlWwNFyw9d2hWUucuvYLdf2dbAmj0RwtNX82x9z1sFVG8LEdmdLN3tn7vTv2ibv2BTQM2Ri3VqPZZGtpupntSUKKuDNdUOmmp7jcBBW+mgEzjfPL1QmLZDW+Woq3LUVh3WCJxVVa6a2iiGlLNDwOFd+2Ve+W+//RZlMnHiRD5sLH30Nky/NlcMTG/D9GcxDQxvU2R6Tfv3H7ib77DH3l1xrLRfGpHB2ywF47zNRJcNArxtIAHeZlZ69Db8TBtuFqXP57eMsa39ykZ+IJF2vU7uTaDm+6u/3N2w2FWaU0dvDJV9u7tmtqfC+QZtf4G0jqF+tlOM2in1ulB7Tdgy6WDlV9YNWyJJ91TKNoFaHa79Zk/deHvJNRHtkSj7wkb+s2PL4Su0yxVyXxw51bHpK+vGncdkjTr2WTXcUKvS1kVVnR0nivuw5uz/qqPeFEa9VR35Zs3Zj4Qx79fE/kcc/WpN7HvCyA+E0a9Ir89m9IVI2Vq9rR/q20aNGoUymTBhAh82lj57Wz83VwxUb+vfYrJ8b9MUHVn81qPsg39Dhj38+hz/3BZ+S58Bb7MUeu9tJrxsEOBtAwnwNrPSYzspUh+0EBTyNuVEe9mvTvLFHvVznGULPeSrQxrnezWvdhfk1lIbQqWzPWXzPGqX+9fPdpMu9G5c5q+c71znmSi6KVTOcyyZ59e0IlC+yF0837N+rp9seWDDXGfRzWra/Zx8/OGmqc71891lM5xFCzxlq/wb5noqrI9JmrC3Ubi6jW7R1R6rT5lKlK/QFy/S5E/V5k7XFUzVlc7RFs/W5U/Q5IzVFc3SFS9Sp34quzGN1hfiijr8XB7VL+OAfPfddyiTX375hQ8bS5+8zQTNFQPR2/q/mCzb2whBtNUnT/CDpPzuxQnOqY19fTKpPeBtlkLvvM3Elw0CvG0gAd5mVnp+vg33HMW9ABLzmue61+2M1u09o1vn17jrmNLzss4uTr/Zs6SwltgcJNp2st7lqtYmUrE+qN4mSuN8TnnglMznXOXNasUyt1ynZJ17sm7rEdmW8EabWJXvFd1GH2G6gHI7K5vr3XDwrHbbUdVyv9otp5ock1oOxuv2Hq1SaBkKfaUp5G4tWllkZfzouvMfSs++V3v2LVn8u7UJ71VGvV8d92FtwrvSs/9F8bL4/9XGvylNXUTry3BtGx49hOqX+rbRo0ejTMaPH8+HjcV4bzNNc8WA8zaTFJPlehslvbjnu2f4escH/j7Gtu9Pk3cEvM1SMNzbzHDZIMDbBhLgbWbFkH4JXJ1bannLal/Rcm/RKu+aRS6lH8w9ssa7epWvxPZYVVkD6Rxbt8areoW3cKVH+WeLjy/3qlrlW7PeuzwqVZonVW0JqlzmW7PCq2rCjqsTtl5a61uz2lv0W4iwQEKeuSZf6S1c4VWzylvy+eLji13KV3uLV/mJfRKlLTrcTMuOG6cm1MX1lUGNFU5Nla5NFS7NeMXRadMHN6JWNlU4N1U4NlU6NVe4NJW7KyVRNCln69vQf6Zfnm/7/vvvUSY///wzHzYW47zNdM0VA8rbTFZMluptlMTn+4fZmy9m6AN/evwJg3lm1lHDxr8Db7MUDPU2s1w2CPC2gQR4m1kxyNvQf5rWUbRCTykIGi2ieuXClVvT88ub9FQLQekpWk2irWQzQQlqmydMXlAjb0abmglaS9A6klQQVCNBNxGUvVugk1cE2gXFKNhpSrUkieIb9ZRST/0wcU5BlbBRj7LCGbJNpEja2EmxaB1NK2m6mUIL1UTRjTTd5OW4PzP1Ioqk6UYGvVJN6JWhVWxfCnTqeAiRfvG2sWPHokx+/PFHPmwsvfc20zZXDBhvM2kxWay3mWGGW/A2i8FgbzPHZYMAbxtIgLeZlR69rT2svyGdotA3LTMz8+LFS3isNHaeAz07UAdyLbVWGxwaodJoCXZINZwaz/SOEqCtaK+MlJRkPA4czgWP2EZSyOt0JEEyev2RwIBGeR1OTujxlFe4bwH7eB0WOK7uDS/s4XDrbeL5pPLyClbv8F0aJ7qL5/rD23744QeUybhx4/iwsfTO20zfXDEgvM3kxWSx3lbj88uzTxnHP+YcB28bWBjsbea4bBDgbQMJ8DazYpy3oVeFQuHvH6DVaVFQR9IlcvKWiMgQETcFatuAlGtV2gyRPkOsFzeTjVoyS6K/KSYyxMTxyxVBZ7Nv1OhvCYl8EdGipkhRtS4rXZN1S5uVmrB/d0PyRW3WDV1Wqr6ynJ3FFD9gh+wNHxsdCRkjrUff8yYd1aijzpxLzSypbtDiseXYUzOVtyFjQ5kge+PDxtIbbzNHc8UA8LY+FhOfS7dYdr8EEwPeZin0rl+C6QFvG0iAt5mV3nob94q+acihLly4kJGZgYLNOmpHSNUv1gXzDhdvO1Kx3DF9yeGiiXuLf7LOC7xQmS5SzLTL/tG6eIOfeKNX0XLH3Dn2JeP3FM+xyy+oUpf7eKfMnZ1tvfP8msXXbbemWG24vnr5tdm/Zu3bTSuU7ASl6KB6foorPImCTtai23e00sq/ct7+ayvd8jf4CiKvS/BQJSbzth9//BFlMnbsWD5sLL3yNjM0VwwEb+tbMfG5dAt4WzeAt1kK4G2A6QBvMyu99Tausg3XfFGUXqcODPCtr5c36iirEPlo65oZzpL98QrbM01bjzeOPygeZV3llSi9JlRNtqv6drdkY1jzoYTmncebVvnX/mBdPclOkCXQCz1d8qdPFO3bKnI9VHFoT/WhQyIHu7xpP5Xt+Y1pbkJHwm2leJZU5GxcqykhbCZmOUl+dW7YfV6/PET77a5697P1hCm97eeff0aZjBkzhg8bS6+8zQzNFQPB2/pWTHwu3WK5/RICp7/y4osvvvTOurP9NVjqXYC3WQqG90sww2WDAG8bSIC3mRUj6ttaV2iGJrOzs2JiYmQq7ebAuvk+6pXBLcv8NAt9NavD1dYx6nUh9d7napC3zXSsWByiXn1ENc9HsTRYtfZYy744zVJPCfI2gYeLePks0fblDVtXV86ZIl23vMF2R/3GxUV7rBhlPX4oDnsbO489ljY8OamwmZzpJB17QDbTo2aqY8OoXfVuZ+Um9baJEyeiTEaNGsWHjaX3/RJMy4Dpl2BSLL1fwrDHpp3Q8HH9DnibpdDbfgkmvWwQ4G0DCfA2s9IHb2Or30gq/uzZuEs3dgYLFrsJrCIqlnhVzHet3BhUvcW/eEtAWeC5ylShcp5DzqoQ4YbQyjmHi5Z4Vq0LE9ocF6z2KMkT6Aq9vK7Nn55pY5W7blnWrGm5q1fk79hUsmlp5v6tVHMTHoUNP9vGWRtyNlJPUwKFfplH5SQ70debrv68p+DX/YLApBp2ZgVTedu0adNQJl988QUfNhbwNgMBb+sK8DbAOMDbANMB3mZW+uJt3JTvWp0uKi7R2i321DXRyTThyTTRqZvSyFTxCuvgT8ZvKKhurFVqz6aLTqbWHApNGTPHBiU7fbMm8oY44ZY0s7j6+48+OHNgb0nU8bIzxwRnTpadOVF25nj5qeO1N1NpnR4fB/dLQEek2IHcsMPpSFrazIibmVnLN4VHXxU1Mo1qHG86b5s9ezbK5KOPPuLDxtK7fgmmb64YEP0STF5M4G3dAN5mKYC3AaYDvM2sGO9t6B/bbImMSqcjUm5mh0ZE5paUaihSR9M6mqlrUBw5eiYuIUGt1SL/QrJ18ep138CjaoLR0HSDQnHxwpUjEUdzcrP1KjWyP1qnofVaSq+l9Rpap2MItBNacMcEfDx8MPxsHcFQJB7UDQWY02ciC4qL2TFB2CQm87aFCxeiTN59910+bCzG9Esw5a/PAdQvwYTFBN7WDeBtlgJ4G2A6wNvMSl+8DQ/RweoUCiJzEopEp08djzpzWlBVpdXqSDwymy7hYsLZxASlRq2jyZjE+NLqKi1JFJQVB4aHpd64plWruZE+2P4OWMvwG9YynCfOlfc2guEHg0MvOGM8IBzFJJy/VFJWiVawPbJ7sSeHzw/9+mHX+sfbli9fjjJ58803+bCxgLcZCHhbV4C3AcYB3gaYDvA2s2K0t2E74t7xG9t3gCZIUieorDh18lRIaPiZ5AvWlwO3pwSNdV274NjBHdfCfvK22njee+1Zz/9Zz14b73ZTUqRnbYy1NJwBtkBO2DCsd+EFocddE7DXYcFrVBGhl+vcEqUbPdL2Hi3zPC+7UlSvx3MqkNzJsC8Eg3uh0s892w/etnbtWpTJK6+8woeNBbzNQMDbusIYb3t0cng9+qL3BpXWwHvpfe5tQqHQ19fXx8dHIBDwUV2Afrdcv37dw8Pj6NGjKlUP3bHRF/nUqVPu7u6XLl1if1XdA3p72F57mykvGwR420ACvM2soO8a9+Uxytvw7w5uYQOsfrG1YgpVS+C1uJd8l42J3v2/gM1fRGz6+vim0ae3fRC6+p2g9R8e2fiaz9zgvHMaXE+HFnbYXPZBNs7h2Co47F/cwlodW/mG4ilK1EzNdJT+bC9eFyab5aH4ak+tc4JUi7biVCgxzoodOgR727P94W2bNm1Cmbzwwgt82FjA2wwEvK0rjPA2Y7D8ea7QrwErK6vhw4dzP9CwYcNWrVqF/urjN9+JTCb75JNPuJSIRx55pJvP+vLly3/5y1/4pEOG/Oc//+lRCk3BrUJm1QGmRsYHe6S33mYMMM/VYAW8zawY7W3sG7Yo7EtcBJYv3tv0NHG9vvTNI1ZLM4KWp0UsTfebm3x4XorLkuzAWTcDFtzy+yRiTUhugg43buKFrUpjrQuvEbjlk6vCY6M5e2Or40iaIthxQGonOtRvjGhZ5KP+xlruliAjsNahJKy5sf6HM6D7Z37S7du3o0z+/ve/82FjGbTedjKRuZrJrxvC4PS2S+lMXhm/3hXgbQbi6+vL/Sjtsbe35zffCTcBcXtGjhxZVFTEb26HXC5/+OGH+UStIHVjf0+Zm28WM3/8iNngwNQ18DHdAN4GmA7wNrPSW2+7DetprLahf9i5aPyYGYGrxXDHATK9vvS/HguePTDluYNT/+0+928HJ/zLbc4/Dk195sCUl11m/n3bON+rp3V4XlOuHo3LlJU+bGdowapG4pHb2GOw/9EW5ISiZt1SF8GEvcIx2wt/tC6fsLfa/5yIwO2kerbOD6dljRKfU7+0k1pbW6NMnnzyST5sLEZ5mwmbK8zmbaJa5vcf4tuMgfZmhLeZrpjM5m219cwjnzCTN3Vnb0Z429ARf/7nm0gtesN7q6MNs+D71tveeust/JndyXPPPcdvbkdFRQW/+U7WrFnDp2gHV/53c/nyZT6FGbmUxox4By9/+pj5zYWpb+LjO6W33mbSywYB3jaQAG8zK+juxX15eu1tbNdOPPc79in0xWO1CrdPIufS0bS+XtsSfOvsC6M/OnDCPyzz/Ms/fxpZlOaScOzlUe8duXV+yc4N81cuv5JyXafT4/2wZaFckHvpWHVjK81wqwZeZQfdZSNxCkqhJ9MqlCmlyl9XHnI6djO5RFlep0bKxvYz1eP+pmgHBi8oj+eefRb9dH30tv3796NMHnvsMT5sLMZ4mzEY+mevOdtJV+7n7zGG2Fvvvc0YUDHxuXSLOdtJNx7mS6krezPm+TYT1th26W0lAmbsSubH1czPa5kJ65lfNzJTNjHTtjAztzKztzPzdjILdjOL9zBLbZkV+3B731o7Zr09Y3WY2eLMbHVhdrgzuzwYa2/GxofZ588cCGAOBTMOIYzTEcYlnHE/xngeZ3xO8cfqlD/96U/4M7sLgiD4FK0kJSXx2+6k0/mIV65cyW++Ez8/Pz6Fefl8Pn/BoOWxz5jdnkyTkt/UAeiXAJgO8Daz0ltva1vB9W1owdaGh8PlvAq5EgqRDNmkUEZHx/hHhIjlUh1BVIuqDxy2UxOEmtRlFWS6+rlJ5RK1TptxKyvQ1z/qTFRleRWuuqMpHU0id2Ozxr7GHoxbKGyErCfiaj2K0dO0T0BAWnYWEj38xceHptmn4PBjba17kc891w/e5uDggDL5wx/+wIeNZTB7G1fl1naP6d7eBq231dYzD398u5TutjdL8bbU3Ns/hemWbnjzzTfxZ3YnzzzzDL+5HWVlZfzmO1mxYgWfoh2HDh3iN98Jkj8+xV28NoF5YyLz38nM21OY96YzH8xgPprNfDIHK9eXC5ivFzOjljKjl2PNHcdq7i+s5qKPHmnuDFZz57Kau4jV3OV3ai6y4Q5l8vgXzF4/RnnXLwDwNsB0gLeZFSPq29AKrh6jGfSHq4ZgWkhaRdJqklFRDHpVEnR6dmFQyJFb2XkKjU5D0RqSvpGeeTElRUNRaF1HUhUigW/w0TKhVENSzSpNaWV1ZOzZ4LAzGVmFzYoWLYXyZDQUoyEZNYWzRetath2Uogg9RbSQpI5gdAR99tyVovJyFUWqSEZLYqHDtX64kRSrHdeO+2x/eJurqyvKZOTIkXzYWIzxNlM2V3TjbUmp+KG0/l2+X9HxHtOVvfXe24wsJj6XbunG20oETFp+Py8zt3Uspfb2ZineVlyF/QNZCHIRZCTIS5CdIEf5aiH2lU/nYnf5cCb2mHemYqdBZoP85t8/My//xLzwA/P8WObZ0cwz3zFPfcM8+TV2kT9/jhuRkdQi+3/wfWbku7hkusHLywt/Zneyb98+fvOdjBkzhk/RyvDhw3Nzc/nN7airq/vjH//IJ2rl1Vdf7arHA6L9R2m25a9fM0F3Xt3gbYDpAG8zK0Z7GzKjK3mN+07XHYiSHY6qOXRGZhsp2Rtdax0h3uZ4Nl/Y6H9ecvBMrV2k2CGqboVzxvaQqoNnGhyjhHk1ygyBYoNH7tJDN52ja+wia1AO+yPrrXxLl+2L9gyKcoxI2xtZZx9V6xgpPhBVaxspO3hGduCMNLlEqaPpDIHqYKTU/pTcIUqy2j17Z1jl/tN1+yLr/S7UydXsI3bs03UkbjDFtYH94m3e3t5cKXE/vtFYUL+Ed6d1vBOYbkH2hnylPZbSLwEZSYefxXQLZ2+W4m1moPvvIvqqbty4sX1/0uXLl3elCMjGOvQnPXHiBL/tLi5dutS+P+mbb75ZUVHBb+uMDQ64emz1QdwivGwvbh1esBu3FM/ejluNp23BdWa/bsStyUhzf2Q1dwyrueh70ZXmvvkr1txXxjPPf9/xOkEL8t3DoYzqzg8dvA0wHeBtZqW33oZr2tBXm6b1JB2QJP9mT91kj6Z98Xrvi81rIprHO8q/ta61O1lb2MAs9qz6ardkZYTG6ZLaNr55RYhy1J668XsrLxQ3xeU0jdlT9ZOdbG8s4Xi5cfMZ5Uy3pm/2SNb6i8rq9Rt8y77aU7fAX+l4Qbc/sXFdmHKcrWy0TW3YtWY1xcRkK8bskYyxltldpA8mNu861TzPteFr64bFnmJRM261Rf/xI3a43RRXCvZLf9LAwECulPR6PR9lFOBtdy+Pf4GfYWq+86Ec8LYOy8h38Q2+oAK8rXfU1NQEBwejr5tIJOKjugD95khPT/fz8zt16pRareZju0Cn00VHR6PESIb6+LdcH0Hm1/46+cf3jNtRRtPZjG/gbYDpAG8zK0Z4G378DHkbxfhfqJ/s2DDHTbIppGZXiMAqtPa3I7KF7k0Hj0sKGpgV3hUL/ZpW+dXuO1lnFVS5Jbx2Q2j9HPuKCyVN8dnyeZ6Vc9yF+043bQ0VbAoWbwutXeIr3+Arrmiit4TX/OrctNSr5rdwyfqQiu0h9euD6uc51x272qCnmdhs5Y/2spmOsh1hsi3Bws1Bws3Btcv9mtf4CGoV2Nj4h+DQqeI/yOl+6ZeACocrJVRcfJRRWJC3NSlx97T+XUYvu+Me06mxcViKt5UJmYzCfl5m3dlO2mZsHOBtQBv55Xx7MVpe+hF31NB1/XcleBtgOsDbzIoR7aRYiVhv87tYu8Svcc8Z5YYw5YoA+baTCqfz6l0nNPbHxUVyep1v1e5Y1d4YxfaIptX+0v1RatdE7WqPyqSSxrjs2tVB5ftiWlwvqNYE1m0Ja3aKU++LUW3yFZU30b+FC5cFthyIbVkX1rQ0oHbXafX+OM2Oow0nk+sIionPVP7qLLOJVu06plzu17A2ogmtO5zTbg6slDZzJ8fOiMVNWkr1j7cdP36cK6WGBgMGSuoaC/K2fict/7aLdGNsHJbibf2OVH67X0IHY+PohbcxTVc9Nq1fv37D9rCcjn0o+w3wtnvIZLZTwqu/MMHR+Gnj7jHU28xy2SDA2wYS4G1mpbfexr1y3nY6tW6FV81Kz9pVXpI5B/JGb0xc7lu90rcmIEFc2UjviRAs9a1e5l09fW/6mA1Ja32lq7wlVr4V16sUF4sbV/hUrPASr/ISfrkiatHhvNU+wlW+wkMnxAIl7RItXOEpXeYlnetY/OWyM6v96lb4Stb4VMVnNuhpOrlQucJHtNRHvNy75vstV2ccKkRHXOUj3ndMIFPih4PxICDsGXIn2i/zJURGRnKlJJVK+SijGMzeNm61QcbGMWi9bYNDl8bG0RtvMxhSKSnOuJGaXS7X8TEGA952r8gqxg+6RZxluu4RcQcGe5vB9OGyQYC3DSTA28yKEfVt3ApFMyqSadAxjVqmUc9kFgt/mblUIFc06RmVntHRTLOexlt1TPip88vX7VQQTJOOUWgZPcHoSbyOlgY1MXXWsgvXM5t0tELHKHVIBwmVnkJ7oTyT03N/nDinQUOilM063L0UHVdHomxpGUGjA81ftvFk/JUmLaPUMi16PDII7kSKeyYweNxdBv0+oPrl+bb4+HiulKqrq/kooxi03paWzzzxpUHGxjE4vU0qx10muzI2jl56G1V/LWDvHmtr6z12x7I7aeNX5kb8NuE/j48cyv6AQ0c++vLo9eH5vXgYALztXiGqRb8P+XVD6I23mfyyQYC3DSTA28yK0d6G67NaI0ikUxR59NixKqGQG8mNYqdBQP6kp5nCioqzFy6irybJ1oQRKAFFkniAXUZHUscj4yTyepyYorghd/GsVwRBkYRUKo04dhQnJdgFraDtJNqkIyjcZzQp4Wx5aQmKYUgUxLuxI/fiujZ2jF483UK/eFvbyJxlZT3NQ9QtvfE2czRXmM3bUrIMNTYOw73NDMVkNm+7fKs7Y+Ponbdprq7/N765Dv3jB9bpHbWWEsdu+ODPw7h7722GDv/L13YZhjoweJul0AtvM/1lgwBvG0iAt5kVI9pJ262wrZJY3QhkaHl5uUmJiUjWkFxpSFrUqC2T68rrNZeyyoJjU8vrteVyXUW9tlFHNmoIFCxrQAnUHhGXbpXKKmU4sahJp9eTGklNS0WpsqpIlHkzyt21paIcBVuqKvSN9ZSqWVldpqgsa6lAS/mVsODi5IuKylIFSl9Zrq4RItvDHSeQuSHwCtUv7aRXrlzhSqmgoICPMopeeZvBGN9cYc520l7RC28zGKOLyZztpD3SK29rPDb1iWEo+YgXlid1rAzRZh/68jG8Ed1yH/jbR9M37t6zecZ7T4zA9+Ohv//QNtcwCwZvsxQM9zYzXDYI8LaBBHibWemLt+H6NrZiC3kbyVAtalXEkbDGunqGZMTN9M7gsoVOFbuPCA8eLdjsk7bJt3yRU8VK98Jr5U2XiuoXO5UscS8/HCna4XfjN/+C9W5oa/neI9VN9aosB4cc6z0Fbi6Xdm1Od9l/3W5P5v6911YsrIk+rcnPvbzNKvWA9fXdv12z3hW/ae3l/b+VBPtcOnjo5r49GXu3UnotiWv8WJnE+kb2i7chreFKKTs7m48yit56m6mbKwaIt5m4mCzW27TxC5/Gw5eN+PeGax1cVXV929u/Z8tj2KMfbDpfyz8i1XJj2zu/w9Ej/r2x4y6dA95mKRjsbea4bBDgbQMJ8Daz0jdvw+rGDpOGm0QJmioqyI+OjEIRVc30QjfhN9aSBT5NdglK65imVaGNo3dLxttWJZUqonIav98jHH2g0SpC5XSpyep4/WyXujG7Jat9JQ11yoKtm0sXzq3Zay3au73KeoPI43DF/j1Z47+rCw8i09OzViwSHthZs3erwHZHvcv+Wj+7ctvNIj/Pqm0bitYsonVqVtjYeRNwq2z/eFtGRgZXSmlpaXyUUfTS20zeXDEwvM3UxWSx3lbnOepBlHjoH8aHKPgoDl227f/+gItk6PCnfw0RtLttUjVu3z6Ey/KBr11rDHneHbzNUjDY28xx2SDA2wYS4G1mpa/tpFiQUJA1OJrW6XSnz5zKLcirbKJX+QpXhGnWRrQs9dMsDWrZHqlzuEQucROeL22KyZbP8RAvCVaviyCW+DWuPaLZm6DbFaVb7y9ukLUUbN+i2LSiZseahl0bRcvn1m+2anE8IFw5W3IsgMxIS/7lR8n6ZeKtq1WHrAWrF8ttNjfs3dK4eVnuz18VrVjCaDU0ReB6NnxS2Nue6w9vy8vL40opJSWFjzKK3nmb6ZsrBoS3mbyYLNXbKKn7N7jLxtCHJ4a3Lxii8PBXj7KFMvzpaUcld95mNZGz/4K3jfxgb5Eht1PwNkvBUG8zy2WDAG8bSIC3mZW+edsdoEiKohQKRXBw8M0SyVrvouU+wrV+FfNdyue7lm8Jqd4RWrbscPqFkvqELNlsPH6HYLWfYLZDwUr38m2hwi1h1Zt9y5G3pe/aeXPx3PTfVmWsXZA+b1r+2g3Zv23KWjk7z9/phrfnmXHj0hfMyv5tbc7G1akL5txavSR389rCNQtSfvk6c80KRoe8Df3DzbestxH94m0lJSVcKV28eJGPMopeeZsZmisGgreZvpgstr5NEzX3SfZm+tqWm22Cqs099CV3+x321wnB1Xfefhmm3v8HXGRDH/zWXdpxW2eAt1kKBte3meOyQYC3DSTA28xKv3sbQiqVuvidsI/IDLwg9b9Q63epzu+iPPCi1Dbo+v/GrL6QVlRY0xJ4qc73otT/smTUPOeD4XmBlyQBSZLY9HqlosVl2aL9P4wuC/SqCvCs9veqDPDNdTp4asnsw8sXrZn8a7avV1Wgd5W/F7t4Cvw9qgI9BEHu1YHukqgztF7PNtui80O/PfqtnbSqqoorpYSEBD7KKHrlbWZorhgI3mb6YrJYb2PkYRP/jO+1w54c7ZStQhEtBcGzXsY/Oo772b/yrhtm08kZ7D17xMvrkg16UAm8zVIwvF+CGS4bBHjbQAK8zaz0r7chOHVrUiiPnY6OOHW6vrlZT1Fo0dCMlmAuXEj28/YrqSjVUqSWppV6YsNWm4zcAi1N6mlGoVFHRUeHB4dIqwS0Xtskr7uRknw8xC86wr8yJ4vS6BiSpAkVpVfTeg2j11J6DV7R6RhCQ5MtFKFBzkbh/+j00P2YovppHBCxWMyVUnR0NB9lFL3xNnM0VwwAbzNDMVmutzGa61v/y1YtDh32uydffv3lJ7ib75ChI5+feUx0l7ISBXafPYxTjHh57dXO5ri8G/A2S8FwbzPDZYMAbxtIgLeZlX73NgTyNvSq1+vLy8uCQ0ISky4IJSIdQ5E0Q1JUfZMs5MSRC8lXW7Q6LUmeiImsqZdraEpUJ/UPCUjPuiWvl+dkZZ08fiIi4ljazVv1imYtoUWZstVnKGs8Vhs6BDfCLh7qg+saQdIUDmFnwyeBW0rxaTzbH/NcyWQyrpROnjzJRxlFr+rbzNBcMRDq20xfTBbsbagkCvynvMjfdnmGPvDcz65ZuB7lThTXd330CC60YY9+515u4L0UvM1S6IW3mf6yQYC3DSTA28yKKbyNg613o5VKJZKDE6dOHD9xPCsnRyivu1KdY5d+ZorPjuXHDrvkRM8Ntba5cXxv2smfnNbsSPI7mBDscTTg6tVLQmG1XqtnJ63CC8oQd4HAJsbWqLEVangVV6rhaPxMG29yeCuK4MaW65f5SZubm7lSCg8P56OMolfeZobmioHgbaYvJov2NgTVmB2xZ+HPX7z3nzf+++F3M7b4X6+9+0ZJ1SZZT/ry888+++zzr+f7FhrSX4MFvM1S6JW3IUx62SDA2wYS4G1mpR+9rT24ZowmcK9ObG8ESZBiofjixUtBUcdmu21/w3Xhv51m/9Nu6n+cpr/tPOtVl9n/ODT5hUNTXnGY9pX3yqzGKrZiDc+QwCkYC/IxtsKNXUWRXHUat5mtdcMLweCR5PDZcUkY+rnn+sHbNBoNV0rBwcF8lFH0zttM31wxILzN5MVk6d5mUsDbLIXeepupAW8bSIC3mRVTeRuDdI1kkEPhai+S1S28l5LWOd84M+Wa64bqU1vEMb9VHNtaGr62JGxNVcSK0ojVFeHfHLPKaBawfkai3XC1Ga5u40yNoHgtQyGcL1rDd2X0v7XSDc9zhROzp8h5W3/Ut6HfLFwp+fr68lFG0UtvM3lzxcDwNlMX02DyNuWZVR++g/jfuhjDBrcDb7MUTOltvb5sEOBtAwnwNrNiIm9DKdgaMNx2id5IblA1mm6h9R7Jp16znfHmgdkfe698/eCM95wW/Ndh9n9d5r7ltOA1m+nfea7JbRSRFH6Cja9Xw3OcYhVjNQwfmT06rorjvY2diRRv4aIQOAneiNb6ZRwQxPDheLAJd3d3PmwUvfY2hCmbKwaKtyFMWEyDydsafb/HvXOHPPhT8N3O2xngbZaCKb2t15cNArxtIAHeZlb65G2sTLE+xS6t4ACSLpJVNaxfJIHfcI1Yk0YTfin23z9+uCXCZW2E/dtLx/nln1971OGNRWNcb0V+Mf+XGbtXF9SUExTuiMA2s6Ls8Ez0XM44bzYfhpuenovBNXDI29izQh7HxeAFR/SXtz300EMoH3TX5MNGYYy3mZIB5G0mBLytG8DbLAXwNsB0gLeZlb56G/YkrEust7H+hCvZWJVCaxTBrpAEQ6KEBfn5IcEh0Qnx+WUFKp0uMDQs+nyChiFFddJ9jg5FZUWS+robaTdDjgRHx51paVHixk/cVsrqGQebHfY23AyLN+BVdGR8HuyJ4PPAp9bGc/0xDgjiT3/6E8qnjyZham/rbXPFIPW2dsXEx3QLeFs3gLdZCuBtgOkAbzMrRnsbUiT2+TM8oRSNa78YPYVryTQ0raVpNW4Sxa9aEsmKPis33y8kIu58YpNaraZJHU1dTr11NvGSjs1CT9G1DU0+gRFqPaWlqBaSLCgv8wmKiD17USqT40xoWkPROppG6dErSoOCBK5uQ7vqKPxMGz6xttNrT3952xNPPIHysba25sNGYWpv6+2vz0Hqbe2KiY/pFvC2bgBvsxTA2wDTAd5mVoz3Ngzu8sk9WUbQzLGURvuoRofYJse4RrvIxkNRzYeiFCjGKehSUOQ1m9BC++hm1zilc3STfWTj/P0pNhFir1hxjYq5mKtC6Rc5pNuGVx+KarJDO0a2HDjR4ByRFRARd/BY2aHoRufYJqeYRrQjSnAoRmkXWVdej5tfcY8E3BRrcm/75z//ifKxsrLiw0YB3mYg4G1dAd4GGAd4G2A6wNvMivHtpGiVbRkl8DujoRmrEOmoXVXLg2X7Yhoc4uo3hzZO2Ccatas87HJtVp12wt6c72wrtp9QuCcqdp1uWO5dN9a6/NcDmcUKxuds3Te7Kye4SJ0T1PbnGraEN0y1k47eVW13pk6oJGccqBi1R7A+rNE1Sbn/TMNKP/n3NsLvd1XcFLBzWuEeDDQe4M3E3obuTCifxYsX82GjAG8zEPC2rgBvA4wDvA0wHeBtZqWPz7dhf8OVXYSGYaxCm8faCCfbC1b6i5d5Vy31Ek0/JBi3p/zYdfmtOt2vB/PH7q9Y6CbeECBc7FG9yKlmwgHhFLv8QgXjfU72w96an/eVWfkL13hXLHOvmmFf/aONwC5KLtZQ0w9LxuwVT3cUrQ4UL3WvWuQq/nWfYPzuygwBoUfnwU6dQLINpSb1ts8++wzlM3XqVD5sFOBtBgLe1hXgbYBxgLcBpgO8zaz0tV8CXvQ0o9Ew1OaQxi0n1dYx1Ppj1PqTlM1ZMiiTXhckO3ZdllanW+Re6XyD3J9A2SSQW0/pnS5SbteIxa6VBU2M1zmZ1clmn2sohkKbdscRPhn0lhMth6LkIjU101GyI5bYe55ae5zacIral0B5XKPW+wkzBRotxT5fR7Lq2O702tNf3jZu3DiUz9ixY/mwUYC3GQh4W1eAtwHGAd4GmA7wNrPSF2/DzoZXkTcRyNsOnhQu8yhY5Vm63K1qivWNqbsSt/gXr3Evik2ry5NrV7tlrfEpXudVOGVX0pTdlzf4llr5F2/0yC5vZo5clixxL7byKVjjVThqbdQy95wN/oVrvEt8z0rlanKTd+UKj5J1XgVzDqaN3Zy4zqdsvW/JWrfMPHGLDh0c9ynF/9vOqgP95W3Tp09H+Xz66ad82CjA2wwEvK0reuFtlMjl24cf6CUjh7PDF4O3DTgM9TazXDYI8LaBBHibWemTt7HWxqoTg755okZdSZ22UKYtlulDIy+Nn7m6WKopq9U2tOgVeqpCpimt05XXaTfbuFu7hBXXaUvrNJV16haCrlPqS2q1JTJddlXT6AmLLmdVlMi0aMfaRkJP0pUynG2pTBN4+vzslTuLa1SltZryWnWLHs8jzzaU4rHc2s6qA/3lbUuXLkX5vPnmm3zYKMDbDAS8rSt6423Vjl8+wJ15rwFvG3AY7G3muGwQ4G0DCfA2s9L3dlL2hVvHcxzgCapoplnZ4hcQLG9qwn09cQzrVuwk8YmXk69eT8U9UdkBPLhxREia1iGt0ZGBgWHyhkb0PcYDs+FOD3iYNpImUbalJeVRZ6JJkiBwCEVz2/CjbfzpmNLbNm3ahPL5xz/+wYeNArzNQMDbuqI33iYJnP7Ki8bx6uLTMM/VwMJgbzPHZYMAbxtIgLeZlX71Nlag2E0oAXKC8+fisV9RtJqkJQpKrGTECirucs75a/k1SkakYKRKSkPSzWq6ppkSNTOSZirgSGypRFmDNjXTjWr0jSaIOjkhrSUlYkl21qVjRympGK0TtdWURoWHjSPw023s422tZ3Un/eVte/fuRfn8+c9/5sNG0RtvM0dzxQDwtj4WE59Ltwym59t6DXibpWDK59uMAbxtIAHeZlb65G1dgxIolS3ITjQq5GxkqUy7yi1vrlvl+sDKlYezFxzOW+gunOMqXu1eIFAwRy/L5jhXzXev+S2oYt7+1CWu5QtcRfOcBd7npeqmxpsbVtyyWp+xbvnlZXMurVl8c83irDXLkhdOUxbk4mF3KZKk8Vzy3EG5o7env7zN1dUV5TNixIgef/Zu6JW3maG5YiB4W9+Kic+lW8DbugG8zVIAbwNMB3ibWTGdt1EUnZGTe+7sOYIk82p1v9gWf7tXvi1GG5BB7DlHLA9Vj7Kpn7y/rLiJ8Tzf8OWe+p+ctK7XSLc0/fYYYqKT5kvr+v2RjS31slszflIdOKD1cFV47NP72KmPhyrt96eP/rQlK43GI4GwFXqm708aHBzMFZRareajek+vvM0MzRUDwdv6Vkx8Lt0C3tYN4G2WAngbYDrA28yKCb2NnYXqSGiYQCjOrdXOsiucclgyy6litmP+POfS1Z7CVT7SOYfyC5sZj3Pyn+1rJx8SLXAqn+lUssi1Yp2/bJZTnf0Zuapelj578q3FS1IWzU1bNDll7q8pK5bmrF95c8J3iqybNKmlaR1+OI49HZN6G7pncwUlkUj4qN5j6ufbessgfb6tl4C3dQN4m6UA3gaYDvA2s2JKb6OQukmlNUHhx65V1i+wz7WJUW4+2rwuvGFDmOxwVINLQvNS55yCZsY9oWaul9Q+oWlTiHRNqHzniUbXC4qtYTLn07WqOvmVOTNE9vtqHPfU7F5ftX5Fzb49tU4HMhdOacxOwzOd4mfcuOlJTettFy9e5AqquLiYj+o94G0GAt7WFeBtgHGAtwGmA7zNrJja2xiKzMzJcwyOsT9Z6RStdIpR2Mc2Hois/Wjigd2hJV5nq2vUTFJe06Go+okbT0/ffsY+VuYYV+8SX+cSK3M7lrt59fpIq/XlznaVzgeqnA5UHj5Y5WIvcLYrdTygFVaw7aRsIyl+vM203nbr1i2uoNLS0vio3gPeZiDgbV0B3gYYB3gbYDrA28yKqbwNz2KApw5lCIoiyazcHK+gIFlTk46itDSloWlrG7uYxEs6Vu4oimpoUqzfuDO7sFxL0TqSblSoTkXFBYcdi409q1erab2W1mkpvZ4mCFqnp7U6dh0dAQ8Gwqubib2ttLSUK6ikpCQ+qveAtxkIeFtXgLcBxgHeBpgO8DazYrL6NpwGORmD2zH1FE3W1NQEBgTdSL2h12sZklQpleEhQQ3SWobQ05Tu2sXLt27cQglbGhUXzl8MCgwuLiqkKOR1yPtoBuWB5yFFrwwetA3pG8Pgp9pwBEkgNzT9uLt1dXVcQZ0+bdDD7J0C3mYg4G1dAd4GGAd4G2A6wNvMium8DWsWzf5n19C7SqW+ciU5IiSk5Pp1ycWErCDvZLu9NRcTSqKOntxuVXP+bEHk8eMBftm52S0aDfI07Gp4SgSUG0niyjucCx6Dl9YhTcPxuE4Pj8GLFvagJvS2NuUKDAzko3oPeJuBgLd1BXgbYBzgbYDpAG8zKybyNgTWLJyQfcyNg8JNp1Jh9QVnxwszp+dZ70pcuejGzjXJNlbnN668vnB28vplKpEAJcf1a5yZUQyBc0FxbC44AgsdPjwOsNmy4IjOzqq/vA3xwAN4oDBnZ2c+3HvA2wwEvK0rwNsA4wBvA0wHeJtZMZ238TLVuoL+8wuhF52LT501q9p2n8Rhb7XjLqHbQXloYMGKhdlrl5DyWiRl7A5I/VhvY/fld27NsMMKR4cgRz962+OPP46ysrGx4cO9B7zNQMDbugK8DTAO8DbAdIC3mRWTelvb8BzovW1hCKI6Ia5k84aWAzaE1yH5tpVau92kj2uLy/7ctQuRt+E+Bqyk4afj2K6iOILfGdPVaXQIcvSjt73wwgsoKysrKz7ce8DbDAS8rSvA2wDjAG8DTAd4m1kxk7exq1zTJ/I2wYXEpDnTk+dNvrxo8plfvrkwZ1LK0rlXls25tWU1KZNhU2NnoCdZfWPlDe/XBo67c4WjQ5CjH73trbfeQlktXryYD/ce8DYDAW/rCvA2wDjA2wDTAd5mVkzVL4FLw6ZCK60PouEn0hiCUkvr5DdS6q9fqrtxcfNPYzLDAuXXr8quX2vOyaA0aj4l3hvtz0ocl1XrMfHmO1c4OgQ5+tHbPv/8c5TV1KlT+XDvAW8zEPC2rgBvA4wDvA0wHeBtZsW03satI9geCQx6xbADu5EailCTOq23o0t1SQlN6CiSwF1FSTyoB54DAasbK21t3tZKV6fRIcjRj942btw4lNXYsWP5cO8BbzMQ8LauAG8DjAO8DTAd4G1mxaTehhMh4+I6gyIRI5GQES20XknrWvCib6L04TGR1fUSFaVX0EQzRbRQWj2jR95G4OfbUA68t6G1tkNyGbdf4egQ5OhHb5sxYwbK6pNPPuHDvQe8zUDA27oCvA0wDvA2wHSAt5kVUz3fhmvL2ESst5G4po1kKFJDE6cLrs+LcZh79tC8+MNz4w9/7bN6RqTt/LP2sxMOL4g7tC3Rp6KljuQGfcND63Lexrazcjl3fRodghz96G2rVq1CWb3yyit8uPeAtxkIeFtXgLcBxgHeBpgO8Daz0o/ehqKwrXH1YpxrsbEoMZ7egMKD5Cpp/eGUyE/Dt31+ZMMH/mtHHbX68dTmz0PXvu+/5G2fFV8Er/w2YG1WkwClxLtzUyLgfqVsU2kr7NHZvNtFIjoEOfrR22xsbFBW//d//8eHew94m4GAt3UFeBtgHOBtgOkAbzMrffK2Vk3jFuRWJENQ+L3N20gsXFwzKdY2SkHrHG5Ejko4sCjXb035qYWZ3vPTXObd8pmf7bMgx3/eTY9vIjZlKoT4CTd23F7W10g80RXOAh8MHxH9x8O6sVHsCXC0nV57+tHbvL29ubIi8DxbxgDeZiDgbV0B3gYYB3gbYDrA28xKX7wNOxMP62nY0rC3sfHY2/DsomxXBPyCZ6oiVbTe/3rss2vGvLjtp3ccFz6z9cf3XRe+bDvplT2/vnV49l+Xfz3GdU1hs4SVNvY/yhtPSMrOTsp2VeDAg4rgA+Dt/DNw7Dbu9NrTj96GbttcWUkkEj6ql4C3GQh4W1eAtwHGAd4GmA7wNrPSJ2/DLZhIqrBRsa8EO7kVu6B/JG7mJJCt0XqaXQhKXyUVB0YeHbdg0pmbF+xOBoxfPydDXuWfdOaTWT9cqc5fbv3bsr2br+Wka9QaNlMSySB+YZtM8SSkePorfDCuIo49DXQOBLugkGm97dq1a1xZZWdn81G9BLzNQMDbugK8DTAO8DbAdIC3mZW+eRtakFAhXWMVjnM23rdoip3yHUdTBEnpGpsbY+Jiwo9FZOXlKNTNDS1K/+DQguJCJHMNLc3HoiNT0lK1Or1EKk1IPB8YElxcXKjTqlhfw4dja+2QnOGZSVEQR/KngVURT43VelYd6EdvKysr48rq/PnzfFQvAW8zEPC2rgBvA4wDvA0wHeBtZqXP3kYxjB5ZE/rmqUimhWAUaKEYBUkrKbqZZJQEUytrPh1/zjXoWGZBcYuOUpGUkqTOJFy5euOWWs8QNK2maKlC7eoXKm9Sq3V0C4GCiuPR8X4hRzOyc5U6lC2tIlA8ypZpwUehlSSjZ7Az4uZZ/Hr7rDrQj96mVCoNL6tOAW8zEPC2rgBvA4wDvA0wHeBtZqUfnm9jmynVDOMQI13mUbMpWLrtSM2GgNo1AdIlvjUrPMX7vC/G3ahe61W03Fe8I6JuW4hofaB4inXGYnfxJt9ikZI5mdy4zEs861DhZr+yzYHi9X41K3zqlnjWukSJTiRcXeWSvdxHvCWsZlu4eH2AeK2veLlXzSqPqnyJXoer49guC2bxNpQ/ul+i3A4fPsxH9RLwNgMBb+sK8DbAOMDbANMB3mZW+uJtDO4XQOGpRGkKeZtViOy7XTUrg5sOJbU4Xm7aerr5532yUbuqj15rzJTqJtoWf2sr3XZG6XdDYR3fvDq44ds90l8PlBQ0M+7nGr/eLZzsKHe9qHK73rTzTPMke9nXu2v2RzWINOQ0ezFKuTZc6ZWqtDvXuO5I8+g9sjG7BTer9Vq2OZZrSL19VnfSj96G4HLbsmULH+4l4G0GAt7WFeBtgHGAtwGmA7zNrPTN29hn2bC3kRqG2RLaMN2pbsahioWulXOdy5Z4CqyCG6Ydqj56XZ5eq51jXzTHs3aJl2ClZ8ki14p1PuJVfg2zHPJylIx7omyGW+1Ch/LfggRzXQtXeFRtDKid5Syyi5IL1NQ0R+l0Z9lcZ8E817IFzuUrvWpX+ytmHKjIqdIR7NNzuGMpbq41h7e99957KLf58+fz4V4C3mYg4G1dAd4GGAd4G2A6wNvMSh+9DYFbKWlKw9CbQ+rWRrRsiyRWh+lWhqp2ROqcrzKr/WXHr9eny7TzXUr3XyZ2Rut2nFatP6I6GEc5nieWuBblKxiP87IVYU0ul6kD53RrjzXuPKV2u0huilDZR9WL1NQMR/GW09rd8cTKI+pVYS27o8iDCbq1PjU5lVqS9TZ0dGSO6ITYl470r7eNHTsW5TZu3Dg+3EvA2wwEvK0rwNsA4wBvA0wHeJtZ6Vu/BK4TKQ7qGTrgvGTnkcodR6p3hgnnWF/4cfXR3RGiXaEVyfn1ZY062/DiHeGCXeHVE62ip2yP33Okek+44GB4kaiFiU2Xbw+r3h4u3hpa+fEcj9+8822OVFtHVB9PrmvSkPYnqnceqdgRXr3A4dqoleG7jlTtiqjaFVZeXKdl69vYllJzedvcuXNRbh988AEf7iXgbQYC3tYV4G2AcYC3AaYDvM2s9Km+rRUUoBhGrWeUOkahw6+XktOWrLRq0NLNOkarp/UUrdDRTexWJzc/36AIpeb/2TsPgCaSNY6zCQGxYi+cvXt2rGc77F3xzo4Ve+/tFHvvvYGKBWwIqKhn71g4FcTCky5dmhQhZJe8md1NSEISNpAEAt/v8bzsbJv5Zuab/87OzKIQcXI6PZ80A+9FR4bFJk+YOveL//ef6eKfQhyONFmKEP3GfzfvP11htzUhVZSILpUhTqfovja85ggj2/Sh25YtW4auVrt2bXZbQ0C3cQR0mypAtwG5A3QboDtAt+kVreg2BrrzC/+RmeI0kcj50uXI6Gg8aYBeeDc9E6k3/EWF5y/fvvD6IKTE6Zn46wpoL16bDR8jFpKU8+VrCQlJaBc6Hn8kgSIzSZIiRZkiMiLw+z2PO5kZokxhBgqkl3ZDig0JPzY6SmOlXd22fft2dLXSpUuz2xoCuo0joNtUAboNyB2g2wDdAbpNr2hRtyFQKH5rivdn+vsHuF2/RouyzIR00jMg4Yn/z2ffEhzc/3O89f75t4Sn336+DkhIzBAHRP96/r+kp2ivX+wO+1uPfKKefUt+8b8U/4hfIuGvH++eRXk+jn753M/D486R/VGeT9Dv6JfPMhLi8RcasG7D72rx3XWv2xwcHBhzZWRksEGaALqNI6DbVAG6DcgdoNsA3QG6Ta9oVbdJe9xwH1p6Wvq5C2fj4+OQbvOLSRu39YP11qBl58LXnvs05/jHyQcCrbcETtzx8dtPsf296EGbQ0fu+775cuhSh/9mH/00YnfIoM3f91+PSkmMfTrd5qPdhver1zxbMv/9znXP1i77b9niB38P/OnzPlMkQqoQCTf8lSu96DbUcjPmyt0nSkG3cQR0mypAtwG5A3QboDtAt+kVreo2rJ3YPwr3ggWFBLu4XErLEH6MEo7YHNx7U/xsp7TNd9KXXBLa2qf03RQ1apv/l5/io/cSem6IH7gz2e56xtpbaQuc0v/e/bP3xugd7rGpcTFeNn99X7QoZu2q+PXLwlbPTz6wLXrVglcDOqV+eIV0G/M2FUUH31X3uk3q+3x9fdkgTQDdxhHQbaoA3QbkDtBtgO4A3aZXtPueNAskpJCgyhS5uF76+D+/j9Hpk3f7z3f6Ncsxce6p2EWnf250Td5yM3XqPr/PSLfdjxl7NGHRhaQ5DomzzsQuOf9z7930Bafi9rrF/IqJ8Z4wJnyDXaDdkrDV8wIWTAtas+LHjrU+EwelfHidKcRLx+lzXoK3tzdjrtwJHdBtHAHdpgrQbUDuAN0G6A7QbXpFR7oNyTYk2iixMDUl8dS5i/e8I2x3vl1wNnL2ye/TDgVMP+i//Kiv3YXw6Xs+fE0UH/832Gaf/8pz36fs/mR7IHD+ye+rz0fMOx661+X7F69314YN/bhk/ucV8z/MGv926njvxYu+Llv4Yvxfid7/4XmqmRSJZzvgCOlBt/n6+jLmevHiBRukCaDbOAK6TRWg24DcAboN0B2g2/SKtnUbLZ/w/kySwhNBxRT5/XvkwdOuR298ufLfr6teaS7/pV3ySun61z9bTr/zeJ/8Qyj2Dkm/+Dyh65gtG06+dPvvlys6xivt9IOYjcdvT7IZ/8bBIdHt0s9rF5NcL/28einxmkui6+UfrlcyYqLQPdB9SCQQkUrUi2778uULY65nz56xQZoAuo0joNtUAboNyB2g2wDdAbpNr+RVt2G5RP+x/5XMS6A/YkCK6U8ZkJlRkZFOly69fPM2JS1dSGWmiTP/vfvk/LmL6SKRCH/fVBwYHLJ11+6fyekZIvJHQsLthw+dLl99//FjTHQMXiwkI50SpZOkUCwSZWZk4N+UEM8ipe+D74G/dqUP3ebn58eY6/Hjx2yQJoBu4wjoNlWAbgNyB+g2QHeAbtMredNtePk1qW6j2D+m6wu/KMVaCm1igUUJ09Pv3r139vz54PDQFLEoNZP898nD175eqWJR7K/UM1ecg2KiktExDx6cPn/W6927DGE6XrwNXQtflP4KKX0fHMBcGgfh29A3wxHQg27z9/dnzPXgwQM2SBNAt3EEdJsqQLcBuQN0G6A7QLfpFW3oNkZTsd1fNOgHnpWA5BRehZee8knhCQRkeGz00mObp7nuXPj42Iw7+3scmLX48TGbqxsHOixZ8PR4t3XjJtrbBSRHowsgzSbKpNAfrQRRzSZpRYhvjG6ApRw6hKJfktKBCDpcEe3qtqCgIMZc9+7dY4M0Qarb1q5dG1AAQEKEiU/B1G0zZsxgI5qveHp6MlYqOLoNwUYuv+nbty+KDOi2go9Ut924cYPNvHxl9erVTHxAtxUCQLfplTyPb0M/0Abzx0g39g/9n+4UI2mBRXeSUWRKJrn/hZvVhX/6XlnV9cLKoVfWjnRZ089pmdW5xV0cF/U5t6T36WUfEsPxwfh7CBh8MwR9VawU6bswN2WnkmLoqDD/kUe7ui0kJIQx1507d9ggTZDqtoJGwdRtBY0CpdsKFKDbCj5S3VbQAN1WCADdplfyotuwUMNdbkhB4R+0dMNdbDToP7gfjhFw+IUnVlii5Ezh3lfXet7abPPuqO3XC2NfHR7veXDc6yNj3h4c9d/RMZ57ezkv++9nKEmJ8Hq6rCpDJ4vEFO54o6+OhRsTD/xfprePDpAEy6Fd3RYWFsaYy8PDgw3SBNBtHAHdpgrQbUDuAN0G6A7QbXolb7oN6yYxnlcgov9FQgvvohitRssp+n0pPpzpPkvJzDj23LXe6mFVVw1svHdCjU1/Ndg1Bv+7fXSdbSN/W9Kn39G5HxPD6PPpTrdMUiQWkbRqw8INBzG6DXe+ob3iTKGYQv/S8aH/VUC7ui0yMpIx1/Xr19kgTaAo6kGBJDExkY1iweDJkydszPJG27Ztt2/fzm7kmZiYGDZ++UdoaCgbm7zh7u5evHjx2bNns9t54/Xr12z8gIJKQkICm1t55ujRo66uruxGnlHqtwHDAnSbXsnTe1L0D+5ww4oKCylGaZHsP1h74W+HkvRH4PE2ColJTDzjcaXbqD4n7rtsdj/ZZe6wBz8+br9zts3EAR7BXiMX2k7dsMjr60eRiH4Fiv+HdRvueaN/Z4qRhMPXQhIIPaOhcPx5eT3qNtRyM+YqCF0vgHq8vLxQTiHpxm4DMmzYsAEZp3LlyqmpqWwQAHCjf//+y5cvZzcAAHSbntGGbkNiCm3TXWp0vxgWbliwMZ1t6aJMMp2i4hMTPF++cHa6+PY/r6iY6OTkpHMXzr358CYjUxSfmHjhovOb915JyclBoSHXb950c70WHOwvFKbjwXF4lbYMPEUBXT9TotvwtbEspHvxmN43fei2qKgoxlzu7u5sUD6BEpuUlMRuAMqwtrZmMgtEtgKo1pcvX54xzrZt29hQAODAu3fvULEpXrw4coZsEFDkAd2mV/I6vo2BfpWZSmb+FGUm0X/J6C8D/aCSRVRiyq8nL96cPOvyxPP9j58pSTg8898nXvefvE3NoIRUpjBDHBWbdOTMxR8pJNqbIKQ+B36/5H7v/GX3oNCIZCGVlIHCSXQp9IfO/ZmBL44X20WykO3ZQ+pRH7pNOp/07t27bFA+ceXKlVWrVrEbQDZ8fX0JgmAyq3nz5krLRpFl586djGUQ5cqVK2hvyYGCzF9//cWUnHnz5rFBQJEHdJteybtuwx1smcI0sfjsg7h1F6PWXonYeCV0vXPoukthq69ErbsSuf3UE+d777Zf8tt4OWbj1ch1l0PXXg6z2fx69fmwHS5BQb/EHu9+rr8YPW3f28UnPq27FLTmYtjaK9EbrkYec/t64er9jY5+6y9Ho+tsvPx97cWQ1Zcj1lyO2eQc/C1GiFcJQZKN6XXTi26Tfi/h6dOnbFB+gFKKtEipUqViY2PZIECeMWPGMDnF4OzszO4o8qSlpVWpUoW1C42dnR27DwDU8unTJ+njkKmpaWhoKLsDKNqAbtMredJtDIxuyxQvP/+j37qAhefi9tyJ33Prx4oLcUO2hPdZH3rpRez76PThW3z7bg5ddyPl+KOEDdfi5xyPGbAueOS2j59/io/9m9BrfejI/REnHvzafz9mlXP0yJ1hvdcH73L/EZksGrcruM/GkGXOScee/NzqHjP/dEz/jWED1/t7ByPdhm+P/+gXpWiDiZ4s2tVt79+/Z8z15s0bNig/uHbtGhMNGGWilG/fvvH5fMZEDA0aNIBpawyHDx9mjSIBHgAAjtjY2LCFhmbq1KnsDqBoA7pNr+Ret2GhhPvb0P/RdnqmeOmFhDGHo6afCFnpHLPcOWrFxZgVF+NG7w6/4hn3X7Rw3B6/qQ5RKy/82HItbIVTxD/OsfNOx03Y8xnptqN3o8cejZ55Mnj3zdiVl8JXXoj9xzlu0oHwPe6xkanU2P1RY4/GzD0dtfJSzBKnmGXOsQvOxo/fEfQhOA1Pe8DD6Nh4sf+RR7u67eXLl4y5Pn78yAblB61atWKiUaJEiYIwybGgYWtry9hHllOnTrG7izAZGRlMjVBg6dKl7BEAoIKAgACFxyFjY2P0jMTuBoowoNv0St50G/5B0S8r0zMzl59PmO2UuvwaOeccOcMxfYVrxt4nolmnflz2jP0vOn3iwYAN90Wrr4lWXPk11yl1gwe5855wxoH/+SWKT9yNnnkucdcDcuPtjDkX0ldeydj9gFzsnLLnelzEL3Ls/sglLhl2N8hZZ9NnnUtf5S7a+q9o/rHwd8Hp6KZ4YTc6CkxkmOjJol3d9vDhQ8Zc+eit3N3dmTgwLFmyhN0B0ISGhgoEAtY6MqCSIBQK2YOKKtKPCylgZmYWGRnJHgQAypg6dSpbXGQYO3YsuxsowoBu0yt5G9+G/oNfU6L/isSZJ26Grzj5v2X2QctOhoxd/3TYErfVp/+34uS3R96x3+LS7Rx9ljgELT8V8PdKj5HrHvzjELj65P82O378niy++erHkpOBy0/4r7D/ZjXt3KLDvqscvqw4/cXpSWRsmmiTc+Bye7TLf9rOV/0Xuyw7E7DiZNCaE1++RaRlZGZm0LpNTOpJt926dYsx1/fv39kgvWNpacnEgQEmdikwZ84cxjLVq1dnflhYWDA/Dh8+zB5UJKEoqn79+sgO9erVmzZtGmOTtWvXMnNLkd3Y4wAgG8jjmZiYMGVGFh6P5+vryx4EFFVAt+mVvM5LwLoNbyLtliKkEtOp+HQqLp269/TteNtFP1KpuDQyTUilU5nxQhKFo78te44fPOkcm4YPTkwn0ylxqhAflpBGhcUkj54wy+dbSEI6GZ9OJmfQJ6ZTCfSf2+3HC1ZsikoRoSMT0tCJeCYpvUoIfl0rjZUC2tVtLi4ujLnyazzQzZs3mQjIsnDhQnZ3kQdJ2GLFitWtW/f8+fPSjsng4GAHBwckWapWrfrr1y/20KKHs7NzjRo17O3tRSLRuXPnGOMggyAnsGvXLlRTkKHYQwFAnvnz56PSQhAE80VahLW1tampKfoxbNgw9iCgqAK6Ta/kRbch4cb80dINL+RGr8GLhBSZ/ivN+YJzeFQkVlUk0lakCK/CK87IFD999tLT8016Zib6TaKz6BXf0F4h2ptBnndyjktIEFHiDOZL8uhcvGqbKFMkCg0MvHXjOkUK8R+FLoxHt+FdetRtyEqMuZDd2CD90q5dOyYCssBLLikHDx48ceIE0iXo9+3btxn7MLPeSJJEwgUF0gcWRR48eCB9U4xMwRgnOTmZCUlLSwsICGB+A4As0dHRxYsXHzJkiI+Pz+fPn5mS8+zZs4iIiEWLFpUsWfK///5jDwWKJKDb9ErudRv6SSs1/FPyqhT9B3/FgF5U7avf55u3PLC4IqlfwsyQWDIoNjMohrp2z+vmY++AWOrbj8ygOCpVJI5LzvSPo/4XmxkSIzrieP1zcFJQTGbAj8zopMzMdCH1PTg9OCg9ODjk1av75x3TgwMzggLIYH8q9RfucKMX48UR0Itus7e3Z8yVL5MTpUIkO+hpmD2oaCNbBu7du8cYJzAwkA0CJFy+fJkxTkJCAhsEACq4c+eO9FNm//vf/5iS8/jxYybkx48f6JGA+Q0UTUC36ZW86zaK+fiUWIS1Gw4X0b+p9PT0M46O8ckJ6Zmkb0y6zTbfv7d9X+kcs/piwMLT32wPhlpvDxm3x/trkvjUvdghW0JGHIrY6hqx7Ozn+cdDbHZHDtkauvtmZGpCrOfUsZ+2bPq0ae37lQt89219t2ntl39WPPq7b6LP+0wKL77LjrHTi247dOgQuppAIGC39UuHDh3ovFJCsWLFwsPD2eMAGukkEtTSsEGABOlSMqjRZYMAgAPoKYgpOffv32eDgCIP6Da9khfdhmUa85KShh7tRu/DgbgrLCgw6JrL1fQMoW+08O+t33puipp/PnH7ncTFl5Kn2sf33RQ1YvvXz0niY3fjem/40W/nz3XXf667nbDIKWn4nrje6yN2uMemxv/wtrEOXTgneu3qmA3LQ1bOjTy4N3LVsrcDuqZ4v8oUCek7sS9K6X8U0a5u27VrF7paqVKl2G098u+//9IZpRIYV67A06dPGct8+fKFDQIkXL9+nTEOTGoBNCIkJIQpOXfu3GGDgCIP6Da9kpfxbVi50TIN972hPyza2D+k3EQUSVKZ165c/vbN3zc6fcq+rwudkuafjp3n8GPhmfhNbvE7PFJm7vn8NVF89N+Y8UfjF539ufj0j9mnY/65ELfvzq9FpxMOuMb9io15P3F06AY7/3UrQ1fP/TZ/lr/dxuhd2z9MsE72fot0m5j+VALzYXlp9GTRrm7buHEjulrFihXZbT0SHR399etXPz+///3vfz4+PnSmGe3bty84OBh50tDQUBjipkABWWyvYOLh4cEYJywsjA0CAA6Eh4czJQcVITYIKPKAbtMredFtasjEn5RHf+KEuHj7s2ef+UdP2OY971TclGOx4w7FTj4QueTM9xXnw6ft8vmSKD78b/TwvWGLzkVNPhgy7lD47GNRK87HTj8Wuc8tOjUu5unEkZ8XzPq2cLrf9JGfxw8PmDPbb/HM1+MGJn/wYvrbMinmba0+dBu6DrpajRo12O18QiQS0ZkGa8mq4/Xr14yV3r9/zwYBEqTdtzCHFNAI9ADJlBx3d3c2CCjygG7TKzrTbRT+kgESVWRm8Pfw7ccvnb4dcOlFqvPLFOdXqRee/mzWe9mOy5+uvYqMThe/DU499zx+4NyTU9a7Xnr189LLJGfPJKcX8QcvvrQeMOjfXdvCL52PvuQYdflM1KUzURfPhF88E3z5jDAiLJNMpyclYOib6ly3LV68GF2tfv367Hb+wePxUEyOHj3KbgPZ+O+//3DJNjJ6+/YtGwRIePDgAWMcf39/NggAOBAbG8uUHBcXFzYIKPKAbtMrutNtJH5TilfERf+Ghn4/7ej4P3//DDKDpChRZubxE45uN28JRSIKL/Qhio6NWb9hY2BQqIiiMkQi/8DAi5ev3PC45ev7iRSKMkUkif6DLkhlUKIMtJmJTsQj6DLwMiP03AT6pjrXbQsXLkRXa9SoEbudf5iZmaGY7N27l90GsuHt7Y1LtpHRq1ev2CBAwuPHjxnj+Pn5sUEAwIHExESm5Fy+fJkNAoo8oNv0iq50m5iemIBfl2aK8M+MuNgfly9fefjwYfLPBDGVkZ7084bT+eigwMy0VOrXz2c3r/v99x+Z9isyPPzGdVfXq5fCvoeISEac4evg/+CeNfQfBnoWKd5GUUGRYSdEsLeXobD2t5mbm6OYbNu2jd0GsuHr64tLtpHR8+fP2SBAArIJY5xPnz6xQQDAAWmT4eTkxAYBRR7QbXpFZ7qNPiZTLBKTGZlCKjMDbWaIqNde/51zdHjscumr05m3B/bcWLXqi5Oj14kDF+fN9L/o+NL+xPULTgGBARQlJDNF9Mer8Foj9DwHMfMxK/rVK16vF/1G18T/iDPE6D7MVja0q9uWLVuGrla3bl12O/+oUqUKisn69evZbSAbX79+xSVbZqEpQMqrV68Y43h7e7NBAMCBtLQ0puScPXuWDQKKPKDb9IqOdBsSWUhf4fkCYpLub6O38H9FGakpb06deDl+UuKpM3579oSd3v/d6fC3M6c+zJ/3dsnMjNjoDPrzCfh9Kt2rhnQbXh8Og/9FQSRe3xeLQjpQhPfjTQx7cxm0q9tWrFiBrla7dm12O/9g0rVq1Sp2G8iGv78/LtlGRrAoaHbevn3LGOfdu3dsEABwQDop6vTp02wQUOQB3aZXdKbbGKWGO8gYtUWLNyzJxBnpEfduvRr991fb8f6zJ/rOGvl5zrjA5fN9Jg37uGgq9SMKH4sPxx1rtCBjJBn6hVf0pXfiL2ChbfydBPqPiQ77H3m0q9vQddDV8n0+KaJBgwYoJosWLWK3gWwEBQXhkm1k9O+//7JBgIT3798zxnnz5g0bBAAcQG6WKTknT55kg4AiD+g2vaLD8W3oIHQU/V+8JEimiP5D0ivj+10P3+XzErZvSjm6M9pubvK2telHDiTu3/hp4XTqR2QmOowS0fKMvhFzJdzHxvzh35RYhLvv8A/mNSqOD/OvAtrVbWvWrEFX++2339jt/KNhw4YoJqDb1PD9+3dcsmGhKWV8/PiRMc7Lly/ZIADgBkxmBxQA3aZXdDe+TarbmKkEWGwhBUaKxRlk0MN7N8YNvz9+7N1JY8/0735j3KjHUyY9nDLec9lCUdwPWq/hL5ziK6BbSf6Yf9juN/QfvBtpNvpmKAD/g/9VQLu6be3atehqVatWZbfzj3r16qGYLF26lN0GshEZGYlLtpHR9evX2SBAgvTr4E+fPmWDAIAbJiYmqOQcOnSI3QaKPKDb9IrO3pPSx6Cj8DJuJFZh+O0m8x+SSozPCArI8P9fmp/fymHDPt90E/p/ygj4nyj8OyXMwP1rWOPhAW74Gsyt0L+Se7J3pwUcHcCiNFba1W0bNmxAV6tcuTK7nX/UqVMHxWT58uXsNpCNmJgYXLKNjK5du8YGARKkXwd/9OgRGwQA3ChevDgqOfv27WO3gSIP6Da9ovP+Niy+SGZUGtZs+Dc9UUFEikkhmSE8e/pUSGigiEpHYfQnFvCKbvgk/IcvgaE1mqJuyxYNhU0G7eq2TZs2oavly3euFGDStXLlSnYbyEZ8fDwu2bDQlDKkXwe/d+8eGwQA3ChVqhQqObt27WK3gSIP6Da9olvdhn7RA9LwvFD8ryiVSovKSIoWJkcJk6IzfkYJE8/cuvz1R2iE8GdERlJERkq48OcPUUo6Ohb3uOE3ppSYZD9AKrmnqmgojZV2ddvWrVvR1cqVK8du5x/Vq1dHMVm9ejW7DWQjKSkJl2wjI2dnZzYIkCD9Ovjt27fZIADgRtmyZVHJ2b59O7sNFHlAt+kVnes2+m0mPXUA6S/RozDvgWdXW51b3uXckj/PL7M6v7jlvsnd7Od3d1zU49zSrmcXdz23aInH4XixEJ/NnI9FG/0xK/rKCOlPmTCMwiaDdnUbclXoaubm5ux2/lGtWjUUEzs7O3YbyEZqaiou2UZG586dY4MACdKvg9+8eZMNAgBuVKxYEZWczZs3s9tAkQd0m17R1fg2Wq6hg9D/kWrDnWcUJczMcA963cNlw4g7++Y+sZ/98uJGX5cVT44vuHd87atzC56etn28f4jr6slO66PEKSI8NYHpZ8OdbrjHjr20ymgojZV2dduuXbvQ1UqVKsVu5x+w7m6OCIVCXLJhoSllJCYmjhgxYvTo0V5eXmwQAHADnA+gAOg2vaJD3UZ3uKHjpLotIzPDJeRt4/OL2rn909N9Qye3dZ1clvZyXzng341WLsu6u61t57aw+YUZYy+vjxQn448iSED3KyC6bc+ePehqJUqUYLfzD+aRd+PGjew2kA1UHr5//x4ZGfnr1y82CACAPNOpU6eGDRsePHiQ3QaKPKDb9IpOdRv+lz6YAem2e8HvrY4vaX9idofjc9qemNX+xIya/wxqdWBiu5PT2x+f0dZhertj0+dd3Z0g/kV/bx5pN3Q6vhrWfvhi9LVVRENhk0G7um3//v3oamZmZux2/lG+fHkUky1btrDbAAAAAJAfgG7TK7rSbVnHoP/injeGFCotmEzwz4wPoBK+ZcZ9y/gxZMYo13ePvlHx/uL4/1Fx/mR8hCgpg/4UAinOFOGJDega6Cq0DJRcUeEHg8Img3Z1m4ODA2OutLQ0NiifgO/KAwAAAAUB0G16RXfzEiTH4HVApEt6UGIqI1OEZBle0Q1/Oj7D6aJTeEQkSdLrf+AONnS8VOmhi+A/+nJIv7E3xTvkfzAobDJoV7fdu3ePMZefnx8blE+ULl0aRWPnzp3sNgAAAADkB6Db9Iru+9vwD9mjKXFmklAUkigKTSBD4oWnXJ75BseHJqAQMjKZzKA0uzLzg0Fhk0G7uk26Wundu3fZoHyiWLFiKBp79uxhtwEAAAAgPwDdplf0o9uYHwwisfjp5x8T9gaP2/9jnkPcX5v/G7PnfxP2hI3fF7H+Qnjcr9xfWWmstKvb0tLSGHPl7zeVpbl29uxZNsiQWbt27WjDJCoqik2DbvDx8WHvZGgcPnyYTQMAAIUd0G16Rf+6LUMsvucT139j6OCdkbvupl/8RO6892v+sfj+G74vtg/7UbB1G4KZA5+/C94GBQXRmWZ0584dNsiQ+eOPP5jkGBwBAQFsGnSD9L28wWFjY8OmAdAZ0dHRu4oGDx48YNMMFEhAt+mVfNFtd71jZ5wJXeUSd+BBykrn8HUXY4/8m7r5esqyUwag29q3b48uOG7cOHY7P3j9+jWdaUbv3r1jgwwZqW7700BgYovQm26rVasWe+8CDxNh0G164MOHD4y1Cz3z5s1j0wwUSEC36ZV80W13vH+M3e8/61TcXMe4sfsibQ/HLDwXv+Bs/CKHkJhU6TJtKlF1ZaWx0rpuGzFiBLpg165d2e384MaNG3SmGYWFhbFBhgyj2yZOnMhuF3jQ0z9jf73ptqCgIDaowNOlSxcUYdBtekBWt5UupDCpA91WwAHdplf0r9tIsfhTWPIxj6jDN+MO34rrMen4ujNfDt7+cdAj5srz2KT0gq7bli5dii5Yo0YNdjs/OHXqFJ1pRunp6WyQIQO6TRWg2wA1SHXbmzdv2KBCR9OmTVECQbcVcEC36RX96zaky0SZmUL0R4lTM0RLV6199+FzOpWZnikW4s8q5P7KSmOldd12+PBhdEE+n5+RkcEG6Z1t27ahOJQpU4bdNnBAt6kCdBugBtBtQAEBdJteyQfdlol0mziD/kujqGvut6N/JGAZh8Ip/F0E9jjVqLqy0lhpXbdJ2+zXr1+zQXpn0aJFKAL169dntw0c0G2qAN0GqAF0G1BAAN2mV3Sm29Ah+MNU6Dh8MPMD/xaTlDg4JvXRx+QHH9MefkzdZv/4+ovIBx9T7vumvfyamiKkP2fF/OHLSE7LCsq6u0I0lMZK67rt169fpqam6JqbNm1ig/TO6NGjUQQ6derEbhs4oNtUAboNUAPoNqCAALpNr+hDt1H4m/AUPbINnZdBia8+ix6w4Vu/bd8XOMbMORo+YX/YsG3fe20Im3IgJCyJxNeWfhwBn0+flhWkMhpKY6V13Ybo2bMnuuaff/7Jbuud1q1bowgYkNBRD+g2VYBuA9QAug0oIIBu0ys60m1IsDFj1dBx+KNVtG7Dm5nidEp80TNu0LbQAbsjV7kkH3gcu9r953T7+AHb4yYfigxNIvEIN/oP/0OfQt+uAOk2ZniZQCBA1mOD9AhFUcWLF0cR2L59Oxtk4IBuUwXoNkANoNuAAgLoNr2iM92GR6oxHWzoYPQvll0oFI9pE198FT3tWLDdjV+rr6YudY5ffS1x963UrTeFc09EhSeR9LG4jw79Ib2HLoL+slQbvo7yaChsMuhCt3l5eTFGu337NhukR4KDg5m7u7u7s0EGDug2VYBuA9QAug0oIIBu0yu6ek+KNRd9FO5tQ1KM/iw83XkmpMQuryLH7fw0aW/QxD0Bg1d7TtjpPWN/wIx9QYuOfIv6mYFOo8RI86FjWemGr4SCJPdUFQ2FTQZd6DaKosqVK4cuu2jRIjZIj9y5c4fOMaP//e9/bJCBA7pNFaDbADWAbgMKCKDb9IrudBse1oaOkug29BN3vyHJQ2VGJlHvvme+/i5+EyLqOcLu4r/+/4Vmvvku9g2n0pFso8Rsnxt9FfqP3WavrSIaetNtiOHDh6PL1qlTB6WHDdIXR48eRbfm8Xj5uBCJdgHdpgrQbYAaQLcBBQTQbXpFR7oNqyx0DNZrtG4jKfRf9IvKJEkKSbMMikJBZAaZ4WDvEBoYitRPmpgkGVmHj8PvR/Fd8B/aRv/HnW8MqqKhNFY60m2urq6M3e7fv88G6YsVK1ag+1avXp3dNnyU6zaRz15ryxatuq95nMqGyJL21K5nqxYt2011ilQinEW+B4ahc3vYPUljQ7IhDH18dPn4gX92aNuuS58Rc7Zeeh/LWYHnt27TsWnyZBvQbfoDdBtQQADdpld0p9vwvFA8xA3rNgpt4HkKZAqVHi76GUEmR5FJEaKfYaJEh1vOn2NDIjJSv5NJ4eRPtDdOlIpkHd3Rhi+BLob+K6K76xgKgm7LyMhgPjA/cuRINkhfjBo1Ct0XtY7stuGjor9N9G51CwHBqzzmSjwbkkXC1bGVeegkwqzzTj9pyZAgfLGkobERv+b0u8p0DSL5zfYelY0JdAEphEmDRU+E7P4cyPf+Nh2aJq+2Ad2mP1TotgIt6zUFdJtBALpNr+hKt+GBabirTIR1WybSbegP/e91xOfZN/ZP9thje2v3ZI+9Uz329j02z8Zly7Sb+6bc3Gl7a+e0G7t2P3ZKEKfTfW+SV6ToErSCY1AVDYVNBh3pNsTKlSvRlU1MTGJiYtggvdChQwd03/z9sL12UfWelPy2u6sZQZQZcDJcvl2gwk8OKMMoC0LQbNVbpOplSbk1pTqfEPy+4rXCDhby09aO6LrF6vRfdvjyrbseV05untGrbukqk66rbqvkyP/3pLoyTd5tA7pNf6jqbyvIsl5TQLcZBKDb9IqOx7dRdH8bPhz9CTNF7sGvLc8uaHp2dhunBV2urh1xb2e3C/M6nJvf321dpwtL2jrPa356is2l9VHiFLp7jn5ZSuu2LNWmOhoKmwy6023+/v6M6ezs7NggvVC1alV009WrV7Pbho/K8W1UhMMgcx5RTKGFIf12dC6GRIvVmMEWfCN+7Vn35RqZWKfhFdBJnbZ/zdYs0VARh3uaEvxaM+/Jnpb65dbdTyrEjCIFYHybbkyjBduAbtMfKt+TFmBZrymg2wwC0G16Rce6jZ4WiqBfdWZkCl2DXndxsRvz6vjiDxemvzk77eXJxe/PL/dxnuV5eN47x0mvDg+6uWbypQ3R4mTcPcdIPrrTDXfgsZdWGQ2FTQbd6TbEsGHD0MVLliwZHR3NBumYtLQ0OruM7O3t2SDDR828hASXcVV4qIX5R6aFEb1d1UxA8KqMvRr9fHFDYyNepdGXs/oVqNCjfUqhJqv/CYUmSwoVuu9PEyNeuSGnVR2REwViXoIuTKMF24Bu0x+qx7cVXFmvKaDbDALQbXpFV7qNOYYWW1h+4XkJpDAz43bwu64nFrc9Prfz4Tntj8zpdHR2k1XWf+yf1vHY9A5HZ3U4NqP90emzXHZGi1NJ/JYUXYMWgFj/FUTd9vnzZx4Pv3SYP38+G6RjfH196ewyevjwIRtk+KjRbeK0h3PqGBvx68x+IHmgT703sxbfyLjOnIdpYtHHjW1NCKJ0lhIhv2z7o5iKV0QSRO/sWpkQRjzztvOv+uemn6BA6DadmCbvtgHdpj/UzUsoqLJeU0C3GQSg2/SKjnQb2o2PyaSXzEW/6LeeIkoUk5H8+mfIq6SQN0mhb5K+v4oP6DNl6PnXHp5JKDD0dVLQ659BfimRv5jBbRTutmN0G30xFrwh/4NBYZNBp7oNgdQGur6JiUlwcDAbpEtcXFzo7DIKDw9ngwwfdboNCYk1eKxOFRuXBHo7/vLoSqg9arnmHW6PqOCDPUoSRLE/2C4C0ZuVTQVEto4ERRKerulgjgQ3wSvTdPTuxxEadhYUDN2mG9Pk1Tag2/SHOt1WUGW9poBuMwhAt+kVPeg2Ev2ix7plivHkBFFmBj3oje5FE5HnHc+GhYbRS4UwgfhwvCII/sXqNnwt/IsFb8j/YFDYZNC1bkNyDYk2dIs+ffoojYB22bJlC7pXyZIl9XAvvaFWt0nG6pgPcoigxFTY8f6lCaL4n3v8aTEipmLO/1UOiZWmK98ggZF6f1ZtPiFoLtvJoIKEt4fH/l6aHqEtqPTH/Et+Mq1Q4ruTM3u3atio7ZCV1wKVDLguILpNV6ZRaxssCI9a12kyi93KBug2vaFWtxVQWa8poNsMAtBtekWH49vQMfhf5gcGKzUEEmWpKZmR3zMjQ6iIkGdnTyV+/ZQZHpYZGZoZG52ZkYEOxxKPOZf5icGb7LUlv6Q/GBQ2GXSt2xBr165lbHjkyBE2SGdMmDAB3cjS0pLdLhSo121iKpIeq2PWdfc34dftuE/AfOiZKOl7muSbtr/xjfg1Z9xNoefKEWZddn1jlEtOpPq5rOxTsxiBWiFjiyEnvtBtEBVxccxvgortbOZN71OvePFW/7zM1q9QUHSbDk2j3DY0pP+OTibmKpe/Ad2mN9TrNv3LeuFLu051O8y9rrDACPlpd9963TawWwqwTwE32c1sgG4zCEC36RWd6jZ0FPrD3Wg4gP4/+hOJIj1fvFm29MuWdW9WL360aMabjSu97FZ4r1zou3sbmRiPz6H/EKSYQm4En4suIXEG+LryPxgUNhn0oNsyMjLatGmD7lK8eHFdf3uKWQRk9OjR7HahIAfdhhoKZqxOi5WnluI+AYtJ7knsHozwBT1Wp+KIw3sHmiPlQjdTnKHiXu0dWot+99PnSBApFn2wa2VaaYRTNLpG+ju71qZlh52LZY+VUGB0m25No2AbNhB0W4EhB92md1mf/mhuHb4Rr1y3rW9T6KMYcJUq1kDFJwHZ0nSZ3cwG6DaDAHSbXtGtbsNH4oXccKcZ/Rv/iTK+37vlOWFa6mnHBPsjyc4n4y6fzrh9O2DBPJ8Fs6gfUfSLUXQ40+mG/vBZrOZjro235X4wKI2VHnQb4suXL8WKFUM3at++fXp6OhuqbVACy5Yti+6ybt06NqhQkKNuw2N16iL9UaJUCZ6RcYOFz+QtzI7VMS1ZEr8WGneNeS0khYr7cO3QJru1Ox2fhijPmrS3dpbF0AWs9oeKgnZ3NSk97HwivUP0bnVzQaWJioscFCDdpmvTyNiGDQDdVmDISbfpW9Zj3SaoUrd2KZPaY52DpQoQdFvhB3SbXtHte1LmB6vasO5CVZmiMsLu3fKaPMHXZvjXmeM+jB/8adrYTwtmfJ019sv86Zk/ovFxtHTD/6WvwP5JUBUNpbHSj25D7N+/n7HkuHHjcrZProiJiWFu4ezszAYVCnLWbexYHXQUYdJmw0fFVzlU8MGeJfFeI+O6cx/JiSwyxHlc3eLlmvQcOqhD9ZJV+h/5IhInPL12V76BEnoubWRsJGix5l3q0wX1TOrNf8qOaos70dfUpMchheasIOk27ZpGnW3YbdBtBYacdVveZL1GjzxoA+u2Yh02P7xgU8ekdNt/nrKXA91W+AHdpld03d+GxBej29AG2sT/ijJC/r3xYe70yI3/RO1YE7xwapTdih/b10dsX/Fu4RQyNgqfJjmd+U1v4iux18ahcj8YFDYZ9Kbb0N2ZL1AhdLQo7t27d5nrv3v3jg0qFHDQbexYHSOiZM9Dwdn7BPBYnfI8I0LQ0u69nHIRPl1Qv1iz5Z54rDUVcrhXmZoz7/+KOtKrXKMRux6EsjJGFH5z1u+o+So1+FSM8PHcOib1Fz5jdVuCfX9Tk+4HFVY9KFC6TZumSafU2IYJAN1WcOCg23Iv6zV95EG/Gd229asoxWu7VXmBxZATX3E9At1W+AHdpld0rtuYg/EmLbvQ/0Vk5Lu3nhvtPDesfrnJblOPbreWLny7efWbbSs+2h8QJScyl0b/ssfTf9IL4DDJ3RWiobDJoDfdhkhLS+vYsSNjz82bNyuNT16YMWMGunKFChVEIkX/a9Bw0W3MWB1++b8vKA42Y6DH6hT/c2+A3PgcKvJwD9Pitf8YOIimR9uGDcaejYw82tsUtVWESYUGbbpZdbOsWZqPZI+g7nSPBDH5ZXM7k7KjLjPjc0S+GyxNyo6+IjtaB1GwdJsWTRMtilZjGxbQbQUFLrott7Je40cetCXRbfi1StSNmU3MijedezuaAt1W+AHdpld0pdvUqSsqMyNdnJoi/vWLTElaPWv2F8+XmWmJ4l/JYqEQfxkrJ1RfWUms9KnbELGxsU2aNGFMOmnSJKFQa5/tQ1qtUqVK6LJTp05lgwoLnHSbWJxwbULbabeS2S1FhC+WdBgmM+iaIfH8sDLm1o4KH5BN+3btnyGNzaVfWSQE5VpNsveh1Vn6wzm1BbWm38H3If33/Fm8RO8jYQpXLWC6TZumUWsbBtBtBQVOui13sj4Xjzxyug0h/Hx0YFVBhR67375idBsVenpcy99pWk0+Tx8Duq2QALpNr+SHbsNLtDGLtWWQIvfrHj9i4khShDcpPPmUPU41aq7M/pJBz7oNERERYWlpyVgVtWFRUVHsjrxx9OhR5pp3795lgwoLHHVbbqBirk2oblq9r53zUy+v57ccNy/cJ3kFKk4N//DA7eL5C1duvw5OzhI1oo/bOpUya2Btt3/HjI7lBbWn3lQc9VPwdFtuUGcaVbahAd1WUOCm23In63PxyKOg21ARi3+03LKUaZ2unWqaYN0W+3D/4vk0iw89ZY8B3VYoAN2mV/Sv28hMcfhP4fP/JT/1S33+v6Qdpx7ffhP97GvK06+pH0J/pYkU3Ud2VF1Zaaz0r9sQqampw4cPZwxbtmzZkydPUlTO6VJDYmJixYoV0dU6dOigNJkGjQ51GyLh9UGbthalBHxBKYuWA5dcznmlA1Hg1UVWdcyLFa/SeszBN8zMUjkKhW5DaG4aDOi2ggJX3ZYrcvHIo6jbEGTguZE1BYSRMbwnLdSAbtMr+tdtokzxPe+4oZu/DdwVsdg5ce6JCNvDMSN2R/XfGrr0VNiPX4VBtyGQUFu3bh3z9VJE586dcz2ZAKnA7t27M9fx9PRkQwsRutVtOqCw6DadALpNb+hUtyE01fVKdBsi+dXGLuYC0G2FGtBteiV/dNuHuP4bA/vuiFh2IfrA/fBllyImHIzovS50kX3kj1+5v7LSWOWXbmP477//pO9MET179vz333+VxlMV0dHR6Czm9Dlz5rChhQvQbaoA3QaoQde6rSAAus0gAN2mV/Sv24Ri8R2fuDlnwla4JOz5N3npmYg1V5L2303f4pG69NT3mMKl2xAkSe7fv79MmTKMnRG///77mjVr3r59q/7laVRU1Pr1683NzZmzJk+enMeXrQUW0G2qAN0GqAF0G1BAAN2mV/Sv2zLE4rvePybsCZjmEDvbPmbk1i8zjocvv5Cw5ELC8jOhMYXlPakCP3/+3L1792+//cZYm6FatWpDhw5dunTp8ePHb9265e7ufvHiRQcHh9mzZyNtxx5kZMTj8RYuXIj0H3utQgfoNlWAbgPUALoNKCCAbtMr+tdtlDgzLC79rvdPD5+kW96JfWw2Hnf9eP9D4r/eia++Jf8qFPMSVJGRkXH+/PnBgwebmZkxZs8Ra2vr9+/fs+cXUkC3qQJ0G6AG0G1AAQF0m17Rv25Dm4iMTDGJ/hWJ9u0/+L//BZAUPgovrpu3K7O/ZChQuk1KamrqjRs3Zs+e3b179xo1ahAEweQCg4WFBWr27O3tAwMD2RMKNaDbVAG6DVAD6DaggAC6Ta/kk27D35onKUokIpF8if3xg8wUUQh6H3ucaqTHKBys9NyCqdsU+PXrV3BwcFRUVGJiolAo5GKEwgToNlWAbgPUALoNKCCAbtMr+tdtYry2Lvkj+sejR09Onz23efPmUyeOXb7o/Onz519pnCSLqisrPdcgdFsRh9FtCGZNzoJPs2bNmAjrTbcNGTKEvXeBh4kw6DY9ALoNKCCAbtMr+dHfRn359On82Qteb70S4mJSkpOSklO+h4XduXPb2fnSr1+/2ONUo/rKSmIFuq3gI9VtBofedJvBAbpND0h125w5cxwLKUwCQbcVcEC36ZX86G8T3/S4FRAcGh4csmXpTLvVa+au3P7M842YIi+cPZcQn+2jQtlQdWWlsQLdVvAZO3ZsE8MkNDSUTYNuePnyJXsnQ2P58uVsGgCdIdVthR7QbQUc0G16JR90W6b42zf/M6dPez5/HuD3+dvXr37+QV+++t1wveHq6paWlsYephpVV1YaK9BtAAAUSkC3AQUE0G16JV90WyaVGR8f+/LFyxvXrrm5urq4Xve4ecvP7xtJknm5stJzQbcBAFAooSgqvWggEonYNAMFEtBteiU/xrdlIt2G/vCcUorE00rpX/iPhj1ONdJjFA5Wei7oNgAAAADQHaDb9Ep+9LdhWLXGijcSBYgp9G+erqz0XNBtAAAAAKA7QLfplXzSbRS90C7+Qf8hSDEScHSXG3uYaqTHKBys9FzQbQAAAACgO0C36RWpbkN0yYnOnTsr/FCD/g9Wei6TNNBtRZNfv37dvXuX3QDkuXHjBnpSYjcAAAByC+g2vSKr2woxoNuKJvv27WvUqFEh/iR/rklLS6tatSqXXnYAUMDf35/LQptA0QF0m15B7tumCHD58mU2wUCRQSgUWlhYINXu6OjIBgESDh8+jCxTv359mKkHaAryqDt37mQ3AAB0W5EC2gxAdxw/fpzubDWqXbt2RkYGGwrQ9Y4Z94mwt7dnQwGAAwEBAXw+v0KFCklJSWwQUOQB3VaEWLNmzfv379kNANAeJEnWqVOHkSaIo0ePsjsAsfjUqVOsXYyMatSoIRQK2R0AkBPTpk1jSs6GDRvYIKDIA7qtqPDz509zc/OBAwey2wCgPc6ePcu0LgwWFhZcPsVRFKAoqkGDBqxdaA4cOMDuAwC1hIWFmZiYMMWmTJky8fHx7A6gaAO6raiwefNmpv57enqyQQCgDTIzMxs3bsyULil79uxhdxdtnJ2dWYtIqFKlSmpqKrsbAFQzf/58ttDQrFy5kt0BFG1AtxUJUDtRoUIFpvL36NGDDQUAbXDlyhWmaMlSsWLFlJQU9oiiClK0zZo1Yy0iw/bt29kjAEAF0dHRxYsXZ0sMTYkSJVAguxsowoBuKxLs2bOHrfo0Dx8+ZHcAQJ5p2bIlW7Dk2bx5M3tEUcXd3Z21hTzlypX7+fMnexAAKGPFihVscZFhwYIF7G6gCAO6rfCTnp5erVo1tt7T/PHHH+w+AMgbN2/eZApV586dK1WqhH7079+fmaNgbm6ekJDAHlckadeuHbJDqVKlBg8ejG1kZDRmzBg+n49+rF27lj0IALKBKk7p0qWZMiOLqanp9+/f2YOAogrotsLP0aNH2Uovg4eHB7sbAPJAx44d27Rpc/v2bfS7du3aqGitWLGCJMmzZ882btx49erVzGFFkLt375qZmS1dujQ2NlY6byMtLc3f33/q1KkVKlSIi4tjDwUAedavX88UGOnIUUtLS+bHtGnT2IOAogrotkKOSCSqVasWU+FladWqldIPjAIAd0JCQq5du8ZuiMX169dHRWvJkiXMJkVR//77b5EtZhcvXoyIiGB+Ozk5MfUuOTmZCfn+/bu3tzfzGwBkQYWkXLlyTZo0uXr16qdPn5iS8/z5c09PzwEDBggEgoCAAPZQoEgCuq2Q4+joyFR7giCYH1KuXLnCHgQA2oDpG1i4cCG7DUi4fPkyU+kSExPZIABQAXoWOnfuHPM1Wz8/P6bkPH78mNn7/v17FxcX5jdQNAHdVphBNb9Ro0aozltbW0sFnLu7OzPIBj3PwYeuAS3StGlTVMDmzp3LbgMSUEPL1L7Y2Fg2CAA4EBAQwJScBw8esEFAkQd0W2EGPeX37dvXy8sL/fb09GTq/8ePH9Gmv7//lClTLl68SB8IAFqAmVg6c+ZMdhuQIJ1YGhUVxQYBAAdCQkKYkvPvv/+yQUCRB3RbYSYyMpL9JRa/ffuWqf+yn7qCRe0BLdKmTRtUwKZOncpuAxI8PDyY2hcWFsYGAQAHUIFhSg7MJAOkgG4rKrx7946p/0jAsUEAoFXat2+PCtjkyZPZbUDCnTt3mNoXEhLCBgEAB6KiopiS4+7uzgYBRR7QbUUFHx8fpv6/evWKDQIArdKpUydUwMaPH89uAxLu37/P1D6YCQhoRGxsLFNyZCduA0Uc0G1Fhc+fPzP1//nz52wQAGiVbt26oQI2ZswYdhuQ8PjxY6b2+fn5sUEAwIGEhASm5Fy+fJkNAoo8oNuKCtnnkwOAdunevTsqYCNHjmS3AQnPnj1jah96fGKDAIADycnJTMlxcnJig4AiD+i2ogLMJwd0Te/evVEB++uvv9htQIJ0NrePjw8bBAAcSEtLY0rOuXPn2CCgyAO6ragA88kBXdO/f39UwIYMGcJuAxKks7nfvXvHBgEABzIyMpiSc/r0aTYIKPKAbisqwHxyQNcMGjQIFbABAwaw24AE6WzuN2/esEEAwAGKopiSc/LkSTYIKPKAbisqSOeTX79+nQ0CAK1ibW2NCljfvn3ZbUCCdDa3p6cnGwQA3ODxeKjkHDt2jN0Gijyg24oKMJ8c0DXDhw9HBaxnz57sNiBBOpv72bNnbBAAcEMgEKCSc+jQIXYbKPKAbisqwHxyQNeMGjUKFbA///yT3QYkSGdzP3r0iA0CAG6YmZmhkrNv3z52GyjygG4rKkjnkzs7O7NBAKBVbGxsUAHr0qULuw1IkM7mvn//PhsEANwoVaoUKjm7d+9mt4EiD+i2ogLMJwd0zcSJE1EB69ixI7sNSJDO5r5z5w4bBADcMDc3RyVn+/bt7DZQ5AHdVlSA+eSArrG1tUUFrG3btuw2IEE6m/vmzZtsEABwo0KFCqjkbN68md0Gijyg24oK0vnk9vb2bBAAaJWNGze2atXKxsaG3QYkxMbGtmzZ0tLS8smTJ2wQAHCjSpUqyG9v2LCB3QaKPKDbihAwnxwAAMCwsLCwQH577dq17DZQ5AHdVoSA+eQAAACGBUmSmZmZ7AYAgG4rUjDzyffv389uA4AKtm3btlG/fPnyhb13wcbT05ONsb44fvw4e28AAADQbUUKBwcHe3t7X19fdhsAVFCiRAkk8fWJoSwHvWvXLjbG+qJZs2bsvYECzJs3bzwMCi8vLzbqgKEBug0AAEWkuq2yjjE2NmZuZHC6jU2ALmFuBLrNIOjbty+TX4bCkCFD2KgDhgboNgAAFGF02969e9ltnWFwn19jdFvp0qXZbV0yZ84cdC/QbQYB6DZAb4BuAwBAEdBtqgDdBiiF0W0dOnQIL/C0bNkSRRV0m+ECug0AAEVAt6kCdBugFEa3DRs2jN0uwPTv3x9FFXSb4QK6DQAARUC3qQJ0G6AU0G2A3gDdBgCAIqDbVAG6DVAK6DZAb4BuAwBAEdBtqgDdBigFdBugN0C3AQCgCOg2VYBuA5QCug3QG6DbAABQBHSbKkC3AUoB3QboDdBtAAAoArpNFaDbAKWAbgP0Bug2AAAUAd2mCtBtgFJAtwF6A3QbAACKgG5TBeg2QCmg2wC9AboNAABFctRtohivK7uXTxkxqE/PXv2sx85ac9DNO5Zkd2pAIdRt2jIN6DaDAnQboDdAtwEAoIha3Zb25fw0y7J8Ah0hA8Ev3fivPS8T2IM4Ush0mzZNA7rNoMhZt2lP0OcR0G2GDui2AoAowvPy2Wtvo/OjCgOAElTrNirG3bauQCJMCJ7ARMCTyhRBm42fNCvFhUm3adk0oNsMCvW6TbuCPo+AbjN0QLflO8KXK343IYwIM8u1XiI2DADyFZW6TfRhbWtUWo0Ik1r97S57RaRSYio9zv/5pR3Tuv5WrEjrNm2bBnSbQaFGt2ld0OcR0G2GDui2fCflyqiyPFSNeFUm30hjwwAgX1Gl26jgPV1N0B5+7Zn3UtgwKQlvju+8FFhUdZvWTQO6zaBQrdu0L+jzCOg2Qwd0W/6T/uXCQuu+w1e6BEB3G1AwUKXbRO/XtBCgPYIWq99ppbQWHt2mddOAbjMoVOo2HQj6PAK6zdAB3QYAgCIq+9uijvc1w694+DVGO4doobkpRP1t2jYN6DaDQqVu04GgzyOg2wwd0G0FAIoUCYVCEUmx23QIChLJBukB5q5S9Hx3oAChcnwbFeYwiH6tb0SY1f9r38vYPJaRQjS+TdumAd1mUKjub9O+oM8joNsMHdBt+Y7og10r+nGs884AtlKnXh5pjio6r6qtR2rsa/tFg1v/VtpEULx83T9Gb7gRJMSHUNEvj80f3Lq6uamxSZkabf5e4+qfTp/LIgx9dGDO4HZ1K5Yy4fNNylg07TFpq0eg3CE0VIL3xXUTe7euXaGkCZ/A3kWKSdc9QexRYnF68L29Mwe2qV2+hIAvKFG+Ttsh84++iIQXu4UUlboNldevJ4ZYGDMlhTD5zWqx08ckdld2qLTYYP+gmDSVEqYQ6TYNTSNOj/Lz/uDtH6u6EoFuMyBUj2/TvqDPI6DbDB3QbfmOGt1WrvPf/WuZyokpQvDbX6c+vNjZz0I6P4mGEFQfeS6YPV/ke6hfNbb9yILgV+l/+LNsKyHyOzOmPv0oKAthUqlBa0tLy/ZTLkTQh1HRD1Z3qaA4hx0Psx12wje7FAQMHzW6DZH60WFc45KS8kCY1e672j1AsSBQ0U+2Wjc0R8WQMDZvMmKvZ7yy5qpQ6TYEJ9PQiHw3WAqMTKz2hapsxkG3GRCqdRtXQZ8a8dXb2z9GlY5Pjfji7e0bquZJgCHn5wHQbYYO6LZ8R7Vuw5XcrGaPWTvOuN68cfHQkt418KwkVPFNTAhB5Xbj1h67fP36xYMLrBgNx68x9TYz7jX1wrASBFHst84T7Q47ud1wPb1x1O+l6DmrFUddiqcPQZCBh3uVQaHoWp1m7Drn6nZhz8zOVdCleOV7HcjSd+S3Y/0r0ieXajh0+UGn6x7XnQ4uHVS/OLonYdZ6zWtQboUP9boNk/j+1PR2FSUPBwS/fIclN8OyXgKJPh/oWZ5HCCo16znAqnE5Y4JfbZij5LlChsKm2zA5mIYFdFvhQp1uQ+Qs6IWvV/xuTJg2nOoWoaxECJ8vamDMqzzpeg6LDnAoV6DbDB3QbfmOat1GlGy38olMp3ry3em1+LjWG9eb6BKa1RAkP5rXwBgF82vOuk97gtQLo5pY730Vl3WqyNuuNb6JcYPFL+j3rGIxFbrfypQwIkxbr3mTygSJxSkvljXDyq3qRPdkJiTphu1v6KaEoNGs2zFZF6TCzg+vhsJ5FUY4x7FhQKEhZ92GEUU83jXq9zLsWlREyVZLHzJLiFIxF0dW5vEqDjzuj/V/6ruNHUsQ/Foz7rKFKovCqNswKk0jBXRb4SIH3YZRL+hp3YbCeWW7bn6TbeIp6DYgC9Bt+Y768W1ylTTl8ii6H86k99Fo2UopfDyvLq7xJr2YcDI0IFihFyzNdVwFHpJ21WfcY/eI3qxsiu4raP6P7HK/wqcL6qFLCSzX+dChaTcmV8F9cqX7n1R4Ckx/NLcOFm6VJ+bkSQCDg5tuo0n9enG2pTnukEXivuHCJ+gZgIo+Nbg0Ydxg4VNJKYy/OLICj1dlgpuicCusuo1GiWmyAN1WuOCg2zCqBT3T38bj8QhCUGv0hSCFHlrQbYAU0G35jga6TarPFHQb+XlTW/oSf2z/plDbEVRSwJPzm0f+jgey8S2m3mbbUipk358mBAqxvSnzcBfn9Hc5nhFh0m1vMK0A/bZ1xFfmlW3Wb+QoeYa2qYx7/0y67g5izgUKDRroNgQV93BJK/ze3IhXcawLkvR3pv3G51UY5yoVKlTEoR4mhKDpyjdsgIRCrdsQ8qaRHZsEuq1wwVG30SgV9LRu41UZtmx6UzOCKNVm5RO5HlrQbYAU0G35jia6DVdddGg23fZlS3v6Eh22fs3SbWSct8uOOUPb/laCT5hWqFoeD4KT0W1i0n9/91KEEVGi5ayr/rTnSPJxGFMfaTmiRNddzIVE71bTaw/xyjboZKWcXjPOgm4rbGim2xDJN+nX6UZImonF8fb9TY0EzVa9zerITXOfUInHK4dVnRyFXbchZEzzRqZnG3Rb4UIT3YbILugZ3YZ8fhKexcAn+NUGH//CDmpBgG4DpIBuy3d0ottEwdcWdqxoTPBK1u09e4/r++ik65Mq4/ekMroNXe/TsSG/YTlHCMpY1K1TpSQ99IJn3nWrF3tfKmh3F3xl44ZLJOPigCKAKt1GhZ+32/ZcyXewya9bO9AFpd58dNABKxMjgeX6j1kyJf3u9N/4RPFhF9htCYVHt3ExzVOZOgS6rXChoW5DKAh6qW5Dvjfh6T9tS/MIs6Zzbkk8Peg2QArotnxHB7pN+H5j+xIEepDru8+HfQeapky3IUTBV2c0p+eaIvXGM63UtN+80+9lXuekP5xdG/sW49+XecqdCBRmVOq20H1Wxcq3m3Xuo/xAtRSvdbjEGRGmVgdQq+MwwJQwbrL8VZZMSXMdV57HqzDejd2WUIh0GwfTyDaloNsKFyp1G1dBL6vb0M5g57G1BQSvQo/dH5jXqKDbAAmg2/Id7es22gGghqLY4DNSBaZUt1HRtxe3MefzSjcfu/nMjee+ESnZq3r6i6WN6S65kpaL7kYp7hdFvLh8+6vM2x+gUKBOt+FvLRJmFu2GL9p27OxVd1enw2tGty5PL+9HlO51KBCVmfsza/AJ8xEXpQqGCsLfaBS0svNmAyQULt2Wk2nY+k0Duq1woVq3cRT08rqNPmCbVTkeYVJv4hW0X063CROjIyMkRMalyBQs0G1FANBt+Y4OdJvnssb4MH41a3s/fAEy+vle67p48Td0yZupMS+vPw7D5yc5DsEjLASWdh9U96VR0W6T62DlhhyMBV4R7vy16+4uzg577WYOa1+9hLHFlFvQEVfYUDm+Lc7Vtrb8StBZ8Mp33+1Nl4XYs9bmBL/GtDvsxAQq4uSA0ihgxl258owoROPbuJlGCui2woVa3cZF0GfTbejUyBszGhcjeOYd176MfZal2+iJP+hcBpmWAwG6rQgAui3f0cF70vRX/7QsRvsEnlmFOvV+KyPglSxXlm5TeCWqWJQ1Y1f5oCLdpjdGyo3gl67bdeTc9YcvP/KNViLCkr32D6pOr/mbDaJkqzWeMPKtsKFmXgIV43libp8GpeW+n0GYVu04/ZS3tEMh7urYqnyi9B9rPRNR8QxztW0gIARNlr3MVrgK1bwETqaRALqtcKF6fBtHQa9EtyHSPx0ZUIVPGP82dO6IehLdJvLaN6ZPLwn9F16JzCpDoNuKAKDb8h2dzEsQ+l9d1v/3SmYCk1JVm1hN3OT2JfLpxt51yhQrUamh1ZT9TyKwbEv+7LZtmlUtWuFJIPglLFoNmHPoaWTWExyGjHp5cunwLk0szIsZ83jGxcpUqWfZa/yq4w+D5GIIFA7U6DYGKiXM69aF4wd2btu+5+g5D69w6ZIfDOS3EwMr85BoKV+7gQUSMoRJwxk3ZdZtllCodBtDTqZhAd1WuFA3L4GToFeu29DJ8Y+WWZYkaGB8G4AB3VZEoWJuL2xJz0cgBOa1W3e26m7VybJRtVKSj+iZ1p94mX6XChRFctRtHEh6bz/TqkF5M9OS1VoMWe0WqLRXthDqNo6AbitcqNNtDDkIelW6DUEGnhtZE49VAd0GYEC3FU1E3mstkR8gTOrbnPGVeYWTFvr02BRmRUiZT2IBRQ1t6DZOFF3dxgHQbQZEzrotB9ToNkTyq41dzHmg2wAM6LaiSarTX/gbx4J2mz/Lvw9FCF8tb4Lfxpr2PhbDBgFFDNBtqgDdBiglz7pNf4BuM3RAtxVN0h/Oxp+o55Xtsctb4RPGiW82di3DwyNmx7pk/7oxUCQA3aYK0G2AUkC3AXoDdFsRRfhuY3vc42ZEFKvWqs9I29kLFi2aP2vS392bVqInjhKmTRY9yjYHDigigG5TBeg2QCmg2wC9AbqtyEKG3lzVs4bcZFIWQlCl4xxnPyULggBFBNBtqgDdBigFdBugN0C3FW1Sgp5e2LVi+pih/Xp1t+rRZ/BI28VbTt37mggzSYs2oNtUAboNUAroNkBvgG4DAEAR0G2qAN0GKAV0G6A3QLcBAKAI6DZVgG4DlAK6DdAboNsAAFAEdJsqQLcBSgHdBugN0G0AACjC6LZt27al65jw8HB0I4Rh6TZTU1M2Abpk6tSp6F6g2wwC0G2A3gDdBgCAIoxu0yeGpdv0Ceg2gwB0G6A3QLcBAKAI6DZVgG4DlMLoNkSTAg8TT9BthgvoNgAAFLlw4YKjfgkJCWHvXbDx9fVlY6wv3N3d2XsDBRipbjMUQLcZLqDbAAAAACBPHDt2bL5BYW9vz0YdMDRAtwEAAAAAABgGoNsAAAAAAAAMA9BtAAAAAAAAhgHoNgAAAAAAAMMAdBsAAAAAAIBhALoNAAAAAADAMADdBgAAAAAAYBiAbgMAAAAAADAMQLcBAAAAAAAYBqDbAAAAAAAADAPQbQAAAAAAAIYB6DYAAAAAAADDAHQbAAAAAACAYQC6DQAAAAAAwDAA3QYAAAAAAGAYgG4DAAAAAAAwDEC3AQAAAAAAGAag2wAAAAAAAAwD0G0AAAAAAACGAeg2AAAAAAAAwwB0GwAAAAAAgGEAug0AAAAAAMAwAN0GAAAAAABgGIBuAwAAAAAAMAxAtwEAAAAAABgGoNsAAAAAAAAMA9BtAAAAAAAAhgHoNgAAAAAAAMMAdBsAAAAAAIBhALoNAAAAAADAMADdBgAAAAAAYBiAbgMAAAAAADAMQLcBAAAAAAAYBqDbAAAAAAAADAPQbQAAAAAAAIYB6DYAAAAAAADDAHQbAAAAAACAYQC6DQAAAAAAwDAA3QYAAAAAAGAYgG4DAAAAAAAwDEC3AQAAAAAAGAag2wAAAAAAAAwD0G0AAAAAAACGAeg2AAAAAAAAwwB0GwAAAAAAgGEAug0AAAAAAMAwAN0GAAAAAABgGIBuAwAAAAAAMAxAtwEAAAAAABgGoNsAAAAAAAAMA9BtAAAAAAAAhgHoNgAAAAAAAMMAdBsAAAAAAIBhoEXdRgY9cT5/jisXrr+LofBpVOSNxV3qVG86bNh+r1T6QoWApC8exzYtnTZqYO++1uPnb7voFUOye3SKqiw47+IZQRs7R8iYt5f2rJ4zbmi/AcNsZvyz/9KzwCRKTEW5LF1yKVJyCTLwsRN7ZW5c8PCJDX15VS5q56+8DONiFKH/Qye5Ey+4e7G7CjppEe9vHLez7dd2gmMsG8QdYeznB+d3Lhpt1W6maxobZoCI4r48PLdtrnUn692fcs5uqTPIL1+QpyzTHA3TSyUHvbyyb9kYK6sVD9PZsAIAjtbVw3ZzJ42y7t+r1wDrURNnLN1ywvWFf7wI7U24v2HesU/ol4J3uuDhHa/UKVERr1wUvdj5i08D/PN0enAOpS/fi15hRTMPkCc0qb16rulaRou6jYp4c+307kX96hYjjGiIYpUatLKUoVWL3xtUL1eMh/cb11/4TIhPS3AYQJ9gbFxvwVM6xLChoh6u7/2bCWsDBkJQrff2V0nsEbojexYYV+08bdNx59s+sTnrNjLUfVHHCsaEoEKLARPnLp4/2bpb0ypmxqVrNGtWo6Sg8bJXktyJt+9vylwf3aBY6bLlK1aqVMncjE/flDApXaFSpYoVypmXENA5jRA0++dNhPftiye3z+1RQ2Iafq0Zd5PZK6qEij7/V3kec4IRr6zluLVHnO59YncWYJJeHLTt07isMZ1Wk95Ho9lwLlCxj/ZMs/6jZknafETJv50NsyEhv15aOsyyMpPfgtZrfXArrh6pM8gHX5CXLMstGqQ39fWRyVa1S9Cx41tMuVUwdFuy7+U1w1tWEBAEv1StjkMnzVm6Zs3SaSP7dGhYqRhBmJSr06ReBRPjOnMfoehSEV7XHbdOsDRn3ALBt7A+HaCkJadifW6dP7BqRHNzXPEJk+rdZ2896fImLCxPp+f04JqfRa+wkgsPkFs0qb35UdO1jPbfk6Zcn1SVbmj51WfcU+ZcUvyvL+1oLqg1m3lkJP1Pj6xjJijfrt3KBwn0AYZMmtfmzpVq9Vhw7M6HoJjYUJ8H9gu6VROgAkIImix7qSdfK80CouQA++icBRuN8N2mDqUIoljzubcjs7xh4gd721bYU/LKj5N0+1DhB7ubECZ1hm69/jFGkqS0G5Mq0/c06X5Q4iLJ5JCXjvM6lOMZN2BFOnKPTsPL0schGWY+4GSY+tiRX3d0NqOrF0LQZoOvjh/YtEvakwX1jVHEc+ca4i+NqogsZbi6jYb8urWDAGceJ68tdQb55QvylmUao2l6484Nw2qkYOi25A/2E5qV5qFnt0p/zDnzPkG+KqcF3t40qJYprry8qrYeWV3GCc9Wt0NnYXilO65/lcKGK0L67ehcjODXmXVf7og8nq6SfC96hRXNPECe0KT26rmmaxnt6zaR99rWOJuMZBprRYQvljSpMfV2lushSY7qomBDBhwa2Nb2SpBc8Ux9s8YSP8kZN1r6Uj8PctIs4NecdZ+jf09ysamEXHCJAfYxbIiUZM91f5ThmfQ6EsVkEum/o1OxenMeyPlDZbqNhgw61Mu8xvS7bDyEzxc1wNUFQwharvFSV5XTny1qYFLFoir9ZESYDXHMsX+uQEEF7e5qgmKeO9cgere6OcpFA9dt4tQL1sVR9mngtfPTGeQty3KHqvSSwU5bTvjKGS390Zza/AKh29K89/epjHvY+ZX77H2nQhqRoVdtG5gShPnoKzKv+kVvVzWl3ROCENS3dZUOwJBH+GJxQ4H5yEsKF8/j6WopJO1QwUJzD5BbNKm9+VHTtYf2dRv5dUv7nHSbOP3J6iErC9IQDa0g8to4we5FNj9B+tEPHHyLaXf0k2JOWSAPdnJITvHKjXFRIhKE3hvalmyx5h1T7UQf17drrPgyQaVuE1PhR/rUmODOOm7sdYvV79i+Emp+sE0muKp+uo27PLpyMcuVqwfRXW5EqeEXDUvAUMF78qLbPti1Qrlo+LptGH65pwevrQ3ylmXaJN17p1XFpiteyxlN+HhunYKg21Ker2hBv1XkVxt+IVyd1kl+uqixwGzoWRmviF2AiUWrlrTsQz6nYp+Dn5R5KezGitWeo9hM5PF0QN/ozwNoUnsLTk3PDfmk2woporQ0JSWTCj9gZWJEmFntD9LP01wusiD97vTqWEnxq090i2PDZKAiTgysb3uT0V5k4EW7g54K7lC1bhOTQZfsDki6Gmnd1nr12eXN8NtjpEq671c2SAVBBuyzKll2kIP/WWvQbYYL6LZcQMXfX9DMjDD+vUDqNtJvdzd6oB1h2n5zTmPNqeBDPcv1OSbTi8+4ALsnHvN+p7WfEVG81dJH2R/fyICdnc2ye7A8ng7oG9Bt2kf/ui3+qf3599nyLyX4xYvbnkonGFIpER+fuDked7h8941/nIK7IhPCvvmxfAuKkXTqxIdKQ/2+BccqnhTve/vxVxwHUcSba/ZHHTw+JTJ7JAjjA73uX3U4cuTUlcd+CXkcVJVwdWwlfrEm8+7pa9xELnQb6betIyOkjH8besw3m1Cgoh/bO39Qcy01uk0Oxuuu/RB4rG8Z5n6NFj9X1gYJX6343bTW9DvJKedyqdvI+M/3bngyL3ep5MCnV04eOuxw5XmQzCsbFPzC9eyxg4fP3PgQo9KppEd+uHv5zNGDB487ujz6HKvOoilBL9zQ9Q7aX30elEKqdQ05lbE86DZRYvC7B1ccjp644P7QO0ImvfJwS1cezajgtdNCX9+4cOLw0TNunqGqkoWcgTJfkB7xxu2uL31bKvHrfafjBw+fcn0drkrAcK3DGmSZHGRilutBMN6HSgqXDUTBgVGSZCZFsLtkwmgU0kvFvtjSk+5NMm4ww/UzfUYoPTUzm25LDX6J43741LWXIZoWEuQ7A17fcz1//NChE+euvwpJUVNr5RC+WtaYHupAFLPaH5zjWVTEmfHj7GUGsrIuwEeU7rOnBzPpiDCuMepCiEIeqdVtuT5dPSqKnnZcCWeDq23y5MlzS8XhAvr3ALqpvVp0zoicVYQO0btuS7tpW+/vC5L8EsX4XD+0fEzXumWM+fxasx8oFtGkDydtLatW7zRp1YbVM4Y0L2/MK1G93eDJC1barUVsPPvmx7e7x1cPqc/MBKoveXmX+O7ybrtpVtVpJWLcZDk7EzI96r37wWWjOtUsyTMd7JgU82DVH+XoznZeZRsXic0T3zvM7NakUdseg60HdqlXhkfwyjQevudFXI7+SQVJL1ZZVmk57aK/Rv4jT+Smy5P0P9CjNLYF8oL8Ch3nOX/WbCyZhrrNR5R0a2oN+l0pr+LwC9knTyS4TrAwa7MB1fRUDXWbMPKd21G7qQMtLYrzjBsv9UyPf3N8SrtKdFnAlynRZLprOCUmI5/sGt3MnJlUhIIFVXrteqd4fVHo3S0jW1St3nbY9FWbNq+e1rdBab5J1Q6TDzxnFrGRgYp5sd+mZaVqliMWbMlRPzwAAIt7SURBVNi6YcmEP5s0t54/qhnOh2yugVMZy5Vuo2JfHrLtWKde59Hz1mxYv2REC3OeoHL7qad85HOTQ7q0ZcYsr+317dqirhZMHwl9aLVui68FZjl5WWcg4wtSgp457Vo8xqphOQFh2ud4TPKn87PaV2BviCzXesFNxRFOHOuwJlmWnbRPzjPalGF0g6D2wH8cXyHbCf1ubrdtW44J5VfuaLv+1DP2PSLpf3OzTUsUmRItZrphkaE8vaSf/biOLeuUwwkkzKo0bIlpM/4ULZBkdFui/9UFnSpLsgPlR6OJToFc2+30b1eX9a5b5fdhKw84nj+1e36vGqaCKl2We6gYKiaH6P2aFrR3MRI0/0ft8FQVSF0AyoFwl4l1mTTwzLtula9/Oem23J2uFBVFT3uuhLvBc2zypDU5zy1VDhfQvwdg0EHt1aZz5qQidI2edVuK904r85LDWN0W/+zwskVzrPGcJOSLFHUbGRDgMLQqX9BsxStW2Ke+WdsOlwCCX6V1v8GDBw9b4xGPw+NPD8bBWbqNhoo+1gcXEVa3UVH39y2bP64DM7DKtP/aXX91Hjp3nnXjkjwjonifY7TYSPJc36liw0mXAtiIpH09OqgSih2vXM/9nzV3UcJgj3/+rGxac9Dm24FsGvRBbnQbiqzvwb7smBEEr2SDwWtcvnAWbxrrNrHIZ0MberoZYdZx62f5FocKOdK7TLkhp/GVNNVtiT53rlzcM6o+9i/86n0n/tWt99TNDq5P3ns/PzOzdSkUSX4t2+PHx3foarvb5ZmP3zfvewdH4qOJUj0OyrZ8Ir9Tw2uZmjaadj0rQcnv9/WrwkcFpvEUF5kuBCr2/jLL0iZ1bJykc1Ko2Cer2peizSnvGriWMc11GxXmMqVRicq9dryW9OySvhvbmqCUGde0dZe+/uaWLm2ZUeK1G/bp17BSk/62S+3WrZo+uGlZuqQRxRrO8mCWqJF3Blm+gIry8rjqsLATvaqDoP3Eud1b9Zy1w/Hmg9tn1/Sjn8z4tWfek7EQR/tqkmWqEHqtaYUXOZAfukoFH+mD+5L51Ww9skIxuFe7WK0Zd/FgL1XppUlzGYNnXat8T1pl0MzRLZsPWbTr7K1H9y6sHUgvrsOrNOqSkjEO2Ym7OQ2pHUHrdXT/ByblwZx6xqjhGXkx2/NINuLsB9D1EWX0X044JZoiI7wQyZ5rOzDzQwnTRjM9ZO6fs25DaHy6ElRmhbbqAGeDk1ybvLy3VDlfQN8egEYHtVebzpmTitADOtRtRPHqrbt2k9K1c/uWdcvjRqSERLcxJF8cYY5LhoLvSr5ha2vBNzJuuPhFVs2LvzIGqwNe1UnXZTxG2s3JVVCogm5Dzm8sfvDN6m9DSKYzEiV/n+VO9/wmfnQ/cfKWH45RyuP5DUwqjXCWrUpCT+alAL/qeFfuYloU+/HG/nn9GpSR6CCeueVc15yWftQWudNtiOQPx8fiEiiBMKvVa9nlL1ycs+a6TUxFOlozPRO45ZW9ieidXctikjBNdRuN8OkC5BeNCJMmMz1kljVJ8cBlCmdH1y1vs+5IBe+3QvcgzHoflcZd5LOtc2mCV9XmKuMoJVCR5/+ma3L5AcdZ50RFu06saYycsLN8v2Hq7Wn0oEFZ18C9jGmq28iv+7qb88sPdgiVubTIZ70l7XdrSBbl0SBd2jCjxGsTxnVsLmZNtE77Yj/sN7pLSdBw0dOsZxqJM1DQMeKY431M6Ru2W3IrXBIRKurMUCxvZI/maF9NskwNVOixvtj9G8usbohIvDYOOyRB05VvpCnGxDhaV2gpmd5DoyK9Oeg2wrhq752vs4pK3KXRTOMy5iqHuprs9BfuWRe0WJ0Vk+Rz1iiXeJWk84dUIvKmiyU2Zy5H2ckLLyxWTg+zYBwlEqQn/LLCOeg2jU9Xiaqil/c6wNngqM3j1uTluaXifAH9egAd1F5dOGehOhWhF3So23gVu85Yv1HKhrX/LJ4ypEUFY0Xdln5n2m/IgAq6Lf3BrJo1UbCgzUbZka+JzsPxg7eg3eYvWaFIt+H1yrLptms22XQb+XlTWxw7k657FEdmUBEOg8x5JQecjBTJknRtPPaJ2EvJLFyiHiry5cXjh/fv3LDMtm8jc1a78cp02fFRWmx1Sa51GybZ9+LyfnVxRWPhlW426bRvTu1BLnQbqjuP5mKngKv/IHv2dRIi2WNKjeLtNrHGypVuYxfR4JUd4yLbEFFh+63woAZUfuR6+NgyaFxv/hPWXknuE5Fj4pUdeSlbl2P6c3ruLX00LhEi7/WWJgSvygQ3BSORgbu60IVN6ho0KWMa6rZEHGFelfFu8vGlYh9vH93dymb/ayZcg3Qh8mxGqdfGEkSuKFIRZ6zp0Um8yjKGkzgDxcYz9TyzloD8DUU+6yyxiUwHnmJcKlf7apBlORDnPKICujS/zuwHMhZimzXskbKSQYWfGFC5265vSiymoW5TVExUGJ75hMzTaYe/7NWVI3q/tZM5v1g922tZLVnaldFItBCmAxxyGoQrHd1mpGqBzpxQFF4o/nH3FzanKzkq7m1XP2dWKOeo2zQ8XSWqil7e6wBXg+M2D52aY5OX55ZKgwvo0wPoovbqxDmrURF6Qt/j2xLvz25QRkG33Z1O1xf5CoM9F/0sXXsOXmtbAum7oQ26uqClnczcBo102+Z2OHamgx0V8lGc4PS3OY8QlChXSTkWgw7nJpNEEY829KhEazf+b9Nu60OR50m30aR+u77euiHuCqch+JV77fJSNJgcudJtKKY7u+D2GD3PtbJjH0apcPuBZcsPPSMZ+pFb3YYH4Si6G3HymcG430bR3QhfLmmEGiNe5YnXmcPTbk2hG17FhpMm/cHsWmgn7mXxFNIpQrcysdov29GFyT5lSZMyppluS3GbgOxvYnVA/UrGGqQLk1czIiRvSeRaWpqka3jJQHS7hkuk/QsSZ8BNt2UzMEf7apJlOZHiMYWOcbVJ16UfRJH2JPOrT70tqTbkl22dKg9ykK8cKtKroW5DRmaXyMp6E6cWKjUpOetAUfS7i7MtcSVTYhFFkHOhl1FFJbPMiEu5cWfZhRci3Xd/LyyA0WUFtcdfwQ9xnHUbgvvpKlFV9LRQBzganM31HJu8PLdUGlxAnx5AB7VXN85ZjYrQE3qflyB8tqjVCA66TeT1TzM8bpAQtN8i07VGftv+hwB5DOtzMm95tKLbRG9Wohzm15wlX2u1QsKDeY3x26psL050Q951G02y77nplvSwIgRh0mj+QzWj3XKn28Ti2EujmfP4FhPd8aOn6OPGtsXrzLovLSJa1W0pjsrdjedS3InAqzCO+SiEZFFGFRkWc5weOUmUsD6fTIUd7G6KnpxL/OWkGLtsrkGjMqaRbmPSSxQbot6RaJAuOiCPZsSo9trMdzfQ4eajr0oOz5tu42hfTbIsZyRLH5Yf7syOLhP5bGhr3qxtMxTjrLHKwlfLm1rYuCh0Z2lNt6kyslrSw56fWTNx6OBxS/cstsLveznoNnH8GXo0MTYSh6OVoFR4IdNHutrSY6mwLXvs8UnXRLdxP10lmuo2DeqAFPUGx20ervE5NHl5bqk0uYAePYAOaq+OnHMR1G3i9OC376UjVDDKdRuyzd69Vkg1EMb1p9+SDlyMdR5RkSeoP/O2rP/Tim5Lvz3Vgi/TZGkVKmjvn6hF5FWVrIGmU7Sk2xBU/MtNVuz3QYlS/Y6zwUrIrW5DNX15E9rdEqV6HAgkU+7PqlOiwxaZFwX5odtEPswXJ/jVpR96kAWVLGwUwrS/fTxT3Y0IsyFnFQtONtegURnTSLex7ydMrA5kvW5WggbpogN06rUlFZRXMWuQT950G0f7apJlHMBjCPG43dIDTtIlP8ljSi0Lmyt+Z6yR++KVtT6Lh8sk35pSq57cu1Sa/NJtZPSLw9O71W/cn517xLy2k5cRKiC/sN4F6aMxVzgUZEVUCC9EyusNf7AzdM2aLbjzbocGug3B6XSV6Fa3cTI4avM4NHl5bqk0uYAePYAOaq+OnHNR1G3ZUKHbkGWpqPvrelc3JXjlOs23v/f+k9f1bUPrVbW0Pf1RviHTjm57SL8k0lGXmPDZwvrGyCSyI051hgZZkJYYn0JSMU6zJp8Kkq1/WVDhZ6yZNxC8iuPZMCXkWrfRH8KiVyAhBI0XX3ewrlDB+iyzVhBDvvS34QdBfE/THoeUpAYlFo8751WZfDNN+HrF7+hUI0GHrV8VLJjdNWhSxjTTbZIPIMl+CTI7GqSLDtCx12ZuJ5B+iSPLGeRSt3GzryZZxgUycL8VSiNR3GpfIEmFHO1bvuXqt0JxoguenUCU6nssjIy58HeVFkpWzcgX3Zb6/rB1bVNBnQlXpCuVaaDbxCIvVChwjUTRnnGXc5WUolp4YWdwdjg9Wt2I4Ffr1Lm+qSa6jdPpKtGhbuNucC5NXp5bKk0uoEcPoIPaqyPnDLoNoVK3YcjQS+NaWg6bNmPSmFHjZ/2z8/zLiOxG1YpuI79t64j34HVg5UooCxXmsvUo8sa5A+m2Bsa8sn9f4DRRP49wzoKk29Mtba4k4epTrf6s+yqeM+IdBtBL7vDKjWVDlIAuwU23oScg5HW9ZXMx8cZkXALQHUqXL1us3pyHcm1Bfug2ycsvpFXHukiHLUlJPDsUt9Ml+p+MpvCYcLycCWFu7RjL7mfJ5ho0KmMa6TYqeG83/MaBbzHBTeFVHE2a7627fijF3NNFB+jWayc6DkG75Op93nQbR/tqkmWcwBNbcT+JSbtN3p4rm1ccxCwzm3pvJmoJCLNuOx/v71mhy06cAQrkg24Tvl7VHBUVQeedMh8q0US3ISMd7s2s9chj1+rRCGUuQIaEh0ta4rymUeLB8ni6SnSm2zQ0eI5NXp5bKk0uoEcPoIPaqyPnXCh1GzvXIu+6TSj8dn5S97EOX5VZUZZ0ZrA1/zf5lz8JZwbjCiw3R1+NxaWTe0t13uotFxFEmu/BwZ0XPNL84ZKBCj3QvRj/t4lu8msv6Ajpmwz1WZDmtb595UEOMRTOs3YmpTpt8VZq6cQzg7FwIkw6bmVDlJDmPoEeYop1m7pXdcLH8+qayAxEpxF9WNsaqw50k2LZ1nJLdhxCy0a96jb8uYamuFOBV3XcNUUhxJQUXqURTljeiN6vaYmPJMr0OiSzahFC6hqkn+TXpIxpNi9B5L2OXvCDMG264L7CEpVUzJ0Ffae70o8M3NOF0anXTn88t64xYWq5TmaKUd50G1f7apJl3Ei8Np5+dKzXoV3V+rMfsL6FWUOAEFSvU7P8gJPKqoUq3ca8sM5Wf7Wg29guCMJs0GnpYg/oApdG4CXnTKz2cdBt6PDXdm3xDVHa6k64qn4qDBX7dNvMzY+zHgqVugBZhJ8P9a1IOxNlHiyPp6tEV7pNI4NzavI08SJK0eAC+vQAOqi9unHOhVG3CV8vb4JTn925qCDt+kTc4vMVjk95smRJU7NSPXb5JuXkSSRLChk3WvBE4h5EEY/selRmuiCm3paWIfLTRjw5x8i038lsEkrks6k907NjUnPozsdhksgkfXVb06tWwyluWbO4VUAl+L189j4sW16mvFjWvPhvw8/JLeAm/OQwoW3deh1sHemPZWgR9q0+bkZkpmPLk/rpzLiGZsW67aW/mZpycXgZgjBtNP1GttaKir08hn55Vn6QfTAbpgS2cqLq2X6LYpe0LKkuY8vzsy0TRYU7DMYdDLzyf51TsDIVwbzaU55nqmBNkM3dJJ4aSLubVnZyz+vCF4txleWVt7kmOZyKuGxTw5hAtdhqn9zSDeKUh3PrG/PMrXazC5VIPzXBrzro2JesIkyGnfu7KmoJkMeSTvPToIyJvP7BM/CJ4tYX1DphFirEYTAzEpFXtu0Me89I5tLCiBdHJ7WsP+xMCHth7ulC5N2MMl5bvoeEir02/jd+sWYLH8gNVWWdgaLvSHYcjMW7QjNBsnMbTXpK/TQ3+2qSZdxIezinDu30i3fZmVX+RR83tME+iFd5zBWlZVdFeplhFUaE+V/nmdOEsTEJKObp92bgRad4Fca7ZcsPbJ5mOX/AIP0+vdgEuuX4a5LOf2HI1Yl1cewFHbYq6RRURrrvsaH0ar9GPPOOS2+FKr8tGf3ysE2z2t23savQ0Ch3AXJQUdenNsBXVyK88ni6SlQVvbzWAQ0Mjto8Tk1enlsq7hfQqwfQQe3ViXNWpyL0g9Z1m8h/n1VJnHaUeEu791mGUgUZsKsL3ZVJFO95OOvZQ/SWmU+KwgUlK1jUqt/o9xaWbTt2/rN7v78mL9p06mmYTH0UfVjfBhuc4FewHL1s/bqltgNb1Ov6z9EFLfEVeGWaDluw6connDvJN23xQxVe21BJZ2jqq43MuuwIoljF+q07/tHm9+rmAmOLwUd9c05K3Flrc9QgCqp0mHL4eRRbGKjY1/uHNWny9yEv+deQkuqMp30/ZMO0g+jbvu7MWtCEWcvpZ+6/+vDxE42vj5fn03vXTu9aMa5zdWwvgeV6po3GY0ZoU5VuMmLb3RBpUsmYl7sG/mZMECZ1x16Qf16RJ+nhXPpZBV2igvUZlR1uVPjF0cj+/Oo2VxS+8ILnI/CN681TfFCkoi+NpusXMlTNyde5vmZOuDwaP3ITZv1OyL7vkozL51UceVG2xiVeGkUPyC/W83DWax8q/um6rhX4BK9ct/XPJV1YZPiN2c1LlGo+45rM9xCFvgeYT00QxpXaTdzo4Opx3fnQ0gEtWzetThuFV7pu5yGTD9PHci5jsU7DK+DjFB9pVUIGnhtVCz9c0pcWlK5Wt0GdqqUFvFKWyx/K9sBxT5c2zJh+y7Yayj+eedd1L2Ill6biXu0eaFGywZjTn+WqldQZyPkCdENv5obG9RdIlpbDJLlNwL1cRoKmq96y1Y2rfTXJMk7QMpvgV7W5KltGyYC9fxYn+LVl5kfLoiq9VMy5YXiMB1Gyhe1hl6snV1gPXfcyBemRk/2xcyVMOu2Q1dzCV8yzMq/i2KvZ334rIClXBL+85diVG+wW2lg1azd2zlA8uIco0XLCxi1L5h18wx6sDlGQ66LOVejeDEFFyzFrHR99iZU45fRon1sn1oxpU+23znPOyS3+qNoFyJP6dnNnc1424ZXH01WjKivyXgc4Gxy3efiSHJq8PLZU3C+gZw+g3dpLv9XUgXNWryL0gRZ1m/DVIdu/ujetKGk5UMr55g26Dh236rLMe30ZyNA7e5dPHdTUnMecQRhXaP3XrNWOXrSLo8Jv37brL7sArCyEcZW+Bz5mleO0jyfGNCrFXIgwLtfC5tDrBOEHu1bFK/zee/KaI26vQ34G3dxk279ZeTZ6hEm19iNmrTrySL72o+J0eFL7KrgCM4chjzR+5x3ZT+iqRvhhTy/aj6HzeKWqt7bq1+fPDp36TV5/yUemh5yFDDo+ABVxgl9piIOafiyNEL46ONnaqrEkjTkhszB3nMPAcg2GLFq9YFyvFtXKVqzTokufAb3/aGZRio8s0Hr09gcRSrMQ3dLzoO2I/u1rlmQzEUGYVm7WY9j4lZdl1wAVvjowaeifjbLMX7lF75FLnbMeNsnP27r32CEz/134+tCU4b1bVaNfkjIQxS0s+45afok9Qilk6N39K2z/rMFkISon7cYs3Hztq0j00dlu5hBU2JgrCSw6T1i251aQKPbp4YVj/rCguw7w4R3GLtriKu0xSfnissa6WQUTQZk6HYdOnGLTr3W9xr3nn/KKV2wzkn3OzvmzenFJUeaVrD90y0Ov3V1NzapZDp2z3fll1jeUcyxjyW/OrJph3UryDU6eeZOBU5cffMBhIJEw0H31oIZl2BMJolj17oudPippynNMl/bMSCW8O7N4aKuqZjxeid9a/tl/yOA+HRvVbtJrzgn8QU8JCs4gyxdQ0Y8PzhmE6jYORiWgttXE5affpogC3DZM+KMqW5x4pRr0n7X3QSR9Ka51WIMs4wIZsL97ecu17+R1Al7Ms2KrNdm6wVSml92f+nrrn8yqj6iqdF7kFhz/6sT8vy0rScvE74NmbrkeSIo+Oq2y7Slxk8irdRi71i2QvYhyyMDLs9uUZ67NK17dau6ZDwlUyqOFjbHFkLjosOSm3IR/dVAJPhftxnRpUJbOCIJnUrJc5SoVSpvwBeb1uo5e7iCbxTm6AAXI4AsjazdeJBFeeTxdNSqzQlt1gLPBUZvHucnLU0uFyekC+vYALLqovdpzzmQIFxWhe7T/nlRrJHp5HbHpP/P8W++XD25cOe9w7ODeXTu2bdm03m753IkDW1UxrThG/uGSTArzeXr3wZuAeLZwJ4f6h3MuxrKI4vxePfC4cdfzU3iSosNVD5UU+OK606mjh46cPHvp5vOv0gdQZaQGPr9+81Uol8cjXUOGPL39jm20qaSg13dcLjgcPXz8zJX73pG5MmGhQhT77fWjW9dv3n/hG6HOGmRiwJuHHu43H7wOSMS2TAv2/RKnol3JfRnLkdQw7ye3b971/BKdpt6dcE2XNqBSo/zePb9/093joefnKN2XKY721STLciL1m/eX7Bo5ze/dR/yOU2OEsX4v7tx6+C5UB2NoRPGBbx/cuvPia6zUNlTclyceN598zlXqhbFfXtxxdT5z7PCxMxfdUXnSjtdI+vTifU7v/NSQx9O1CTeDJ2rY5OXdi+jQDSmiiQfQQe0tIM5ZOxRU3Rb/xK5TpUqN5z1U1e0v8lnX4U/ZCToAAAAAYJjQbR40eQAHCqZuS7k3q44xv4b0W9hKSH+xrOeMWxq9yAAAAACAggfb5kGTB3CgQOo2ZgUEQiCoP9lF6USlJB/Hqb3G2HP4hjIAAAAAFGgkbR40eQAHCmZ/W+rzFS3otRMJ47KN+9qu2Hb49IWLl5zPnzqy027emB5N67WZbP8hn1ZOAQAAAABtImnzoMkDcqagjm8jIx7uHDeufbVihGRiB4Lgl7BoM2zpscdZC1UAAAAAgKFDt3nQ5AEcKKi6jYVMDP7w/K6r09lzl9zuPP8UDYUXAAAAKKRAkwfkTAHXbQAAAAAAAAAL6DYAAAAAAADDAHQbAAAAAACAYQC6DQAAAAAAwDAA3QYAAAAAAGAYgG4DAAAAAAAwDEC3AQAAAAAAGAag2wAAAAAAAAwD0G0AAAAAAACGgc51myj8wZ59N6MpdjOfSIt4f+O4nW2/thMcY9mgXJH6zWPfIpsh/ft2a2pRoUqNxh0Hz9r3MDy/vvWraaqoyBuLu9Sp3nTYfq9UNkibJPnevnBODqd7X5TfKC34/oEF691i1BQLMvbD9ZPbV0wfObDvwOG2y/e5+SYoHC0KeOTE3ojlwo0P7D5x0qP965w+JrFbBRNtlcoCQYFNjCjuy8Nz2+Zad7Le/Um3NVUTEyg/Vsc1VJ+QgY8VamcOXPDwwedRyUEvr+xbNsbKasVD+FaAWBj7+cH5nYtGW7Wb6ZrGhtGo3JEXCpVHKszoVLeJwm6vHmA1+czn/PRBSS8O2vZpXNaY/uibSe+j0Wy4xgi/nZ3QpGrrGU6fsBogox+sbF+GZ2RElOi49aOIOUR/5CpVCQ4DiuETjOsteCpkw7QH6be1gwB/F9mi+5yNu/ZiDlx5n8zulZAe8vDgTKuaxQkjE6v9oSp0myjo6rz2FQQy3+lD1xVU6253L1LmDOEnt4P4Lnt22Nl2rIiywkjQ7B92H9obcGVW185TL/gVSOevtVJZECiwiSG/Xlo6zLKyCR0xQeu1Pjqrp5qYQM2xuq2heiXevr8pTiCCMC5Wumz5ipUqVTI349OpJkxKV6hUqWKFcuYlBDw6hK68qa+PTLaqXYIO4FtMuVWkdRsV+2jPNOs/apakDUSU/NuZbUZV7sgThcojFXp0p9vSPzuMbNxs0qXg/OqNkiXtyYL6xnkqj8mPlzQ1K9Fp++es5FAR7tMbmxGCxss888fHapoq0v/0yDpmgvLtVj5IYIO0CKvbBC3WvFfaPIrCn534Z8rffdrVKok1lkrdRkXfmN7Q1KRq++Ezl63duG75dGvLqkzLa8Qz/3OXjzJbi3zWtcb3ltFtCCrm3tKOzUae+aZ3Wc2NvJfKAkSBTQz5lS6XutVtNJqYQPmxuq2h+oQKP9jdhDCpM3Tr9Y8xEv2VdmNSZabudz8YwdZ9MjnkpeO8DuV4xg0W0gFx54aZo4OKvG5jib80Cj+TZpdnKnfkgULlkQozOtJtVPg12wbl/9j0Tms9uHmDCtrd1SQP5ZEM2GtVnBC03ajwpoVKCnznE55f7iVXqSJJFZ1ceUWi29ptltG2MqQEfwnGvW/CZwsb0L5BuW5LeTCnfrk/1jyLk9mX8GbPAAv6SZ1XYeTFODZUBirsgBWyhIJuQ5B+B3tbNF9wT/ZqBYa8lsoCRcFNTOoF6+Ko7Ohet2liAjXH6qyG6hPSf0enYvXmPEhht2mU6TYaMuhQL/Ma0+nf6Y/m1OaDbpMgere6OX6NkU2eqdyRBwqVRyrM6ES3kX5H+1cq1nzV6wJT76jgPXkpj1TIvj9NCSPT/vYF6ik4j6nSMjnpNgnk503tcP+Hct0Wf3FUvb6H/RWvQEVfHFUFu3xepYnXsz8MqNRtuCtuQ9viFiPOq3onm48UrPzLIwU3MakXhuFXb3rQbRqYoFDlvRJEH9e3a6z4slelbkMP+kf61JhA/xQ+nlsHdJsU0Qe7Vsp1m6odeaCwl8pCgw50Gxl4vH95fplBDrJjkfKZPJbHtOvY3xDFh13QWg3RBgWrlnHXbZtV67YUN9suCx8rs3KK67hK2OcrFc9qdJuYijg12Ny4yt/nwguacitUXrLgJgZ0Wz5ABl60O+ipILxU6zYxGXTJ7gD9C3SbHKDbgOxoX7cl3Z5Wi88ztz6rckIKmRDw+p7r+eOHDp04d/1VSIry5jQl9P1Ze/tzrk++xAqp5IRETV1uStALt7PHDh60v/o8KIVUWx6F8YFe9686HDly6spjvwQ50SFKCP3m5/d2czd0NlGi//6Pfll8/fzx/Zvn992cHO9+U1Qq6RFv3O760h1DVOLX+07HDx4+5fpa9RtVNVGQQ4NUqSIl+MVtz7C8Rjg7WtFtZFxwiOK8UQbRm5VN0Wm8CuOUTJ9Sp9vE4pgzQ0oTxnVny7+0yQFOpVRjq+U2/8jEMFQOpXwLikE3pZLCZQNRcGCUxIUnRbC7UBgbJCE98sPdy2eOHjx43NHl0edYVWMzyXjf24+/4moninhzzf6og8enRGaPBC0URk4ln4z/fO+GZxSdA1Ry4NMrJw8ddrjyPEimHKDgF64oLofP3PgQo+AqFHRbWujrGxdOHD56xs0zVHWDx7FCamICzsdqp4ZSKREfn7g5Hne4fPeNf5yaiow87UPXPPlarqjRbVko6rbU4JfYbIdPXXsZojK/uPpPGciErCrF1CeMKB47fJZvwbGKdtMgF3KuQFxqYm51mx5bFIQoMfjdgysOR09ccH/oHSFTMeXg6Hk0Kema1gquZuGWoHxD27qNijo9xJxHmHTbG6ysXqZ/u7qsd90qvw9becDx/Knd83vVMBVU6bLcQ75rjgxxW9i5VqOBTlecT2wYb1m5XMWKVjuyvTpTCRXzYr9Ny0rVLEcs2LB1w5IJfzZpbj1/VDNaKyiWx8T3DjO7NWnUtsdg64Fd6pXhEbwyjYfveSEZDkWFOIxp1qhRvcp4gIwRr7RFw0aYhg0b1K9jUa4YMxWKV27sNTZjU4KeOe1aPMaqYTkBYdrneEzyp/Oz2ldg5ugYoWu3XnAzWy9kDlGQoEmqlCGK8bl+aPmYrnXLGPNrzX7AFuzcRFgFWtFtqkm/O706H2nn3keV9Jup121U6H4rE4JnPviUysZCjhxLaW6slrf8S/vkPKMNnr6Mri+oPfAfx1cxlFjod3O7bdtyTCi/ckfb9aeescYh/W9utmmJClOJFjPd6BCMKPTulpEtqlZvO2z6qk2bV0/r26A036Rqh8kHnsusyJIe9d794LJRnWqW5JkOdkyKebDqj3LM2MLKNi5sw5PXwsiQQ8kXRr5zO2o3daClRXGeceOlnunxb45PaVdJMs2YKNFkuitKLhn5ZNfoZuas9ZF5qvTa9U62JcvSbV7fri3qakHP2GQOrdZt8bVARZXCrUJqYgJux2qxhiZ9OGlrWbV6p0mrNqyeMaR5eWNeiertBk9esNJuLWLj2TfsNG+Jp112KJe+VjM01W2J/lcXdKosnVdOlGg00SlQMW4c/Wc20r7dPb56SH1m/m59ySvdxHeXd9tNs6pO39S4yfJXTLAmucClAnGqiTS50G16alEYqNiXh2w71qnXefS8NRvWLxnRwpwnqNx+6ikfuZUEuKRXExvnplZwNQunBOUzWtZtVPSpQaUJI+O68x4rEdNxN6fVFRCC1uuk7ytSHsypZ4zK88iLWdlH+u3vXkbQfNUb1nEl3p/TwKyN4owAVVCx95dZljapY+MUJLkJFftkVftSdJbKl8ckz/WdKjacdCmAvVPa16OD8Ls4Xrme+z/LeHPy65b2uDSbDjotuyAYGXZiQBl0WV6VSTfS6BAqysvjqsPCTng+lJGg/cS53Vv1nLXD8eaD22fX9KNdAb/2zHuytYxjFDRJlVLinx1etmiOdbPSOGZZrYLmEVaNbnUb+WljG4ERr8Jf55h+F3nU6zax8OkCVMyIkv2OcxBuOZdSza2W5/xDCL3WtMLzavkW0+6wpQVBBR/pgwshv5qtR1YohvTb1rFYrRl3JZ2MIr9Tw2uZmjaadj3LCMnv9/WrgtRw8cZTXMJwKBV1f9+y+eM6VEItJ34nvXbXX52Hzp1n3bgkHifQ5xg+VRuJ4VLyE33uXLm4Z1R92qDV+078q1vvqZsdXJ+8935+ZmbrUuhYfi3b48fHd+hqu9vlmY/fN+97B0fio4lSPQ7KNO8S3dawT7+GlZr0t11qt27V9MFNy9JtKVGs4SyP2KxSwa1CamICjsdqr4aSAQ5Dq/IFzVa8YrySOPXN2nbYAgS/Sut+gwcPHrbGIx6HK3paTX2txmik26oMmjm6ZfMhi3advfXo3oW1A2vgws+rNOqS7Lwkri5cFfGnB2PLZOk2Gir6WB+s56S6jXsu5FiB0DGcaqIETXWbvloUGirMZUqjEpV77XgtGbtC+m5sizKKMK5p6y7JKG7p1aSka14ruJqFU4LyHy3rtrTrE3HFNOm6Jyh7tUx2+gtpOiNBi9XvpIZKPmeN6g2v0gR31sfQE5FMCLOBp2jXgqEijg/qtCbrHDVQ0a4TaxqjFtZZfqXf1NvTquOKJFseUx7Pb2BSaYSz7AOO0HNZYzzXkV91vGtWn7YK3SaZ+cSraushiT0m5ngfU3Q0z7zdklvSNXmpqDNDyyLTyDxJc46CJqlSS/LFEea4TMvGAcE9wurQqW6jnRRRvN2G90qeB1Bk1es2KuJQD7SbV270lRwfmriVUgR3q2kp/6jQY32xWzVuvIztBaBJvDYOz9gQNF35Rq6KxDhaV2gprTYin22dSxO8qjZXpfWKhoo8/zftv8oPOC7VOsLni+gpv0TJ32e50zo58aP7iZO3/JAn1E5iOFc+RnIbESZNZnpEZpWrFA9bC3w3nnnXLW+zXn9TwfutzJCTNet9NKuJYHUbYVzH5qK0kRKnfbEf9ht+QCcEDRc9ZfOVW7Q0MYGG5tJCDU2+gU1j3HDxi6xCEn9lDPbLvKqTrmcZK7unRdfk7mtzgSa6jTCu2nvn6ywnHHdpNNPOjrkqTQJ3F66KtJuTceVR0G3iNJexuBs7q7+NhnsuqKtAGtVElfJMxQ69tijk133dzfnlBzvI+nGRz3pLWjjVmHGPtodm6dWkpHM/lqNZuCWoIKBd3YYEDm66iZJ/OcmXMRrR+62dzPnF6tleyyosaVdGIz9FmA5wkOhbkRee3swr02XLOzYE5bDThv0fOPgSkfd6SxOCV2WCW5Z3oiEDd3WhtYK0PFIRDoPMeSUHnIwUyZJ0bTwuS7iX/rY0k1TpNuGT+bhN4Sl0daSeZ9YdkBcwIp91ltg2pgNPSSoPxyhokKocSL8z7TdULRVbBa4RVo8OdRsVe228hXHpjhvfyupjGXLQbRI/LGhp954NUQm3UorgbDXt5V+c84gK2CXVmf1AxhCshsFtT1auUuEnBlTutksy8DLJfSI6hld25KVswjX9+eKG2H8Z15v/hD2f/LypLR2xrnsUhztoJTEaVD52tQNe2TEusnlPhe3HGZ6ttLElHKdF2uCyus349xWvZdtmFIsz1uXx/XiVmdRwjJYmJtDUXHmvoekPZtVEVxDI95olOg/HfRPoAl+koTKeNitynH1tbsjV+DYWtoobCTpJXuNq4sJVgXRbVXRwNt12zUaJbuOeC2oqkGY1EV1eA92m3xYlEaeEV2W8m3xCqNjH20d3t7LZ/5oO1zC9mrRFXI/lahZuCSoQaFe3STqglI4dx1CpSclZPkEU/e7ibEv0fEy34WwgaoamYNdF8M13PwyTc7Q5IXq7Cg9dVyIIss+TSXD625xHCEqUq6Qci0GHpTVOK7ot11HQJFU5kH53OvdWQdOr6063JT1e2MTst2GnVQ+7yUm3pd+bgZ8jeVUn32RD1KGulGbFmKvVtJh/krrBrzbpurQkUpGO1vQYN371qbclfpj8sq1T5UEOksYx7dYUWtoh6ZK9SU5/MLsW2on78dgFpCVZZDrYUcGxaycxGlQ+pNtaoBsq6jZx8pnB+FlbsbQJXy5phKtkZZnVYhTmJciQdM2G9tzGDZfgzilu0dLEBBqbK+81NM1lDN3dUHvOI5krkL4b2qCI4AeXLBtkedoWNpr62lyRF92GspGxgXQAgyYuXBVa0G3KckF1BdKwJqIipIFu02uLkuI2AWWmidUBude6imiaXk3aIq7HcjQLtwQVDLSr29I8bHEt4FezVT+FOz3s+Zk1E4cOHrd0z2Ir/OoHFyF2HzJ86KXxdfFgBuRQmo/edjdY7bWyoMIOdjcljIgS2Xv7suUlMzuRX3OWnHtUgW50G8coaJKqnDBE3UbF3p7dpJrVVrUPOznpNuFTOqeIMiMvsyEcUFpKs2LM0WrazD+UkBf0Iyqv/HBndrAFXp/OvFnbZiguWeOeha+WN7WwcZH0DkqW08z2LpUh5jg9mocoYX2eMbLKZkc7idGk8qnSbSmOynWb51L88kPuyVG1bmMW9UeHm4++msYxWpqYQHNz5b2Girz+wUPLCUH7LVlda2Ly2/Y/BKj8W5+TfVkl9bQa+9rckUfdJp+NGrlwVehbt2laE1Eyues2vbYoTMUkig1RVKZyaJxeTdoijsdyNAu3BKG8Db65a9UKBVbanfdm9+sFLfe33ZtRA1U5hYFAspDRLw5P71a/cf81Ll9wTjFvoOR1G0IUfH35n9WQ8VGe8sybjT/qJfOCShVM/hgRZkPOKrbx2fIy/fZU9BggWz/UoBvdxjEKmqQqJwxPtwm/HB/S6I9/HucwOyzH/rZHdFvAKzfWhQ1Ri5pSqrFu02b+IfBoCzxMtvSAk3TLl+QxpZaFzRW/M9bmPKRurM/iIRzJt6bUqifzLlXksxZ/BsyIX336XSW+C7VS+H0hYdrfnmnVVTY72kmMJpVPp7pN0j7zKmKHxS1amphAc3NpoYaSn/daobJAGNeffks64SLWeURFnqD+zNuKfpTxtHj8DoK7r80dWtVtGrlwVehbt2laE9EZ3HWbXlsU9o2+idUBdetiapxeTUo6x2M5moVbglD5ZL/3IwfOBXa/XtCubhO9W4OdLFFmxCVFJY9JfX/YurapoM6EK9LFiVToNgwVM7urBXouwPDK/bnjg2zFUobw9YrfsUEFHbZ+lclHTPa8fEj30Kp4DFBAR7qNWxQ0SVVOGJhuI0Ov2lp2WHBL2QxSeXLUbbfp3nr88ogNUY36UpoVFY5W02b+YcjA/Vao/SKKW+0LJKmQo33Lt1z9VihOdMGzE4hSfY+FkTEX/q7S4h+vrFJF9yuhGxGmPQ4paS9Rc4oHZ/OqTL7JiB2VzY52EqNJ5dOxbmNSLmiBh+Jzi5YmJtDcXFqpoVTU/XW9q5sSvHKd5tvfe//J6/q2ofWqWtqe/qjMK6PjY16d0NDX5g7t6jZNXLgq9N7fpmFNVCbPWJToNn22KNLPkclPylNA4/RqUtI5HsvRLNwShK4f7eV+4ZwC5y8+DWL36wXt6jZxvOOQksiSqFpm16zC16uamxBGgs47A7KsnF23UVEvHvtISmiiz/n5f1TEE/Z5FcdckRmSqAzceGPfQ5hbOyos+pstL8lv2zriimXcaPFzZblEhblsPYqaQxrd6DaOUdAkVTlhSLqNirq9oGPbadeyrT+KSEtJlQ/NSbelOP1VCmkdkz/3hbAhqsiplGbFmKPVtJl/NHjCFO5PMWm3ydtzZfOKg+zp8Rip92Yi70SYddv5eH/PCl12+slaiH29imrRWBe5IkyTeHYoVoIl+p9kp2Kobna0khhNKp9udVui4xC0i60P3KKVpoEJNDeXtmooGXppXEvLYdNmTBozavysf3aefxmRrc2S87SKvpYN1C5a1W0auXBV6H18m4Y1USPdptcWhQre2w2/YudbTHBT1kGb5nvrrp/m6dWkpHM8lqtZuCRI1tfkJ1rWbeQXpHAIxZUKaFiVT5gNOi07JeTSCLz6lInVPoluE72zGzJP1mklPpjb0Bi1pG02+OZgNdH7NS1xjz9Rptch+eUZpXnZ6wjbeSOdqV2q81ZvOf+ASPM9OLjzgkeSeqKjeQkco6BJqnLAYHQbFf9kzZ+W4y4EKHlAosIuzp7vlDXZE5ODbsMrHqBbyq+NoJQcS2nWbblaTYv5x5J4bTzd2NTr0K5qfelXIJh57YSgep2a5QecVHhuEr5a0RRHgld13DVFp8SUQ16lEVKjqm52tJMYDSqfTnVb+uO5dY0JU8t1zGB9btHSxAQam0srNVT47fyk7mMdviprpGTI5mllfS0boF3S3CfQ80CUP9izcNVtGrlwVaQzw+b5v8m/xks4MxjbW6Ed454LqiuQhjUR5RJ33cbVItqpxCLvdfT6GIRp0wX3sy1KfWdB3+mueAiuhunVpKRzPZarWbglqECgZd2GPyeM0k4U738yhg2RkH6fnp+O6uP4a5LkC0OuTqyLLSrosBVpcxrkqFvVn3FX5lU0eiaqwkMPB2dztBrpf6AHXnzLiF910LEvWTlEhp37uyq+ucxqqiKfTe3xJEEjwqTm0J2PwyRHJ311W9OrVsMpbjJVBycKHSkz6oCGnXLPqzDeTdZFJjsOxoMtFYoTEn9Y1hiZ9JRWCY5R0CRV6km7PhH7TUWXyDnCauGq29h52kYmf8qqIFmS32zvUavl9FP3Hivw6L7HhR3jWjWyvaEwUiEH3ZZ2HXfH82vPfiibbGXkWEqzksbZatrLPwlpD+fUoR1R8S47s151iD5uaIMfGHmVx1yRK6cYKuKyTQ3UJBOlrPbJf5Ut5eHc+sY8c6vdH6VxYBY5RgW+30nFC2knMdwrHzsYJ5tuSzw1kNZtrey8Ze+GHu+xi+aVt5F8wkS2wZc7lF5d5jd+sWYLH0jaE27R0sQEmppLCzU05cmSpmaleuzyTVJeu6Rk97QyvpbdFgs/OUxoW7deB1tH+otNeYPNCZSQ9lsUX9FJkcz9VvCqdI5jGzSTjgDQwIWrQuRNix8j40YLnkgMIYp4ZNejMtP1MvW2TBy454KaCqRZTUSx8foHL4RDFLe+oKDblOzQa4tChTgMptfRQbWz7Qx7z0jmQsKIF0cntaw/7EwIYw3N0qtJSed8LEezcExQQUDbug2p3cO9ShG8apNvyJcysTjWaXgFbBSCX95y7MoNdgttrJq1GztnKH73TJRoOWHJvINv0MMN/YBdwnK5dCh62pt/WpmYNV8mrVfqEPoe6FsZ9/UTxpXaTdzo4Opx3fnQ0gEtWzetjhs6I17pup2HTD5MH5v6aiOz4DKCKFaxfuuOf7T5vbq5wNhi8FHfrMKMyteNyfihzEigsAIU/d1LXBg675RZokLkzQzFNK6/IGsVHlRG3CbgThIjQdNVb6XFlGMUOKYqp5cCZMCuLnQHefGeh2UkkyYRVgNH3UZFO1rjhQqyr6fFkOZ7ZLAFquYqUdZrpl630QtVEYJmq3D5yoGcSunGLbicogM1sRrX/GMPzxnaZxP8qjZXZZ9lyIC9fxYn+LVn3Vesexgq/um6rhX4BK9ct/XPJZWLDL8xu3mJUs1nXAuRybTkm7a41webOvubBU2qmGq4Vr6Ey6MrosMIs34nZPuUJOOdeRVHXpRtGRMvjaIHOhfreVj6Ii79lm01lBqeedd1L2IlqaTiXu0eaFGywZjTn2XuxjFamtRHjcylhRoqekvPJzUiCEHJCha16jf6vYVl246d/+ze76/Jizadepq13Ec2T6vE10qeY/DQ0BwfenIi6eFcut8DJbqC9RkVHW5U1Mn+eKwNYdJph2wzL3y1vAk+mVdx7FXpWw/OLlwlog/r2+AmneBXsBy9bP26pbYDW9Tr+s/RBS3p4lWm6bAFm658Yg7lngtqK5AmNTHLIWXzq8p3aLlFYQ9XARl4blQt3EWFIQSlq9VtUKdqaQGvlOXyhzIdVhqkV6OSrsGxHM3CMUH5j9Z1G37eW9hIwK85465i40EGXp7dpjwuLEYEr3h1q7lnPiRQKY8WNqY9FX/JTXrNY9G7NR1rNm5ar1bTXpv3H9q9emKnOvV6LnPLWug8J5J9zs75s3px5tuh6E4l6w/d8tBrd1dTs2qWQ+dsd36Z9TVp5LwPT2pfBd+fOVhQ0XL8zjsyH6xOfnNm9fQ+9XB3LN5fsn5v25Xn3qeRQR47F439w4LJYoJXtrn1nB23QqjoxwfnDGqEP8GDg4vXtpq4/PTbFFGA24YJf1RlywOvVIP+s/Y+iGRukHMUGDRIlRLI0Dt7l08d1NScOZ8wrtD6r1mrHb2SNY+wSnLSbWTQrf12S6YMbMJGAl+3z+RFqzcefyRtYqkYN9s6knqjFMKk7UbfbGVBrW4TvbdrKVDTUsiTQykt32HJze8R3K3GXjWP+ZcNMmB/9/KWa9/JC1G8wGTFVmtkZiQokPLFZY11swomgjJ1Og6dOMWmX+t6jXvPP+UVL7EMGXJzk23/ZuXZRBAm1dqPmLXqyCP5j/1pJTE5lXwy9O7+FbZ/1mAOIIyrtBuzcPO1ryLRR2e7mUNQUWbPsug8YdmeW0Gi2KeHF475wwL3k9CHdxi7aIsr3atDJbw7s3hoq6pmPF6J31r+2X/I4D4dG9Vu0mvOCfyVVwU4VkhNTMDlWO3VUCr8tl3/uky/VjaQXfoe+MiUGhlPO2mpCl9LBh0fgIQwwa80xCHHxdBUIvQ8aDuif/uaJVkTIAjTys16DBu/8rLsooxJr07M/9uyEvvUxjP/fdDMLdcDSdFHp1W2PSVJQmWyw9i1boHMKVz9p2rSPp4Yg+xLX4AwLtfC5tDrBOEHu1bFK/zee/KaI26vQ1Io7o59t9M5DhWIQ01ExebNmVUzrFtJvrrJM28ycOrygw8iKJU76NP006JIEAa6rx7UsAwbFYIoVr37YqeP2Uey5ZxeTRrP8EiNPTBXs3BNUP6iA92GLOQxvZ5J5dGXlbzXFMUHvn1w686Lr7FS30DFfXnicfPJZ3ZTLExKpAuMMP7J7Ru3nvqEJSuVAeohEwPePPRwv/ngdUAiLhlpwb5f4lRcRxTn9+qBx427np/CkzirQ+3CMQqapErvcH1PqgvU6bbkezPrCMx77P/CPW/VlNI8mVub+Zf6zftLdm+S5vfuY4LUFapAFPvt9aNb12/ef+Ebwb19U0Q7idFj5aNSo/zePb9/093joefnKPUJ5xYtTUygv7qb6HXEpv/M82+9Xz64ceW8w7GDe3ft2LZl03q75XMnDmxVxbTiGLbDKsvTBr5X7WtTA59fv/kqVKZHo+CR11JEJoX5PL374E1APPsglBzqH577qsEZ7dREZei3RUkN835y++Zdzy/RaWqdj+7SyxGuBYVrgvILXeg2RMLj5a0rtLF7ky95A+QLBVO3pXtv6VTGwvq0/PhbACicxD+x61Sp8byHqjoIRD7rOvwpO1caAABDQ0e6DT3D+dkPa9huxRNlM2qBwohEt8l9SkdPsHOIFHUbFf9kRVuLjmueQikEigIp92bVMVb7Aez0F8t6zrjF5Q0YAAAFFJ3pNkTy+wNDW/dc/0S6aDdQmGF1G2HS0ObI7ZdvvRDv/WJ0KOGoOP/3+C5er59eWdEFj3eS021U/ItNfVoP3C4dCQsAhRtmaQhCUH+yS6iyipfk4zi11xh71d/5BQDAANClbkOIQm78M7T/sqzvrQCFFir63u75c+RYsP+xDnu60jyPLWRvxDJ/yw12nzjx4bq/xmy8q2zVXgAopKQ+X9ECz6EijMs27mu7Ytvh0xcuXnI+f+rITrt5Y3o0rddmsv0HxQXFAAAwMHSs2zBUagp0ywP6Ji0VBlcCRQ4y4uHOce2rFSMk8+YQBL+ERZthS489DinQkwsAAOCGHnQbAAAAoD/IxOAPz++6Op09d8ntzvNP0aDXAKAQAboNAAAAAADAMADdBgAAAAAAYBiAbgMAAAAAADAMQLcBAAAAAAAYBqDbAAAAAAAADAPQbQAAAAAAAIYB6DYAAAAAAADDAHQbAAAAAACAYQC6DQAAAAAAwDDQm26jIm8s7lKnetNh+70M5atXorgvD89tm2vdyXr3J/jMpdahkoNeXtm3bIyV1YqHelnPnQx64nz+XHbOu3hGcPx+Lhnz9tKe1XPGDe03YJjNjH/2X3oWmESJqSiXpUsuRUquQQY+dmIvzY0LHj5k2MurcnE7f+Ulp2+rCv0fOsmdeMHdK4bdB6jCAL2RjtGLRTTyqMLYzw/O71w02qrdTNci9Mm6tIj3N47b2fZrO8Exlg3KC3r3soA+0JtuS3AYUAx/Ms+43oKnQjas4EJ+vbR0mGVlE/ojf4LWa31E7A5AK6S+PjLZqnYJ2rx8iym39OJRqIg3107vXtSvLl0QEYRx1c7TNh13vu0Ty0G3kaHuizpWMCYEFVoMmDh38fzJ1t2aVjEzLl2jWbMaJQWNl72SFOt4+/6mzA3QHYqVLlu+YqVKlczN+PRdCZPSFSpVqlihnHkJAY+Nh6DZP1SM9+2LJ7fP7VGDKXPILLVm3E1mr6gSKvr8X+V5zAlGvLKW49Yecbr3SYff8i8kGJY30ge6togmHpWKfbRnmvUfNUvSFYQo+bdz0RDXSS8O2vZpXNaYtpFJ76PRbHhuyRcvC+gDvek20v/0yDpmgvLtVj4wlGaF/Lq1gwAVedBtuiHu3DBzpDn07VFSrk+qSksdouQA+2iOHW1i4btNHUoRRLHmc29HZnUVJH6wt21ljpoXXvlxkk4BKvxgdxPCpM7Qrdc/xkgSlnZjUmX6pibdD0o698jkkJeO8zqU4xk3WMiEoObTaXhZVofxzAecDFMfPfLrjs5mtFtGCNps8IVuYW4YoDfSMXqxiGYeNf7SqIqoLhQd3UaT9mRBfWNkIy3oNpp88rKATtGJbiODnbac8FVSMUmSazNZIEi9YF0ctYpa120q7VOIUZLm9EdzavP171FE3mtb48bDiF9z1n2uN05ysanEMyJKDLDP9hIy2XPdH2V4Jr2ORDGFm/Tf0alYvTkPUugtFmW6jYYMOtTLvMZ0dkssfL6oAfbaGELQco2XulKS/mxRA5MqFlXpB3TCbIhjjv1zgAwG5o30gM4topFHFb1b3RxV1CKm26ig3V1NUH3OjW5T1rDkk5cFdIoOdFu6906rik1XvDZ8XZJ6YRjuZNaybis89uGO0jQLH8+tkw8ehfy6pT2t24wbLHzG8ZWQ8MXihkhO8cqNcVHShAi9N7Qt2WLNOyZ1oo/r2zVWfNmkUreJqfAjfWpMYDfEorermhar37F9JWQYbJoJrqp7P+Iuj65czHLl6kF0lxtRavjFItS8AYaIRh5V9MGuVRHUbcF7cqnblDcs+eRlAZ2ibd1Gxd9f0MyMMP4ddJtSCpV9OKIqzQak29LvTq+OlRS/+kS3ODZMBirixMD6tjeZF6Vk4EW7g54KKVKt28Rk0CW7A+xvRre1Xn12eTMBLcZKdt8foPzlJxmwz6pk2UEO/metQbcBhgHothzJpW5T2bCAbiuMaFW3UbEvtvSsjMdfGzeY4frZD/EtNF62GKUEv7jtqWqeXHrkh7uXzxw9ePC4o8ujz7HKmtT0iDdud33p9pFK/Hrf6fjBw6dcX4erKpApoe8fup61tz/n+uRLrJBKTkjUSCwpeJm00Nc3Lpw4fPSMm2eoakcijA/0un/V4ciRU1ce+yXIJVWFfcjEsG/4N8u3oBiUQCopXDYQBQdGSW6aFMHukgljUXN3WTgcpqGpVaGmTCh6lNTgl25nj6HbXHsZotK+HBOohtzoNtJvW0dGSBn/NvSYb7bYUdGP7Z0/qLmYGt0mB6Pb1n4IPNa3DHO/RoufK7O58NWK301rTb+TnHIuj7qNjP9874Yn85KXSg58euXkocMOV54HscP1MCj4hSvOmjM3PsSoqkIcckZbt+LiKjBkvO/tx1/xVUQRb67ZH3Xw+JTI7KFR7Y24lLI8OhcWMiHg9T3X88cPHTpx7vqrkBSlZSOHdGijVjAot4iWXAFCI4+aXbeRCVmeknGTGFF8aJar/BYcq7S6aMdAnHJLY3OlBL3Aju+g/dXnQSlkLnSbuoZXq142JSpQoVUKTZCUelFW5mTljSaIEoPfPbjicPTEBfeH3hEqL8Ct7quvMnqrULpCi7qN9LMf17FlnXJ4tA1hVqVhS0yb8aeCKbEoxuf6oeVjutYtY8yvNfuBYgkWhd7dMrJFi6rV2w6bvmrT5tXT+jYozTep2mHygecxbM1ICXrmNMaqYTkBYdrneEzyp/Oz2ldg5t0YEbwyrRfclK7CwEKGuC3sXKvRwGWHnK44n9gw3rJyuYoVrXb4a5IFWV7G69u1RV0tJPMQjQhBtW6LrwVKSqyExPcOM7s1adS2x2DrgV3qleGhmDUevudFHBM1lfZJ/eQ8o00ZulUnBLUH/uP4CqVa6Hdzu23bckwov3JH2/WnnoWzF/K/udmmJbp8iRYz3UKkCVJ/dyk5HIYNvWuxRqZWg5oyIedREv2vLuhUmVZG9H1KNJroFKiYVRwTmBO50W3I5gd6lGaNwK/QcZ7zZ83Gkmmo23xESbem1sA9fEa8isMvZJ89keA6wcKszQbU+qXmUrcJI9+5HbWbOtDSojjPuPFSz/T4N8entKskyQOiRJPprqjAkZFPdo1uZs4WAFRAq/Ta9U7xPjnkjDZvxfgKda4CkR713v3gslGdapbkmQ52TIp5sOqPcvR0Xl5lG5dE9d6ISynThnNBsfx2dVnvulV+H7bygOP5U7vn96phKqjSZblHVv1Snw7mGG3UCuUW0a4roNHIo2bXbWnf7h5fPaQ+M/G1vmQsQuK7y7vtpllVp8uTcZPl0ondDFpyGznmVm7MRcW82G/TslI1yxELNmzdsGTCn02aW88f1Qy7J+66Ta2T1aqXpcKfHJ7dpQqTJl7ZdrZbT976LBnHm/rlzrHlvSz4RLHGow+94DzhC0PFvjxk27FOvc6j563ZsH7JiBbmPEHl9lNP+cg7WS51X32V0VeF0jnafk+a5jIGz4eT666Nf3Z42aI51s1K44Yrm6cU+Z0aXsvUtNG0adezGrTk9/v6VeEbEcUbT3HBc+qoKC+Pq53wvBgjQfuJc7u36jlrh+PNB7fPrulHV1d+7Zn3ZD086be/exlB81VvpLdKvD+ngVmbjRotxCbxMg379GtYqUl/26V261ZNH9y0LJ3TRLGGszxk1o9I8lzfqWLDSZcC2FumfT06qBKKMK9cz/2fpbZQZh+E0GtNKzxFnm8x7U6WdajgI31wrwu/mq2HnM1Q+rZ1LFZrxl3p2Hdud8/5MNrQDgs1MHXOqEiz1KNUGTRzdMvmQxbtOnvr0b0LawfSS2HwKo26JPtGkmMCOZAr3YZi63uwL/1IS8Mr2WDwGpcvnMWbxrpNLPLZ0MYU344w67j1s3yxpUKO9C5TbshpfKXc6rZEnztXLu4ZVZ/O0+p9J/7VrffUzQ6uT957Pz8zs3UpFFl+Ldvjx8d36Gq72+WZj98373sHR+KjiVI9Dsp6+5xzRmu3kvoKNa4CFeH7+5bNH9eBGSJo2n/trr86D507z7pxSR46qs9u14OqvRGnUqYd5xJ3c1pdASFovU76xjDlwZx6xqgFGXmRboZySMexCHSMVmqFCv+sC1egkUdV8Z40/vRgfI0s3UZDRR/rg/Wcgm7TltvIMbdyYS4q9v4yy9ImdWycgiQXpWKfrGpfChtD0/ekqpys1r0sFe00AgcZCVrafVCwoMhnXWvTerPuJbHbnKDCXKY0KlG5147XkqG8pO/Gtih2hHFNW3dp7LjUffVVpveOS/qpUHpAH7qNIfniCHNceOU9pchnW+fSBK+qzdX4eDaIgYo8/zdtsPIDjrOu+3gfU2Rvnnm7JbfCJR6SijozFN9Q/rJ4Sp8JYTbwlMw1qYjjgzpJxo5zg/UyhHEdm4vSqiVO+2I/7Df62UbQcNFTtjs35fH8BiaVRjjLPPSLhZ7LGuO5gfyq410lvbCq7EOFHuuL66uxzDpgiMRr46qgwwVNV76ROzzG0bpCy6zEcLw710iKY7ibmgM56DbCuGrvna+l9xbHXRrN1JQxV6WylHPMOZBL3YZI/nB8LK7kEgizWr2WXf4ijaUaNNdtqAY4WjP9rdjhy95E9M6uZTFJWG51G43w6QLU+BgRJk1mesgsb5LiYWuBnRvPvOuWt1l3poL3W6F7EWa9j0rTwDln8n4rGV/BhjAocRXoduzEXKLk77Pc6TeziR/dT5y85cfYSKk34pYW7TiXZKe/cP+toMXqrLOSz1kjf8OrNME96yWRunRos1ao8M9adgUaeFSU38p1W9rNydgnKug25GXG4toip9u0ZiCuuaWBuaho14k1jZHuc5bvmkq9PY0eSqtl3aZFL5v+clkT/FCFrCE/3R3P1C/eKpuaUwv5dV93c375wQ6hMjcV+ay3pJVujRn3GINpUvfVVRn1e7VaoXSK/nRb+p1pv6HyI1/Vk9wnIq/NKzvyUvaei/Tn9Bw+I+N685/QZ5xn5pC32yzb+4AkviWu3KYDT2VZVeSFZ5DzynTZ8k6mKYh02rBfozLFehmcGLn2nYo4Y02vdsqrPMEN34CKcBhkzis54GSkSJaka+NxmcJ91LfZNKu2T5zziApoD7/O7AcyfoBt1rCTyrIaFX5iQOVuu76xZuB4d+6RFKdyNzUHctBtuAc/K20onmEHrPAAD0EnyYsnDWLOgdzrNkyy78Xl/eriYsHCK91s0mnfrGKmnFzoNpQNj+ZiqYObgUH27EtyRLLHlBrF2236yBgzT7qNXWqBV3aMi0yhQ1mwn8kC+QIgqcO4RjKG0yBn8nordb4im6tAufx5U1ucyyZd9zDvi+RR4o24pkU7zkX0fmsnc36xerbXsprttCujkXQiTAc4ZE0iVp0O7dYK5f5Z266As0fFqNZteP3FbLrtmo2CbtOigbjmFndzibzXW5oQvCpZyWUhA3d1oTNcy/1tWvSyZNDhXljGKkx3F3n907xkpx1+stU4JxJxpeZVGe8mX6ep2MfbR3e3stn/mgnXqO6rr/p6q1A6RY+67e70bH4h7dYUWpVkPxqT/mB2LbQX90F54qqotEoon36T4jEF34zgm7ew2f0wTM5HcEfSqy9pR7NIuoaX80JRa7jkBbp4gtPf5jxCUKJcJeVYDDrMlhHV9pHEmV9t0nVpP7O0z4VffeptSQUnv2zrVHmQg7T553h37pFU4X1yO0NdQ92GzM7cXfpSQoOYcyBvuo0m9dv19dYN8Qs+GoJfudcuL7XSLVe6DUV1ZxdsCiPCpJUd+6RPhdsPLFt+6BnJWJm86rYWyBaKYkqcfGYw7jZQFFPCl0saIR/JqzzxOnO4BjmT11up9RWKrgK7583tcC6bDnZUljFKvBHntGjHuaCcTE1KzkqKKPrdxdmWOCtNrPZndT6oTod2a4VS/4zQrivg7FExedVt2jUQp9zibC5cz1Ha5E+myaVpNdVtefOySTdt8ehbomT3A9Lp7sJXy38v0/NQiAZlTpziNgG5RROrA+oXGNes7quv+nqrUDolX3WbZInBbK8BWWKO00MWiBLW57HM1sSDUKGXxtdlPqqC/Gvz0dvuBsuVWk6o9jLMmvioWTEffTVNLHqzElVCfs1Zch5PKWp0m3SRsPLDndm3+iKfDW3Nm7VthtKdNXAS1Y+mFjYu0gcdjnfXIJL5rtvkza5JzDmgBd1Gk+x7brolPZoFQZg0mv8w27NgFrnTbWJx7KXRzHl8i4nuOMtFHze2LV5n1n1pS6YT3ZbiqFxMeS7F7wx4FdiPQ2iSM3m8VQ6+QsFV5EK3aZAWrTgXKelhz8+smTh08LilexZb4bES3HSblmtFfus2eY9Kk0fdpm0DMajPLa7mosIOdjclUHH9y0mxzupPt+XFy4p8NrbFCRA0XvqSOV74fFHD8kPOMJPFOcL4BKLYEKV1VIqGdT+Xuo2rAcjgm7tWrVBgpd15b3a/XshX3SbyYVau51effleZrVBVxJ3nhGl/e/xWW0MPIgq+vvzPavg1OYLgmTcbf9RLpleXA6q9jMRL8Cri0Q3pt6eix4GsNkMN6nQbsgfuOzciSg84SbftSR5TalnYXPE7Y43kAa+s9Vn83j351pRa9WTfpXK8uwaRLGC6TZOYc0Bbug1Bxb/cZMV+H5Qo1e94OBuendzqNqRfluPBJPj6PQ4Ekin3Z9Up0WGLzAj4/NRtmuRMXiWiel+h4Cpyct5KvJFmpSzvzgVBRr84PL1b/cb92RkuzJs3jrpNy7Uiv3WbvEelyaNu07aBuOQWV3MxGsGIMBtyVjFy+aXbNDQXFXV2GB7Xw6s08iKeS5L+eF79qqMva1YH2HfzJlYHskaBKEHDup9L3cbVAMJnC6WftJGCCym7Xy/kb38bfsbCiTbtcSiCyp5zqLHDI1B5VSbTS5rmwoNQMa9OzO5qQc/LQxcq9+cOdYtsKaLOyzBRE9Cr5Kc/pHtqVXUbyqJWt4nJwP1W6I5Ecat9gSQVcrRv+Zar3wrFiS54dgJRqu+xMDLmwt9VWvwjOx6U4901iGRB020axJwDGui2tMT4FBIVIqdZk08FyaqKLKjwM9bYf+EWZ7wbG5idXOs2+kNY9Aok6Nl28XUH6woVrM/KPtTmq27TIGfy2t8m5yvoQ2RRcBU5OW9luk3jUpZH5/L+sHVtU0GdCVek66Vpptu0WyvyX7fJelSavOo2bRqIY25xNZfw9Yrfcdsv6LD1q2ypR+SbbtPUXGlPkX7BjVXnHV/JNPQ8WXOKh7KqpgbpN7hsPeR8ggIa1v3c6jaOBqCivdwvnFPg/MWnQex+vZC/49vYN4OoyRvrkpR98nDi2aFYxZTof5IeDcrdg1BRLx77ZNX1RJ/z8/+oiOea8yqOucJ9IK0aL5PoOATtYhNDftvWERcFvEaqsvJHhblsPYr0F0K9bqNnHpkjiWbSbpO358rmFQfZ0y/+U+/NREWKMOu28/H+nhW67JQb+snx7hpEsoDpNk1izgHOui3p9nRLmyuoWCLHUK3+rPsqHsPiHQbQC0rxyo11YYOyw1m3oQdxpNu8ZQ2VeGMyrjnoDqXLly1Wb85DOXmWn7pNk5zJ463kfQUdIouCq0BR01S3cU6LWufCBuaI8PWq5iaEkaDzTpnPYWik27RcK/Jdt8l5VJo86jYtGohzbnE1F54VgPU+YW7tGEuHSMkv3aa5uUj/vbiXwci43txbrlNrNZDOCeIMFby3G345zreY4Kaspy7N99Zd3NZpVvdzqdu0XaF0itZ1G9NnqaRJVOoXhK9WNMUvG3hVx127pphzzIxdXqURTkx+cPcgond2Q+bJuR9x4oO5DdHTgaDNBl82JGdUe5n0x3PrGhOmluve0zukc4tLdd7qrVh403wPDu684BHjelTbhyXx2njaK9Xr0K5q/dmSj5Mzk5EJQfU6NcsPOKnQqczx7twjqW3dpiLNXD2KJjHnAPmFk25L81rfvvIgB/xqmvy8qZ1JqU5bvJVVZ3HimcFYOBEmHbd+ZYOyk+Y+gR52jXWbuncCwsfz6ppkDc1mEH1Y2xq7N3STYtnWckt2HELLxvzQbZrkTF5vJecrcnIVOTlvZd6Ia1rUOhc2ICfY/hbCbNBpmcfI1Esj8HKNJlb7OOg2LdeK/NZtCh4Vo0K3pTOD1Pm/yb80SzgzGEdUZiElrRmIe25xNpfo/ZqWuDATZXodkl2hUObYXkc0GSumsmHRpZdN9JhSE12bV6ZWrcrNV71VyFIOiLzX0Qt+EKZNF9xXWNmWirmzoO90V3qot0Z1P5e6TdsVSqdoW7cJny2sj4u4+V/nmXEmwtiYBNqcadcn4pZLofxQEZdtauDe1lJWVvskC1swpDycW9+YZ261m13wQOw4GDdQClWC/LqlA84Gk54yxRy1Ea3qz7gr10GCHtOq8NDzzVnZdQbVk1W05fo/xFTstfG/8Ys1W/hAUoZEPpvaM70eJjWH7nwcJklh0le3Nb1qNZziJmlOVNtHQtrDOXXo0lO8y86sPnTRxw1tcNPNqzzmCnOiDBzvzjmSSAtwNjUHVKU5/d4MvFIRr8J4N7mWPPHUQPwsKmgmfR3MPeYcYMeWYG0sXWNCkdRPZ8Y1NCvWbW8QfeGUi8PLEIRpo+k3siWcir08hu6lLz/IXs1sI7YooVS136L4ZkSWVJex5fnyS0IhqHCHwfhpmlf+r3MKSaUimHcIyBH1O5mtZOQEa4tsYgpnAY5sKzu5ko+ee7Fn45W3ucYezj1n8nwrWV+Rk6tAhfXTxjY4l1VYRZk34lqN1DkXdjsn0u/Pwg0euv/4axJ/JAy5OrEurvmCDluzOtTVpEOrtUKFf9ayK+DuURF4XQl0E6K49QXZ5lLkTcs5I+NGC55IMkEU8ciuR2Wm62bqbUmB0ZaBuOcWd3NJP8DCrzro2Jcsi5Nh5/6uim8mu8YvB5Q6WfxfnXpZMuBgT5wK/IJIo1WnJVAhDoOx3sSOoe0Me89I5qbCiBdHJ7WsP+yMZHaqJnVffdXXW4XSKdrWbVTMuWG4u5oo2cL2sMvVkyush657iXUtGbCrC90zXLznYZnnE3RG/NN1XSvwCR6vXLf1zyWamwy/Mbt5iVLNZ1zL+pATMzjRuP4C2f7YJLcJuH/KSNBURu/Tz/YlLJc/zpLwaW/+aWVi1nyZtKpzIP2WbTVc5M27rnsRK4kGFfdq90CLkg3GnP4sEw1x6quNzFLZCKJYxfqtO/7R5vfq5gJji8FHfbMOVGmfLGh3RfCr2lyVVZhkwN4/ixP82jIzCWXgeHeOh+H1E7mamgMq0kxFnexfkq7znXbIVkXhq+VNsEPkVRx7VdopzjHmHBB929edWZGcMGs5/cz9Vx8+fqLx9fHyfHrv2uldK8Z1ro6rr8ByPesL2Fn7RrzSTUZsuxsivR8Z83LXwN+MCcKk7tgL8o/N8iQ9nEs/ymH/aX1GZYcbFX5x9G98I351mysKn8TB8xH4xvXmKT7wUdGXRtNuHjUANSdf5/5MwpBweXRFnDNm/U7I9ptIBgLzKo68KOvcEi+Nwk6WKNbzsPRlL9ec0cKtsnxFTq4CNaA3bXH3kZFxQ2VvPVR4I05p0YpziXUaXgHfiOCXtxy7coPdQhurZu3GzhmKR9gQJVpO2LhlybyDb9CBatOhvVqhyiJadgWaeFSpjRREkFj0YX0bXD8JfgXL0cvWr1tqO7BFva7/HF3Qki5IZZoOW7Dpyic6WloyELfcQs+AmphL6HuA+QALYVyp3cSNDq4e150PLR3QsnXT6rSr4JWu23nI5MPs0Tmh1MnicB172aQbqHwSxf/cq879qYMMPDeqFu5Lo28qKF2tboM6VUsLeKUslz+U7YHjXvfVV319VSjdom3dhpL+euuflZjvlphU7rzILTg99M7e5VMHNTXn0ZlDGFdo/des1Y5eMi1QyheXNdbWzSqYCMrU6Th04hSbfq3rNe49/5RXPJs/VPTjg3PY9bKI4rWtJi4//TZFFOC2YcIfVdk855Vq0H/W3gf/b++9o6JIvrhvegKIgCLJwGLEgIqoGDCsK+YACLpmxYA5R4xgXHVNv1VUVgUjYkSCIB4FBFcUkAOCmI4K6qMYXtJLODDPzByeru4eJjDd0w0zCrv385c23dW3bt2q+k6lJvo7cZpPv1Z2XW1bdx0+Z/0fR44d2jp7QFvbYd5h8jO6WSEtTDu31r1Hc0Mez+iX7oPHjHMb2a9Tm87Dl51CnxBVAW9+js/p2ww1fgSY0NLR88AdxY9mI6r5p5pJkndHhpg7bktTHgtCpwJa9vBRPqFaDsu3a7qNcLRrJ/auZkW1PBcknVr5u6MV/gOKSM+0i+viPRHZEvGz4M1ew2Sn2mL6LZymbwvLJtNgmUEGREl+cz2c7cxljYQG8IpdNV2ZH+hi1mHcmq2rZg53aNHEsq3DryPHjuhvb23Cx83oOfXP2FyaVkv02M9r0pi+rYzJ4EdgBk3th4733HRN8XOWoqSjc9wHd5LZhrvJYcTk9ZcVxl1e7BsydP9L+SOi5GPzJo7o0YKYJCXBGlo7jpqy4epb6hYmJB/vHtnoNbgl6U9M0KzPtNV/3HwlFj+77Lt4HF5ZyRSF1gNneR++nSPOe3B89bT+1tR0raCZ0/Q1e0LJkUNNJaPFV+EQbQVDU1Ep+RC522uMvdyVLfpOWrL5xH0yXCXMrRGLKNNO4yLJvra0lzlZJ3gNbZyXn3taKC29v9oOvRrXB07rwlPCGfJBUftaQeuREl00Bexa1JKUc5sXefSQfdyTZ9rZZf4Gv9gqAV/+7NQ03DDKXjOHGceSC0VPfXs0tOgyYq7PibBk+RffteAgHM2lFfl/crm7qyTzwrLBNg2ptgHjGbd33xOXemiQgWELR/dlf15+pOZr+7RU71iKubSyZP3i7q6CwLGGjcacYlq0qwlRdvhW146NKTsxrIHNkLXBz6ovZNNY9zVUfca/UmgnXnSO9nUbjijvdeKd23FpH9VMLzMhznuTfP92RGRMYlZu7fwkKi4iIl5UkJ2eEH3r9oPMTyXyLo8r0rKvr9MexkSGR8U9fvGV2TJx/uuk2Khbdx8//1xM145r9E/Zm4yX1cO2/HXaM+U51WqweTsOy9u0SU1jQoWfYDlC8uFBdBrVOkiLc5LvhFwK9D9+8tz1mIwvdaxG/yx+bMlor6lQB3NetNa4iAuyn8TevpP4Kq/qJdL8lwlRkQkv8jkl+JNqRc3h0qLSICn+lPngbmzKuwLqx1XJx7ef6VLShoO0VloqSIrepcRFhUfGJr8rQi1M+fuslzVMUEuNLBd3lUZ5/WI16bLK5oqaUPYpIyE68u7jl9/KNXRyOq37BHW+QulEtwEAAAAA8G9G+i1oQlPVHe6A7gHdBgAAAAAANyqe7uhj2meXfDcQ8IMA3QYAAAAAgEYKUwI2LF2z4+ilmCcPz8/rZvLLjOucdhQDWgF0GwAAAAAAGpCdF0zBbzHxEvMX4QHdALoNAAAAAABNiFJ29m1EbJnF9Fu6HnxUtYsb+KGAbgMAAAAAgAXlH5PCr1yLfvKhBDTbTwN0GwAAAAAAQP0AdBsAAAAAAED9AHQbAAAAAABA/QB0GwAAAAAAQP0AdBsAAAAAAED9AHQbAAAAAABA/QB0GwAAAAAAQP0AdBsAAAAAAED9AHSbnPLc9Fsnfb1G9551Po+6VNeQluQ8uv6X9zRn541xFdQ1AKi/SL/cWvtrW5uu44+kllGX6iq6MlWSk3A56CJbLkWkfUdP1SPHsUWS9zTi9J8bF052GeUy0WvDX2FZhT/kaNeie7vXnH0pof5HjyjvRWzQgTVTnfssDi2nriHorquBrqyDQh7nssyr5PuTq4e3LpvpPnrs+BmLthy5+k92sbRS+jVk/bqrX2RpSLLjg6mk2XEpKjPv46MbSrYFXX/0SbNX8Py/jQtWevBSeCr1Jx3yn+4LQbcRFCf6eY20ayIgPr2mP8L/G3W9LlGWfGKucxsjwkS+9bzboNuA+k9h4NgGKKQFtqseiKhrdRRdmSrNTbl59tCa0e2I1HGwBlYdejgq0MOhSwcbswY84u3tV/+DnqpHjmODOOfGir4WQsoDJJiwxRDfe1VaREdIP/qPbCRotyyOQf5K8+4fXuDRv5UxUQSY8e+XyZvprtNSvawFzQcu2H3ycnRmHot8Sj6Gr+lnIcCEFg5jZy9fu3Kux29dmxkKGrW0t29pLLTzTpJFQkHAGAPyBfgbGjRqYm5pZWVlasgn3orpN7KwsrK0MDM1EhKG4wjtt6TkZkRfOf3n8qEt9amL/NaL7pZQKdIi/RY0wZz49BUOr4njzG0ngu89p/6oI/7zfSHoNjnlCavaC/BAqKO6jSD/4nhTvI6AbgP+HUjenp3c1lBo3mdTbCF1qa6iY1NLI+Y0J7o/vs2ie+oqd+nbiPX9TIWtl8ah/9Ujx2lE+u3Wwo4G+s37TlzsvW3X9g0LPRybU9qBZzr4YKYudak4Y7sj/i6e+fiL3zQpp4KrUyzxIqqmz+iu01JV1pjx2ACNr5UhStvtZIJhDbotj/4iHwcrehrg1cMU118885my4T7pZ78h+ph+W/e9Ec++y2Kp/NacpsRL9Yf4yQb3JCUfHp1f4WTGE3RY/Q/l5sLgiU2I+5D3x57W8OF4yav9Aw0pnacn7LUzi80InVb4L/eFoNvkSHMODdLHg4+DbpO8D95zKktM/U/LqEu84v6yNnzQbXUKnQbBvwlaR0kkbLuun47uTBVnbOspRJ2fQheqiihxXeeW86Op/9UrxzFQGrusvVl/n3/yFTJTmHJ4rDUxPMSzmHwln7qqfcpil7bFG1RcQRkO+FPTXKk4bWs3vIiq6TO667RUlTW/1ZIYtg15ccgMK54eZjQ2gJgoV6Tk8fb+jXn6w098JV0oebt/QAPbZbGlxP8o1Ok2AknOseGmLRfepQwRPVzTAY1fIDBhd59Upqat4p81HfSbWTcnpqoww3HnNY7PaY3/cl8Iuk2O9P1hbrqtIuOAs2XXjck66bLVJy6KX46aGdBtdQadBsG/CXAUM5JXe/pq0m2VFQlbx20ixtv+PRRcmWI76vhbVc0k/XZlSjOkM3hWsyM0LBurKdLvwROtTK2tTdB7BB1WJTC/R/zUt4da3UZznRZWZa2CKHFtR1xO8cymhah5iShjZ29jB580snaJn+3oY6c6f06r2yqln0+MbDkrnMq8+Mnmrg3a9+trRehZvvWsUPoB3fxrU5s2cNy01ZUYcsNMJl5h5wBt8F/uC0G3yeGm26QFMavsDTFBF130RLSJg26rU+g0CP5NgKM0UpO+/N9AaZjXr6vj1XX3paEzrZDQMBgToJupYMm7/zk3arM4/Ob8lkij8CwnXWZcZfZTdVvF3YU2yEq+zewwNeOP0txTLu29IkntJcm+4uv3WKWHoNdtlZKcq75HH1GGELqt59YLG+yJ5YaY8ZAj79QPREre/eVs3MQ18O0FD9BtPxTd6LbSj+lxoRcCAi6GJrzME0lLCotUGmvRlye34t8QwVD2/lHYef9j/ufOhSd/Zvi5U/Hl6d1r5/z9/E6eD7n/Ik9tsFfkpoTdzSISkRa9igk+6Xf8TGjyZ/pSLc1JDLvwt59fwI2HOaUS9rpNmpe4Z1hTNIwv6LAo9MVrnDcfC1QyycZidTAlrhqryHt4Bo6fufnoA12NERVkp8bcCDxx4sz1+NeF3JYfSAqyouNfoXeLc1NuBvgHRj0vIv9CwTZxcdH7tNjrgf6nLoXHZeTKy1lS+OkNyiHiTc532U++go9VV1+/eZ+nWoKMZmnDZjaRxCoIaKFziAosg4hL5HOsJbUtYTaOKn2fGP2YZu+aDjygsX1igMZUzk1PNTT15QUPAoLSVe1kcJy0NPdZQtj5k4HX7qa8zVcxRAfVDlGTpkaS//6D+n2j4pRNXXGP8Cyq1m1pF1HKZvuG3X3SxOLUrd2QRsEaDjpE9krq+am6TfJ6Xz9SSAl+cf87q9qLpN/iAy4/ZUiMQbcpQeq2bU+z/x7VmHxfp7UP1QWyKGljF4PWC++UlF5k1G21qG5Mj9agL5QUvku+Fxp08tixUxcjkj6UqvWCTqJcy2hdt0k+hK0e2LqTi/ex4OuXT+30dGxqZmnpvJ8cBZcUvYk7v3vhWAcrA57JxMv5r64s799UvocIa9By5PYYaopejvjj3T2THZrb9B6/cPPuP7YuGNWhEV+/udPcow+/k7eW5vwTfHDtNOeOZkLMYOTJ7yXPg5b0tSA3h+phvMY9V0VW25Qk/Z54ZEZ3qxaOk1bt3Ltz3azBnbt5rJxijyqTRt0meR0ws1/3tmboDZhhs47dEb08z7yXvUSjxQwwJ64Qq0Vvb6waIPceZtRpdnC2ShAVpQcu/q1zp95D3TxcfrVtzMOdYTfxcKLiQhL1VHxND/fznjKglTHPwO188ffYzf3NyNUmTWeEUFHMMnFp3qNjXv3a2g6cusJn5451kxxMecKmfeefySRWQpS/uXty67j25Na49rKh/aK0a4d8FzjbELkTdN4g2yfFaNa32tvMIZI0BgEtzA6pgk0QcYn8GtQSrZQwg6PE3zMjjm2YNqhdYwG/9dJY1b5B2x5AMLZPDNCYWpOmhwYJc19eHull+/slqj/S4LjK4qenvRyb2wyYs3nn1kXjupkLeEY2fdzmrtrkuw1n14WU/0971Y5ba8AFcoQJMxrh/7kWqdBSHOll02jIUdRmooEjtDsRlyjrEtVJFJKfqtsqJW+PDm1ERRbfot+Kyy+4rSXjqNsyxcW3yXFIPZ7lxEvVd08Uhs6yNuy1M1NcWUar22pa3XA0PsqtL6x4c8N7RLtmXcZvOno+6MyhlcNbGgib/bohSl49f1KU1wgt6zbJ6yNDGgu7bU6piv2imGUdDHvteo6cWPTw740rp5Pz5lhDJw+3zh2Hz/M5dOzQ1vkuXZs0IX1kOnBvukLNEb8+M7G1gUGnBRHyUCtJ/2t0M7xCN7SbF/IJHV2TGnUjcPUAtLlET9h39vIhPYYt2X8+Mjb6gs9oog3it1l8TzGepHkx3o6N9NvOCM6RyXdpXsLmviZEwbObJy0PmYZ23VSf+WFhsUZoE5fFajPXxVO7dxu35uCF2/fvXdrmQmzd5llNuaowgl78eMcAy45zrr6j3Fn+yt8VzTvwzIYdeaGcrDLSrzF/ea+c6UQucDAYs+3ghIHuy1d42Bnz8CyM/Bvli2Xi0k8h8zoZNR2+P1k20yHJ2tUbNxYTtPIKlxlbcNYNtZryDoRA+u3vkahjkXUgjGYZDl61Y31tbeYcSbTlRAs7h7AMIi72cs6bVktYnaMK/jnuvWaZh30jZFE1+aF9D+Awt0/00JnKvemhh7EvL8044GxqPJ7UbcyOw0VIoHtzvtB+YxI1SlWWsq0PoUr4zXqOdnNzG+8TVYCua6HacWsNuCF5vquXUI9nMeFitZ/yWkD65ew4M8uJwdRRnXnBk9CWULyPnnZdzSwkyc/VbXjrn+U3ihi3JuAZd3DzCXnJWrxx1m2V4sydvQzQ6zDDfntfKFcR6YcTIxqbjTuLUqLTbTWtbjgsHuXSF+ZHLmgnxIQ9t+O5IimNXWYrwIt78hXiR+BPi/KaoV3dhrax6GOGLmeIZoFEmnvSdYBsvSSOKGEl7i/c3c1dTygM9pampx8YYkbUHFOX07LfV+LMfQMbYbzmM24opIgj/RL0O+Ex87EnKV39/eRIA+LpPutuf5aVrfTrOXfUXyg1btJvobNbCfASu6z8G6IsegGxgKBWuo2DxQxo0m2YoPmIA8ny0dv8q1PJAJp2Q7aFqDR+ZQd9q0mXFUf4RI+97Ujfe4bKH6ZBtq0IM+6yJJxoOYuehZ86ffs1XmgsE5e8+muIKd/cLfCjwn3izB2ORI/Wsuq4g/LIuWgFskoHgnthOooIhR/+OExmacNmLpHEWbexdAi3IOJgL/t7tV3CtI4quTLJFN2rbKduPMCmfWJAvancCoCeqr4ca2jTc9BvVQwa2Ld7O3MkhI0o3UZCZ03JLS9rvp6g49pEeaUpuD4Nddm85nMiFLYYaqva1bqpUQshhrCGfXamKxqnLSQv9/U3UtTUso2lmLEz3XKun67bcEqenpyOtIQMzLD1cO9rL5U2jtLAXbfh1e28B9EpE78/FF8iTvPt3kB2jUa31aK6sVISrPvCypLgCWikUuiwVf54yUUP/FcLz6pqPwbOj4/yGqJd3UasE9DjNf51T5q8jKVfgnceeVrlLnG6jwMR4xOCVWJcnLGjF5LKWIMhR1E3UFxZHD4bb4J4TSZfrfajouIhsbtGT2C7MoFotsqCPBqiounzh+IPA3Hmdkf0NgOXMzK/4q9x1Md4zWaFqQS7JPvgr6gy1Ua3cbGYAU26TXUtpvTTUWe0NE84gBpHluYGupryjMee/iJWpPimJ4pp9Hy0JhskL3b3Jtwx6LDK3B/bxIuQM3jNPMOUfSHNi/9z6hDnGUeSZdfxDgQdZ1StA7k5o3oHQm8WTu1txmEdSQzlpB6WDuEYRBzsZXuv9kuY1lEVdxb8giJaSX7oyANs2icG1JqKw6UA6Knqy3mWgxbt2FXFzm1b1s4b52AhUNFtNNZUxC5phV8WKg9qFF2eiMYEcRMVzrrQTrXTQlOjBmneTU9rQaN+u57oZGlbxcM1HRugpW3U/3Gog9z0MGEXxYwrUgd0G6Ik68qG0e3QUCkFr5H9nLNZKt1ZNWqg2/DYvr+cGGbBf5W4Bsinq0ui5rVs2Gf3M9J/NLqtFtWNzaNs+0IccfreAab8BrZeN+VDNeXXp+K/ezCDsYHyTS8/OsprjJbnSUuj5qG2BOObOsw4FPdJXUSK0327oxhXs4RR8mqvE/Iaz9IzrLyy/Hb57Xl4603TK1bELm2N/1FPYOf9GL1HfeNZfY8oikr8JfrORxSHCBDc9pOq7Yk4WcwAV91WWXaJzL1sILgw+HdTHiY0MrNSj7Xr8eqqRxnJiz/6oNIwcDuv0iKwTLw0bBbeTug7H9U4M8ytA6EzC6fWNiPYRhION93G0iFcg4iDvWzv1X4J0+u2uwuryQ+deYBF+8SAOlMRXAqAHua+vChmaYfGyrpNvTWUp/ltlt1XuCzJ2tkLT1zY3Vdha4N2qp0WmprqFMev7mz4y/izbBZC1YDCkBnNTZyPKE98oJk/YqUMv4Wn+qMv6ohuIyh7E7HDoyNxgAkC4zcdfjC1eouoQI10G27qgV9RdOth+j18KZ0r/Rzg0sTc/ZxsbRjdPGktqhuLR9n2hSTSsuIS+X/F39KuLHVERisJgR8c5TVH2/sSpB+verZDv1oIl3ebuu/ueyWf4h6j122VFdHzUXutZzD6dL405xB1Dq6w66YUhQKQ8f0ksQwDM/IIQj/KWTae0k9+QwzQnEO14T6ODa26nkh2ci87ixmogW4bj35/CanqRu7E4rdaotzBcII2hlkmLk7b6iDUwxqMU6OvVNC9buPiEA7dMCfdxtIhnIOIi2xgd68OSpiLbtOhBzS3Twz8TN1WKfpnTY9JLHSbOHUL2l2FCfvuURhak7z5sz9eVI09LipMPGml2mmjqVFBmhe9tHML571Vo7VahvyyVcvhSzdsVGb5qDbElhLMZLjaXrgu6TaCkqyLCx2JxZU4mH6nlXEMLquZbquszLs6lXyObz07HOlZ8bNdvRu2XRJTlVfafQm1qG6aH2XZFypT8enhOZ/Z7m4z1x9e64xUOjvdpoMorxXa1m044vcRGwa3QOtbkMt5pvae/qkKv16YdBve5hDnTjd0v1giztyWSR4qzbepOspZEbx5QZ9FwwzGBKC2iGXjSRaAHmY47oJqiHNraNX1RLjNHCxmoLa6jRTALAQiA7QxzDJxah5H3/moxt1gutdtXBzCoRvmpNtYOoRzEHGRDezu1UEJc9FtOvWApvaJgZ+q2yor3j9Jr1o9h0NnjeTF/5zxrhwTtF94u+o0srzLkyx5wvaLoxVzqpVqp42mRgnRy5PjOvXfEq+zPXpooUwD8y5DxlRn9KAOjfGs46q325Yn1cugzuk2HGnBo93O1PdBMZPRJ6nLaqipbqsUPd7QmagvmMnQo9mS0pglbY2c9ihMw9PqNpyaVzdNj3LUbZJviccX/tbebgy1l4OcJ2Wp27Qe5bVEB7oNIf2edGrpIGtiLwpaIjh4f9XBMoy6jRRVxBi/9LMf+sgaKjGDocfUxBkehmhVLa/ZXOKwQZaNpyh5Yxc0Xy902vtK4T4Et4ZWXU9EfBaOtcUM1Fq3xRFzSTQDFuygj2F2iVd9hsQrStMSlR+g2zg4hEM3zE23sXMI5yDiIhvY3auDEuai23TqAQKG9omBn6vbVKGzBn/z15jtI2wMMJ7ZgJUB99Kfp0bsc7dt7uh19plyi6sd3aaFpkaO5OMNL0enVbeJNeG6oQyXHQZ01pY/WEUsTMeDem5EtWWJP0O3lRcVlErQhx2WzD2ToxBeCkg/n/OwwEsMj2RLT+qaGmqs24gPYREnkGBCu7URgR4WFh4XFEuISbchalbdCBge5aLbytKPe7QxELaddb3qsENuuk2rUV57tKvbpF8T4zPlBVeUGbSyvyXat8yznHZdtjaYQbeVh3la8vDCmXy1GC+WROrLHvjT00PwCyoUXXDHiwczGnOaWGvIsvFEqxZREGCmHuepLeAyuDW0ansiThYzUFvdJnmzrx+KP3RiorouVfopZK+/mh+UitDGMMvEpe//9xsa5+ZbzwpT9wOrPOv23dfUP3Wu27g4hEM3zEm3sXUI1yDiIhvY3avNEiZfw0m36cwDjO0TdZGB+qLbcCQfr87s7jh+waI506Z4LtlyIOhRbvUA1Uq100ZTQyH9Gr2qX+8FN9WdI1xeWqbmKnekXy+MNzfst5fuU6SS53uc0Cy8HtZ49N+qK6B/vG4rjl7oOOM6Xgdw0dWi/ZIYmtGegsCxhNE8s+nUFTWw1m0pm5Buy1AMmKJbc1Gw4W9oZN6kge2yOKV80ui2WlQ3NkqCvW4TJW/uhjdUwoEHFHYKc9JtWoxyraBd3SZO8x23QrkVKYpd3lGAu6zXzizSZQy6TZS0obNAj2/jFUk01iJ0IHNXNEzKaz7zpmrHQG7Z5VlNCiZbb7aNpzjdpztKE2s8/JjKulTZvVWf52UCb93Q6LRKxeNiMQPqE8dhG6tVG5pNBu7NUG3Wy7P83Aauuq/qfhXoBRLLxNEGLcLTBl1XxajMeki/31k1amEodcJOBbkOnf+L8rxY4Tk3VKQCO+9a6zYuDuHQDdOWk1rYOoRjEHGRDSzv1XoJ0ztKrfzQkQcY2yfqAgM61m3UXja20USv20RvguYMmR74Sl0Ho4h2qh2HmsWEtCDBZ7DjzEvvqutLvFe8snSl5laTBeKsP/oamow4oarI5EhzA1zIzwTo91DcxIHQnm57yUq3lafu6NvUNRCdPIFHRx99kwF7MtQWatE5NyScMP1+e6kraigPn0XsfUS6jWlhgyh+RTv9jusUjpHBET/d1pNabdag2lluJefHkVpXuVOvRXVjVhLkBda6jZpjwwxdzyoMoZZdnYTKWd/5Lxa6TVtRri20rdu29mi/6K7SjwL8R10zHmbqcYFqwWW6zXBsgMp4V2GkVys+z3y0v3wTkTT32oyWeGFhJs5/KX+ApDRueXsBz9T5ELUVGY8dNxQ7Ko0n/sOG2KKqP6xKi1UdO81v7vr3S3kRSD5d/L05Hgd4gSttRKFB9M/q9igYTCcEkatsRHnfC6VcLGaAJnG8qb23CJ0xx7NAO24VKDrjgkYRhfZbUsnUxZm7+5K/gfRbuR+I/yTLZ/GrMJ/hrTvOC9PYCpLHXuIxPPq06mo8lolLPwS6kSsveE16Lwp4/IW8T5Sb6D+ne/vx5z7ITBBnEO0e/mtmVYIseMS5932HNiWHc+ZHyzPLYJY2bMZhHUkM5aQetg7hFkQc7GV9r7ZLmN5R5RGzUW+i0vrqxgOM7RP1fwbUm8qtAOgRJaNfrTjV0lcPnTWlCeu6GpoMPZhVrOmtWqp2tW9qcBem/Dm0dfeFZ+7Fq3A/JurS/pk9Onndklkoeh44q3c7Wyev86+oK+wpCJ9jwzcafYqxQPLOe6CBGNwDLWaEKJzdiudUtv7aQ3GDCP11WqgFQbjrbVcm0Oi2sufnZnY0bPDb/3IIY0uvTGyMYQadFt6qZrw079o0YuWAuWvAe+qaGig9gwdq3z2qa4QUKQuZbs5XOtYMIf0c6IaGzHnmEy6qFKg0l1zXoBodtahubJQE676wIoY4GgePaM+bsvIUfbgxux2qbkKnvdScAI6Oo1x7aF23OQiNHDcorCktT9nSQ9+wm7e8YSB1G579Nh6HH+RSQVv67NSp31sLG3ZZEKp8poC04MH2QRZ8jGf2246HsmQln28t7WZk0m3RzQ8yl4szyLXMgvarFE9HKw6bhaYC9IRdNz+paudFWUfJY6cxgVWf2bsCQ6MiLh9bP7Z7z642RMPJa9Ru4Li5x5mHPaXfL45H0wmYsYPX8ZAbpzd6uG9/hEQ6W4uZoEtc+vX0GGNkuP6A/YrdGTlSiVtuOf2GbGKpLGkXeY47DtbAsn3Pfv17dbExFQqs3fyzWPQLJZFexNC4oKOaoWGWiUuyL05pjQZOiPuEjVq069C2eSMhz8RxQ5zi+Iz46Y5eqFJgfAvHqd47tq/3cnGwHbTFfxURKrzGXcev2n39OXEro1nasJlLJNEGAR1sHcIhiLjYy+Fe7ZYwraMk7w7+SqxbaDjsuNIgiC48wKZ9oofOVC4FQI/47V/OqGrj6es7+ip+MkY9tNY8IfaT6mGY0NjCunX7Tl0cHHv3Gzh4yOgJc9fsPvNA8UgFdtWOMF4bNYuO8qwTbta4SKdF8RBhWSeMVkFTl1gi/X53eVcDjGf6+yV1s/pVyGbp8bwY2K+NVxiiyQueaEEUqbJCp71Oh/jNX0PIb/Nght0XnotJevrsOUFWZurjB/dunj24ceZAG1QyQscd1O8T6vwqvHPqPGnf3Q9VXpV8f3TQ5RcBhum3m36J6UT34rjlxIgRnoSFxznaATfp5ytT8ZLm28y4rvKFNrQfgS+wXaE6riT9dnUqMeCBl0mruRFypVuL6sbiUQ59oax8ML654/RNO31Xz3C27zN9mTtasoYZdZ+1a8+6FX4peITpMsq1irZ1m0+/VnZdbVt3HT5n/R9Hjh3aOntAW9th3mFVn5PC76HG24yHe++d2Mnqlx7Oo4b1bmNqYm3tNOdoolrRWvoyxMfD3kJf2LhtP/fZ82aM7mlrN2LlmdQC8mbpt3i/Za6dqKNssIZtnGdvOPukVPwubOes/s2pPoVn0mHMkv/FfiGewAso88KywTYNeeQfMZ5xe/c9camHBhkYtnB0X/bn5UcfNf9wKkveO9gKyT88dJoOXBP2Xp5JDRazoHrixUmnVv7uaEW1bzzTLq6L90RkS8TPgjd7DZOdwojpt3Cavi0sm0hDmp90fE7fZqh1J/8otHT0PHAnp1pEqiD5ELnba4y9OeU6PM2+k5ZsPnFfqR6zTVyUHb7VtWNjymwMa2AzZG3ws2qrlsqfnZqGFyFxFyYwc5hxLLlQ9NS3R0OLLiPm+pwIS/5Q+n+ZzNKKzVwiiXqEIQhoYOkQNkHExd7PXGoJ8QbtlnA1R1V8vPO/DfNdu5rKCt2i54QlW8+nKlQ87XrgC6v2SR0SOlNrEDDVESUd85owpKsldTsOxjftMMh95uZrag/up7WG/LP0c7TvGMVTWRXBBM1GHX0ml261rXYyatrU4E9+D/NqK8+6GjD93ruyqgpIknNyrDkPd5HVuEDqEgvEz88sGNyW0sX8Jp2HT113qfoSN0l2iM/cCYPaUuWJg+GFN3TeqfTClHObF3n0kH15lmfa2WX+Br/Y3P+f5rqibxQRJfnN9XC2kzlTE4qCNT/QxazDuDVbV80c7tCiiWVbh19Hjh3R397ahI87u+fUP2NzaUSb6LGf16QxfVsZk8WMwAya2g8d77npmuL5eKKko3PcB3eSF3RThxGT119WGI16sW/I0P0KbhMlH5s3cUSPFmi0mQJraO04asqGq+jPNa1uOBoe5dIXovsl2deW9jInWx9eQxvn5eeeFkpL76+2QwGLqzmndeEp4bqMcm2jXd1WKSouIloPUUF2ekL0rdsPMj+VqEST0vq28i8Z92+FR8Ylv8kTaypLcd6b5Pu3IyJjErNyteMoSdG7lLio8MjY5HdFqHjK32e9zKcJfvWI8l4n3rkdl/ZR7RhLLS1mTpw14vzXSbFRt+4+fv65WGN94QrbxMs+ZSRER959/PJbOV2ThpdH8afMB3djU94VUG1Vyce3n7VfJ7TtkBqVEyuHILQf9tzQYgnXMKC16AEW7VP9pyj1xIwxi4OeZDyKvXU9KPBvv/8d3L9vz+4dvhuWz3bp0czAclrVmDyB9qqdTpsaOWXZDyMikz7+4CGOn43kw4PoNNlQRXFO8p2QS4H+x0+eux6T8eVnNAwsqEV1035NFRdkP4m9fSfxVV5VaErzXyZERSa84Nbp/6AoZ0TLuo0FDPsSAAAAgJpTkOA7wMpuRZya8VsCceZ2p8GK2+oAAKhvgG4DAAD4V1B6b0lbgcLn/KtTkeg9bNFtaHkBoB7zM3Qb3XflAQAAgJpCnkeBCdvPDfmobganOPP8/OHTAnT00U8AAH4MP163VcQRh6xrOvwPAAAA4ELZw40O6Ow1TNDEbpTXxn3Hz166cvVy0JkTB3xXTBva1bbX3ICntVstCwDAT+eH6raSnMcRp9cOtiL2DGOGdlP2XYqKT82hW4oBAAAAcECSG3dgZt8WDTDZnjccjG9k3Wv8+r/j5adHAABQf/mRuk36LTX80kUVgsKe/NAD6wAAAP7dSIreP314NzT4wsWrYXcePv8Geg0A/kX8+HlSAAAAAAAAoCaAbgMAAAAAAKgfgG4DAAAAAACoH4BuAwAAAAAAqB+AbgMAAAAAAKgfgG4DAAAAAACoH4BuAwAAAAAAqB+AbgMAAAAAAKgfgG4DAAAAAACoH/wg3SYtyXl0/S/vac7OG+Pg7G4AAAAAAIAa8AN0W1nyibnObYyI7+XxrefdBt0GAAAAAABQA37UPGn+xfGmPNBtAAAAAAAANUYnuk3yPnjPqSwx9T+CivvL2vBBtwFcURNLAAAAAPBfRQe6rSLjgLNl143JSn2tKH55W9BtAEfUxhIAAAAA/FfRtm6TFsSssjfEBF1AtwG1hC6WAAAAAOC/ilZ1mzQvcc+wpnxMT0/QYVHoi9c4bz4WEH2uqm4re/8o7MLffsfP3Hz0oQxdUEd2asyNwBMnzlyPf10ooa6xo/RjelzohYCAi6EJL/NE0pLComo9v6TwXfK90KCTx46duhiR9KFUSl1XQlLw4t6tx1+Jv0lLsh9cP33seOD1hznlxF8J8MuJoSgr5249/U6nL0QFNcyL6MuTW/FviAeQy877H/M/F578WeH9CrDMUlZ0/CtkqDg35WaAf2DU8yLyLwR1xS0MsSRHs1s15JZFnAAAAABA3UGLuk3yOmBmv+5tzQR4X4sZNuvYHdHL88x71L0r6LaitzdWDWgqJPaX4mBGnWYHZ6v2uUXpgYt/6z3UzcPlV9vGPIzX2G7i4cR8tSJCBcmHsNUDW3dy8T4WfP3yqZ2ejk3NLC2d979VeEPFmxveI9o16zJ+09HzQWcOrRze0kDY7NcNUV9k6Yu+pIX5+853cbRuyBPYrX9cUZBycl4fK5nNmFHnhaGfpZWSLwkHp9qbogwTl4XNhh9MU1WhRE46d+KWF0nRm7jzuxeOdbAy4JlMvJz/6sry/goua9By5PYYUjZRaMxSZcXX9HA/7ykDWhnzDNzOF3+P3dzfDMkiPV7TGSGElqlDbmGMJQINbtWcWxZxAgAAAAB1DG3Pk5aHTGvC09OjnSdt5rp4avdu49YcvHD7/r1L21xa6uOdKc9qytX8ynzq1srK4sc7Blh2nHOV/F/5K39XKzxNntmwIy80DYdIXh8Z0ljYbXNK1WxsUcyyDoa9dj2v6o/zIxe0E2LCntszZYmVxi6zFeA9+uQr38luvyjzzvUrh6e0R4qEbzNq9oTfRsz/IzA0IT3j4bnFPU3QxtjWXidPejoN8joU8k/m6zcZ9/wmo7sxk6F+ihpUlpN3lDks81L08O+NK6f3tcI9poc1dPJw69xx+DyfQ8cObZ3v0rUJqT9MB+5Nl2VSY5akX2P+8l4504lIUc9gzLaDEwa6L1/hYWfMw18w8u/cuugWuljS+LzG3OLaUnOcAAAAAECd4wfrNkzQfMSBZPlMVf7VqWR/O+1G6Y1S8lpp/MoO+laTLlNiAUf02NtOgPfA/OaeoYqzXNWRvN0/QB8zdDlTQF3AkeaedB3gkyYzpyR4QiNcdwgdtlZdqiy56GGE4fJxVrjCTJ/owSpctuhh+p0XR32R9+alUV7WSA/wTAfteUKZjCN9f8TZEFcohiP8cVlAUj0nXPIiSliJ3o/f6XoiSz5cVZp+YIgZ7jPcAJfTn4mU2WZJ9HBNB5QiZtxlSTgxXFf0LPzU6duv8dTroFvoYonl80y5ZREnAAAAAFD3+NHjbSr7EqSfjjrr432rcMD+t+QUlTQ30NWUZzz29BexnOKbnkjeocejFR+vhjh1azehHq/xr3vSFLTDl+CdR57KzBGn7x1gym9g63XzW1W/X359qikuLgzGBhZSV3DEaSgtPV6TaSGKy8mkn46QJvf544Xi2EzFnQW/4DkU2K5MEBEX1OaES17SfRzw92PGE4KVJxnFGTt6oWFKrMGQox9RHthmSfJid288RT39QYflE44UddAt6mOJ9fOMudUcJwAAAABQ9/jJuq2y7JJHQzTM03N7JjlBVxj8uykPExqZWanD2vV4tT5YidKoeUgmYHxThxmH4j6RUkEVaVlxidw68be0K0sdDXEr9J2PEDqIBBcoSDepCpTKknNuBmoEiujRuk4C/PamsyPI25lzojkv4nTf7ki3mUy8orI4TPJqrxNSJDxLzzDKNFZZkrz4ow96zsDtvFytyKlrblEfS6yfZ8wtqzgBAAAAgDrGz9dt49EXsIQ9t2VuQ7pNnLKpq1CP32pJLONYFD3Sj1c926HRKKJT7jZ13933dClVfHp4zme2u9vM9YfXOpuwFiil59ULlMfr0Uwdz2JmKHF7rXNCr9sqK6LnE5OSBqNPy1cFIpizpEG3UdQZt6iNJfbPM+eWQ5wAAAAAQF2hruk2UpFgRh5BJdQd3BG/j9gwuAW1yxHjmdp7+qcqTPThSL4lHl/4W3u7MT4hL9F7yAlB7QqUWueEQbeJU7eguUqsoftFWeJssqRJt9Uxt6iNJfbPa1SpmuMEAAAAAOoWdU63xS1tjd8n7LopRel5rki/J51aOsjagOyUeWaD9z+VzYWVpR/3aGMgbDvr+ieZwNCJQKltTph0GzHopMdvs+w+4U2WWWJUMnXPLep1G+vnWY0uMsQJAAAAANQ56ppuk7zZ1w91toJOax8qyQIC6aeQvf5PGDpW6dfE+Ey5yinKDFrZ3xKdm8GznHad2GcoSt7cTR/TEw488E4uL3QhUJhzwiIvDLqtPMzTkoerjMlXi/H/sc4Sg5Kpi25RG0vsn2fSbZrjBAAAAADqIFrXbTdnmKO+tsPqf5QkCVvdJj+9wWTgXvKWKsqz/NwGrrqvKmIUEaf5jluhvPKpKHZ5RwGuSHrtzML1hCh5Yxc8eczQ9axC91x2dVJjQqD8pT2BopSTDCWTcNjkhVa3iZI2dBbo8W28IknZxjZL9EqmTrpFfSyxfp5Jt2mMEwAAAACoi2hbt4n+Wd0eCQDTCUHk0ViivO+FeKdfcW+RDa7beBZVOyBJis64oDkqof2W1C2pxKiKOHN3X7SLUQ/TPxD/Sda1Fr8K8xneuuO8MPkpFerARUWP9ovuKi19Ko+c24yHmXpcQEv4K2KWtMLtwAWk503Zkn7Rhxuz2yEpIHTa+1reZ1OTkdUECjIZ3dzDN0NxSFGUuBbpCZ75jJvU7Qo5aeVeg7xQus1wbEAedYmkMNKrFZ9nPtqfPNuffZYkz3f1IpTM6NMK55Yh6qRbaGKJ7fP0ucVt0BQnCNHzwFm929k6eZ0nPpQFAAAAAD8dbes26feL49GpsJixg9fxkBunN3q4b39UWin9enqMMd7XYvoD9pNf2yQhR47wbt1y+o3pN9DoEU5Z0q4Bpnga+O0NLNv37Ne/VxcbU6HA2s0/S2mERA3EYJCR44Z4+WekylO29NA37OadQHbSecETLVDaGN/ccfqmnb6rZzjb95m+zB0tmsKMus/atWfdCr8UNL5TeG2qJcqJ4ehT34hHScSZ23oiOcCznHxFUQ8UXZ2CRoewBsOOV50wK89JTfJC6jbcZ208Dj/IpYacSp+d+r21sGGXBaGfZG9hlyX8xpJIL3T4hZ6gY7U5xrroFppYYvs8Q25ZxIlcy6JlhHHUNQAAAAD4qWhZt5Ul7x1sRXyHCdNvOnBN2PuCpFMrf3e0or5VyTPt7Lpod9hbifj5la1ew2zRFCkOpt/Cafq2MOpLSNL8pONz+jajlorjfxVaOnoeuKP40XL1iNN8+rXqbG/busuw2et3Hzl2yGfOwHa2Q9eHZlcNl0iyry3tbU5Yg/EMbQYvO5teKC29v9oOvQ3jm/VZHfEh5+6RjV6DW5LvxwRN+0xb/cfNV2Lxsyu+i93tKb2ACa0HzvI+fDtHXPDQf820AdTKdvL23TdeEm+scU6qRBtmPNx778ROVr/0cB41rHcbUxNrpzlHE5XH6TTnKTQ5fLfXGHtz2dZJ/RZ9Jy3ZfOK+/OOlddIv1YKJKkYNj0s+RDLnlkWcVEpyTo7F9SbGtxoX+J66BgAAAAA/G22Pt6HJrNeJd27HpX2stqiIE+L810mxUbfuPn7+uVjenTIjKi4iVjaJCrLTE6Jv3X6Q+alEYXCPQlyY/SQ2Kvrhy7yqdKX5LxOiIuNf5FW/u/bUJCfKi9vKv2TcvxUeGZf8Rm6yMtrIU130C0Mw1citJOzipCz7YURk0kdNw6IAAAAA8OPQvm4DtIGSbgMAAAAAAMAB3VY3Ad0GAAAAAIAqoNvqJrQflQcAAAAA4D8L6La6ScX9ZW3QZkb9IX6flXYhAAAAAADwnwV0W52jJOdxRMA656bEGRSYYafJ+y5FxT/Jpg5JAQAAAADgPwvotrqG9Ftq+KWLKgSFJssP7QAAAAAA4L8J6DYAAAAAAID6Aeg2AAAAAACA+gHoNgAAAAAAgPoB6DYAAAAAAID6Aeg2AAAAAACA+gHoNgAAAAAAgPoB6DYAAAAAAID6Aeg2AAAAAACA+gHoNgAAAAAAgPoB6DYAAAAAAID6Aeg2AAAAAACA+gHoNgAAAAAAgPoB6DYAAAAAAID6Aeg2AAAAAACA+gHoNgAAAAAAgPpAZeX/A6Shna+Kp6iDAAAAAElFTkSuQmCC\"\n",
        "width = \"600\">\n",
        "</div>"
      ]
    },
    {
      "cell_type": "markdown",
      "metadata": {
        "id": "w_Q4CM4a1O7D"
      },
      "source": [
        "# Training  \n",
        "In PyTorch we implement this model as follows. As always, first create a class which inherits from `nn.Module`. The initialization consists of declaring all model layers that will be used in the model's forward pass, the loss function and the optimizer.\n",
        "\n",
        "### Model output & loss function\n",
        "\n",
        "It is often instructive to think about what the output of a model should be. We aim at parametrizing each of the terms in the factorization of $P(S|x)$, i.e. the model output will be $p(S_t|I, S_{0},..., S_{t-1})$ at each $t$. Operationally, the output of the model will therefore be a matrix $P\\in\\mathbb{R}^{N\\times V}$ containing for each of the $V$ words in the vocabulary the probability at each position unrolled step $t$ of the recurrent cell. In other words, the output is the concatenation of the probability distributions over all possible tokens for every position in the sentence. This machine learning task is sometimes described as a multiclass-classification task for each of the positions in the sentence. In PyTorch, models for multiclass-classification are optimized using `nn.CrossEntropyLoss()` criterion, as declared in the cell below.\n",
        "\n",
        "### The recurrent procedure\n",
        "\n",
        "With the aforementioned output and loss criterion, the model is trained to predict each word of the sentence after it has seen the image as well as all preceding words as defined by $p(S_t|I, S_0, . . . , S_{t−1})$. For this purpose, it is instructive to think of the RNN in unrolled form, as seen in the figure above. In more detail, if we denote by $I$ the input image and by $S = (S_1,...,S_N)$ a true sentence describing this image, the unrolling procedure is as follows:\n",
        "1. First, we initialize the RNN's hidden and cell states as zero vectors and update them using the image $I$, i.e. $h_{t+1} = f(h_t, x_t=I)$\n",
        "2. At $t=0$, we take the RNN cell and update it by inserting a start symbol $S_0$. In our case, we use a word embedding of all 0s as this symbol, i.e. $h_{t+1} = f(h_t, x_t=S_0)$\n",
        "3. At all $t>0$, we (repeatedly) take the RNN cell and update it using the token $S_t$, i.e. $h_{t+1} = f(h_t, x_t=S_t)$\n",
        "\n",
        "To make the above RNN more concrete two crucial design choices are made: which type of RNN and how the images and words are fed as inputs $x_t$. For the former we will use a Long short-term memory (LSTM) unit. The latter is a bit more involved to discuss, and works as follows.\n",
        "\n",
        "During preprocessing, we encoded input images into a fixed size vector $\\mathbb{R}^m$ by employing the pretrained convolutional layers of MobilenetV2. Similarly, we employ a word embedding layer which encodes each token index to vector representation $\\mathbb{R}^k$. The RNN takes as input either the representation of $I$ *or* $S_t$. We choose to take the input size of $S_t$, and as such must convert the $I$-embeddings to this shape. To do so, we use dense layer $image\\_emb$ which maps the image embedding vector to the same length as the word embedding, i.e. $image\\_emb: \\mathbb{R}^m \\rightarrow \\mathbb{R}^k$. Operationally, we concatenate all the different inputs to one tensor: the reshaped $I$, the starting 'symbol' $S_0$ and the ground-truth caption $S_t$. This creates a tensor of shape (`batch_size`, `max_seq_len_in_batch`, $k$). PyTorch's RNN takes as input the concatenation of these embeddings. Under the hood, it initiates a hidden state of zeros (by default) and automatically updates the hidden state after seeing the (word) embedding in the sequence.\n",
        "\n",
        "The RNN output considers a tensor containing the output at each (unrolled) timestep (alongside its hidden state, which we do not use for word prediction). For each unrolled timestep, we map this output to a probability distribution over all words. We use an additional dense layer to allow for the model to learn more complex relations. As such, the RNN output is first fed through dense layer $f_0$, after which it goes through dense layer $f_1$, which outputs the probability distribution over all words.\n",
        "\n",
        "Note that to map the output of $f_1$ to a probability distribution we would normally apply a softmax function. In this implementation this softmax function is applied by PyTorch's computation of categorical cross-entropy, and as such we do not explicitely apply it.\n"
      ]
    },
    {
      "cell_type": "code",
      "execution_count": null,
      "metadata": {
        "id": "VxktQKBC1O7D"
      },
      "outputs": [],
      "source": [
        "print(f\"Neural Code length: {train_codes.shape[1]}\")\n",
        "print(f\"Max caption length: {max((train_y.shape[-1],val_y.shape[-1]))}\")\n",
        "print(f\"Embedding dim: {pretrained_vectors.shape[1]}\")\n",
        "print(f\"Number of words: {pretrained_vectors.shape[0]-1}\")"
      ]
    },
    {
      "cell_type": "code",
      "execution_count": null,
      "metadata": {
        "id": "i1oKZwtm1O7D"
      },
      "outputs": [],
      "source": [
        "from torch import nn\n",
        "\n",
        "class TrainCaptionGenerator(nn.Module):\n",
        "\n",
        "    def __init__(self,\n",
        "                 vocab = vocab,\n",
        "                 code_length=image_codes.shape[1],\n",
        "                 embedding_dim=pretrained_vectors.shape[1],\n",
        "                 hidden_dim=512,\n",
        "                 hidden_dense_dim=512,\n",
        "                 dense_dropout=0.4):\n",
        "\n",
        "        super(TrainCaptionGenerator, self).__init__()\n",
        "\n",
        "        # Save some parameters inside this object\n",
        "        self.vocab = vocab\n",
        "        self.code_length = code_length\n",
        "        self.embedding_dim = embedding_dim\n",
        "        self.hidden_dim = hidden_dim\n",
        "\n",
        "        # Embed image from 20480 to embedding_dim\n",
        "        self.image_emb = nn.Linear(code_length, self.embedding_dim) #(batch_size, embedding_dim)\n",
        "\n",
        "        self.word_embeddings = nn.Embedding(len(vocab), embedding_dim)\n",
        "\n",
        "        # Process data with LSTM\n",
        "        self.rnn = nn.LSTM(self.embedding_dim, hidden_dim, num_layers=1, batch_first=True)\n",
        "\n",
        "        # Fully connected layer after RNN output, to learn more complex relations\n",
        "        self.f0 = nn.Linear(hidden_dim, hidden_dense_dim)\n",
        "        self.relu = nn.ReLU()\n",
        "\n",
        "        # Dropout to regularize this dense layer\n",
        "        self.drop = nn.Dropout(p=dense_dropout)\n",
        "\n",
        "        # Map to a categorical distribution of length num_words\n",
        "        self.f1 = nn.Linear(hidden_dense_dim, len(vocab))\n",
        "\n",
        "        # Loss function\n",
        "        # PyTorch applies softmax in CrossEntropyLoss, so we do not need to add it ourselves\n",
        "        self.criterion = nn.CrossEntropyLoss()\n",
        "\n",
        "        self.optimizer = torch.optim.Adam(self.parameters())\n",
        "\n",
        "    def forward(self, image_codes, padded_word_idcs):\n",
        "        \"\"\"\n",
        "        Forward pass of trainable model. It predicts each next word\n",
        "        in the descriptive sentence as if the previous word was correct\n",
        "        by substitution of the ground truth word for the previous word.\n",
        "\n",
        "        Input:\n",
        "        image_codes shape: (batch_size, 20480)\n",
        "        padded_word_idcs shape: (batch_size, max_seq_len_in_batch)\n",
        "\n",
        "        Outputs:\n",
        "        output: (batch_size, max_seq_len_in_batch, num_words)\n",
        "\n",
        "        Softmax activation on top of the output matrix yields\n",
        "        a probability distribution (probability mass function) over each of the vocabulary words\n",
        "        for each word in a sequence of length max_seq_len_in_batch.\n",
        "        The final predicted sentence can be constructed from this pmf.\n",
        "        \"\"\"\n",
        "\n",
        "        # retrieve word embedding vectors from the token indices\n",
        "        caption_vectors = pretrained_vectors[padded_word_idcs.cpu()].to(image_codes.device) #(batch_size, max_seq_len_in_batch, embedding_dim)\n",
        "\n",
        "        # we remove the last timestep, as we do not take the final word as input\n",
        "        # for a 'next' word (since the sequence has ended)\n",
        "        caption_vectors = caption_vectors[:, :-1,:]\n",
        "\n",
        "        # as initial input / start 'symbol' we use a word embedding of all 0s\n",
        "        batch_size = caption_vectors.size()[0]\n",
        "        embedding_dim = caption_vectors.size()[2]\n",
        "        zeros = torch.zeros((batch_size, 1, embedding_dim)).to(image_codes.device) #(batch_size, 1, embedding_dim)\n",
        "\n",
        "        # Embed image from 20480 to embedding_dim and reshape as necessary\n",
        "        image_vector = self.image_emb(image_codes) #(batch_size, embedding_dim)\n",
        "        image_vector = image_vector.unsqueeze(1) #(batch_size, 1, embedding_dim)\n",
        "\n",
        "        # Concatenate all our inputs -> the image, the 'start symbol' and the caption embedding vectors\n",
        "        concat_embeddings = torch.cat([image_vector, zeros, caption_vectors], dim=1) #(batch_size, max_seq_len_in_batch+1, embedding_dim)\n",
        "\n",
        "        # Feed packed input sequence to rnnn\n",
        "        rnn_output, rnn_state = self.rnn(concat_embeddings)  #(batch_size, max_seq_len_in_batch+1, embedding_dim)\n",
        "\n",
        "        # To further process, put the data through a dense layer\n",
        "        output = self.f0(rnn_output)\n",
        "\n",
        "        # apply activation\n",
        "        output = self.relu(output)\n",
        "\n",
        "        # and apply dropout!\n",
        "        output = self.drop(output)\n",
        "\n",
        "        # Map rnn output to vector of length num_words\n",
        "        output = self.f1(output) #(batch_size, max_seq_len_in_batch+1, num_words)\n",
        "\n",
        "        # we remove the first output as it corresponds to the 'input image'\n",
        "        # being inserted --> from 1 onwards we process words\n",
        "        output = output[:, 1:] #(batch_size, max_seq_len_in_batch, num_words)\n",
        "        return output\n"
      ]
    },
    {
      "cell_type": "markdown",
      "metadata": {
        "id": "zaKaWF6a1O7E"
      },
      "source": [
        "### Training/evaluation loop\n",
        "\n",
        "The training and evaluation loop is similar to that of P3.1. However, there is a slight difference: we compute accuracies in terms of each token in the sentence whereas in P3.1 it was sufficient to calculate accuracy over a single prediction (the genre of a news article)."
      ]
    },
    {
      "cell_type": "code",
      "execution_count": null,
      "metadata": {
        "id": "7toZb41f1O7E"
      },
      "outputs": [],
      "source": [
        "import time\n",
        "\n",
        "def train(dataloader):\n",
        "\n",
        "    joint_probability_model.train()\n",
        "\n",
        "    total_correct, total_count = 0, 0\n",
        "    log_interval = 500\n",
        "    start_time = time.time()\n",
        "\n",
        "    for idx, (image_codes, padded_word_idcs) in enumerate(dataloader):\n",
        "\n",
        "        image_codes = image_codes.to(device)\n",
        "        padded_word_idcs = padded_word_idcs.to(device)\n",
        "\n",
        "        joint_probability_model.optimizer.zero_grad()\n",
        "\n",
        "        y_pred = joint_probability_model(image_codes, padded_word_idcs)\n",
        "\n",
        "        # predictions for nn.CrossEntropyLoss should have shape (batch_size, num_classes, max_len)\n",
        "        loss = joint_probability_model.criterion(y_pred.permute((0,2,1)), padded_word_idcs)\n",
        "\n",
        "        loss.backward()\n",
        "\n",
        "        torch.nn.utils.clip_grad_norm_(joint_probability_model.parameters(), 0.1)\n",
        "\n",
        "        joint_probability_model.optimizer.step()\n",
        "\n",
        "        total_correct += (y_pred.argmax(2) == padded_word_idcs).sum().item()\n",
        "        total_count += padded_word_idcs.size(0) * 35\n",
        "\n",
        "\n",
        "        if idx % log_interval == 0 and idx > 0:\n",
        "            elapsed = time.time() - start_time\n",
        "            print('| epoch {:3d} | {:5d}/{:5d} batches '\n",
        "                  '| accuracy {:8.3f}'.format(epoch, idx, len(dataloader),\n",
        "                                              total_correct/total_count))\n",
        "            total_correct, total_count = 0, 0\n",
        "            start_time = time.time()\n",
        "\n",
        "    return total_correct/total_count\n",
        "\n",
        "def evaluate(dataloader):\n",
        "    joint_probability_model.eval()\n",
        "    total_correct, total_count = 0, 0\n",
        "\n",
        "    with torch.no_grad():\n",
        "        for idx, (image_codes, padded_word_idcs) in enumerate(dataloader):\n",
        "\n",
        "            image_codes = image_codes.to(device)\n",
        "            padded_word_idcs = padded_word_idcs.to(device)\n",
        "\n",
        "            y_pred = joint_probability_model(image_codes, padded_word_idcs)\n",
        "\n",
        "            loss = joint_probability_model.criterion(y_pred.permute((0,2,1)), padded_word_idcs)\n",
        "\n",
        "            total_correct += (y_pred.argmax(2) == padded_word_idcs).sum().item()\n",
        "            total_count += padded_word_idcs.size(0) * 35\n",
        "\n",
        "    return total_correct/total_count"
      ]
    },
    {
      "cell_type": "code",
      "execution_count": null,
      "metadata": {
        "id": "8iZHiXvU1O7E"
      },
      "outputs": [],
      "source": [
        "# hyperparameters\n",
        "EPOCHS = 25\n",
        "\n",
        "device = torch.device(\"cuda:0\" if torch.cuda.is_available() else \"cpu\")\n",
        "\n",
        "# initiate recurrent classification model\n",
        "joint_probability_model = TrainCaptionGenerator().to(device)\n",
        "\n",
        "train_acc, val_acc = [], []\n",
        "# training loop\n",
        "for epoch in range(1, EPOCHS + 1):\n",
        "    epoch_start_time = time.time()\n",
        "\n",
        "    train_acc.append(train(train_dataloader))\n",
        "    val_acc.append(evaluate(val_dataloader))\n",
        "\n",
        "    print('-' * 59)\n",
        "    print('| end of epoch {:3d} | time: {:5.2f}s | '\n",
        "          'train accuracy {:8.3f} '\n",
        "          'validation accuracy {:8.3f} '.format(epoch,\n",
        "                                           time.time() - epoch_start_time,\n",
        "                                           train_acc[-1],\n",
        "                                           val_acc[-1]))\n",
        "    print('-' * 59)\n",
        "\n",
        "\n"
      ]
    },
    {
      "cell_type": "code",
      "execution_count": null,
      "metadata": {
        "id": "y8deBrznHkUK"
      },
      "outputs": [],
      "source": [
        "f, ax = plt.subplots(1,1, figsize=(10,8))\n",
        "\n",
        "\n",
        "fnt=16\n",
        "ax.plot(train_acc, color='blue', label='Train')\n",
        "ax.plot(val_acc, color='red', linestyle='--', label='Test')\n",
        "ax.legend(fontsize=fnt)\n",
        "ax.tick_params(axis='both', labelsize=fnt)\n",
        "\n",
        "ax.set_xlabel(\"Epoch\", fontsize=fnt)\n",
        "ax.set_ylabel(\"Accuracy\", fontsize=fnt);"
      ]
    },
    {
      "cell_type": "markdown",
      "metadata": {
        "id": "DOYcrCqE1O7F"
      },
      "source": [
        "# Inference\n",
        "\n",
        "The trained model parametrizes the joint probability distribution $P(S|I)$ of a sentence describing an image. Formally, we seek the sentence $S$ which maximizes $P(S|I)$, i.e.\n",
        "\n",
        "$$\n",
        "S = \\underset{S^{'}}{\\operatorname{argmax}} p(S^{′}|I). \\quad{(4)}\n",
        "$$\n",
        "\n",
        "There are multiple approaches that can be used to generate a sentence given such a distribution $P(S|I)$.\n",
        "\n",
        "### Greedy decoder\n",
        "The first approach is to compute the sentence by, for each timestep, taking the word with the highest probability. We sample the first word by inserting image $I$ and start-token $S_0$ and taking the word with the highest probability, after which we sample each subsequent word by inserting the previously selected word and again taking the most likely word. We continue this process until the special end-of-sentence token or the maximum sequence length is reached. This approach is implemented below."
      ]
    },
    {
      "cell_type": "code",
      "execution_count": null,
      "metadata": {
        "id": "iuhXTOPj1O7F"
      },
      "outputs": [],
      "source": [
        "class GreedyImageCaptionDecoder():\n",
        "\n",
        "    def __init__(self,\n",
        "                 joint_probability_model = joint_probability_model,\n",
        "                 max_caption_length = 35):\n",
        "\n",
        "        self.trained_model = joint_probability_model\n",
        "        self.max_caption_length = max_caption_length\n",
        "\n",
        "    def decode(self, image_codes):\n",
        "\n",
        "        self.trained_model.train()\n",
        "\n",
        "        with torch.no_grad():\n",
        "            # Embed image from 20480 to embedding_dim\n",
        "            image_vector = self.trained_model.image_emb(image_codes) #(batch_size, embedding_dim)\n",
        "            image_vector = image_vector.unsqueeze(1) #(batch_size, 1, embedding_dim)\n",
        "\n",
        "            # take our rnn cell in eval-mode: in case we use multiple layers with\n",
        "            # dropout (not currently selected), we want to avoid using dropout in\n",
        "            # the evaluation -> .eval() fixes this\n",
        "            rnn_eval = self.trained_model.rnn.eval()\n",
        "\n",
        "            # sample the initial hidden state using the image vector\n",
        "            rnn_output_initial, rnn_state = rnn_eval(input=image_vector, hx=None)  #(batch_size, 1, embedding_dim)\n",
        "\n",
        "\n",
        "            captions_idx = []\n",
        "            # Manually unroll model, output of step t-1 is input of RNN in step t\n",
        "            for t in range(0, self.max_caption_length):\n",
        "                if t == 0:\n",
        "                    # for the starting symbol, we use a word embedding of all 0s\n",
        "                    batch_size = rnn_output_initial.size()[0]\n",
        "                    embedding_size = pretrained_vectors.size()[1]\n",
        "                    caption_vectors = torch.zeros((batch_size, 1, embedding_size))\n",
        "                else:\n",
        "                    # if we are further along, take the embedding of the previously predicted word\n",
        "                    caption_vectors = pretrained_vectors[captions_idx[-1].cpu()]\n",
        "\n",
        "                # Feed embedding of previous word into RNN\n",
        "                rnn_output_next_word, rnn_state = rnn_eval(input=caption_vectors.to(device),\n",
        "                                                                        hx=rnn_state)  #(batch_size, 1, embedding_dim)\n",
        "                # feed output through dense\n",
        "                rnn_output_next_word = self.trained_model.f0(rnn_output_next_word)\n",
        "                rnn_output_next_word = self.trained_model.relu(rnn_output_next_word)\n",
        "\n",
        "                # Map to num_words entries which enables predicting next word of sentence\n",
        "                pmf_next_word = self.trained_model.f1(rnn_output_next_word) #(batch_size, 1, num_words)\n",
        "\n",
        "                # Obtain idx of next word by selecting idx of word with highest probability\n",
        "                # (note that softmax is not used in our case, however argmax is same before/after softmax)\n",
        "                idx_next_word = pmf_next_word.argmax(dim=2) #(batch_size, 1)\n",
        "\n",
        "                # append next word idcs to caption list\n",
        "                captions_idx.append(idx_next_word)\n",
        "\n",
        "\n",
        "            # list to numpy format by stacking words of each sentence\n",
        "            captions_idx = torch.stack(captions_idx, dim=1)\\\n",
        "                                .flatten(start_dim=1, end_dim=2)\\\n",
        "                                .detach().cpu().numpy()\n",
        "\n",
        "            # retrieve words of each idx and compose words of sentences\n",
        "            caption_words = np.array(self.trained_model.vocab.get_itos())[captions_idx]\n",
        "\n",
        "            # remove stop words\n",
        "            predicted_captions = [[word for word in cap if word != vocab['_']] for cap in caption_words]\n",
        "\n",
        "            return predicted_captions"
      ]
    },
    {
      "cell_type": "code",
      "execution_count": null,
      "metadata": {
        "id": "z9vJigoL1O7F"
      },
      "outputs": [],
      "source": [
        "\n",
        "nrows = 8; ncols = 1; s=8\n",
        "\n",
        "decoder = GreedyImageCaptionDecoder(joint_probability_model)\n",
        "predicted_captions = decoder.decode(test_codes.to(device))\n",
        "\n",
        "# initiate subplots\n",
        "fig, axes = plt.subplots(nrows=nrows, ncols=ncols, figsize=(ncols*s, nrows*s))\n",
        "np.random.seed(6)\n",
        "im_idcs = np.random.randint(low=0, high = len(test_images), size=nrows*ncols)\n",
        "\n",
        "list_to_str = lambda captionList: \" \".join(str(x) for x in captionList)\n",
        "\n",
        "i = 0\n",
        "# plot examples\n",
        "for ax in axes:\n",
        "\n",
        "    ax.imshow(np.einsum('cyx->yxc', test_images[im_idcs[i]])) # reshape our image to allow plotting\n",
        "    ax.set_xticks([]); ax.set_yticks([])\n",
        "\n",
        "    list_of_tokens = predicted_captions[im_idcs[i]]\n",
        "    caption = list_to_str([tok for tok in list_of_tokens if tok != '_'])\n",
        "\n",
        "    ax.set_title(f\"Caption: {caption}\", fontsize=12)\n",
        "    i += 1"
      ]
    },
    {
      "cell_type": "markdown",
      "metadata": {
        "id": "mvg7Bq3e1O7F"
      },
      "source": [
        "### BeamSearch decoder\n",
        "Another approach for generating a sentence from $P(S|I)$ is BeamSearch: iteratively consider the set of the $k$ best sentences up to time $t$ as candidates to generate sentences of size $t + 1$, and keep only the resulting best $k$ of them. This better approximates (4), BeamSearch is expected to increase performance (BeamSearch with $k=1$ is equivalent to the greedy decoder as implemented above). The implementation is left as an exercise. For more details on BeamSearch, we refer to section 5.3.3 of the lecture notes (pg. 99)."
      ]
    },
    {
      "cell_type": "markdown",
      "metadata": {
        "id": "QITrX-KOQjTG"
      },
      "source": [
        "# Discussion\n",
        "\n",
        "As is evident from the accuracy plot, the model overfits on the training set: After epoch ~10 the validation accuracy does not increase further, whereas the training accuracy does. To overcome this issue one can try multiple approaches, for example changing the number of (dense or recurrent) layers or changing their respective dimensions."
      ]
    },
    {
      "cell_type": "code",
      "execution_count": null,
      "metadata": {
        "id": "o5JHRXUWqN5i"
      },
      "outputs": [],
      "source": []
    }
  ],
  "metadata": {
    "accelerator": "GPU",
    "colab": {
      "provenance": [],
      "include_colab_link": true
    },
    "kernelspec": {
      "display_name": "Python 3 (ipykernel)",
      "language": "python",
      "name": "python3"
    },
    "language_info": {
      "codemirror_mode": {
        "name": "ipython",
        "version": 3
      },
      "file_extension": ".py",
      "mimetype": "text/x-python",
      "name": "python",
      "nbconvert_exporter": "python",
      "pygments_lexer": "ipython3",
      "version": "3.8.8"
    }
  },
  "nbformat": 4,
  "nbformat_minor": 0
}