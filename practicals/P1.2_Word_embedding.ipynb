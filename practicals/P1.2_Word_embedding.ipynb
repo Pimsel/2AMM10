{
  "cells": [
    {
      "cell_type": "markdown",
      "metadata": {
        "id": "view-in-github",
        "colab_type": "text"
      },
      "source": [
        "<a href=\"https://colab.research.google.com/github/Pimsel/2AMM10/blob/main/practicals/P1.2_Word_embedding.ipynb\" target=\"_parent\"><img src=\"https://colab.research.google.com/assets/colab-badge.svg\" alt=\"Open In Colab\"/></a>"
      ]
    },
    {
      "cell_type": "code",
      "execution_count": 3,
      "metadata": {
        "id": "zDC0C_cyIHV8"
      },
      "outputs": [],
      "source": [
        "%matplotlib inline"
      ]
    },
    {
      "cell_type": "markdown",
      "metadata": {
        "id": "Z59qdmwzIHV-"
      },
      "source": [
        "# Practical Overview\n",
        "\n",
        " In this Practical you will learn :\n",
        "- Basic concepts of word embeddings.\n",
        "- How to extract word embeddings by N-Gram in a toy example.\n",
        "- How to extract word embeddings by CBoW in a toy example.\n",
        "- How to extract word embeddings by CBoW in `Alice in Wonderland`.\n",
        "- How to perform the analogy task.\n",
        "- Reflecting on the conceptual differences between the CBoW and N-Gram model.\n",
        "\n",
        "We recommend running the practicals of this course in Google Colab. Make sure to go to additional connection options (the small arrow at the top right) -> change runtime type -> a GPU runtime to make use of GPU acceleration."
      ]
    },
    {
      "cell_type": "markdown",
      "metadata": {
        "id": "xJ4nnAY4jR4R"
      },
      "source": [
        "\n",
        "# Word Embeddings: Encoding Lexical Semantics\n",
        "\n",
        "\n",
        "Word embeddings are dense vectors of real numbers, one per word in your\n",
        "vocabulary. In NLP, it is almost always the case that your features are\n",
        "words! But how should you represent a word in a computer? You could\n",
        "store its ascii character representation, but that only tells you what\n",
        "the word *is*, it doesn't say much about what it *means* (you might be\n",
        "able to derive its part of speech from its affixes, or properties from\n",
        "its capitalization, but not much). Even more, in what sense could you\n",
        "combine these representations? We often want dense outputs from our\n",
        "neural networks, where the inputs are $|V|$ dimensional, where\n",
        "$V$ is our vocabulary, but often the outputs are only a few\n",
        "dimensional (if we are only predicting a handful of labels, for\n",
        "instance). How do we get from a massive dimensional space to a smaller\n",
        "dimensional space?\n",
        "\n",
        "How about instead of ascii representations, we use a one-hot encoding?\n",
        "That is, we represent the word $w$ by\n",
        "$$\n",
        "\\begin{align}\n",
        "\\overbrace{\\left[ 0, 0, \\dots, 1, \\dots, 0, 0 \\right]}^\\text{|V| elements}\n",
        "\\end{align}\n",
        "$$\n",
        "\n",
        "where the 1 is in a location unique to $w$. Any other word will\n",
        "have a 1 in some other location, and a 0 everywhere else.\n",
        "\n",
        "There is an enormous drawback to this representation, besides just how\n",
        "huge it is. It basically treats all words as independent entities with\n",
        "no relation to each other. What we really want is some notion of\n",
        "*similarity* between words. Why? Let's see an example.\n",
        "\n",
        "Suppose we are building a language model. Suppose we have seen the\n",
        "sentences\n",
        "\n",
        "* The mathematician ran to the store.\n",
        "* The physicist ran to the store.\n",
        "* The mathematician solved the open problem.\n",
        "\n",
        "in our training data. Now suppose we get a new sentence never before\n",
        "seen in our training data:\n",
        "\n",
        "* The physicist solved the open problem.\n",
        "\n",
        "Our language model might do OK on this sentence, but wouldn't it be much\n",
        "better if we could use the following two facts:\n",
        "\n",
        "- We have seen  mathematician and physicist in the same role in a sentence. Somehow they\n",
        "  have a semantic relation.\n",
        "* We have seen mathematician in the same role  in this new unseen sentence\n",
        "  as we are now seeing physicist.\n",
        "\n",
        "and then infer that physicist is actually a good fit in the new unseen\n",
        "sentence? This is what we mean by a notion of similarity: we mean\n",
        "*semantic similarity*, not simply having similar orthographic\n",
        "representations. It is a technique to combat the sparsity of linguistic\n",
        "data, by connecting the dots between what we have seen and what we\n",
        "haven't. This example of course relies on a fundamental linguistic\n",
        "assumption: that words appearing in similar contexts are related to each\n",
        "other semantically. This is called the [distributional\n",
        "hypothesis](https://en.wikipedia.org/wiki/Distributional_semantics).\n"
      ]
    },
    {
      "cell_type": "markdown",
      "metadata": {
        "id": "m8e5S-aRIHWA"
      },
      "source": [
        "# Getting Dense Word Embeddings\n",
        "\n",
        "\n",
        "How can we solve this problem? That is, how could we actually encode\n",
        "semantic similarity in words? Maybe we think up some semantic\n",
        "attributes. For example, we see that both mathematicians and physicists\n",
        "can run, so maybe we give these words a high score for the \"is able to\n",
        "run\" semantic attribute. Think of some other attributes, and imagine\n",
        "what you might score some common words on those attributes.\n",
        "\n",
        "If each attribute is a dimension, then we might give each word a vector,\n",
        "like this:\n",
        "\n",
        "$$\n",
        "\\begin{align}\n",
        "q_\\text{mathematician} = \\left[ \\overbrace{2.3}^\\text{can run},\n",
        "   \\overbrace{9.4}^\\text{likes coffee}, \\overbrace{-5.5}^\\text{majored in Physics}, \\dots \\right]\n",
        " \\end{align}\n",
        "$$\n",
        "\n",
        "$$\n",
        "\\begin{align}\n",
        "q_\\text{physicist} = \\left[ \\overbrace{2.5}^\\text{can run},\n",
        "   \\overbrace{9.1}^\\text{likes coffee}, \\overbrace{6.4}^\\text{majored in Physics}, \\dots \\right]\n",
        "\\end{align}\n",
        "$$\n",
        "\n",
        "Then we can get a measure of similarity between these words by doing:\n",
        "\n",
        "$$\n",
        "\\begin{align}\n",
        "\\text{Similarity}(\\text{physicist}, \\text{mathematician}) = q_\\text{physicist} \\cdot q_\\text{mathematician}\n",
        "\\end{align}\n",
        "$$\n",
        "\n",
        "\n",
        "Although it is more common to normalize by the lengths:\n",
        "\n",
        "\\begin{align}\\text{Similarity}(\\text{physicist}, \\text{mathematician}) = \\frac{q_\\text{physicist} \\cdot q_\\text{mathematician}}\n",
        "   {\\| q_\\text{physicist} \\| \\| q_\\text{mathematician} \\|} = \\cos (\\phi)\\end{align}\n",
        "\n",
        "Where $\\phi$ is the angle between the two vectors. That way,\n",
        "extremely similar words (words whose embeddings point in the same\n",
        "direction) will have similarity 1. Extremely dissimilar words should\n",
        "have similarity -1.\n",
        "\n",
        "\n",
        "\n",
        "You can think of the sparse one-hot vectors from the beginning of this\n",
        "section as a special case of these new vectors we have defined, where\n",
        "each word basically has similarity 0, and we gave each word some unique\n",
        "semantic attribute. These new vectors are *dense*, which is to say their\n",
        "entries are (typically) non-zero.\n",
        "\n",
        "But these new vectors are a big pain: you could think of thousands of\n",
        "different semantic attributes that might be relevant to determining\n",
        "similarity, and how on earth would you set the values of the different\n",
        "attributes? Central to the idea of deep learning is that the neural\n",
        "network learns representations of the features, rather than requiring\n",
        "the programmer to design them herself. So why not just let the word\n",
        "embeddings be parameters in our model, and then be updated during\n",
        "training? This is exactly what we will do. We will have some *latent\n",
        "semantic attributes* that the network can, in principle, learn. Note\n",
        "that the word embeddings will probably not be interpretable. That is,\n",
        "although with our hand-crafted vectors above we can see that\n",
        "mathematicians and physicists are similar in that they both like coffee,\n",
        "if we allow a neural network to learn the embeddings and see that both\n",
        "mathematicians and physicists have a large value in the second\n",
        "dimension, it is not clear what that means. They are similar in some\n",
        "latent semantic dimension, but this probably has no interpretation to\n",
        "us.\n",
        "\n",
        "\n",
        "In summary, **word embeddings are a representation of the *semantics* of\n",
        "a word, efficiently encoding semantic information that might be relevant\n",
        "to the task at hand**. You can embed other things too: part of speech\n",
        "tags, parse trees, anything! The idea of feature embeddings is central\n",
        "to the field.\n"
      ]
    },
    {
      "cell_type": "markdown",
      "metadata": {
        "id": "-HUmqllNIHWB"
      },
      "source": [
        "# Word Embeddings in Pytorch\n",
        "\n",
        "\n",
        "Before we get to a worked example and an exercise, a few quick notes\n",
        "about how to use embeddings in Pytorch and in deep learning programming\n",
        "in general. Similar to how we defined a unique index for each word when\n",
        "making one-hot vectors, we also need to define an index for each word\n",
        "when using embeddings. These will be keys into a lookup table. That is,\n",
        "embeddings are stored as a $|V| \\times D$ matrix, where $D$\n",
        "is the dimensionality of the embeddings, such that the word assigned\n",
        "index $i$ has its embedding stored in the $i$'th row of the\n",
        "matrix. In all of code, the mapping from words to indices is a\n",
        "dictionary named word\\_to\\_ix.\n",
        "\n",
        "The module that allows you to use embeddings is torch.nn.Embedding,\n",
        "which takes two arguments: the vocabulary size, and the dimensionality\n",
        "of the embeddings.\n",
        "\n",
        "To index into this table, you must use torch.LongTensor (since the\n",
        "indices are integers, not floats).\n",
        "\n"
      ]
    },
    {
      "cell_type": "code",
      "execution_count": 4,
      "metadata": {
        "id": "SN-aYyHOjR4S",
        "colab": {
          "base_uri": "https://localhost:8080/"
        },
        "outputId": "e97d64d8-dfde-4634-b5a9-e75f017c7572"
      },
      "outputs": [
        {
          "output_type": "execute_result",
          "data": {
            "text/plain": [
              "<torch._C.Generator at 0x7fe17924f350>"
            ]
          },
          "metadata": {},
          "execution_count": 4
        }
      ],
      "source": [
        "# The first part of this practical is based on the tutorial by Robert Guthrie, which can be found here:\n",
        "# https://pytorch.org/tutorials/beginner/nlp/word_embeddings_tutorial.html\n",
        "\n",
        "import torch\n",
        "import torch.nn as nn\n",
        "import torch.nn.functional as F\n",
        "import torch.optim as optim\n",
        "import numpy as np\n",
        "torch.manual_seed(1)"
      ]
    },
    {
      "cell_type": "code",
      "execution_count": 5,
      "metadata": {
        "id": "Ki4s4m9IjR4T",
        "colab": {
          "base_uri": "https://localhost:8080/"
        },
        "outputId": "6aa9b466-9c98-4b6a-f50d-d6d5e4001980"
      },
      "outputs": [
        {
          "output_type": "stream",
          "name": "stdout",
          "text": [
            "tensor([[ 0.6614,  0.2669,  0.0617,  0.6213, -0.4519]],\n",
            "       grad_fn=<EmbeddingBackward0>)\n"
          ]
        }
      ],
      "source": [
        "word_to_ix = {\"hello\": 0, \"world\": 1}\n",
        "embeds = nn.Embedding(2, 5)  # 2 words in vocab, 5 dimensional embeddings\n",
        "lookup_tensor = torch.tensor([word_to_ix[\"hello\"]], dtype=torch.long)\n",
        "hello_embed = embeds(lookup_tensor)\n",
        "print(hello_embed)"
      ]
    },
    {
      "cell_type": "markdown",
      "metadata": {
        "id": "uzIyUMPKjR4U"
      },
      "source": [
        "# Getting started:  N-Gram Language Modeling in a Toy example\n",
        "\n",
        "\n",
        "Recall that in an n-gram language model, given a sequence of words\n",
        "$w$, we want to compute\n",
        "\n",
        "\\begin{align}P(w_i | w_{i-1}, w_{i-2}, \\dots, w_{i-n+1} )\\end{align}\n",
        "\n",
        "Where $w_i$ is the ith word of the sequence.\n",
        "\n",
        "In this example, we will compute the loss function on some training\n",
        "examples and update the parameters with backpropagation.\n",
        "\n",
        "\n"
      ]
    },
    {
      "cell_type": "markdown",
      "metadata": {
        "id": "yQ2o-TyjIHWC"
      },
      "source": [
        "##  Data Preprocessing\n",
        "\n",
        "Before we can use the data in our model, we should build a list of tuples.  Each tuple is `([ word_i-2, word_i-1 ], target word)`, we also build dictionaries to map from words to indices, i.e. word_to_ix, and map from indices to words, i.e. ix_to_word,"
      ]
    },
    {
      "cell_type": "code",
      "execution_count": 6,
      "metadata": {
        "colab": {
          "base_uri": "https://localhost:8080/"
        },
        "id": "A1PZes4MIHWC",
        "outputId": "dec78f00-b37f-42eb-b1e0-c33f0899a8dc"
      },
      "outputs": [
        {
          "output_type": "stream",
          "name": "stdout",
          "text": [
            "[(['When', 'forty'], 'winters'), (['forty', 'winters'], 'shall'), (['winters', 'shall'], 'besiege')]\n"
          ]
        }
      ],
      "source": [
        "CONTEXT_SIZE = 2   # a 2-gram language model\n",
        "\n",
        "# We will use Shakespeare Sonnet 2\n",
        "test_sentence = \"\"\"When forty winters shall besiege thy brow,\n",
        "And dig deep trenches in thy beauty's field,\n",
        "Thy youth's proud livery so gazed on now,\n",
        "Will be a totter'd weed of small worth held:\n",
        "Then being asked, where all thy beauty lies,\n",
        "Where all the treasure of thy lusty days;\n",
        "To say, within thine own deep sunken eyes,\n",
        "Were an all-eating shame, and thriftless praise.\n",
        "How much more praise deserv'd thy beauty's use,\n",
        "If thou couldst answer 'This fair child of mine\n",
        "Shall sum my count, and make my old excuse,'\n",
        "Proving his beauty by succession thine!\n",
        "This were to be new made when thou art old,\n",
        "And see thy blood warm when thou feel'st it cold.\"\"\".split()\n",
        "# we should tokenize the input, but we will ignore that for now\n",
        "# build a list of tuples.  Each tuple is ([ word_i-2, word_i-1 ], target word)\n",
        "trigrams = [([test_sentence[i], test_sentence[i + 1]], test_sentence[i + 2])\n",
        "            for i in range(len(test_sentence) - 2)]\n",
        "# print the first 3, just so you can see what they look like\n",
        "print(trigrams[:3])\n",
        "\n",
        "\n",
        "vocab = set(test_sentence)\n",
        "word_to_ix = {word: i for i, word in enumerate(vocab)}\n",
        "ix_to_word = {ix:word for ix, word in enumerate(vocab)}\n"
      ]
    },
    {
      "cell_type": "markdown",
      "metadata": {
        "id": "xZJux1GlIHWD"
      },
      "source": [
        "## Create N-Gram model\n",
        "We create N-Gram language model, and set the word embedding size to be 100 (or other by your preference)"
      ]
    },
    {
      "cell_type": "code",
      "execution_count": 7,
      "metadata": {
        "id": "cAWWomBFjR4V",
        "scrolled": true,
        "collapsed": true,
        "colab": {
          "base_uri": "https://localhost:8080/"
        },
        "outputId": "d24bbb49-1243-4b88-aa7e-2bfde2a9d527"
      },
      "outputs": [
        {
          "output_type": "stream",
          "name": "stdout",
          "text": [
            "Epoch: 0 \tLoss: 4.617399878206506\n",
            "Epoch: 1 \tLoss: 4.564930920052317\n",
            "Epoch: 2 \tLoss: 4.513043405735387\n",
            "Epoch: 3 \tLoss: 4.461808219420171\n",
            "Epoch: 4 \tLoss: 4.411215033151407\n",
            "Epoch: 5 \tLoss: 4.361014165709504\n",
            "Epoch: 6 \tLoss: 4.311251724715781\n",
            "Epoch: 7 \tLoss: 4.261868267987682\n",
            "Epoch: 8 \tLoss: 4.212680128823339\n",
            "Epoch: 9 \tLoss: 4.163657359317341\n",
            "Epoch: 10 \tLoss: 4.114652886854864\n",
            "Epoch: 11 \tLoss: 4.065736093352326\n",
            "Epoch: 12 \tLoss: 4.016675290808213\n",
            "Epoch: 13 \tLoss: 3.967479672052164\n",
            "Epoch: 14 \tLoss: 3.91813347613917\n",
            "Epoch: 15 \tLoss: 3.8684198075691154\n",
            "Epoch: 16 \tLoss: 3.818381925599765\n",
            "Epoch: 17 \tLoss: 3.768222950201119\n",
            "Epoch: 18 \tLoss: 3.7176466747722796\n",
            "Epoch: 19 \tLoss: 3.6666506286215994\n",
            "Epoch: 20 \tLoss: 3.615198006672142\n",
            "Epoch: 21 \tLoss: 3.563441789255733\n",
            "Epoch: 22 \tLoss: 3.5109849588005946\n",
            "Epoch: 23 \tLoss: 3.4582441232900702\n",
            "Epoch: 24 \tLoss: 3.4048605039056423\n",
            "Epoch: 25 \tLoss: 3.3510796232561093\n",
            "Epoch: 26 \tLoss: 3.2967618724941152\n",
            "Epoch: 27 \tLoss: 3.241955205402543\n",
            "Epoch: 28 \tLoss: 3.186778321730352\n",
            "Epoch: 29 \tLoss: 3.131031888776121\n",
            "Epoch: 30 \tLoss: 3.0749848986093977\n",
            "Epoch: 31 \tLoss: 3.018496036529541\n",
            "Epoch: 32 \tLoss: 2.9615165026841965\n",
            "Epoch: 33 \tLoss: 2.9042882201945885\n",
            "Epoch: 34 \tLoss: 2.846953653656276\n",
            "Epoch: 35 \tLoss: 2.789322709087777\n",
            "Epoch: 36 \tLoss: 2.73170290267573\n",
            "Epoch: 37 \tLoss: 2.674061239820666\n",
            "Epoch: 38 \tLoss: 2.6164522930584124\n",
            "Epoch: 39 \tLoss: 2.5588061867562018\n",
            "Epoch: 40 \tLoss: 2.50115682804479\n",
            "Epoch: 41 \tLoss: 2.4435483876582795\n",
            "Epoch: 42 \tLoss: 2.3860954236140293\n",
            "Epoch: 43 \tLoss: 2.3287021348961687\n",
            "Epoch: 44 \tLoss: 2.2715374289360724\n",
            "Epoch: 45 \tLoss: 2.2146360038128576\n",
            "Epoch: 46 \tLoss: 2.15792080575386\n",
            "Epoch: 47 \tLoss: 2.1016926282802513\n",
            "Epoch: 48 \tLoss: 2.0456661729686028\n",
            "Epoch: 49 \tLoss: 1.9901615019920653\n",
            "Epoch: 50 \tLoss: 1.93494207009805\n",
            "Epoch: 51 \tLoss: 1.8802915218129623\n",
            "Epoch: 52 \tLoss: 1.8261612128894942\n",
            "Epoch: 53 \tLoss: 1.772560971236862\n",
            "Epoch: 54 \tLoss: 1.7196473434435582\n",
            "Epoch: 55 \tLoss: 1.6672610904263183\n",
            "Epoch: 56 \tLoss: 1.615547191516488\n",
            "Epoch: 57 \tLoss: 1.5646386534239338\n",
            "Epoch: 58 \tLoss: 1.5144837786138585\n",
            "Epoch: 59 \tLoss: 1.4650858645945524\n",
            "Epoch: 60 \tLoss: 1.4167072519791866\n",
            "Epoch: 61 \tLoss: 1.3691555770625055\n",
            "Epoch: 62 \tLoss: 1.3225487497000568\n",
            "Epoch: 63 \tLoss: 1.276934033869642\n",
            "Epoch: 64 \tLoss: 1.2324562530338237\n",
            "Epoch: 65 \tLoss: 1.1889217048883438\n",
            "Epoch: 66 \tLoss: 1.1465209804277505\n",
            "Epoch: 67 \tLoss: 1.105275551829718\n",
            "Epoch: 68 \tLoss: 1.0651328855119975\n",
            "Epoch: 69 \tLoss: 1.0261233384366584\n",
            "Epoch: 70 \tLoss: 0.9882053451991715\n",
            "Epoch: 71 \tLoss: 0.9514676867860609\n",
            "Epoch: 72 \tLoss: 0.9159034478717145\n",
            "Epoch: 73 \tLoss: 0.8814908841014963\n",
            "Epoch: 74 \tLoss: 0.8482354309706561\n",
            "Epoch: 75 \tLoss: 0.8161735801042709\n",
            "Epoch: 76 \tLoss: 0.7852500793153205\n",
            "Epoch: 77 \tLoss: 0.7554398189603755\n",
            "Epoch: 78 \tLoss: 0.7267659884111016\n",
            "Epoch: 79 \tLoss: 0.6992726204669582\n",
            "Epoch: 80 \tLoss: 0.6727469806122569\n",
            "Epoch: 81 \tLoss: 0.6474303881415223\n",
            "Epoch: 82 \tLoss: 0.6230532921916616\n",
            "Epoch: 83 \tLoss: 0.5997454553710676\n",
            "Epoch: 84 \tLoss: 0.5774458578202577\n",
            "Epoch: 85 \tLoss: 0.55606475848276\n",
            "Epoch: 86 \tLoss: 0.5357130486353309\n",
            "Epoch: 87 \tLoss: 0.5162089423531979\n",
            "Epoch: 88 \tLoss: 0.49761231289764424\n",
            "Epoch: 89 \tLoss: 0.4798706005104875\n",
            "Epoch: 90 \tLoss: 0.4629509675819262\n",
            "Epoch: 91 \tLoss: 0.4468223126852407\n",
            "Epoch: 92 \tLoss: 0.43146786509098206\n",
            "Epoch: 93 \tLoss: 0.4168195545145896\n",
            "Epoch: 94 \tLoss: 0.40289474252314694\n",
            "Epoch: 95 \tLoss: 0.38965747090040054\n",
            "Epoch: 96 \tLoss: 0.3770112401879994\n",
            "Epoch: 97 \tLoss: 0.36501706226737096\n",
            "Epoch: 98 \tLoss: 0.353577735743164\n",
            "Epoch: 99 \tLoss: 0.34270514633539506\n"
          ]
        }
      ],
      "source": [
        "EMBEDDING_DIM = 100\n",
        "\n",
        "class NGramLanguageModeler(nn.Module):\n",
        "\n",
        "    def __init__(self, vocab_size, embedding_dim, context_size):\n",
        "        super().__init__()\n",
        "        self.embeddings = nn.Embedding(vocab_size, embedding_dim)\n",
        "        self.linear1 = nn.Linear(context_size * embedding_dim, 128)\n",
        "        self.linear2 = nn.Linear(128, vocab_size)\n",
        "\n",
        "    def forward(self, inputs):\n",
        "        embeds = self.embeddings(inputs).view((1, -1))\n",
        "        out = F.relu(self.linear1(embeds))\n",
        "        out = self.linear2(out)\n",
        "        log_probs = F.log_softmax(out, dim=1)\n",
        "        return log_probs\n",
        "\n",
        "\n",
        "\n",
        "loss_function = nn.NLLLoss()\n",
        "model = NGramLanguageModeler(len(vocab), EMBEDDING_DIM, CONTEXT_SIZE)\n",
        "optimizer = optim.SGD(model.parameters(), lr=0.001)\n",
        "\n",
        "for epoch in range(100):\n",
        "    total_loss = 0\n",
        "    for context, target in trigrams:\n",
        "\n",
        "        # Step 1. Prepare the inputs to be passed to the model (i.e, turn the words\n",
        "        # into integer indices and wrap them in tensors)\n",
        "        context_idxs = torch.tensor([word_to_ix[w] for w in context], dtype=torch.long)\n",
        "\n",
        "        # Step 2. Recall that torch *accumulates* gradients. Before passing in a\n",
        "        # new instance, you need to zero out the gradients from the old\n",
        "        # instance\n",
        "        model.zero_grad()\n",
        "\n",
        "        # Step 3. Run the forward pass, getting log probabilities over next\n",
        "        # words\n",
        "        log_probs = model(context_idxs)\n",
        "\n",
        "        # Step 4. Compute your loss function. (Again, Torch wants the target\n",
        "        # word wrapped in a tensor)\n",
        "        loss = loss_function(log_probs, torch.tensor([word_to_ix[target]], dtype=torch.long))\n",
        "\n",
        "        # Step 5. Do the backward pass and update the gradient\n",
        "        loss.backward()\n",
        "        optimizer.step()\n",
        "\n",
        "        # Get the Python number from a 1-element Tensor by calling tensor.item()\n",
        "        total_loss += loss.item()\n",
        "    average_loss= total_loss/len(trigrams)\n",
        "    print('Epoch:', epoch, '\\tLoss:', average_loss)  # The loss decreased every iteration over the training data!"
      ]
    },
    {
      "cell_type": "markdown",
      "metadata": {
        "id": "jTJTsGEMIHWD"
      },
      "source": [
        "##  Check the results"
      ]
    },
    {
      "cell_type": "markdown",
      "metadata": {
        "id": "KruhdfRRIHWD"
      },
      "source": [
        "We can inspect some of the word embedding values in a pandas DataFrame:"
      ]
    },
    {
      "cell_type": "code",
      "execution_count": 8,
      "metadata": {
        "scrolled": true,
        "colab": {
          "base_uri": "https://localhost:8080/",
          "height": 255
        },
        "id": "UDAW-2NXIHWD",
        "outputId": "1734d55e-8c2a-4ba2-abf9-461dc87d5f3d"
      },
      "outputs": [
        {
          "output_type": "execute_result",
          "data": {
            "text/plain": [
              "                0         1         2         3         4         5   \\\n",
              "excuse,'  0.864690  0.247307 -0.661102  0.811792  0.439609  1.174075   \n",
              "fair      0.157557  1.256475  1.329980 -0.496562 -1.984970  1.803561   \n",
              "beauty    0.216772 -0.575758  1.457361  1.773309 -2.020151  0.427627   \n",
              "an        0.144568  0.206312  1.054724  0.136387  1.405167  0.486246   \n",
              "praise.  -0.375300 -2.412624 -1.278590 -0.061295 -1.234760 -1.065470   \n",
              "\n",
              "                6         7         8         9   ...        90        91  \\\n",
              "excuse,'  1.769622 -0.094961  0.062647 -0.618594  ... -1.483413 -1.134582   \n",
              "fair      0.101808  0.339468 -0.646316 -0.288367  ... -1.103725 -0.700559   \n",
              "beauty    0.578120 -1.800400  1.254674  1.278918  ...  0.246141 -0.392292   \n",
              "an       -0.706499 -0.826905  0.104234  0.195637  ...  0.346666 -0.550093   \n",
              "praise.  -0.386459  0.381989 -0.207903  0.695487  ...  0.292276 -0.564159   \n",
              "\n",
              "                92        93        94        95        96        97  \\\n",
              "excuse,' -0.101992  0.341385 -1.070839 -0.875862  0.206181  0.306935   \n",
              "fair      0.233400  1.915385  1.839618  1.325265 -0.068482  0.346261   \n",
              "beauty   -0.202643 -0.837118 -1.556694 -0.057617  1.201991 -2.287564   \n",
              "an       -0.963928  0.276276 -0.680009 -0.545260  1.151553 -0.399697   \n",
              "praise.   0.724313 -0.545240 -0.805639  0.020893 -0.148372  0.522942   \n",
              "\n",
              "                98        99  \n",
              "excuse,'  0.533656 -0.431229  \n",
              "fair     -0.657795  1.562337  \n",
              "beauty   -1.020241 -0.890554  \n",
              "an        0.973445  1.548864  \n",
              "praise.  -0.212684 -1.255735  \n",
              "\n",
              "[5 rows x 100 columns]"
            ],
            "text/html": [
              "\n",
              "  <div id=\"df-676b4131-c28e-4281-96b1-00ad3f409d20\" class=\"colab-df-container\">\n",
              "    <div>\n",
              "<style scoped>\n",
              "    .dataframe tbody tr th:only-of-type {\n",
              "        vertical-align: middle;\n",
              "    }\n",
              "\n",
              "    .dataframe tbody tr th {\n",
              "        vertical-align: top;\n",
              "    }\n",
              "\n",
              "    .dataframe thead th {\n",
              "        text-align: right;\n",
              "    }\n",
              "</style>\n",
              "<table border=\"1\" class=\"dataframe\">\n",
              "  <thead>\n",
              "    <tr style=\"text-align: right;\">\n",
              "      <th></th>\n",
              "      <th>0</th>\n",
              "      <th>1</th>\n",
              "      <th>2</th>\n",
              "      <th>3</th>\n",
              "      <th>4</th>\n",
              "      <th>5</th>\n",
              "      <th>6</th>\n",
              "      <th>7</th>\n",
              "      <th>8</th>\n",
              "      <th>9</th>\n",
              "      <th>...</th>\n",
              "      <th>90</th>\n",
              "      <th>91</th>\n",
              "      <th>92</th>\n",
              "      <th>93</th>\n",
              "      <th>94</th>\n",
              "      <th>95</th>\n",
              "      <th>96</th>\n",
              "      <th>97</th>\n",
              "      <th>98</th>\n",
              "      <th>99</th>\n",
              "    </tr>\n",
              "  </thead>\n",
              "  <tbody>\n",
              "    <tr>\n",
              "      <th>excuse,'</th>\n",
              "      <td>0.864690</td>\n",
              "      <td>0.247307</td>\n",
              "      <td>-0.661102</td>\n",
              "      <td>0.811792</td>\n",
              "      <td>0.439609</td>\n",
              "      <td>1.174075</td>\n",
              "      <td>1.769622</td>\n",
              "      <td>-0.094961</td>\n",
              "      <td>0.062647</td>\n",
              "      <td>-0.618594</td>\n",
              "      <td>...</td>\n",
              "      <td>-1.483413</td>\n",
              "      <td>-1.134582</td>\n",
              "      <td>-0.101992</td>\n",
              "      <td>0.341385</td>\n",
              "      <td>-1.070839</td>\n",
              "      <td>-0.875862</td>\n",
              "      <td>0.206181</td>\n",
              "      <td>0.306935</td>\n",
              "      <td>0.533656</td>\n",
              "      <td>-0.431229</td>\n",
              "    </tr>\n",
              "    <tr>\n",
              "      <th>fair</th>\n",
              "      <td>0.157557</td>\n",
              "      <td>1.256475</td>\n",
              "      <td>1.329980</td>\n",
              "      <td>-0.496562</td>\n",
              "      <td>-1.984970</td>\n",
              "      <td>1.803561</td>\n",
              "      <td>0.101808</td>\n",
              "      <td>0.339468</td>\n",
              "      <td>-0.646316</td>\n",
              "      <td>-0.288367</td>\n",
              "      <td>...</td>\n",
              "      <td>-1.103725</td>\n",
              "      <td>-0.700559</td>\n",
              "      <td>0.233400</td>\n",
              "      <td>1.915385</td>\n",
              "      <td>1.839618</td>\n",
              "      <td>1.325265</td>\n",
              "      <td>-0.068482</td>\n",
              "      <td>0.346261</td>\n",
              "      <td>-0.657795</td>\n",
              "      <td>1.562337</td>\n",
              "    </tr>\n",
              "    <tr>\n",
              "      <th>beauty</th>\n",
              "      <td>0.216772</td>\n",
              "      <td>-0.575758</td>\n",
              "      <td>1.457361</td>\n",
              "      <td>1.773309</td>\n",
              "      <td>-2.020151</td>\n",
              "      <td>0.427627</td>\n",
              "      <td>0.578120</td>\n",
              "      <td>-1.800400</td>\n",
              "      <td>1.254674</td>\n",
              "      <td>1.278918</td>\n",
              "      <td>...</td>\n",
              "      <td>0.246141</td>\n",
              "      <td>-0.392292</td>\n",
              "      <td>-0.202643</td>\n",
              "      <td>-0.837118</td>\n",
              "      <td>-1.556694</td>\n",
              "      <td>-0.057617</td>\n",
              "      <td>1.201991</td>\n",
              "      <td>-2.287564</td>\n",
              "      <td>-1.020241</td>\n",
              "      <td>-0.890554</td>\n",
              "    </tr>\n",
              "    <tr>\n",
              "      <th>an</th>\n",
              "      <td>0.144568</td>\n",
              "      <td>0.206312</td>\n",
              "      <td>1.054724</td>\n",
              "      <td>0.136387</td>\n",
              "      <td>1.405167</td>\n",
              "      <td>0.486246</td>\n",
              "      <td>-0.706499</td>\n",
              "      <td>-0.826905</td>\n",
              "      <td>0.104234</td>\n",
              "      <td>0.195637</td>\n",
              "      <td>...</td>\n",
              "      <td>0.346666</td>\n",
              "      <td>-0.550093</td>\n",
              "      <td>-0.963928</td>\n",
              "      <td>0.276276</td>\n",
              "      <td>-0.680009</td>\n",
              "      <td>-0.545260</td>\n",
              "      <td>1.151553</td>\n",
              "      <td>-0.399697</td>\n",
              "      <td>0.973445</td>\n",
              "      <td>1.548864</td>\n",
              "    </tr>\n",
              "    <tr>\n",
              "      <th>praise.</th>\n",
              "      <td>-0.375300</td>\n",
              "      <td>-2.412624</td>\n",
              "      <td>-1.278590</td>\n",
              "      <td>-0.061295</td>\n",
              "      <td>-1.234760</td>\n",
              "      <td>-1.065470</td>\n",
              "      <td>-0.386459</td>\n",
              "      <td>0.381989</td>\n",
              "      <td>-0.207903</td>\n",
              "      <td>0.695487</td>\n",
              "      <td>...</td>\n",
              "      <td>0.292276</td>\n",
              "      <td>-0.564159</td>\n",
              "      <td>0.724313</td>\n",
              "      <td>-0.545240</td>\n",
              "      <td>-0.805639</td>\n",
              "      <td>0.020893</td>\n",
              "      <td>-0.148372</td>\n",
              "      <td>0.522942</td>\n",
              "      <td>-0.212684</td>\n",
              "      <td>-1.255735</td>\n",
              "    </tr>\n",
              "  </tbody>\n",
              "</table>\n",
              "<p>5 rows × 100 columns</p>\n",
              "</div>\n",
              "    <div class=\"colab-df-buttons\">\n",
              "\n",
              "  <div class=\"colab-df-container\">\n",
              "    <button class=\"colab-df-convert\" onclick=\"convertToInteractive('df-676b4131-c28e-4281-96b1-00ad3f409d20')\"\n",
              "            title=\"Convert this dataframe to an interactive table.\"\n",
              "            style=\"display:none;\">\n",
              "\n",
              "  <svg xmlns=\"http://www.w3.org/2000/svg\" height=\"24px\" viewBox=\"0 -960 960 960\">\n",
              "    <path d=\"M120-120v-720h720v720H120Zm60-500h600v-160H180v160Zm220 220h160v-160H400v160Zm0 220h160v-160H400v160ZM180-400h160v-160H180v160Zm440 0h160v-160H620v160ZM180-180h160v-160H180v160Zm440 0h160v-160H620v160Z\"/>\n",
              "  </svg>\n",
              "    </button>\n",
              "\n",
              "  <style>\n",
              "    .colab-df-container {\n",
              "      display:flex;\n",
              "      gap: 12px;\n",
              "    }\n",
              "\n",
              "    .colab-df-convert {\n",
              "      background-color: #E8F0FE;\n",
              "      border: none;\n",
              "      border-radius: 50%;\n",
              "      cursor: pointer;\n",
              "      display: none;\n",
              "      fill: #1967D2;\n",
              "      height: 32px;\n",
              "      padding: 0 0 0 0;\n",
              "      width: 32px;\n",
              "    }\n",
              "\n",
              "    .colab-df-convert:hover {\n",
              "      background-color: #E2EBFA;\n",
              "      box-shadow: 0px 1px 2px rgba(60, 64, 67, 0.3), 0px 1px 3px 1px rgba(60, 64, 67, 0.15);\n",
              "      fill: #174EA6;\n",
              "    }\n",
              "\n",
              "    .colab-df-buttons div {\n",
              "      margin-bottom: 4px;\n",
              "    }\n",
              "\n",
              "    [theme=dark] .colab-df-convert {\n",
              "      background-color: #3B4455;\n",
              "      fill: #D2E3FC;\n",
              "    }\n",
              "\n",
              "    [theme=dark] .colab-df-convert:hover {\n",
              "      background-color: #434B5C;\n",
              "      box-shadow: 0px 1px 3px 1px rgba(0, 0, 0, 0.15);\n",
              "      filter: drop-shadow(0px 1px 2px rgba(0, 0, 0, 0.3));\n",
              "      fill: #FFFFFF;\n",
              "    }\n",
              "  </style>\n",
              "\n",
              "    <script>\n",
              "      const buttonEl =\n",
              "        document.querySelector('#df-676b4131-c28e-4281-96b1-00ad3f409d20 button.colab-df-convert');\n",
              "      buttonEl.style.display =\n",
              "        google.colab.kernel.accessAllowed ? 'block' : 'none';\n",
              "\n",
              "      async function convertToInteractive(key) {\n",
              "        const element = document.querySelector('#df-676b4131-c28e-4281-96b1-00ad3f409d20');\n",
              "        const dataTable =\n",
              "          await google.colab.kernel.invokeFunction('convertToInteractive',\n",
              "                                                    [key], {});\n",
              "        if (!dataTable) return;\n",
              "\n",
              "        const docLinkHtml = 'Like what you see? Visit the ' +\n",
              "          '<a target=\"_blank\" href=https://colab.research.google.com/notebooks/data_table.ipynb>data table notebook</a>'\n",
              "          + ' to learn more about interactive tables.';\n",
              "        element.innerHTML = '';\n",
              "        dataTable['output_type'] = 'display_data';\n",
              "        await google.colab.output.renderOutput(dataTable, element);\n",
              "        const docLink = document.createElement('div');\n",
              "        docLink.innerHTML = docLinkHtml;\n",
              "        element.appendChild(docLink);\n",
              "      }\n",
              "    </script>\n",
              "  </div>\n",
              "\n",
              "\n",
              "<div id=\"df-3ffc8ffb-105c-45c5-9283-32a2e328c12b\">\n",
              "  <button class=\"colab-df-quickchart\" onclick=\"quickchart('df-3ffc8ffb-105c-45c5-9283-32a2e328c12b')\"\n",
              "            title=\"Suggest charts\"\n",
              "            style=\"display:none;\">\n",
              "\n",
              "<svg xmlns=\"http://www.w3.org/2000/svg\" height=\"24px\"viewBox=\"0 0 24 24\"\n",
              "     width=\"24px\">\n",
              "    <g>\n",
              "        <path d=\"M19 3H5c-1.1 0-2 .9-2 2v14c0 1.1.9 2 2 2h14c1.1 0 2-.9 2-2V5c0-1.1-.9-2-2-2zM9 17H7v-7h2v7zm4 0h-2V7h2v10zm4 0h-2v-4h2v4z\"/>\n",
              "    </g>\n",
              "</svg>\n",
              "  </button>\n",
              "\n",
              "<style>\n",
              "  .colab-df-quickchart {\n",
              "      --bg-color: #E8F0FE;\n",
              "      --fill-color: #1967D2;\n",
              "      --hover-bg-color: #E2EBFA;\n",
              "      --hover-fill-color: #174EA6;\n",
              "      --disabled-fill-color: #AAA;\n",
              "      --disabled-bg-color: #DDD;\n",
              "  }\n",
              "\n",
              "  [theme=dark] .colab-df-quickchart {\n",
              "      --bg-color: #3B4455;\n",
              "      --fill-color: #D2E3FC;\n",
              "      --hover-bg-color: #434B5C;\n",
              "      --hover-fill-color: #FFFFFF;\n",
              "      --disabled-bg-color: #3B4455;\n",
              "      --disabled-fill-color: #666;\n",
              "  }\n",
              "\n",
              "  .colab-df-quickchart {\n",
              "    background-color: var(--bg-color);\n",
              "    border: none;\n",
              "    border-radius: 50%;\n",
              "    cursor: pointer;\n",
              "    display: none;\n",
              "    fill: var(--fill-color);\n",
              "    height: 32px;\n",
              "    padding: 0;\n",
              "    width: 32px;\n",
              "  }\n",
              "\n",
              "  .colab-df-quickchart:hover {\n",
              "    background-color: var(--hover-bg-color);\n",
              "    box-shadow: 0 1px 2px rgba(60, 64, 67, 0.3), 0 1px 3px 1px rgba(60, 64, 67, 0.15);\n",
              "    fill: var(--button-hover-fill-color);\n",
              "  }\n",
              "\n",
              "  .colab-df-quickchart-complete:disabled,\n",
              "  .colab-df-quickchart-complete:disabled:hover {\n",
              "    background-color: var(--disabled-bg-color);\n",
              "    fill: var(--disabled-fill-color);\n",
              "    box-shadow: none;\n",
              "  }\n",
              "\n",
              "  .colab-df-spinner {\n",
              "    border: 2px solid var(--fill-color);\n",
              "    border-color: transparent;\n",
              "    border-bottom-color: var(--fill-color);\n",
              "    animation:\n",
              "      spin 1s steps(1) infinite;\n",
              "  }\n",
              "\n",
              "  @keyframes spin {\n",
              "    0% {\n",
              "      border-color: transparent;\n",
              "      border-bottom-color: var(--fill-color);\n",
              "      border-left-color: var(--fill-color);\n",
              "    }\n",
              "    20% {\n",
              "      border-color: transparent;\n",
              "      border-left-color: var(--fill-color);\n",
              "      border-top-color: var(--fill-color);\n",
              "    }\n",
              "    30% {\n",
              "      border-color: transparent;\n",
              "      border-left-color: var(--fill-color);\n",
              "      border-top-color: var(--fill-color);\n",
              "      border-right-color: var(--fill-color);\n",
              "    }\n",
              "    40% {\n",
              "      border-color: transparent;\n",
              "      border-right-color: var(--fill-color);\n",
              "      border-top-color: var(--fill-color);\n",
              "    }\n",
              "    60% {\n",
              "      border-color: transparent;\n",
              "      border-right-color: var(--fill-color);\n",
              "    }\n",
              "    80% {\n",
              "      border-color: transparent;\n",
              "      border-right-color: var(--fill-color);\n",
              "      border-bottom-color: var(--fill-color);\n",
              "    }\n",
              "    90% {\n",
              "      border-color: transparent;\n",
              "      border-bottom-color: var(--fill-color);\n",
              "    }\n",
              "  }\n",
              "</style>\n",
              "\n",
              "  <script>\n",
              "    async function quickchart(key) {\n",
              "      const quickchartButtonEl =\n",
              "        document.querySelector('#' + key + ' button');\n",
              "      quickchartButtonEl.disabled = true;  // To prevent multiple clicks.\n",
              "      quickchartButtonEl.classList.add('colab-df-spinner');\n",
              "      try {\n",
              "        const charts = await google.colab.kernel.invokeFunction(\n",
              "            'suggestCharts', [key], {});\n",
              "      } catch (error) {\n",
              "        console.error('Error during call to suggestCharts:', error);\n",
              "      }\n",
              "      quickchartButtonEl.classList.remove('colab-df-spinner');\n",
              "      quickchartButtonEl.classList.add('colab-df-quickchart-complete');\n",
              "    }\n",
              "    (() => {\n",
              "      let quickchartButtonEl =\n",
              "        document.querySelector('#df-3ffc8ffb-105c-45c5-9283-32a2e328c12b button');\n",
              "      quickchartButtonEl.style.display =\n",
              "        google.colab.kernel.accessAllowed ? 'block' : 'none';\n",
              "    })();\n",
              "  </script>\n",
              "</div>\n",
              "\n",
              "    </div>\n",
              "  </div>\n"
            ],
            "application/vnd.google.colaboratory.intrinsic+json": {
              "type": "dataframe"
            }
          },
          "metadata": {},
          "execution_count": 8
        }
      ],
      "source": [
        "import pandas as pd\n",
        "embeddings = model.embeddings(torch.Tensor([list(range(0,len(vocab)))]).long())\n",
        "embeddings = embeddings.view(-1,100)\n",
        "pd.DataFrame(embeddings.tolist(), index=list(ix_to_word.values())[0:]).head()"
      ]
    },
    {
      "cell_type": "markdown",
      "metadata": {
        "id": "Zm4TOTNPIHWD"
      },
      "source": [
        "We can also plot the embeddings with TSNE to visualize the similarity"
      ]
    },
    {
      "cell_type": "code",
      "execution_count": 9,
      "metadata": {
        "id": "LvajEemRIHWE"
      },
      "outputs": [],
      "source": [
        "labels=[]\n",
        "for i in range(len(ix_to_word)):\n",
        "    labels.append(ix_to_word[i])"
      ]
    },
    {
      "cell_type": "code",
      "execution_count": 10,
      "metadata": {
        "scrolled": true,
        "colab": {
          "base_uri": "https://localhost:8080/",
          "height": 830
        },
        "id": "in2GfJGkIHWE",
        "outputId": "bc576b98-4454-454b-9288-442ae973fd55"
      },
      "outputs": [
        {
          "output_type": "display_data",
          "data": {
            "text/plain": [
              "<Figure size 1000x1000 with 1 Axes>"
            ],
            "image/png": "[encoded data removed]"
          },
          "metadata": {}
        }
      ],
      "source": [
        "from matplotlib import pylab\n",
        "from sklearn.manifold import TSNE\n",
        "\n",
        "tsne = TSNE(n_components=2)\n",
        "two_d_embeddings = tsne.fit_transform(embeddings.detach().numpy())\n",
        "\n",
        "def plot(embeddings, labels):\n",
        "      assert embeddings.shape[0] >= len(labels), 'More labels than embeddings'\n",
        "      pylab.figure(figsize=(10,10))  # in inches\n",
        "      for i, label in enumerate(labels):\n",
        "        x, y = embeddings[i,:]\n",
        "        pylab.scatter(x, y)\n",
        "        pylab.annotate(label, xy=(x, y), xytext=(5, 2), textcoords='offset points',\n",
        "                       ha='right', va='bottom')\n",
        "      pylab.show()\n",
        "\n",
        "\n",
        "plot(two_d_embeddings, labels)"
      ]
    },
    {
      "cell_type": "code",
      "execution_count": 11,
      "metadata": {
        "colab": {
          "base_uri": "https://localhost:8080/"
        },
        "id": "QStMg9UuIHWE",
        "outputId": "ce228774-5ecf-4f1a-c65f-ffa53fcf0dbd"
      },
      "outputs": [
        {
          "output_type": "stream",
          "name": "stdout",
          "text": [
            "Raw text: When forty winters shall besiege thy brow, And dig deep trenches in thy beauty's field, Thy youth's proud livery so gazed on now, Will be a totter'd weed of small worth held: Then being asked, where all thy beauty lies, Where all the treasure of thy lusty days; To say, within thine own deep sunken eyes, Were an all-eating shame, and thriftless praise. How much more praise deserv'd thy beauty's use, If thou couldst answer 'This fair child of mine Shall sum my count, and make my old excuse,' Proving his beauty by succession thine! This were to be new made when thou art old, And see thy blood warm when thou feel'st it cold.\n",
            "\n",
            "Context: ['When', 'forty']\n",
            "\n",
            "Prediction: winters\n"
          ]
        }
      ],
      "source": [
        "context = ['When','forty']\n",
        "\n",
        "a = model(torch.tensor([word_to_ix[w] for w in context]))\n",
        "\n",
        "#Print result\n",
        "print(f'Raw text: {\" \".join(test_sentence)}\\n')\n",
        "print(f'Context: {context}\\n')\n",
        "print(f'Prediction: {ix_to_word[torch.argmax(a[0]).item()]}')"
      ]
    },
    {
      "cell_type": "markdown",
      "metadata": {
        "id": "TuCM5LSqjR4V"
      },
      "source": [
        "# Practical part  1: Computing Word Embeddings -- Continuous Bag-of-Words in a Toy example\n",
        "\n",
        "\n",
        "The Continuous Bag-of-Words model (CBOW) is frequently used in NLP deep\n",
        "learning. It is a model that tries to predict words given the context of\n",
        "a few words before and a few words after the target word. This is\n",
        "distinct from typical practices in language modeling, since CBOW is not sequential and does\n",
        "not have to be probabilistic. Typcially, CBOW is used to quickly train\n",
        "word embeddings, and these embeddings are used to initialize the\n",
        "embeddings of some more complicated model. Usually, this is referred to\n",
        "as *pretraining embeddings*. It almost always helps performance a couple\n",
        "of percent.\n",
        "\n",
        "The CBOW model is as follows. Given a target word $w_i$ and an\n",
        "$N$ context window on each side, $w_{i-1}, \\dots, w_{i-N}$\n",
        "and $w_{i+1}, \\dots, w_{i+N}$, referring to all context words\n",
        "collectively as $C$, CBOW tries to minimize\n",
        "\n",
        "\\begin{align}-\\log p(w_i | C) = -\\log \\text{Softmax}(A(\\sum_{w \\in C} q_w) + b)\\end{align}\n",
        "\n",
        "where $q_w$ is the embedding for word $w$.\n",
        "\n",
        "Implement this model in Pytorch by filling in the class below. Some\n",
        "tips:\n",
        "\n",
        "* Think about which parameters you need to define.\n",
        "* Make sure you know what shape each operation expects. Use .view() if you need to\n",
        "  reshape.\n",
        "\n"
      ]
    },
    {
      "cell_type": "markdown",
      "metadata": {
        "id": "AlrT5udJIHWE"
      },
      "source": [
        "##  Data Preprocessing\n",
        "\n",
        "The CBOW model architecture tries to predict the current target word (the center word) based on the source context words (surrounding words). Considering a simple sentence, `the quick brown fox jumps over the lazy dog`, this can be pairs of (context_window, target_word) where if we consider a context size 2 (2 words to the left, 2 to the right),  we have examples like `([the, quick, fox, jumps], brown)` and so on. Thus the model tries to predict the target_word based on the context_window words.\n",
        "\n",
        "\n",
        "Therefore should build a list of tuples.  Each tuple is `([ word_i-2, word_i-1,word_i+1, word_i+2 ], target word)`, we also build dictionaries to map from words to indices, i.e. word_to_ix, and map from indices to words, i.e. ix_to_word,"
      ]
    },
    {
      "cell_type": "code",
      "execution_count": 12,
      "metadata": {
        "colab": {
          "base_uri": "https://localhost:8080/"
        },
        "id": "PDefm2bQIHWE",
        "outputId": "48756081-b025-4453-f647-909c1e1a5bb7"
      },
      "outputs": [
        {
          "output_type": "stream",
          "name": "stdout",
          "text": [
            "[(['We', 'are', 'to', 'study'], 'about'), (['are', 'about', 'study', 'the'], 'to'), (['about', 'to', 'the', 'idea'], 'study'), (['to', 'study', 'idea', 'of'], 'the'), (['study', 'the', 'of', 'a'], 'idea')]\n"
          ]
        }
      ],
      "source": [
        "import torch\n",
        "import torch.nn as nn\n",
        "\n",
        "\n",
        "CONTEXT_SIZE = 2  # 2 words to the left, 2 to the right\n",
        "EMBEDDING_DIM = 100\n",
        "\n",
        "raw_text = \"\"\"We are about to study the idea of a computational process.\n",
        "Computational processes are abstract beings that inhabit computers.\n",
        "As they evolve, processes manipulate other abstract things called data.\n",
        "The evolution of a process is directed by a pattern of rules\n",
        "called a program. People create programs to direct processes. In effect,\n",
        "we conjure the spirits of the computer with our spells.\"\"\".split()\n",
        "\n",
        "\n",
        "# By deriving a set from `raw_text`, we deduplicate the array\n",
        "vocab = set(raw_text)\n",
        "vocab_size = len(vocab)\n",
        "\n",
        "word_to_ix = {word:ix for ix, word in enumerate(vocab)}\n",
        "ix_to_word = {ix:word for ix, word in enumerate(vocab)}\n",
        "\n",
        "data = []\n",
        "for i in range(2, len(raw_text) - 2):\n",
        "    context = [raw_text[i - 2], raw_text[i - 1],\n",
        "               raw_text[i + 1], raw_text[i + 2]]\n",
        "    target = raw_text[i]\n",
        "    data.append((context, target))\n",
        "\n",
        "print(data[:5])"
      ]
    },
    {
      "cell_type": "markdown",
      "metadata": {
        "id": "XwRUpdzIIHWF"
      },
      "source": [
        "\n",
        "## Create CBoW Model\n",
        "Following is an image to illustrate the model architecture. We set the word embedding size to be 100 (or other by your preference)."
      ]
    },
    {
      "cell_type": "markdown",
      "metadata": {
        "id": "CTjQ2ZkBIHWF"
      },
      "source": [
        "![avatar](https://miro.medium.com/max/328/1*bkrBASpteKfCaxZDEEeN6g.png)"
      ]
    },
    {
      "cell_type": "code",
      "execution_count": 13,
      "metadata": {
        "id": "c83HvD2hjR4W",
        "scrolled": true,
        "collapsed": true,
        "colab": {
          "base_uri": "https://localhost:8080/"
        },
        "outputId": "d2de38f1-95f1-4f3b-b1b4-2ec7c50f6eb5"
      },
      "outputs": [
        {
          "output_type": "stream",
          "name": "stdout",
          "text": [
            "Epoch: 0 \tLoss: 3.9055877430685637\n",
            "Epoch: 1 \tLoss: 3.8199770491698692\n",
            "Epoch: 2 \tLoss: 3.736427163255626\n",
            "Epoch: 3 \tLoss: 3.654358724067951\n",
            "Epoch: 4 \tLoss: 3.574058721805441\n",
            "Epoch: 5 \tLoss: 3.4949567975669074\n",
            "Epoch: 6 \tLoss: 3.417200199488936\n",
            "Epoch: 7 \tLoss: 3.340171719419545\n",
            "Epoch: 8 \tLoss: 3.263992190361023\n",
            "Epoch: 9 \tLoss: 3.1880711851448846\n",
            "Epoch: 10 \tLoss: 3.1123699278667054\n",
            "Epoch: 11 \tLoss: 3.0365128188297668\n",
            "Epoch: 12 \tLoss: 2.9603728467020494\n",
            "Epoch: 13 \tLoss: 2.8842999852936844\n",
            "Epoch: 14 \tLoss: 2.808181010443589\n",
            "Epoch: 15 \tLoss: 2.732033571292614\n",
            "Epoch: 16 \tLoss: 2.655709001524695\n",
            "Epoch: 17 \tLoss: 2.579308072040821\n",
            "Epoch: 18 \tLoss: 2.5031488291148483\n",
            "Epoch: 19 \tLoss: 2.427143292180423\n",
            "Epoch: 20 \tLoss: 2.3516867016923837\n",
            "Epoch: 21 \tLoss: 2.276863961384214\n",
            "Epoch: 22 \tLoss: 2.2027615380698236\n",
            "Epoch: 23 \tLoss: 2.1293809341973273\n",
            "Epoch: 24 \tLoss: 2.0567857777250222\n",
            "Epoch: 25 \tLoss: 1.9853677554377194\n",
            "Epoch: 26 \tLoss: 1.9149084985256195\n",
            "Epoch: 27 \tLoss: 1.8453425436184323\n",
            "Epoch: 28 \tLoss: 1.7767258538254376\n",
            "Epoch: 29 \tLoss: 1.7094781455294839\n",
            "Epoch: 30 \tLoss: 1.6428652004948978\n",
            "Epoch: 31 \tLoss: 1.5774400609320607\n",
            "Epoch: 32 \tLoss: 1.5133359324315498\n",
            "Epoch: 33 \tLoss: 1.450336050884477\n",
            "Epoch: 34 \tLoss: 1.3885633734793499\n",
            "Epoch: 35 \tLoss: 1.328139251676099\n",
            "Epoch: 36 \tLoss: 1.2689983793373765\n",
            "Epoch: 37 \tLoss: 1.2112034548973214\n",
            "Epoch: 38 \tLoss: 1.1552988871418197\n",
            "Epoch: 39 \tLoss: 1.1005608547350456\n",
            "Epoch: 40 \tLoss: 1.0477850108311093\n",
            "Epoch: 41 \tLoss: 0.9968828366234385\n",
            "Epoch: 42 \tLoss: 0.947705971269772\n",
            "Epoch: 43 \tLoss: 0.900348419516251\n",
            "Epoch: 44 \tLoss: 0.8550718149234509\n",
            "Epoch: 45 \tLoss: 0.8115467714338467\n",
            "Epoch: 46 \tLoss: 0.7700893786446802\n",
            "Epoch: 47 \tLoss: 0.7305011279110251\n",
            "Epoch: 48 \tLoss: 0.6929148145276924\n",
            "Epoch: 49 \tLoss: 0.6571273704798057\n"
          ]
        }
      ],
      "source": [
        "class CBOW(torch.nn.Module):\n",
        "    def __init__(self, vocab_size, embedding_dim, context_size):\n",
        "        super().__init__()\n",
        "        self.embeddings = nn.Embedding(vocab_size, embedding_dim)\n",
        "        self.linear1 = nn.Linear(2*context_size * embedding_dim, 128)\n",
        "        self.linear2 = nn.Linear(128, vocab_size)\n",
        "\n",
        "    def forward(self, inputs):\n",
        "         embeds = self.embeddings(inputs).view((1, -1))\n",
        "         out = F.relu(self.linear1(embeds))\n",
        "         out = self.linear2(out)\n",
        "         log_probs = F.log_softmax(out, dim=1)\n",
        "         return log_probs\n",
        "\n",
        "\n",
        "# create your model and train.  here are some functions to help you make\n",
        "# the data ready for use by your module\n",
        "\n",
        "loss_function = nn.NLLLoss()\n",
        "model = CBOW(vocab_size, EMBEDDING_DIM, CONTEXT_SIZE)\n",
        "optimizer = optim.SGD(model.parameters(), lr=0.001)\n",
        "\n",
        "def make_context_vector(context, word_to_ix):\n",
        "    idxs = [word_to_ix[w] for w in context]\n",
        "    return torch.tensor(idxs, dtype=torch.long)\n",
        "\n",
        "\n",
        "#TRAINING\n",
        "for epoch in range(50):\n",
        "    total_loss = 0\n",
        "    for context, target in data:\n",
        "\n",
        "        # Turn context words into context vector\n",
        "        context_vector = make_context_vector(context, word_to_ix)\n",
        "\n",
        "        # Set gradients to zero each iteration\n",
        "        model.zero_grad()\n",
        "\n",
        "        # Run forward pass and get log probabilities over middle words\n",
        "        log_probs = model(context_vector)\n",
        "\n",
        "        # Compute loss\n",
        "        loss = loss_function(log_probs, torch.tensor([word_to_ix[target]], dtype=torch.long))\n",
        "\n",
        "        # Backward pass and optimizer step\n",
        "        loss.backward()\n",
        "        optimizer.step()\n",
        "\n",
        "        # Get loss as Python number\n",
        "        total_loss += loss.item()\n",
        "\n",
        "    average_loss = total_loss / len(data)\n",
        "    print('Epoch:', epoch, '\\tLoss:', average_loss)"
      ]
    },
    {
      "cell_type": "markdown",
      "metadata": {
        "id": "heCQktFXIHWF"
      },
      "source": [
        "##  Check the results\n",
        "\n",
        "Then we check the results by making predictions of target work by context"
      ]
    },
    {
      "cell_type": "code",
      "execution_count": 14,
      "metadata": {
        "scrolled": true,
        "colab": {
          "base_uri": "https://localhost:8080/"
        },
        "id": "TsjqA2iWIHWF",
        "outputId": "45c13ae4-1ce3-4cb7-9b80-fa38c140489c"
      },
      "outputs": [
        {
          "output_type": "stream",
          "name": "stdout",
          "text": [
            "Raw text: We are about to study the idea of a computational process. Computational processes are abstract beings that inhabit computers. As they evolve, processes manipulate other abstract things called data. The evolution of a process is directed by a pattern of rules called a program. People create programs to direct processes. In effect, we conjure the spirits of the computer with our spells.\n",
            "\n",
            "Context: ['People', 'create', 'to', 'direct']\n",
            "\n",
            "Prediction: programs\n"
          ]
        }
      ],
      "source": [
        "context = ['People','create','to', 'direct']\n",
        "context_vector = make_context_vector(context, word_to_ix)\n",
        "a = model(context_vector)\n",
        "\n",
        "#Print result\n",
        "print(f'Raw text: {\" \".join(raw_text)}\\n')\n",
        "print(f'Context: {context}\\n')\n",
        "print(f'Prediction: {ix_to_word[torch.argmax(a[0]).item()]}')"
      ]
    },
    {
      "cell_type": "markdown",
      "metadata": {
        "id": "FrXzrSTiIHWF"
      },
      "source": [
        "# Practical part 2: Computing Word Embeddings in  `Alice in Wonderland` using CBoW"
      ]
    },
    {
      "cell_type": "markdown",
      "metadata": {
        "id": "MjUjVYUQIHWF"
      },
      "source": [
        "Now let's try to build word embedding in a ‘Alice in Wonderland’ instead of a toy example. The word-label mapping dictionaries and corpus are available [here](https://drive.google.com/drive/folders/1mYM29PbWQ4rS0bgKndFJjZlkbcwMaEpO?usp=sharing). You can use the cell bellow to download the necessary data in your working directory."
      ]
    },
    {
      "cell_type": "code",
      "execution_count": 15,
      "metadata": {
        "colab": {
          "base_uri": "https://localhost:8080/"
        },
        "id": "L1yEwuhjIHWF",
        "outputId": "69b719ad-57bb-46a7-f629-78bf2ad1cab3"
      },
      "outputs": [
        {
          "output_type": "stream",
          "name": "stderr",
          "text": [
            "Retrieving folder contents\n"
          ]
        },
        {
          "output_type": "stream",
          "name": "stdout",
          "text": [
            "Processing file 1TGMG8jTqZBrJoJB_gGxd9vh8rtX7JuXw alice.json\n",
            "Processing file 1ECyNDt0sb8PD9A5LN8YYSUb6vmb1uj6W ix_to_word.json\n",
            "Processing file 1NYzP_0QSBFVNCZW6m7KAFA83LJUtU97Q word_to_ix.json\n"
          ]
        },
        {
          "output_type": "stream",
          "name": "stderr",
          "text": [
            "Retrieving folder contents completed\n",
            "Building directory structure\n",
            "Building directory structure completed\n",
            "Downloading...\n",
            "From: https://drive.google.com/uc?id=1TGMG8jTqZBrJoJB_gGxd9vh8rtX7JuXw\n",
            "To: /content/Word_embedding_data/alice.json\n",
            "100%|██████████| 78.0k/78.0k [00:00<00:00, 92.9MB/s]\n",
            "Downloading...\n",
            "From: https://drive.google.com/uc?id=1ECyNDt0sb8PD9A5LN8YYSUb6vmb1uj6W\n",
            "To: /content/Word_embedding_data/ix_to_word.json\n",
            "100%|██████████| 42.3k/42.3k [00:00<00:00, 62.2MB/s]\n",
            "Downloading...\n",
            "From: https://drive.google.com/uc?id=1NYzP_0QSBFVNCZW6m7KAFA83LJUtU97Q\n",
            "To: /content/Word_embedding_data/word_to_ix.json\n",
            "100%|██████████| 37.6k/37.6k [00:00<00:00, 42.6MB/s]\n",
            "Download completed\n"
          ]
        },
        {
          "output_type": "execute_result",
          "data": {
            "text/plain": [
              "['/content/Word_embedding_data/alice.json',\n",
              " '/content/Word_embedding_data/ix_to_word.json',\n",
              " '/content/Word_embedding_data/word_to_ix.json']"
            ]
          },
          "metadata": {},
          "execution_count": 15
        }
      ],
      "source": [
        "import gdown\n",
        "gdown.download_folder(\"https://drive.google.com/drive/folders/1mYM29PbWQ4rS0bgKndFJjZlkbcwMaEpO\")"
      ]
    },
    {
      "cell_type": "markdown",
      "metadata": {
        "id": "JvOz8ypnIHWG"
      },
      "source": [
        "##  Data Preprocessing"
      ]
    },
    {
      "cell_type": "code",
      "execution_count": 16,
      "metadata": {
        "id": "LsEbhjxXIHWG"
      },
      "outputs": [],
      "source": [
        "# modify the path according to your own file location\n",
        "import os\n",
        "data_path=os.path.join(\"/content/Word_embedding_data/\")\n",
        "# if you are not using Colab, change data_path above to where you stored the data locally"
      ]
    },
    {
      "cell_type": "markdown",
      "metadata": {
        "id": "_WJbbxu0IHWG"
      },
      "source": [
        "Now we load the data:"
      ]
    },
    {
      "cell_type": "code",
      "execution_count": 17,
      "metadata": {
        "id": "2Ft0VC7SIHWG"
      },
      "outputs": [],
      "source": [
        "import json\n",
        "with open(os.path.join(data_path,\"alice.json\"),'r') as f:\n",
        "    alice = json.load(f)\n",
        "with open(os.path.join(data_path,\"ix_to_word.json\"),'r') as f:\n",
        "    ix_to_word = json.load(f)\n",
        "with open(os.path.join(data_path,\"word_to_ix.json\"),'r') as f:\n",
        "    word_to_ix = json.load(f)"
      ]
    },
    {
      "cell_type": "markdown",
      "metadata": {
        "id": "d8M-_TmZIHWG"
      },
      "source": [
        "Then we create the context and target pairs by borrowing some keras utilities. We set the window_size 2 (2 words to the left, 2 to the right)."
      ]
    },
    {
      "cell_type": "code",
      "execution_count": 18,
      "metadata": {
        "colab": {
          "base_uri": "https://localhost:8080/"
        },
        "id": "jITc2LBTIHWG",
        "outputId": "6f329cd5-550c-44fb-8532-c381a18fe844"
      },
      "outputs": [
        {
          "output_type": "stream",
          "name": "stderr",
          "text": [
            "<ipython-input-18-9171d78e1da2>:24: UserWarning: Creating a tensor from a list of numpy.ndarrays is extremely slow. Please consider converting the list to a single numpy.ndarray with numpy.array() before converting to a tensor. (Triggered internally at /pytorch/torch/csrc/utils/tensor_new.cpp:254.)\n",
            "  X=torch.tensor(X, dtype=torch.long)\n"
          ]
        }
      ],
      "source": [
        "window_size=2\n",
        "vocab_size=len(word_to_ix)\n",
        "\n",
        "from tensorflow.keras.preprocessing import text\n",
        "from tensorflow.keras.preprocessing import sequence\n",
        "from tensorflow.keras.utils import pad_sequences\n",
        "\n",
        "corpus = [[word_to_ix[w] for w in text.text_to_word_sequence(doc)] for doc in alice]\n",
        "\n",
        "def generate_context_word_pairs(corpus, window_size, vocab_size):\n",
        "    X = []\n",
        "    Y = []\n",
        "    context_length = window_size*2\n",
        "    for words in corpus:\n",
        "        sentence_length = len(words)\n",
        "        for index, word in enumerate(words):\n",
        "            start = index - window_size\n",
        "            end = index + window_size + 1\n",
        "            context = [words[i] for i in range(start, end)if 0 <= i < sentence_length and i != index]\n",
        "            x = pad_sequences([context], maxlen=context_length)[0]\n",
        "            X.append(x)\n",
        "            Y.append([word])\n",
        "\n",
        "    X=torch.tensor(X, dtype=torch.long)\n",
        "    Y=torch.tensor(Y, dtype=torch.long)\n",
        "    return X,Y\n",
        "\n",
        "X,Y = generate_context_word_pairs(corpus, window_size=window_size, vocab_size=vocab_size)"
      ]
    },
    {
      "cell_type": "markdown",
      "metadata": {
        "id": "MpXVIczHIHWG"
      },
      "source": [
        "\n",
        "##  Create CBoW Model\n",
        "Now we create CBoW model, we could set the word embedding size to be 100 (or  some other number if you prefer)."
      ]
    },
    {
      "cell_type": "code",
      "execution_count": 19,
      "metadata": {
        "id": "zQhTIy9VIHWG"
      },
      "outputs": [],
      "source": [
        "class CBOW(torch.nn.Module):\n",
        "    def __init__(self, vocab_size, embedding_dim, context_size):\n",
        "        super().__init__()\n",
        "        self.embeddings = nn.Embedding(vocab_size, embedding_dim)\n",
        "        self.linear1 = nn.Linear(2*context_size * embedding_dim, 128)\n",
        "        self.linear2 = nn.Linear(128, vocab_size)\n",
        "\n",
        "    def forward(self, inputs):\n",
        "        embeds = self.embeddings(inputs).view((1, -1))\n",
        "        out = F.relu(self.linear1(embeds))\n",
        "        out = self.linear2(out)\n",
        "        log_probs = F.log_softmax(out, dim=1)\n",
        "        return log_probs\n",
        "\n",
        "\n",
        "EMBEDDING_DIM=100\n",
        "model = CBOW(vocab_size, EMBEDDING_DIM, context_size=window_size)\n",
        "loss_function = nn.NLLLoss()\n",
        "optimizer = optim.SGD(model.parameters(), lr=0.001)"
      ]
    },
    {
      "cell_type": "markdown",
      "metadata": {
        "id": "m8SzoaOYIHWH"
      },
      "source": [
        "Remember to move your model to GPU, since now we are training with a larger corpus."
      ]
    },
    {
      "cell_type": "code",
      "execution_count": 20,
      "metadata": {
        "colab": {
          "base_uri": "https://localhost:8080/"
        },
        "id": "tyeW5CUNIHWK",
        "outputId": "0673a102-d729-467d-92b4-1ad82939e8f4"
      },
      "outputs": [
        {
          "output_type": "stream",
          "name": "stdout",
          "text": [
            "Moved to device: cuda\n"
          ]
        }
      ],
      "source": [
        "# Move model to GPU\n",
        "device = torch.device(\"cuda\" if torch.cuda.is_available() else \"cpu\")\n",
        "model = model.to(device)\n",
        "print(f\"Moved to device: {device}\")"
      ]
    },
    {
      "cell_type": "markdown",
      "metadata": {
        "id": "ArrWHlcFIHWK"
      },
      "source": [
        "Then we train the model and print the loss. The loss should decrease with every epoch over the training data. You can play with the epochs numbers here."
      ]
    },
    {
      "cell_type": "code",
      "execution_count": 21,
      "metadata": {
        "colab": {
          "base_uri": "https://localhost:8080/"
        },
        "id": "YEHsz1Y9IHWL",
        "outputId": "ffe9516a-b418-4714-c249-bd9888f7d1c8"
      },
      "outputs": [
        {
          "output_type": "stream",
          "name": "stdout",
          "text": [
            "Epoch: 0 \tLoss: 43604.2318469584\n",
            "Epoch: 1 \tLoss: 40943.47944575548\n",
            "Epoch: 2 \tLoss: 39320.34511978924\n",
            "Epoch: 3 \tLoss: 38101.04686474055\n",
            "Epoch: 4 \tLoss: 37079.45579438843\n",
            "Epoch: 5 \tLoss: 36159.35754129663\n",
            "Epoch: 6 \tLoss: 35292.152284673415\n",
            "Epoch: 7 \tLoss: 34443.818113015965\n",
            "Epoch: 8 \tLoss: 33592.48516439414\n",
            "Epoch: 9 \tLoss: 32721.18152874196\n",
            "Epoch: 10 \tLoss: 31820.97645266005\n",
            "Epoch: 11 \tLoss: 30886.654944782495\n",
            "Epoch: 12 \tLoss: 29915.709542484896\n",
            "Epoch: 13 \tLoss: 28907.48991717442\n",
            "Epoch: 14 \tLoss: 27861.935143221577\n",
            "Epoch: 15 \tLoss: 26780.036260907364\n",
            "Epoch: 16 \tLoss: 25665.513630451336\n",
            "Epoch: 17 \tLoss: 24522.9146166835\n",
            "Epoch: 18 \tLoss: 23356.83427168761\n",
            "Epoch: 19 \tLoss: 22170.25790023314\n",
            "Epoch: 20 \tLoss: 20971.028468222226\n",
            "Epoch: 21 \tLoss: 19762.089155800502\n",
            "Epoch: 22 \tLoss: 18552.78552111281\n",
            "Epoch: 23 \tLoss: 17348.180291358378\n",
            "Epoch: 24 \tLoss: 16155.972849122629\n",
            "Epoch: 25 \tLoss: 14983.585310792972\n",
            "Epoch: 26 \tLoss: 13839.386721030569\n",
            "Epoch: 27 \tLoss: 12730.841196986308\n",
            "Epoch: 28 \tLoss: 11667.845680373062\n",
            "Epoch: 29 \tLoss: 10659.395389219855\n",
            "Epoch: 30 \tLoss: 9712.75421225617\n",
            "Epoch: 31 \tLoss: 8834.775602353713\n",
            "Epoch: 32 \tLoss: 8029.369075077064\n",
            "Epoch: 33 \tLoss: 7295.940429519633\n",
            "Epoch: 34 \tLoss: 6635.041174890607\n",
            "Epoch: 35 \tLoss: 6042.065383685447\n",
            "Epoch: 36 \tLoss: 5514.030459875608\n",
            "Epoch: 37 \tLoss: 5043.733934279161\n",
            "Epoch: 38 \tLoss: 4626.018347463314\n",
            "Epoch: 39 \tLoss: 4256.365803238162\n",
            "Epoch: 40 \tLoss: 3927.11414171398\n",
            "Epoch: 41 \tLoss: 3635.7234949091326\n",
            "Epoch: 42 \tLoss: 3375.9833072036063\n",
            "Epoch: 43 \tLoss: 3144.299098997225\n",
            "Epoch: 44 \tLoss: 2938.763709317131\n",
            "Epoch: 45 \tLoss: 2754.429960441937\n",
            "Epoch: 46 \tLoss: 2589.5014506313446\n",
            "Epoch: 47 \tLoss: 2442.8853692553243\n",
            "Epoch: 48 \tLoss: 2310.798285655685\n",
            "Epoch: 49 \tLoss: 2192.4160917116806\n"
          ]
        }
      ],
      "source": [
        "#TRAINING\n",
        "for epoch in range(50):\n",
        "    total_loss = 0\n",
        "    for context, target in zip(X, Y):\n",
        "\n",
        "        # Move context and target tensors to GPU\n",
        "        context, target = context.to(device), target.to(device)\n",
        "\n",
        "        # Set gradients to zero each iteration\n",
        "        model.zero_grad()\n",
        "\n",
        "        # Run forward pass and get log probabilities over middle words\n",
        "        log_probs = model(context)\n",
        "\n",
        "        # Compute loss\n",
        "        loss = loss_function(log_probs, target)\n",
        "\n",
        "        # Backward pass and optimizer step\n",
        "        loss.backward()\n",
        "        optimizer.step()\n",
        "\n",
        "        # Get loss as Python number\n",
        "        total_loss += loss.item()\n",
        "\n",
        "    average_loss = total_loss / len((X, Y))\n",
        "    print('Epoch:', epoch, '\\tLoss:', average_loss)"
      ]
    },
    {
      "cell_type": "markdown",
      "metadata": {
        "id": "eAfV4P4oIHWL"
      },
      "source": [
        "# Practical. 3: Analogy Task"
      ]
    },
    {
      "cell_type": "markdown",
      "metadata": {
        "id": "mgzZRYS8IHWL"
      },
      "source": [
        "\n",
        "\n",
        "\n",
        "**Reading material**\n",
        "* [1] Mikolov, Tomas, et al. \"[Efficient Estimation of Word Representations in Vector Space](https://arxiv.org/abs/1301.3781)\" Advances in neural information processing systems. 2013.\n"
      ]
    },
    {
      "cell_type": "markdown",
      "metadata": {
        "id": "-PxgVLPYIHWL"
      },
      "source": [
        "Implement your own function to perform the analogy task (see [1] for concrete examples). Use the same distance metric as in [1]. Your function should be able to answer whether an analogy like: \"a king is to a queen as a man is to a woman\" ($e_{king} - e_{queen} + e_{woman} \\approx e_{man}$) is true.\n",
        "\n",
        "In a perfect scenario, we would like that this analogy ($e_{king} - e_{queen} + e_{woman}$) results in the embedding of the word \"man\". However, it does not always result in exactly the same word embedding. The result of the formula is called the expected or the predicted word embedding. In this context, \"man\" is called the true or the actual word $t$. We want to find the word $p$ in the vocabulary, where the embedding of $p$ (referred to as $e_p$) is the closest to the predicted embedding (i.e. result of the formula). Then, we can check if $p$ is the same word as the true word $t$.  \n",
        "\n",
        "You have to answer an analogy function using each embedding for  CBOW model. Show the true word (with distance similarity value between predicted embedding and true word embedding, i.e. `sim1`) , the predicted word (with distance similarity value between predicted embedding and the embedding of the word in the vocabulary that is closest to this predicted embedding, i.e. `sim2`).\n",
        "\n",
        "Since `Alice in wonder land` is a relatively small dataset to training the model for the analogy task,  we may find it is difficult to get the correct answer by searching the nearest word embedding. Therefore, we extend the predicted word to the nearest `nr` number of words and check if the true word is within them. Do not expect the `nr` to be very small, it could be tens or hundreds."
      ]
    },
    {
      "cell_type": "markdown",
      "metadata": {
        "id": "7KnCxWZuIHWL"
      },
      "source": [
        "<b>HINT</b>: to visualize the results of the analogy tasks , you can print them in a table. An example is given below.\n",
        "\n",
        "\n",
        "| Analogy task | True word (sim1)  | Predicted nearaest word (sim2) | Correct? |True word within the top `nr` nearest word?|\n",
        "|:------:|:------:|:------:|:------:|:------:|\n",
        "|  queen is to king as woman is to ?\t | man (sim1) | predicted_word(sim2) | True / False |   True / False|"
      ]
    },
    {
      "cell_type": "code",
      "execution_count": 22,
      "metadata": {
        "id": "EDAY-VGaIHWL"
      },
      "outputs": [],
      "source": [
        "analogy=('queen', 'king', 'woman', 'man')"
      ]
    },
    {
      "cell_type": "markdown",
      "metadata": {
        "id": "I5qD7R2FIHWL"
      },
      "source": [
        "First let us extract the embeddings of all vocabularies for the following task"
      ]
    },
    {
      "cell_type": "code",
      "execution_count": 23,
      "metadata": {
        "id": "grI89CRSIHWL"
      },
      "outputs": [],
      "source": [
        "dev = torch.device(\n",
        "    \"cuda\") if torch.cuda.is_available() else torch.device(\"cpu\")"
      ]
    },
    {
      "cell_type": "code",
      "execution_count": 24,
      "metadata": {
        "id": "ERqQi5-OIHWM"
      },
      "outputs": [],
      "source": [
        "embeddings = model.embeddings(torch.Tensor([list(range(0,vocab_size))]).long().to(dev))\n",
        "embeddings = embeddings.view(-1,100)\n",
        "embeddings = embeddings.cpu().detach().numpy()"
      ]
    },
    {
      "cell_type": "markdown",
      "metadata": {
        "id": "SVqgA36DIHWM"
      },
      "source": [
        "Then we define a 'get_nearest_words' function to retrive the nearest `nr` words to a certain word embedding"
      ]
    },
    {
      "cell_type": "code",
      "execution_count": 86,
      "metadata": {
        "id": "IXpkhq86IHWM"
      },
      "outputs": [],
      "source": [
        "def get_nearest_words(embedding, nr=1):\n",
        "    '''\n",
        "    @param embedding:   an array vector representing a word embedding\n",
        "    @param nr:          an integer determining the number of nearest words to return\n",
        "    @return word_list:  the list containing all 'nr' nearest words to the provided\n",
        "                        word embedding\n",
        "    '''\n",
        "    from sklearn.metrics.pairwise import cosine_similarity\n",
        "\n",
        "    # Compute the cosine similarity of the given embedding with all embeddings\n",
        "    # in the vocabulary\n",
        "    similarities = cosine_similarity(embedding, embeddings)[0]\n",
        "\n",
        "    # Get the indices of the 'nr' nearest word embeddings\n",
        "    nearest_indices = similarities.argsort()[::-1][:nr]\n",
        "\n",
        "    # Get the words from the indices determined above into a list\n",
        "    word_list = [(ix_to_word[str(int(i))], similarities[i]) for i in nearest_indices]\n",
        "\n",
        "    return word_list"
      ]
    },
    {
      "cell_type": "markdown",
      "metadata": {
        "id": "U5RbhFkMIHWM"
      },
      "source": [
        "Now let's search for the nearest `one` and `nr` words of the predicted word embedding, and print results of the analogy tasks"
      ]
    },
    {
      "cell_type": "code",
      "execution_count": 92,
      "metadata": {
        "id": "2ITxxisJIHWM"
      },
      "outputs": [],
      "source": [
        "def print_analogy(analogy, nr=1):\n",
        "    from sklearn.metrics.pairwise import cosine_similarity\n",
        "\n",
        "    # Get the embeddings for all words in the analogy\n",
        "    analogy_idx = [word_to_ix[word] for word in analogy]\n",
        "    analogy_embeds = model.embeddings(torch.Tensor([analogy_idx]).long().to(dev)).view(-1,100)\n",
        "    analogy_embeds = analogy_embeds.cpu().detach().numpy()\n",
        "\n",
        "    # King - Queen + Woman embeddings\n",
        "    predicted_embed = analogy_embeds[1] - analogy_embeds[0] + analogy_embeds[2]\n",
        "    target_embed = analogy_embeds[-1]\n",
        "\n",
        "    # Determine sim1\n",
        "    sim1 = cosine_similarity(predicted_embed.reshape(1, -1), target_embed.reshape(1, -1))[0, 0]\n",
        "\n",
        "    # Determine 'nr' nearest words and whether the true word is in any of them\n",
        "    nearest_words = get_nearest_words(predicted_embed.reshape(1, -1), nr=nr)\n",
        "    correct_pred = (analogy[-1] == nearest_words[0][0])\n",
        "    found_in_all = any(analogy[-1] == word for word, _ in nearest_words)\n",
        "\n",
        "    # Format dataframe to print table\n",
        "    columns = [\n",
        "        \"Analogy Task\",\n",
        "        \"True word (sim1)\",\n",
        "        \"Predicted nearest word (sim2)\",\n",
        "        \"Correct?\",\n",
        "        f\"True word within top {nr} nearest words?\"\n",
        "    ]\n",
        "    row = [(\n",
        "        analogy,\n",
        "        (analogy[-1],sim1),\n",
        "        nearest_words[0],\n",
        "        correct_pred,\n",
        "        found_in_all\n",
        "        )]\n",
        "\n",
        "    return pd.DataFrame(row, columns=columns)"
      ]
    },
    {
      "cell_type": "code",
      "execution_count": 105,
      "metadata": {
        "colab": {
          "base_uri": "https://localhost:8080/",
          "height": 81
        },
        "id": "zV-zhAC3IHWM",
        "outputId": "a5deb579-7e64-4afe-95c9-0c2d4765de45"
      },
      "outputs": [
        {
          "output_type": "execute_result",
          "data": {
            "text/plain": [
              "                Analogy Task    True word (sim1)  \\\n",
              "0  (queen, king, woman, man)  (man, 0.029215818)   \n",
              "\n",
              "  Predicted nearest word (sim2)  Correct?  \\\n",
              "0             (king, 0.6798969)     False   \n",
              "\n",
              "   True word within top 1000 nearest words?  \n",
              "0                                      True  "
            ],
            "text/html": [
              "\n",
              "  <div id=\"df-6e27a3a5-9188-45e8-9889-79af9650cba4\" class=\"colab-df-container\">\n",
              "    <div>\n",
              "<style scoped>\n",
              "    .dataframe tbody tr th:only-of-type {\n",
              "        vertical-align: middle;\n",
              "    }\n",
              "\n",
              "    .dataframe tbody tr th {\n",
              "        vertical-align: top;\n",
              "    }\n",
              "\n",
              "    .dataframe thead th {\n",
              "        text-align: right;\n",
              "    }\n",
              "</style>\n",
              "<table border=\"1\" class=\"dataframe\">\n",
              "  <thead>\n",
              "    <tr style=\"text-align: right;\">\n",
              "      <th></th>\n",
              "      <th>Analogy Task</th>\n",
              "      <th>True word (sim1)</th>\n",
              "      <th>Predicted nearest word (sim2)</th>\n",
              "      <th>Correct?</th>\n",
              "      <th>True word within top 1000 nearest words?</th>\n",
              "    </tr>\n",
              "  </thead>\n",
              "  <tbody>\n",
              "    <tr>\n",
              "      <th>0</th>\n",
              "      <td>(queen, king, woman, man)</td>\n",
              "      <td>(man, 0.029215818)</td>\n",
              "      <td>(king, 0.6798969)</td>\n",
              "      <td>False</td>\n",
              "      <td>True</td>\n",
              "    </tr>\n",
              "  </tbody>\n",
              "</table>\n",
              "</div>\n",
              "    <div class=\"colab-df-buttons\">\n",
              "\n",
              "  <div class=\"colab-df-container\">\n",
              "    <button class=\"colab-df-convert\" onclick=\"convertToInteractive('df-6e27a3a5-9188-45e8-9889-79af9650cba4')\"\n",
              "            title=\"Convert this dataframe to an interactive table.\"\n",
              "            style=\"display:none;\">\n",
              "\n",
              "  <svg xmlns=\"http://www.w3.org/2000/svg\" height=\"24px\" viewBox=\"0 -960 960 960\">\n",
              "    <path d=\"M120-120v-720h720v720H120Zm60-500h600v-160H180v160Zm220 220h160v-160H400v160Zm0 220h160v-160H400v160ZM180-400h160v-160H180v160Zm440 0h160v-160H620v160ZM180-180h160v-160H180v160Zm440 0h160v-160H620v160Z\"/>\n",
              "  </svg>\n",
              "    </button>\n",
              "\n",
              "  <style>\n",
              "    .colab-df-container {\n",
              "      display:flex;\n",
              "      gap: 12px;\n",
              "    }\n",
              "\n",
              "    .colab-df-convert {\n",
              "      background-color: #E8F0FE;\n",
              "      border: none;\n",
              "      border-radius: 50%;\n",
              "      cursor: pointer;\n",
              "      display: none;\n",
              "      fill: #1967D2;\n",
              "      height: 32px;\n",
              "      padding: 0 0 0 0;\n",
              "      width: 32px;\n",
              "    }\n",
              "\n",
              "    .colab-df-convert:hover {\n",
              "      background-color: #E2EBFA;\n",
              "      box-shadow: 0px 1px 2px rgba(60, 64, 67, 0.3), 0px 1px 3px 1px rgba(60, 64, 67, 0.15);\n",
              "      fill: #174EA6;\n",
              "    }\n",
              "\n",
              "    .colab-df-buttons div {\n",
              "      margin-bottom: 4px;\n",
              "    }\n",
              "\n",
              "    [theme=dark] .colab-df-convert {\n",
              "      background-color: #3B4455;\n",
              "      fill: #D2E3FC;\n",
              "    }\n",
              "\n",
              "    [theme=dark] .colab-df-convert:hover {\n",
              "      background-color: #434B5C;\n",
              "      box-shadow: 0px 1px 3px 1px rgba(0, 0, 0, 0.15);\n",
              "      filter: drop-shadow(0px 1px 2px rgba(0, 0, 0, 0.3));\n",
              "      fill: #FFFFFF;\n",
              "    }\n",
              "  </style>\n",
              "\n",
              "    <script>\n",
              "      const buttonEl =\n",
              "        document.querySelector('#df-6e27a3a5-9188-45e8-9889-79af9650cba4 button.colab-df-convert');\n",
              "      buttonEl.style.display =\n",
              "        google.colab.kernel.accessAllowed ? 'block' : 'none';\n",
              "\n",
              "      async function convertToInteractive(key) {\n",
              "        const element = document.querySelector('#df-6e27a3a5-9188-45e8-9889-79af9650cba4');\n",
              "        const dataTable =\n",
              "          await google.colab.kernel.invokeFunction('convertToInteractive',\n",
              "                                                    [key], {});\n",
              "        if (!dataTable) return;\n",
              "\n",
              "        const docLinkHtml = 'Like what you see? Visit the ' +\n",
              "          '<a target=\"_blank\" href=https://colab.research.google.com/notebooks/data_table.ipynb>data table notebook</a>'\n",
              "          + ' to learn more about interactive tables.';\n",
              "        element.innerHTML = '';\n",
              "        dataTable['output_type'] = 'display_data';\n",
              "        await google.colab.output.renderOutput(dataTable, element);\n",
              "        const docLink = document.createElement('div');\n",
              "        docLink.innerHTML = docLinkHtml;\n",
              "        element.appendChild(docLink);\n",
              "      }\n",
              "    </script>\n",
              "  </div>\n",
              "\n",
              "\n",
              "    </div>\n",
              "  </div>\n"
            ],
            "application/vnd.google.colaboratory.intrinsic+json": {
              "type": "dataframe",
              "summary": "{\n  \"name\": \"print_analogy(analogy, nr=1000)\",\n  \"rows\": 1,\n  \"fields\": [\n    {\n      \"column\": \"Analogy Task\",\n      \"properties\": {\n        \"dtype\": \"string\",\n        \"num_unique_values\": 1,\n        \"samples\": [\n          [\n            \"queen\",\n            \"king\",\n            \"woman\",\n            \"man\"\n          ]\n        ],\n        \"semantic_type\": \"\",\n        \"description\": \"\"\n      }\n    },\n    {\n      \"column\": \"True word (sim1)\",\n      \"properties\": {\n        \"dtype\": \"string\",\n        \"num_unique_values\": 1,\n        \"samples\": [\n          [\n            \"man\",\n            \"0.029215818\"\n          ]\n        ],\n        \"semantic_type\": \"\",\n        \"description\": \"\"\n      }\n    },\n    {\n      \"column\": \"Predicted nearest word (sim2)\",\n      \"properties\": {\n        \"dtype\": \"string\",\n        \"num_unique_values\": 1,\n        \"samples\": [\n          [\n            \"king\",\n            \"0.6798969\"\n          ]\n        ],\n        \"semantic_type\": \"\",\n        \"description\": \"\"\n      }\n    },\n    {\n      \"column\": \"Correct?\",\n      \"properties\": {\n        \"dtype\": \"boolean\",\n        \"num_unique_values\": 1,\n        \"samples\": [\n          false\n        ],\n        \"semantic_type\": \"\",\n        \"description\": \"\"\n      }\n    },\n    {\n      \"column\": \"True word within top 1000 nearest words?\",\n      \"properties\": {\n        \"dtype\": \"boolean\",\n        \"num_unique_values\": 1,\n        \"samples\": [\n          true\n        ],\n        \"semantic_type\": \"\",\n        \"description\": \"\"\n      }\n    }\n  ]\n}"
            }
          },
          "metadata": {},
          "execution_count": 105
        }
      ],
      "source": [
        "print_analogy(analogy, nr=1000)"
      ]
    }
  ],
  "metadata": {
    "colab": {
      "name": "P1.2_Word_embedding.ipynb",
      "provenance": [],
      "gpuType": "T4",
      "include_colab_link": true
    },
    "kernelspec": {
      "display_name": "Python 3",
      "name": "python3"
    },
    "language_info": {
      "codemirror_mode": {
        "name": "ipython",
        "version": 3
      },
      "file_extension": ".py",
      "mimetype": "text/x-python",
      "name": "python",
      "nbconvert_exporter": "python",
      "pygments_lexer": "ipython3",
      "version": "3.12.3"
    },
    "accelerator": "GPU"
  },
  "nbformat": 4,
  "nbformat_minor": 0
}